{
 "cells": [
  {
   "cell_type": "markdown",
   "metadata": {},
   "source": [
    "__лабораторная работа N7:__ работа с временными рядами"
   ]
  },
  {
   "cell_type": "markdown",
   "metadata": {},
   "source": [
    "__цель:__ изучить методы работы с временными рядами"
   ]
  },
  {
   "cell_type": "markdown",
   "metadata": {},
   "source": [
    "#  загружаем данные"
   ]
  },
  {
   "cell_type": "code",
   "execution_count": null,
   "metadata": {},
   "outputs": [],
   "source": [
    "import numpy as np\n",
    "from numpy import random as rng\n",
    "import pandas as pd\n",
    "import matplotlib.pyplot as plt"
   ]
  },
  {
   "cell_type": "markdown",
   "metadata": {},
   "source": [
    "__monthly milk production per cow in the USA__"
   ]
  },
  {
   "cell_type": "code",
   "execution_count": null,
   "metadata": {},
   "outputs": [],
   "source": [
    "# milk_production.csv: https://drive.google.com/file/d/1AbUl7tP_J47ST7L7kc3wxENxmpBUsumS/view\n",
    "\n",
    "url= 'https://drive.google.com/uc?id=1AbUl7tP_J47ST7L7kc3wxENxmpBUsumS'\n",
    "df = pd.read_csv(url).convert_dtypes()\n",
    "df['date'] = pd.to_datetime(df['Month'])\n",
    "df = df.set_index('date')\n",
    "df = df[['Monthly milk production (pounds per cow)']].rename(\n",
    "    columns={'Monthly milk production (pounds per cow)':'values'})\n",
    "df = df.asfreq('MS')"
   ]
  },
  {
   "cell_type": "markdown",
   "metadata": {},
   "source": [
    "----"
   ]
  },
  {
   "cell_type": "code",
   "execution_count": null,
   "metadata": {},
   "outputs": [],
   "source": [
    "display(df.info())\n",
    "display(df.sample(3))"
   ]
  },
  {
   "cell_type": "markdown",
   "metadata": {},
   "source": [
    "# анализ данных"
   ]
  },
  {
   "cell_type": "markdown",
   "metadata": {},
   "source": [
    "__1. визуальная оценка данных__"
   ]
  },
  {
   "cell_type": "code",
   "execution_count": null,
   "metadata": {},
   "outputs": [],
   "source": [
    "fig,ax = plt.subplots(figsize = (9,3))\n",
    "ax.plot(df['values'], label = 'данные', color = 'steelblue')\n",
    "ax.plot(df['values'].rolling(window=12).mean(), label = 'скользящее среднее (12 месяцев)', color = 'red')\n",
    "ax.set_xlabel('Месяцы', )\n",
    "ax.legend(title = '', loc = 'upper left', )\n",
    "ax.grid()"
   ]
  },
  {
   "cell_type": "markdown",
   "metadata": {},
   "source": [
    "__оценка автокорреляции__"
   ]
  },
  {
   "cell_type": "code",
   "execution_count": null,
   "metadata": {},
   "outputs": [],
   "source": [
    "from statsmodels.graphics.tsaplots import plot_acf\n",
    "plot_acf(df['values'])\n",
    "plt.grid()\n",
    "plt.show()"
   ]
  },
  {
   "cell_type": "markdown",
   "metadata": {},
   "source": [
    "__оцениваем дисперсию по графику выше__   \n",
    "\n",
    "__если ряд имеет растущую амплитуду ....__"
   ]
  },
  {
   "cell_type": "markdown",
   "metadata": {},
   "source": [
    "__... то стабилизируем дисперсию - применяем преобразование Бокса-Кокса....__"
   ]
  },
  {
   "cell_type": "code",
   "execution_count": null,
   "metadata": {},
   "outputs": [],
   "source": [
    "from scipy.special import boxcox"
   ]
  },
  {
   "cell_type": "code",
   "execution_count": null,
   "metadata": {},
   "outputs": [],
   "source": [
    "# df['bcx'] = boxcox( df['values'],0 )"
   ]
  },
  {
   "cell_type": "markdown",
   "metadata": {},
   "source": [
    "__.... иначе - пропускаем этот шаг__"
   ]
  },
  {
   "cell_type": "code",
   "execution_count": null,
   "metadata": {},
   "outputs": [],
   "source": [
    "# df['bcx'] = df['values']"
   ]
  },
  {
   "cell_type": "markdown",
   "metadata": {},
   "source": [
    "---"
   ]
  },
  {
   "cell_type": "code",
   "execution_count": null,
   "metadata": {},
   "outputs": [],
   "source": [
    "fig,ax = plt.subplots(2,1, figsize = (7,5),sharex=True)\n",
    "ax[0].plot(df['values'], label = 'данные', color = 'steelblue')\n",
    "ax[0].legend(title = '', loc = 'upper left', )\n",
    "ax[0].grid()\n",
    "\n",
    "ax[1].plot(df['bcx'], label = 'boxcox', color = 'red')\n",
    "ax[1].legend(title = '', loc = 'upper left', )\n",
    "ax[1].set_xlabel('Месяцы', )\n",
    "ax[1].grid()"
   ]
  },
  {
   "cell_type": "markdown",
   "metadata": {},
   "source": [
    "## подбираем гиперпараметры модели"
   ]
  },
  {
   "cell_type": "markdown",
   "metadata": {},
   "source": [
    "__оценка сезонности__"
   ]
  },
  {
   "cell_type": "code",
   "execution_count": null,
   "metadata": {},
   "outputs": [],
   "source": [
    "# !pip install statsmodels"
   ]
  },
  {
   "cell_type": "code",
   "execution_count": null,
   "metadata": {},
   "outputs": [],
   "source": [
    "from statsmodels.tsa.seasonal import seasonal_decompose\n",
    "decompose = seasonal_decompose(df['bcx'])\n",
    "fig = decompose.plot()\n",
    "plt.show()"
   ]
  },
  {
   "cell_type": "code",
   "execution_count": null,
   "metadata": {},
   "outputs": [],
   "source": [
    "# выбираем шаг сезонности \n",
    "S = ?"
   ]
  },
  {
   "cell_type": "markdown",
   "metadata": {},
   "source": [
    "__оценка стационарности ряда  (критерий Дики-Фуллера)__"
   ]
  },
  {
   "cell_type": "code",
   "execution_count": null,
   "metadata": {},
   "outputs": [],
   "source": [
    "from statsmodels.tsa.stattools import adfuller\n",
    "adf_test = adfuller(df['bcx'])\n",
    "print('p-value = ' + str(adf_test[1]))"
   ]
  },
  {
   "cell_type": "markdown",
   "metadata": {},
   "source": [
    "__если оценка высокая, то ряд нестационарный__\n",
    "\n",
    "подбираем порядок дифференцирования d,D"
   ]
  },
  {
   "cell_type": "code",
   "execution_count": null,
   "metadata": {},
   "outputs": [],
   "source": [
    "# дифференцирование\n",
    "df['dif'] = (\n",
    "    df['bcx']  \n",
    "    # здесь определить количество итераций дифференцирования ряда\n",
    "    # .diff()\n",
    ")\n",
    "\n",
    "adf_test = adfuller(df['dif'].fillna(0.))\n",
    "print('p-value = ' + str(adf_test[1]))"
   ]
  },
  {
   "cell_type": "code",
   "execution_count": null,
   "metadata": {},
   "outputs": [],
   "source": [
    "d = ?"
   ]
  },
  {
   "cell_type": "markdown",
   "metadata": {},
   "source": [
    "---"
   ]
  },
  {
   "cell_type": "code",
   "execution_count": null,
   "metadata": {},
   "outputs": [],
   "source": [
    "# сезонное дифференцирование\n",
    "df['dif_s'] = (\n",
    "    df['bcx'] \n",
    "     # здесь определить количество итераций сезонного дифференцирования ряда\n",
    "     #.diff(S)\n",
    ")\n",
    "\n",
    "adf_test = adfuller(df['dif_s'].fillna(0.))\n",
    "print('p-value = ' + str(adf_test[1]))"
   ]
  },
  {
   "cell_type": "code",
   "execution_count": null,
   "metadata": {},
   "outputs": [],
   "source": [
    "D = ?"
   ]
  },
  {
   "cell_type": "markdown",
   "metadata": {},
   "source": [
    "---"
   ]
  },
  {
   "cell_type": "code",
   "execution_count": null,
   "metadata": {},
   "outputs": [],
   "source": [
    "fig,ax = plt.subplots(4,1, figsize = (7,7),sharex=True)\n",
    "ax[0].plot(df['values'], label = 'данные', color = 'steelblue')\n",
    "ax[0].legend(title = '', loc = 'upper left', )\n",
    "ax[0].grid()\n",
    "\n",
    "ax[1].plot(df['bcx'], label = 'boxcox', color = 'red')\n",
    "ax[1].legend(title = '', loc = 'upper left', )\n",
    "ax[1].grid()\n",
    "\n",
    "ax[2].plot(df['dif'], label = 'boxcox+dif', color = 'orange')\n",
    "ax[2].legend(title = '', loc = 'upper left', )\n",
    "ax[2].grid()\n",
    "\n",
    "ax[3].plot(df['dif_s'], label = 'boxcox+dif_s', color = 'magenta')\n",
    "ax[3].legend(title = '', loc = 'upper left', )\n",
    "ax[3].grid()"
   ]
  },
  {
   "cell_type": "markdown",
   "metadata": {},
   "source": [
    "__3. анализируем автокорреляции__\n",
    "\n",
    "подбираем p,q и P,Q"
   ]
  },
  {
   "cell_type": "code",
   "execution_count": null,
   "metadata": {},
   "outputs": [],
   "source": [
    "from statsmodels.graphics.tsaplots import plot_acf,plot_pacf\n",
    "n_lags = S+1"
   ]
  },
  {
   "cell_type": "markdown",
   "metadata": {},
   "source": [
    "---"
   ]
  },
  {
   "cell_type": "code",
   "execution_count": null,
   "metadata": {},
   "outputs": [],
   "source": [
    "fig,ax = plt.subplots(figsize=(5,3))\n",
    "plot_acf(df['dif'].fillna(0.),lags=range(n_lags),ax=ax)\n",
    "ax.plot([S,S],[-1,1],color='red',linestyle='dashed',alpha=.5)\n",
    "ax.grid()"
   ]
  },
  {
   "cell_type": "markdown",
   "metadata": {},
   "source": [
    "q - номер последнего НЕсезонного лага, при котором __автокорреляция__ значима, но меньше длинны сезона ;    "
   ]
  },
  {
   "cell_type": "code",
   "execution_count": null,
   "metadata": {},
   "outputs": [],
   "source": [
    "q = ?"
   ]
  },
  {
   "cell_type": "markdown",
   "metadata": {},
   "source": [
    "---"
   ]
  },
  {
   "cell_type": "code",
   "execution_count": null,
   "metadata": {},
   "outputs": [],
   "source": [
    "fig,ax = plt.subplots(figsize=(5,3))\n",
    "plot_pacf(df['dif'].fillna(0.),lags=range(n_lags),ax=ax)\n",
    "ax.plot([S,S],[-1,1],color='red',linestyle='dashed',alpha=.5)\n",
    "ax.grid()"
   ]
  },
  {
   "cell_type": "markdown",
   "metadata": {},
   "source": [
    "p - номер последнего НЕсезонного лага, при котором __частичной автокорреляция__ значима, но меньше длинны сезона ;   "
   ]
  },
  {
   "cell_type": "code",
   "execution_count": null,
   "metadata": {},
   "outputs": [],
   "source": [
    "p = ?"
   ]
  },
  {
   "cell_type": "markdown",
   "metadata": {},
   "source": [
    "---"
   ]
  },
  {
   "cell_type": "code",
   "execution_count": null,
   "metadata": {},
   "outputs": [],
   "source": [
    "n_ses_lags = 8\n",
    "\n",
    "lags = np.arange(1*S,n_lags*S,S)\n",
    "fig,ax = plt.subplots(figsize=(10,3))\n",
    "plot_acf(df['dif_s'].fillna(0.),lags=lags,ax=ax)\n",
    "ax.grid()"
   ]
  },
  {
   "cell_type": "markdown",
   "metadata": {},
   "source": [
    "Q - номер последнего сезонного лага, при котором __автокорреляция__ значима, но меньше длинны сезона ;    "
   ]
  },
  {
   "cell_type": "code",
   "execution_count": null,
   "metadata": {},
   "outputs": [],
   "source": [
    "Q = ?"
   ]
  },
  {
   "cell_type": "markdown",
   "metadata": {},
   "source": [
    "---"
   ]
  },
  {
   "cell_type": "code",
   "execution_count": null,
   "metadata": {},
   "outputs": [],
   "source": [
    "lags = np.arange(1*S,n_ses_lags*S,S)\n",
    "fig,ax = plt.subplots(figsize=(10,3))\n",
    "plot_pacf(df['dif_s'].fillna(0.),lags=lags,ax=ax)\n",
    "ax.grid()"
   ]
  },
  {
   "cell_type": "markdown",
   "metadata": {},
   "source": [
    "P - номер последнего сезонного лага, при котором __частичной автокорреляция__ значима, но меньше длинны сезона ;   "
   ]
  },
  {
   "cell_type": "code",
   "execution_count": null,
   "metadata": {},
   "outputs": [],
   "source": [
    "P = ?"
   ]
  },
  {
   "cell_type": "markdown",
   "metadata": {},
   "source": [
    "# разделяем данные "
   ]
  },
  {
   "cell_type": "code",
   "execution_count": null,
   "metadata": {},
   "outputs": [],
   "source": [
    "display( df.index.min(), df.index.max() )"
   ]
  },
  {
   "cell_type": "code",
   "execution_count": null,
   "metadata": {},
   "outputs": [],
   "source": [
    "# разобьём данные на обучающую и тестовую выборки\n",
    "train = df[:'1974-12']\n",
    "test = df['1975-01':]"
   ]
  },
  {
   "cell_type": "code",
   "execution_count": null,
   "metadata": {},
   "outputs": [],
   "source": [
    "fig,ax = plt.subplots(figsize = (9,3))\n",
    "ax.plot(train['values'], color = 'blue',label='учебная выборка')\n",
    "ax.plot(test['values'], color = 'red',label='тестовая выборка')\n",
    "ax.set_xlabel('Месяцы', )\n",
    "ax.legend(title = '', loc = 'upper left', )\n",
    "ax.grid()"
   ]
  },
  {
   "cell_type": "markdown",
   "metadata": {},
   "source": [
    "# обучаем модель"
   ]
  },
  {
   "cell_type": "code",
   "execution_count": null,
   "metadata": {},
   "outputs": [],
   "source": [
    "display( 'SARIMAX ({},{},{}), ({},{},{}), {}'.format(p,d,q,P,D,Q,S) )"
   ]
  },
  {
   "cell_type": "code",
   "execution_count": null,
   "metadata": {},
   "outputs": [],
   "source": [
    "%%time \n",
    "\n",
    "from statsmodels.tsa.statespace.sarimax import SARIMAX\n",
    "\n",
    "model = SARIMAX(\n",
    "        train['bcx'], \n",
    "        order = (p, d, q),\n",
    "        seasonal_order = (P, D, Q, S)\n",
    "    ).fit(method='lbfgs')\n",
    "    \n",
    "    # method='cg', ) \n",
    "    # method='lbfgs',full_output=False)"
   ]
  },
  {
   "cell_type": "code",
   "execution_count": null,
   "metadata": {},
   "outputs": [],
   "source": [
    "print(model.summary())"
   ]
  },
  {
   "cell_type": "markdown",
   "metadata": {},
   "source": [
    "# тестируем"
   ]
  },
  {
   "cell_type": "code",
   "execution_count": null,
   "metadata": {},
   "outputs": [],
   "source": [
    "start,end  = len(train), len(train)+len(test)-1\n",
    "\n",
    "predicted = model.predict(start, end)"
   ]
  },
  {
   "cell_type": "markdown",
   "metadata": {},
   "source": [
    "__если применяли преобразование Бокса-Кокса,__   \n",
    "  __то выполняем обратное преобразование__"
   ]
  },
  {
   "cell_type": "code",
   "execution_count": null,
   "metadata": {},
   "outputs": [],
   "source": [
    "from scipy.special import inv_boxcox\n",
    "# predicted = inv_boxcox( predicted, 0 )"
   ]
  },
  {
   "cell_type": "markdown",
   "metadata": {},
   "source": [
    "---"
   ]
  },
  {
   "cell_type": "code",
   "execution_count": null,
   "metadata": {},
   "outputs": [],
   "source": [
    "fig,ax = plt.subplots(figsize = (9,3))\n",
    "ax.plot(train['values'], color = 'blue',label='учебная выборка')\n",
    "ax.plot(test['values'], color = 'red',label='тестовая выборка')\n",
    "ax.plot(predicted, color = 'green',  label='прогноз')\n",
    "ax.set_xlabel('Месяцы', )\n",
    "ax.legend(title = '', loc = 'upper left', )\n",
    "ax.grid()"
   ]
  },
  {
   "cell_type": "markdown",
   "metadata": {},
   "source": [
    "__оцениваем остатки (разница между прогнозом и тестовыми данными)__"
   ]
  },
  {
   "cell_type": "code",
   "execution_count": null,
   "metadata": {},
   "outputs": [],
   "source": [
    "start,end  = 0, len(df)\n",
    "\n",
    "predicted = model.predict(start, end)"
   ]
  },
  {
   "cell_type": "markdown",
   "metadata": {},
   "source": [
    "__если применяли преобразование Бокса-Кокса,__   \n",
    "  __то выполняем обратное преобразование__"
   ]
  },
  {
   "cell_type": "code",
   "execution_count": null,
   "metadata": {},
   "outputs": [],
   "source": [
    "from scipy.special import inv_boxcox\n",
    "# predicted = inv_boxcox( predicted, 0 )"
   ]
  },
  {
   "cell_type": "code",
   "execution_count": null,
   "metadata": {},
   "outputs": [],
   "source": [
    "# считаем остатки\n",
    "err = df['values'] - predicted "
   ]
  },
  {
   "cell_type": "code",
   "execution_count": null,
   "metadata": {},
   "outputs": [],
   "source": [
    "n_skip = 12*4\n",
    "\n",
    "fig,ax = plt.subplots(2,1,figsize = (9,6),sharex=True)\n",
    "ax[0].plot(train[n_skip:]['values'], color = 'blue',label='учебная выборка')\n",
    "ax[0].plot(test['values'], color = 'orange',label='тестовая выборка')\n",
    "ax[0].plot(predicted[n_skip:], color = 'red',label='прогноз')\n",
    "ax[0].grid()\n",
    "ax[0].legend()\n",
    "ax[1].plot(err[n_skip:], color = 'orange',label='остаток')\n",
    "ax[1].grid()\n",
    "ax[1].legend()"
   ]
  },
  {
   "cell_type": "markdown",
   "metadata": {},
   "source": [
    "__оценка автокореляции остатков__"
   ]
  },
  {
   "cell_type": "code",
   "execution_count": null,
   "metadata": {},
   "outputs": [],
   "source": [
    "from statsmodels.graphics.tsaplots import plot_acf\n",
    "plot_acf(err.fillna(0.))\n",
    "plt.grid()\n",
    "plt.show()"
   ]
  },
  {
   "cell_type": "markdown",
   "metadata": {},
   "source": [
    "# строим прогноз"
   ]
  },
  {
   "cell_type": "code",
   "execution_count": null,
   "metadata": {},
   "outputs": [],
   "source": [
    "forecast_periods = S*4 # на 4 сезона вперед\n",
    "forecast = model.get_forecast(steps=forecast_periods)\n",
    "forecast_mean = forecast.predicted_mean # значение прогноза\n",
    "forecast_ci = forecast.conf_int() # предсказательный интервал"
   ]
  },
  {
   "cell_type": "code",
   "execution_count": null,
   "metadata": {},
   "outputs": [],
   "source": [
    "fig,ax = plt.subplots(figsize=(9,5))\n",
    "ax.plot(train['values'], label='данные')\n",
    "ax.plot(forecast_mean, label='прогноз', color='red')\n",
    "ax.fill_between(\n",
    "        forecast_ci.index, \n",
    "        forecast_ci.iloc[:, 0], \n",
    "        forecast_ci.iloc[:, 1], \n",
    "        color='pink', \n",
    "        label='предсказательный интервал'\n",
    "    )\n",
    "ax.set_xlabel(\"Date\")\n",
    "ax.legend(loc='upper left')\n",
    "ax.grid()"
   ]
  },
  {
   "cell_type": "code",
   "execution_count": null,
   "metadata": {},
   "outputs": [],
   "source": []
  }
 ],
 "metadata": {
  "kernelspec": {
   "display_name": "Python 3 (ipykernel)",
   "language": "python",
   "name": "python3"
  },
  "language_info": {
   "codemirror_mode": {
    "name": "ipython",
    "version": 3
   },
   "file_extension": ".py",
   "mimetype": "text/x-python",
   "name": "python",
   "nbconvert_exporter": "python",
   "pygments_lexer": "ipython3",
   "version": "3.11.8"
  },
  "toc": {
   "base_numbering": 1,
   "nav_menu": {},
   "number_sections": true,
   "sideBar": true,
   "skip_h1_title": false,
   "title_cell": "Table of Contents",
   "title_sidebar": "Contents",
   "toc_cell": false,
   "toc_position": {
    "height": "calc(100% - 180px)",
    "left": "10px",
    "top": "150px",
    "width": "247.594px"
   },
   "toc_section_display": "block",
   "toc_window_display": false
  }
 },
 "nbformat": 4,
 "nbformat_minor": 2
}
