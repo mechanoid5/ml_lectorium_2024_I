{
 "cells": [
  {
   "cell_type": "markdown",
   "metadata": {},
   "source": [
    "**ConvNet классификатор** \n",
    "\n",
    "Евгений Борисов  <esborisov@sevsu.ru>"
   ]
  },
  {
   "cell_type": "markdown",
   "metadata": {},
   "source": [
    "---"
   ]
  },
  {
   "cell_type": "markdown",
   "metadata": {},
   "source": [
    "LeCun Y., Boser B., Denker J.S., Henderson D., Howard R.E., Hubbard W., Jackel L.D.    \n",
    "Backpropagation applied to handwritten zip code recognition.   \n",
    "Neural Computation 1989 1(4):541-551.   \n",
    "http://yann.lecun.com/exdb/publis/pdf/lecun-89e.pdf"
   ]
  },
  {
   "cell_type": "markdown",
   "metadata": {},
   "source": [
    "Е.С.Борисов Классификатор изображений на основе свёрточной сети.  \n",
    "http://mechanoid.su/ml-lenet.html"
   ]
  },
  {
   "cell_type": "markdown",
   "metadata": {},
   "source": [
    "Е.С.Борисов  О методах обучения многослойных нейронных сетей прямого распространения.    \n",
    "http://mechanoid.su/neural-net-backprop.html  \n",
    "http://mechanoid.su/neural-net-backprop2.html"
   ]
  },
  {
   "cell_type": "markdown",
   "metadata": {},
   "source": [
    "---"
   ]
  },
  {
   "cell_type": "code",
   "execution_count": 1,
   "metadata": {},
   "outputs": [],
   "source": [
    "import numpy as np\n",
    "from numpy import random as rng\n",
    "\n",
    "import matplotlib.pyplot as plt\n",
    "\n",
    "%precision 3\n",
    "np.set_printoptions(precision=2)\n",
    "np.set_printoptions(linewidth=110)\n",
    "# np.get_printoptions()"
   ]
  },
  {
   "cell_type": "markdown",
   "metadata": {},
   "source": [
    "---"
   ]
  },
  {
   "cell_type": "code",
   "execution_count": 2,
   "metadata": {},
   "outputs": [
    {
     "data": {
      "text/plain": [
       "dict_keys(['data', 'target', 'frame', 'feature_names', 'target_names', 'images', 'DESCR'])"
      ]
     },
     "metadata": {},
     "output_type": "display_data"
    },
    {
     "data": {
      "text/plain": [
       "((1797, 8, 8, 1), (1797,))"
      ]
     },
     "metadata": {},
     "output_type": "display_data"
    }
   ],
   "source": [
    "from sklearn.datasets import load_digits\n",
    "data = load_digits()\n",
    "\n",
    "display( data.keys() )\n",
    "# print(data['DESCR'])\n",
    "\n",
    "x = data['images'][:,:,:,np.newaxis]\n",
    "target = data['target']\n",
    "\n",
    "display( ( x.shape, target.shape ) )"
   ]
  },
  {
   "cell_type": "code",
   "execution_count": 3,
   "metadata": {},
   "outputs": [],
   "source": [
    "# np.squeeze(x[0])#.shape"
   ]
  },
  {
   "cell_type": "code",
   "execution_count": 4,
   "metadata": {},
   "outputs": [],
   "source": [
    "# x.mean()"
   ]
  },
  {
   "cell_type": "code",
   "execution_count": 5,
   "metadata": {},
   "outputs": [],
   "source": [
    "# def MinMaxScaler(x): return (x-x.min())/(x.max()-x.min())\n",
    "# x = MinMaxScaler(x)\n",
    "# x = (x>5).astype(np.uint8)"
   ]
  },
  {
   "cell_type": "code",
   "execution_count": 6,
   "metadata": {},
   "outputs": [
    {
     "data": {
      "image/png": "[encoded data removed]",
      "text/plain": [
       "<Figure size 1100x100 with 64 Axes>"
      ]
     },
     "metadata": {},
     "output_type": "display_data"
    }
   ],
   "source": [
    "m = 64\n",
    "ii = rng.permutation(len(x))[:m]\n",
    "fig,ax = plt.subplots(1,len(ii),figsize=(11,1))\n",
    "for i in range(len(ii)):\n",
    "    ax[i].imshow(x[ii[i]],cmap='binary')\n",
    "    ax[i].axis('off')"
   ]
  },
  {
   "cell_type": "markdown",
   "metadata": {},
   "source": [
    "---"
   ]
  },
  {
   "cell_type": "code",
   "execution_count": 7,
   "metadata": {},
   "outputs": [
    {
     "data": {
      "text/plain": [
       "(898, 8, 8, 1)"
      ]
     },
     "metadata": {},
     "output_type": "display_data"
    },
    {
     "data": {
      "text/plain": [
       "(899, 8, 8, 1)"
      ]
     },
     "metadata": {},
     "output_type": "display_data"
    }
   ],
   "source": [
    "from sklearn.model_selection import train_test_split\n",
    "\n",
    "x_train, x_test, target_train, target_test = train_test_split(x,target,test_size=.5)\n",
    "display( x_train.shape, x_test.shape, )\n",
    "\n",
    "assert len(target_train) == len(x_train)\n",
    "assert len(target_test) == len(x_test)"
   ]
  },
  {
   "cell_type": "code",
   "execution_count": 8,
   "metadata": {},
   "outputs": [
    {
     "data": {
      "text/plain": [
       "10"
      ]
     },
     "metadata": {},
     "output_type": "display_data"
    },
    {
     "data": {
      "text/plain": [
       "(898, 10)"
      ]
     },
     "metadata": {},
     "output_type": "display_data"
    },
    {
     "data": {
      "text/plain": [
       "(899, 10)"
      ]
     },
     "metadata": {},
     "output_type": "display_data"
    }
   ],
   "source": [
    "n_classes = len(set(target))\n",
    "y_train = np.eye(n_classes)[target_train]\n",
    "y_test  = np.eye(n_classes)[target_test]\n",
    "\n",
    "display(n_classes, y_train.shape, y_test.shape)"
   ]
  },
  {
   "cell_type": "code",
   "execution_count": 9,
   "metadata": {},
   "outputs": [],
   "source": [
    "del x,target"
   ]
  },
  {
   "cell_type": "markdown",
   "metadata": {},
   "source": [
    "# строим модель"
   ]
  },
  {
   "attachments": {
    "image.png": {
     "image/png": "[encoded data removed]"
    }
   },
   "cell_type": "markdown",
   "metadata": {},
   "source": [
    "схема нейрона\n",
    "\n",
    "![image.png](attachment:image.png)"
   ]
  },
  {
   "cell_type": "markdown",
   "metadata": {},
   "source": [
    "## модель слоя сети"
   ]
  },
  {
   "cell_type": "code",
   "execution_count": 10,
   "metadata": {},
   "outputs": [],
   "source": [
    "class Model:\n",
    "    \n",
    "    def forward(self,x): pass\n",
    "\n",
    "    def forward_train(self,x): pass\n",
    "    \n",
    "    def backward(self,d): pass\n",
    "    \n",
    "    def gradient(self,x,d): pass\n",
    "    \n",
    "    def __call__(self,x):\n",
    "        return self.forward(x)\n",
    "        \n",
    "    def predict(self,x):\n",
    "        return np.argmax(self.forward(x),axis=-1)\n",
    "    \n",
    "    @property\n",
    "    def weight(self): pass\n",
    "\n",
    "    @weight.setter\n",
    "    def weight(self,w): pass"
   ]
  },
  {
   "cell_type": "markdown",
   "metadata": {},
   "source": [
    "## линейный слой"
   ]
  },
  {
   "cell_type": "code",
   "execution_count": 11,
   "metadata": {},
   "outputs": [],
   "source": [
    "class Linear(Model):\n",
    "    \n",
    "    def __init__(self,in_size,out_size):\n",
    "        super().__init__()\n",
    "        self._weight = rng.normal(loc=0.,scale=1e-1,size=(in_size,out_size))\n",
    "        self._bias = np.zeros(shape=(1,out_size))\n",
    "        \n",
    "    def forward(self,x):\n",
    "        assert len(x)>0\n",
    "        assert x.shape[-1]==self._weight.shape[0]\n",
    "        return x.dot(self._weight)+self._bias\n",
    "\n",
    "    def forward_train(self,x):\n",
    "        return self.forward(x)\n",
    "    \n",
    "    def backward(self,d):\n",
    "        return d.dot(self._weight.T)\n",
    "    \n",
    "    def gradient(self,x,d):\n",
    "        return x.T.dot(d), d.sum(axis=0,keepdims=True) \n",
    "    \n",
    "    @property\n",
    "    def weight(self):\n",
    "        return self._weight, self._bias\n",
    "\n",
    "    @weight.setter\n",
    "    def weight(self,w):\n",
    "        self._weight=w[0] \n",
    "        self._bias=w[1]\n",
    "        return self"
   ]
  },
  {
   "cell_type": "code",
   "execution_count": 12,
   "metadata": {},
   "outputs": [],
   "source": [
    "# display((x_train.shape,y_train.shape))\n",
    "\n",
    "# model = Linear(in_size=x_train.shape[1],out_size=y_train.shape[1])\n",
    "\n",
    "# o = model(x_train)\n",
    "# display(o.shape)\n",
    "\n",
    "# o = model.forward_train(x_train)\n",
    "# display(o.shape)\n",
    "\n",
    "# d = model.backward(y_train-o)\n",
    "# display(d.shape)\n",
    "\n",
    "# dw,db = model.gradient(x_train,d)\n",
    "# display((dw.shape,db.shape))"
   ]
  },
  {
   "cell_type": "markdown",
   "metadata": {},
   "source": [
    "## свёрточный слой"
   ]
  },
  {
   "attachments": {
    "image.png": {
     "image/png": "[encoded data removed]"
    }
   },
   "cell_type": "markdown",
   "metadata": {},
   "source": [
    "![image.png](attachment:image.png)"
   ]
  },
  {
   "attachments": {
    "image.png": {
     "image/png": "[encoded data removed]"
    }
   },
   "cell_type": "markdown",
   "metadata": {},
   "source": [
    "![image.png](attachment:image.png)"
   ]
  },
  {
   "cell_type": "code",
   "execution_count": 13,
   "metadata": {},
   "outputs": [],
   "source": [
    "from scipy.signal import convolve2d\n",
    "\n",
    "class Conv2d(Model):\n",
    "    \n",
    "    def __init__(self,kernel_size,kernel_count):\n",
    "        super().__init__()\n",
    "        self._kernels = rng.normal(loc=0.,scale=1e-2,size=(kernel_count,*kernel_size))\n",
    "        self._bias = np.zeros(kernel_count)\n",
    "        \n",
    "    def forward(self,x):\n",
    "        assert len(x)>0\n",
    "        return np.stack([ \n",
    "                self.conv2d( x.sum(axis=-1), self._kernels[i], mode='valid') \n",
    "                for i in range(len(self._kernels)) \n",
    "            ],axis=-1) - self._bias\n",
    "\n",
    "    def forward_train(self,x):\n",
    "        return self.forward(x)\n",
    "        \n",
    "    def backward(self,d):\n",
    "        return np.stack([ \n",
    "                self.conv2d( d.sum(axis=-1), self._kernels[i].swapaxes(0,1), mode='full' ) \n",
    "                for i in range(len(self._kernels)) \n",
    "            ],axis=-1)\n",
    "\n",
    "    def gradient(self,x,d):\n",
    "        assert len(x)==len(d)\n",
    "        x_ = x.sum(axis=-1)\n",
    "        dk = np.stack([\n",
    "                [ \n",
    "                    convolve2d( x_[i], d[i,:,:,j].swapaxes(0,1), mode='valid' ).swapaxes(0,1)\n",
    "                    for i in range(x_.shape[0]) \n",
    "                ] for j in range(d.shape[-1])\n",
    "            ]).mean(axis=1)\n",
    "        db = d.sum(axis=1).sum(axis=1).mean(axis=0)\n",
    "        return dk,db\n",
    "                \n",
    "    @property\n",
    "    def weight(self):\n",
    "        return self._kernels, self._bias\n",
    "\n",
    "    @weight.setter\n",
    "    def weight(self,w):\n",
    "        self._kernels=w[0] \n",
    "        self._bias=w[1]\n",
    "        return self\n",
    "    \n",
    "    @staticmethod\n",
    "    def conv2d(x,k,mode='full'): \n",
    "        n,h,w = x.shape # размеры карты\n",
    "        s = (k.shape[0]//2)  # увеличение края при свёртке схемой full\n",
    "        z = np.zeros((n,s,w)) # разделительные полосы\n",
    "        x = np.hstack([z,x,z]) # вставляем разделительные полосы\n",
    "        x = x.reshape(n*h+n*s*2,w) # преобразование в 2D\n",
    "        x = convolve2d(x,k,mode='full') # выполняем свёртку 2D\n",
    "        x = x[s:-s,:] # обрезаем лишнее \n",
    "        x = x.reshape(n,h+s*2,w+s*2) # обратное преобразование размерности\n",
    "        return {\n",
    "                'full': x,\n",
    "                'same': x[:,s:-s,s:-s],\n",
    "               'valid': x[:,s*2:-s*2,s*2:-s*2],\n",
    "            }[mode]"
   ]
  },
  {
   "cell_type": "code",
   "execution_count": 14,
   "metadata": {},
   "outputs": [],
   "source": [
    "# display((x_train.shape,y_train.shape))\n",
    "\n",
    "# model = Conv2d(kernel_size=(3,3),kernel_count=5)\n",
    "\n",
    "# o = model(x_train)\n",
    "# display(o.shape)\n",
    "\n",
    "# o = model.forward_train(x_train)\n",
    "# display(o.shape)\n",
    "\n",
    "# d = model.backward(o)\n",
    "# display(d.shape)\n",
    "\n",
    "# dk,db = model.gradient(x_train,o)\n",
    "# display(dk.shape,db.shape)"
   ]
  },
  {
   "cell_type": "markdown",
   "metadata": {},
   "source": [
    "## функция активации"
   ]
  },
  {
   "cell_type": "code",
   "execution_count": 15,
   "metadata": {},
   "outputs": [],
   "source": [
    "class Activation:\n",
    "    \n",
    "    def forward(self,x): pass\n",
    "\n",
    "    def backward(self,x): pass # производная активации\n",
    "    \n",
    "    def __call__(self,x):\n",
    "        return self.forward(x)    "
   ]
  },
  {
   "cell_type": "code",
   "execution_count": 16,
   "metadata": {},
   "outputs": [],
   "source": [
    "class BiSigmoid(Activation):\n",
    "    \n",
    "    def forward(self,x): \n",
    "        return np.tanh(x)\n",
    "\n",
    "    def backward(self,x): # производная активации\n",
    "        return 1./(np.cosh(x)**2)"
   ]
  },
  {
   "cell_type": "code",
   "execution_count": 17,
   "metadata": {},
   "outputs": [
    {
     "data": {
      "text/plain": [
       "Text(0.5, 1.0, 'd bi_sigmoid')"
      ]
     },
     "execution_count": 17,
     "metadata": {},
     "output_type": "execute_result"
    },
    {
     "data": {
      "image/png": "[encoded data removed]",
      "text/plain": [
       "<Figure size 700x200 with 2 Axes>"
      ]
     },
     "metadata": {},
     "output_type": "display_data"
    }
   ],
   "source": [
    "f = BiSigmoid()\n",
    "x = np.linspace(-3,3,30)\n",
    "fig,ax = plt.subplots(ncols=2,figsize=(7,2))\n",
    "ax[0].plot(x,f(x),'-r')\n",
    "ax[0].grid()\n",
    "ax[0].set_title('bi_sigmoid' )\n",
    "ax[1].plot(x,f.backward(x),'-g')\n",
    "ax[1].grid()\n",
    "ax[1].set_title('d bi_sigmoid' )"
   ]
  },
  {
   "cell_type": "markdown",
   "metadata": {},
   "source": [
    "$$\n",
    "sigmoid(x) = \\frac{1}{1+\\exp(-x)}\n",
    "$$"
   ]
  },
  {
   "cell_type": "code",
   "execution_count": 18,
   "metadata": {},
   "outputs": [],
   "source": [
    "class Sigmoid(Activation): # функция активации\n",
    "    \n",
    "    def forward(self,x): \n",
    "        return 1./(1. + np.exp(-x))\n",
    "\n",
    "    def backward(self,x): # производная активации\n",
    "        return np.square(self.forward(x))*np.exp(-x) "
   ]
  },
  {
   "cell_type": "code",
   "execution_count": 19,
   "metadata": {},
   "outputs": [
    {
     "data": {
      "text/plain": [
       "Text(0.5, 1.0, 'd sigmoid')"
      ]
     },
     "execution_count": 19,
     "metadata": {},
     "output_type": "execute_result"
    },
    {
     "data": {
      "image/png": "[encoded data removed]",
      "text/plain": [
       "<Figure size 700x200 with 2 Axes>"
      ]
     },
     "metadata": {},
     "output_type": "display_data"
    }
   ],
   "source": [
    "f = Sigmoid()\n",
    "x = np.linspace(-3,3,30)\n",
    "fig,ax = plt.subplots(ncols=2,figsize=(7,2))\n",
    "ax[0].plot(x,f(x),'-r')\n",
    "ax[0].grid()\n",
    "ax[0].set_title('sigmoid' )\n",
    "ax[1].plot(x,f.backward(x),'-g')\n",
    "ax[1].grid()\n",
    "ax[1].set_title('d sigmoid' )"
   ]
  },
  {
   "cell_type": "markdown",
   "metadata": {},
   "source": [
    "$$\n",
    "softmax(x) = \\frac{\\exp(x)}{\\sum{\\exp(x)}}\n",
    "$$"
   ]
  },
  {
   "cell_type": "code",
   "execution_count": 20,
   "metadata": {},
   "outputs": [],
   "source": [
    "class Softmax(Activation):\n",
    "    \n",
    "    def forward(self,x): \n",
    "        e = np.exp(x)\n",
    "        return e/e.sum(axis=-1,keepdims=True)\n",
    "\n",
    "    def backward(self,x): \n",
    "        o = self.forward(x)\n",
    "        return o*(1.-o)"
   ]
  },
  {
   "cell_type": "markdown",
   "metadata": {},
   "source": [
    "## ConvNet"
   ]
  },
  {
   "attachments": {
    "%D0%B8%D0%B7%D0%BE%D0%B1%D1%80%D0%B0%D0%B6%D0%B5%D0%BD%D0%B8%D0%B5.png": {
     "image/png": "[encoded data removed]"
    }
   },
   "cell_type": "markdown",
   "metadata": {},
   "source": [
    "![%D0%B8%D0%B7%D0%BE%D0%B1%D1%80%D0%B0%D0%B6%D0%B5%D0%BD%D0%B8%D0%B5.png](attachment:%D0%B8%D0%B7%D0%BE%D0%B1%D1%80%D0%B0%D0%B6%D0%B5%D0%BD%D0%B8%D0%B5.png)"
   ]
  },
  {
   "attachments": {
    "image.png": {
     "image/png": "[encoded data removed]"
    }
   },
   "cell_type": "markdown",
   "metadata": {},
   "source": [
    "схема MPL \n",
    "\n",
    "![image.png](attachment:image.png)"
   ]
  },
  {
   "attachments": {
    "image.png": {
     "image/png": "[encoded data removed]"
    }
   },
   "cell_type": "markdown",
   "metadata": {},
   "source": [
    "градиент функции потери - частные производные по всем параметрам модели, направление наискорейшего возрастания функции \n",
    "\n",
    "![image.png](attachment:image.png)"
   ]
  },
  {
   "attachments": {
    "image.png": {
     "image/png": "[encoded data removed]"
    }
   },
   "cell_type": "markdown",
   "metadata": {},
   "source": [
    "\n",
    "![image.png](attachment:image.png)"
   ]
  },
  {
   "attachments": {
    "image.png": {
     "image/png": "[encoded data removed]"
    }
   },
   "cell_type": "markdown",
   "metadata": {},
   "source": [
    "процедура обратного распространения ошибки\n",
    "\n",
    "![image.png](attachment:image.png)"
   ]
  },
  {
   "attachments": {
    "image.png": {
     "image/png": "[encoded data removed]"
    }
   },
   "cell_type": "markdown",
   "metadata": {},
   "source": [
    "![image.png](attachment:image.png)"
   ]
  },
  {
   "cell_type": "code",
   "execution_count": 21,
   "metadata": {},
   "outputs": [],
   "source": [
    "class ConvNet(Model):\n",
    "    \n",
    "    def __init__(self,kernel_size,kernel_count,hidden_size,out_size):\n",
    "        super().__init__()\n",
    "        self._act0 = BiSigmoid()\n",
    "        self._act1 = Softmax()\n",
    "        self._conv0 =  Conv2d(kernel_size=kernel_size,kernel_count=kernel_count)\n",
    "        self._lin1 = Linear(hidden_size,out_size)\n",
    "                \n",
    "    @property\n",
    "    def weight(self):\n",
    "        return self._conv0.weight, self._lin1.weight\n",
    "\n",
    "    @weight.setter\n",
    "    def weight(self,w):\n",
    "        self._conv0.weight=w[0] \n",
    "        self._lin1.weight=w[1]\n",
    "        return self\n",
    "    \n",
    "    def forward(self,x):\n",
    "        assert len(x)>0\n",
    "        o = self._conv0(x)\n",
    "        o = self._act0(o)\n",
    "        n,h,w,c = o.shape\n",
    "        o = o.reshape(n,h*w*c)\n",
    "        o = self._lin1(o)\n",
    "        o = self._act1(o)\n",
    "        return o\n",
    "    \n",
    "    def forward_train(self,x):\n",
    "        state,out = [x],[x]\n",
    "        \n",
    "        s = self._conv0.forward_train(out[-1])\n",
    "        state.append(s)\n",
    "        o = self._act0(s)\n",
    "        out.append(o)\n",
    "        \n",
    "        n,h,w,c = s.shape\n",
    "        s = s.reshape(n,h*w*c)\n",
    "        state.append(s)\n",
    "        o = o.reshape(n,h*w*c)\n",
    "        out.append(o)\n",
    "        \n",
    "        s = self._lin1.forward_train(o)\n",
    "        state.append(s)\n",
    "        o = self._act1(s)\n",
    "        out.append(o)\n",
    "        \n",
    "        return state, out\n",
    "    \n",
    "    def backward(self,d,state):\n",
    "        delta = [ d*self._act1.backward(state[-1]) ]\n",
    "        delta.append( self._lin1.backward( delta[-1]  ) * self._act0.backward( state[-2]) )\n",
    "        n,h,w,c = state[-3].shape\n",
    "        delta.append( delta[-1].reshape(n,h,w,c) )\n",
    "        return delta[::-1] \n",
    "    \n",
    "    def gradient(self,out,delta):\n",
    "        dk0,db0 = self._conv0.gradient(out[0],delta[0])    \n",
    "        dw1,db1 = self._lin1.gradient(out[2],delta[2])    \n",
    "        return [dk0,db0],[dw1,db1]"
   ]
  },
  {
   "cell_type": "code",
   "execution_count": 22,
   "metadata": {},
   "outputs": [],
   "source": [
    "# n,h,w,c = x_train.shape\n",
    "# kernel_size=(3,3)\n",
    "# kernel_count=5\n",
    "\n",
    "# sw,sh = kernel_size[1]//2, kernel_size[0]//2\n",
    "\n",
    "# hidden_size = kernel_count*(h-sh*2)*(w-sw*2)\n",
    "\n",
    "# model = ConvNet(\n",
    "#         kernel_size=kernel_size,\n",
    "#         kernel_count=kernel_count,\n",
    "#         hidden_size=hidden_size,\n",
    "#         out_size=y_train.shape[1]\n",
    "#     )\n",
    "\n",
    "# o = model(x_train)\n",
    "# display(o.shape)\n",
    "\n",
    "# s,o = model.forward_train(x_train)\n",
    "# display( len(s), len(o))\n",
    "\n",
    "# d = model.backward(o[-1],s)\n",
    "# display( len(d) )\n",
    "\n",
    "# g = model.gradient(o,d)\n",
    "# display( len(g) )"
   ]
  },
  {
   "cell_type": "markdown",
   "metadata": {},
   "source": [
    "# обучаем модель"
   ]
  },
  {
   "cell_type": "code",
   "execution_count": 23,
   "metadata": {},
   "outputs": [],
   "source": [
    "class Loss:\n",
    "    \n",
    "    def __init__(self,model): \n",
    "        self._model = model\n",
    "        self._history = []\n",
    "                \n",
    "    def estimate(self,x,target):\n",
    "        s = self._estimate( predicted=self._model(x), target=target, )\n",
    "        self._history.append(s)\n",
    "        return s\n",
    "        \n",
    "    def _estimate(self,predicted,target): pass\n",
    "    \n",
    "    def gradient(self,x,target):\n",
    "        s,o = model.forward_train(x) # состояния и выходы всех нейронов сети\n",
    "        d0 = self._gradient(o=o[-1],target=target) # ошибка выходного слоя\n",
    "        d = model.backward(d0,s) # значение ошибки для всех нейронов скрытых слоёв\n",
    "        return model.gradient(o,d) \n",
    "    \n",
    "    def _gradient(self,o,target): pass\n",
    "    \n",
    "    def __call__(self,x,target):\n",
    "        return self.estimate(x,target)        \n",
    "    \n",
    "    @property\n",
    "    def model(self): \n",
    "        return self._model"
   ]
  },
  {
   "cell_type": "markdown",
   "metadata": {},
   "source": [
    "функция потери - кросс-энтропия\n",
    "\n",
    "$$L = CE(y,o) = -y\\cdot log(o) - (1-y) \\cdot log(1-o)  $$\n",
    "\n",
    "$$  \\nabla L = \\frac{\\partial L}{\\partial w} = -\\frac{o-y }{o (o-1)}\\cdot \\frac{\\partial o}{\\partial w}$$ "
   ]
  },
  {
   "cell_type": "code",
   "execution_count": 24,
   "metadata": {},
   "outputs": [],
   "source": [
    "class CELoss(Loss):\n",
    "    \n",
    "    def _estimate(self,predicted,target):\n",
    "        o,y=predicted,target\n",
    "        with np.errstate(divide='ignore',invalid='ignore'):\n",
    "            # доопределяем нулями логарифм для аргументов меньше или равно 0\n",
    "            l0 = np.where( o<1., (1-y)*np.log(1.-o), 0. )\n",
    "            l1 = np.where( o>0., y*np.log(o),        0. ) \n",
    "        return (-(l1+l0)).mean()    \n",
    "    \n",
    "    def _gradient(self,o,target):\n",
    "        d = o*(o-1)\n",
    "        with np.errstate(divide='ignore',invalid='ignore'):\n",
    "            d = np.where(d!=0.,(1./d), .0 )\n",
    "        return -(o-target)*d # ошибка выходного слоя"
   ]
  },
  {
   "cell_type": "code",
   "execution_count": 25,
   "metadata": {},
   "outputs": [],
   "source": [
    "# n,h,w,c = x_train.shape\n",
    "# kernel_size=(3,3)\n",
    "# kernel_count=5\n",
    "\n",
    "# sw,sh = kernel_size[1]//2, kernel_size[0]//2\n",
    "\n",
    "# hidden_size = kernel_count*(h-sh*2)*(w-sw*2)\n",
    "\n",
    "# model = ConvNet(\n",
    "#         kernel_size=kernel_size,\n",
    "#         kernel_count=kernel_count,\n",
    "#         hidden_size=hidden_size,\n",
    "#         out_size=y_train.shape[1]\n",
    "#     )\n",
    "\n",
    "# # o = model(x_train)\n",
    "# # display(o.shape)\n",
    "\n",
    "# loss = CELoss(model)\n",
    "\n",
    "# er = loss.estimate(x_train,y_train)\n",
    "# display( er )\n",
    "\n",
    "# [dk0,db0],[dw1,db1] = loss.gradient(x_train,y_train)\n",
    "# display((dk0.shape,db0.shape),(dw1.shape,db1.shape))"
   ]
  },
  {
   "cell_type": "markdown",
   "metadata": {},
   "source": [
    "# обучаем"
   ]
  },
  {
   "cell_type": "code",
   "execution_count": 26,
   "metadata": {},
   "outputs": [],
   "source": [
    "from tqdm.auto import tqdm\n",
    "from sklearn.metrics import accuracy_score"
   ]
  },
  {
   "cell_type": "code",
   "execution_count": 27,
   "metadata": {},
   "outputs": [],
   "source": [
    "from copy import deepcopy\n",
    "\n",
    "class Weight:\n",
    "    \n",
    "    def __init__(self,w):\n",
    "        self._w = deepcopy(w)\n",
    "    \n",
    "    def __add__(self,w):\n",
    "        return self._for_all(w,operation=lambda x,y:x+y)\n",
    "        \n",
    "    def __sub__(self,w):\n",
    "        return self._for_all(w,operation=lambda x,y:x-y)\n",
    "    \n",
    "    def __mul__(self,w):  \n",
    "        return self._for_all(w,operation=lambda x,y:x*y)\n",
    "        \n",
    "    def fill(self,w):\n",
    "        return self._for_all(w,operation=lambda x,y: w )\n",
    "        \n",
    "    def _for_all(self,w,operation):  \n",
    "        return Weight([ \n",
    "                [ \n",
    "                 operation( self._w[l][n], self._get_value(w,l,n) ) \n",
    "                 for n in range(len( self._w[l])) \n",
    "                ] # для каждого параметра слоя\n",
    "                for l in range(len( self._w)) # для каждого слоя\n",
    "            ])  \n",
    "    \n",
    "    def max(self):  \n",
    "        return max([ \n",
    "                max([ np.abs(self._w[l][n]).max() \n",
    "                     for n in range(len( self._w[l])) \n",
    "                    ]) # для каждого параметра слоя\n",
    "                for l in range(len( self._w)) # для каждого слоя\n",
    "            ])\n",
    "    \n",
    "    \n",
    "    def sum(self):  \n",
    "        return sum([ \n",
    "                   sum([ np.abs(self._w[l][n]).sum() \n",
    "                     for n in range(len( self._w[l])) \n",
    "                    ]) # для каждого параметра слоя\n",
    "                for l in range(len( self._w)) # для каждого слоя\n",
    "            ])\n",
    "    \n",
    "    def norm(self):\n",
    "        m = self.max()\n",
    "        return self.__mul__(1./m) if m>0. else Weight(self._w)\n",
    "    \n",
    "    def _get_value(self,w,l,n):\n",
    "        return w[l,n] if type(w) is Weight else w\n",
    "        \n",
    "    def __getitem__(self,idx): \n",
    "        return self._w[idx[0]][idx[1]]\n",
    "    \n",
    "    @property\n",
    "    def value(self): return self._w"
   ]
  },
  {
   "cell_type": "code",
   "execution_count": 28,
   "metadata": {},
   "outputs": [],
   "source": [
    "# w0 = Weight(model.weight)\n",
    "# w0.value, w0.max(), w0.norm()\n",
    "\n",
    "# w1 = Weight(model.weight)\n",
    "# w0+w1\n",
    "# w0.fill(-1.)"
   ]
  },
  {
   "cell_type": "code",
   "execution_count": 29,
   "metadata": {},
   "outputs": [],
   "source": [
    "from tqdm.auto import tqdm\n",
    "from sklearn.metrics import accuracy_score"
   ]
  },
  {
   "cell_type": "markdown",
   "metadata": {},
   "source": [
    "изменение весов\n",
    "\n",
    "$$\\Delta w_t = \\eta \\cdot \\nabla L $$"
   ]
  },
  {
   "cell_type": "code",
   "execution_count": 30,
   "metadata": {},
   "outputs": [],
   "source": [
    "class TrainGD:\n",
    "    \n",
    "    def __init__(self,loss,lr=1e-2): \n",
    "        self._loss = loss\n",
    "        self._lr = lr # скорость обучения\n",
    "        \n",
    "    def fit(self,x,t,n_epoch=128):\n",
    "        loss_history = [ self._loss.estimate(x,t) ]\n",
    "        acc_history = [ accuracy_score(np.argmax(t,axis=-1),self._loss.model.predict(x)) ]\n",
    "        for _ in tqdm(range(n_epoch)):\n",
    "            self._fit_epoch(x,t)\n",
    "            loss_history.append( self._loss.estimate(x,t) )\n",
    "            acc_history.append( accuracy_score(np.argmax(t,axis=-1),self._loss.model.predict(x)) )\n",
    "            if acc_history[-1]>.99: break\n",
    "        return (acc_history,loss_history),self._loss.model \n",
    "    \n",
    "    def _fit_epoch(self,x,t):\n",
    "        dw = self._loss.gradient(x,t)\n",
    "        dw = Weight(dw).norm().value\n",
    "        self._weight_adjust(dw)  \n",
    "        return self\n",
    "        \n",
    "    def _weight_adjust(self,dw):\n",
    "        dw = Weight( self._weight_delta(dw) )\n",
    "        w = Weight( self._loss.model.weight ) \n",
    "        self._loss.model.weight = (w-dw).value\n",
    "        return self\n",
    "        \n",
    "    def _weight_delta(self,dw): # вычисляем изменение всех весов модели\n",
    "        return ( Weight(dw)*self._lr ).value\n",
    "        "
   ]
  },
  {
   "cell_type": "code",
   "execution_count": 31,
   "metadata": {},
   "outputs": [],
   "source": [
    "# model = MLP3(in_size=x_train.shape[1],hidden_size=[10,5],out_size=y_train.shape[1])\n",
    "# (acc_history,loss_history), model = TrainGD(\n",
    "#         loss=MSQELoss(model),\n",
    "#         lr=1e-2,\n",
    "#     ).fit( x_train,y_train, n_epoch=128, )"
   ]
  },
  {
   "cell_type": "markdown",
   "metadata": {},
   "source": [
    "изменение весов\n",
    "\n",
    "$$\\Delta w_t = \\eta \\cdot ( \\nabla L + \\rho\\cdot W_{t-1} ) + \\mu\\cdot \\Delta w_{t-1}$$"
   ]
  },
  {
   "cell_type": "code",
   "execution_count": 32,
   "metadata": {},
   "outputs": [],
   "source": [
    "class TrainSGD(TrainGD):\n",
    "    \n",
    "    def __init__(self,loss,lr=1e-2,mu=0.,rho=0.): \n",
    "        super().__init__(loss,lr)\n",
    "        self._dw = 0. # изменение весов на предыдущем шаге\n",
    "        self._mu = mu # коэфициент момента\n",
    "        self._rho = rho # коэфициент регуляризации\n",
    "        self._bs = 1.\n",
    "        \n",
    "    def fit(self,x,t,n_epoch=128,batch_size=8):\n",
    "        self._bs = batch_size\n",
    "        return super().fit(x,t,n_epoch)\n",
    "            \n",
    "    def _fit_epoch(self,x,t):\n",
    "        self._dw = Weight(self._loss.model.weight).fill(0.).value\n",
    "        for x_,t_ in self._get_batch(x,t):\n",
    "            super()._fit_epoch(x_,t_)\n",
    "        return self\n",
    "\n",
    "    # генератор батчей\n",
    "    def _get_batch(self,x,y): \n",
    "        n_samples = len(y) # количество учебных пар\n",
    "        batch_count = np.ceil( n_samples/self._bs).astype(int) # количество батчей\n",
    "        # перемешиваем учебный набор и режем его на батчи\n",
    "        for idx in np.array_split(rng.permutation(n_samples), batch_count ):\n",
    "            yield x[idx,:],y[idx,:]\n",
    "            \n",
    "    def _weight_delta(self,dw): # вычисляем изменение всех весов модели\n",
    "        w = Weight(self._loss.model.weight)\n",
    "        self._dw = ( \n",
    "                ( Weight(dw)+w*self._rho )*self._lr \n",
    "                + Weight(self._dw)*self._mu \n",
    "            ).value    \n",
    "        return self._dw"
   ]
  },
  {
   "cell_type": "markdown",
   "metadata": {},
   "source": [
    "-----"
   ]
  },
  {
   "cell_type": "code",
   "execution_count": 33,
   "metadata": {},
   "outputs": [],
   "source": [
    "n,h,w,c = x_train.shape\n",
    "kernel_size=(3,3)\n",
    "kernel_count=5\n",
    "\n",
    "sw,sh = kernel_size[1]//2, kernel_size[0]//2\n",
    "\n",
    "hidden_size = kernel_count*(h-sh*2)*(w-sw*2)\n",
    "\n",
    "model = ConvNet(\n",
    "        kernel_size=kernel_size,\n",
    "        kernel_count=kernel_count,\n",
    "        hidden_size=hidden_size,\n",
    "        out_size=y_train.shape[1]\n",
    "    )\n",
    "\n",
    "# o = model(x_train)\n",
    "# display(o.shape)"
   ]
  },
  {
   "cell_type": "code",
   "execution_count": 34,
   "metadata": {},
   "outputs": [
    {
     "data": {
      "application/vnd.jupyter.widget-view+json": {
       "model_id": "8ee3a8253e3b45d196241b037be3602e",
       "version_major": 2,
       "version_minor": 0
      },
      "text/plain": [
       "  0%|          | 0/256 [00:00<?, ?it/s]"
      ]
     },
     "metadata": {},
     "output_type": "display_data"
    },
    {
     "data": {
      "text/plain": [
       "<matplotlib.legend.Legend at 0x71c197eb6210>"
      ]
     },
     "execution_count": 34,
     "metadata": {},
     "output_type": "execute_result"
    },
    {
     "data": {
      "image/png": "[encoded data removed]",
      "text/plain": [
       "<Figure size 1100x400 with 2 Axes>"
      ]
     },
     "metadata": {},
     "output_type": "display_data"
    }
   ],
   "source": [
    "(acc_history,loss_history), model = TrainSGD(\n",
    "        loss=CELoss(model), lr=1e-2, mu=1e-2, rho=1e-8,\n",
    "    ).fit( x_train,y_train, n_epoch=256, batch_size=len(x_train)//16 )\n",
    "\n",
    "# история изменения значений погрешности модели\n",
    "fig,ax = plt.subplots(ncols=2,figsize=(11,4))\n",
    "ax[0].plot(acc_history,label=f'accuracy (max:{max(acc_history):.3f})',c='r' )\n",
    "ax[0].grid()\n",
    "ax[0].set_title('accuracy')\n",
    "ax[0].legend()\n",
    "ax[1].plot(loss_history,label=f'loss (min:{min(loss_history):.3f})',c='b' )\n",
    "ax[1].grid()\n",
    "ax[1].set_title('loss')\n",
    "ax[1].legend()"
   ]
  },
  {
   "cell_type": "markdown",
   "metadata": {},
   "source": [
    "# тестируем"
   ]
  },
  {
   "cell_type": "code",
   "execution_count": 35,
   "metadata": {},
   "outputs": [
    {
     "name": "stdout",
     "output_type": "stream",
     "text": [
      "              precision    recall  f1-score   support\n",
      "\n",
      "           0       1.00      0.99      0.99       100\n",
      "           1       0.94      0.98      0.96        86\n",
      "           2       0.94      0.97      0.95        86\n",
      "           3       0.98      0.93      0.96        91\n",
      "           4       0.96      1.00      0.98        91\n",
      "           5       0.94      0.91      0.93        89\n",
      "           6       0.98      0.92      0.95        99\n",
      "           7       1.00      0.96      0.98        84\n",
      "           8       0.84      0.90      0.87        84\n",
      "           9       0.90      0.92      0.91        89\n",
      "\n",
      "    accuracy                           0.95       899\n",
      "   macro avg       0.95      0.95      0.95       899\n",
      "weighted avg       0.95      0.95      0.95       899\n",
      "\n"
     ]
    }
   ],
   "source": [
    "from sklearn.metrics import classification_report\n",
    "\n",
    "score = model.forward(x_test)\n",
    "predicted = np.argmax(score,axis=-1)\n",
    "#predicted = model.predict(x_test_)\n",
    "\n",
    "print(classification_report( target_test, predicted) )"
   ]
  },
  {
   "cell_type": "code",
   "execution_count": 134,
   "metadata": {},
   "outputs": [],
   "source": [
    "# from sklearn.metrics import RocCurveDisplay\n",
    "\n",
    "# ncols = 3\n",
    "# n_classes = len(set(target_test))\n",
    "# nrows = np.ceil(n_classes/ncols).astype(int)\n",
    "\n",
    "# # история изменения значений погрешности модели\n",
    "# fig,ax = plt.subplots(ncols=ncols,nrows=nrows,figsize=(11,nrows*4),sharey=True,sharex=True)\n",
    "# for r in range(nrows):\n",
    "#     for c in range(ncols):\n",
    "#         l = r*ncols+c\n",
    "#         if l+1>n_classes: \n",
    "#             ax[r,c].axis('off')\n",
    "#             continue\n",
    "#         t = (target_test==l).astype(np.uint8)\n",
    "#         s = score[:,l]\n",
    "#         RocCurveDisplay.from_predictions( t,s, name=f'class {c}', color='darkorange', ax=ax[r,c] )\n",
    "#         ax[r,c].plot([0,1],[0,1], color='navy', lw=1, linestyle='--')\n",
    "#         ax[r,c].grid()"
   ]
  }
 ],
 "metadata": {
  "kernelspec": {
   "display_name": "Python 3 (ipykernel)",
   "language": "python",
   "name": "python3"
  },
  "language_info": {
   "codemirror_mode": {
    "name": "ipython",
    "version": 3
   },
   "file_extension": ".py",
   "mimetype": "text/x-python",
   "name": "python",
   "nbconvert_exporter": "python",
   "pygments_lexer": "ipython3",
   "version": "3.11.8"
  },
  "toc": {
   "base_numbering": 1,
   "nav_menu": {},
   "number_sections": true,
   "sideBar": true,
   "skip_h1_title": false,
   "title_cell": "Table of Contents",
   "title_sidebar": "Contents",
   "toc_cell": false,
   "toc_position": {},
   "toc_section_display": true,
   "toc_window_display": false
  }
 },
 "nbformat": 4,
 "nbformat_minor": 4
}
