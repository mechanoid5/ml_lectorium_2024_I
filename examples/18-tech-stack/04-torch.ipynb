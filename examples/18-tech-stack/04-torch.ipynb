{
 "cells": [
  {
   "cell_type": "markdown",
   "id": "f9ac1589",
   "metadata": {},
   "source": [
    "__вычисление значения производной с помощью PyTorch__\n",
    "\n",
    "Евгений Борисов <esborisov@sevsu.ru>"
   ]
  },
  {
   "cell_type": "markdown",
   "id": "1a6c4362",
   "metadata": {},
   "source": [
    "---"
   ]
  },
  {
   "cell_type": "code",
   "execution_count": 1,
   "id": "fcf37c2f",
   "metadata": {},
   "outputs": [
    {
     "name": "stdout",
     "output_type": "stream",
     "text": [
      "2.2.1+cu121\n"
     ]
    }
   ],
   "source": [
    "import torch\n",
    "print(torch.__version__)"
   ]
  },
  {
   "cell_type": "markdown",
   "id": "0c4c91b2",
   "metadata": {},
   "source": [
    "определим функцию \n",
    "\n",
    "$$f(x) = x^3$$"
   ]
  },
  {
   "cell_type": "code",
   "execution_count": 2,
   "id": "069e21ba",
   "metadata": {},
   "outputs": [],
   "source": [
    "def f(x): return x**3"
   ]
  },
  {
   "cell_type": "markdown",
   "id": "407c1025",
   "metadata": {},
   "source": [
    "посчитаем значение функции $f$ в точке $x$"
   ]
  },
  {
   "cell_type": "code",
   "execution_count": 3,
   "id": "39ee043b",
   "metadata": {},
   "outputs": [
    {
     "data": {
      "text/plain": [
       "tensor([125.], grad_fn=<PowBackward0>)"
      ]
     },
     "execution_count": 3,
     "metadata": {},
     "output_type": "execute_result"
    }
   ],
   "source": [
    "value = torch.Tensor([5.])\n",
    "x = torch.autograd.Variable(value, requires_grad=True)\n",
    "\n",
    "y = f(x)\n",
    "y"
   ]
  },
  {
   "cell_type": "markdown",
   "id": "b598a084",
   "metadata": {},
   "source": [
    "посчитаем значение производной функции $f$ в точке $x$\n",
    "$$\\frac{df}{dx} = 3x^2$$"
   ]
  },
  {
   "cell_type": "code",
   "execution_count": 4,
   "id": "d405315a",
   "metadata": {},
   "outputs": [
    {
     "data": {
      "text/plain": [
       "tensor([75.])"
      ]
     },
     "execution_count": 4,
     "metadata": {},
     "output_type": "execute_result"
    }
   ],
   "source": [
    "y.backward()\n",
    "x.grad"
   ]
  },
  {
   "cell_type": "markdown",
   "id": "56a950c7",
   "metadata": {},
   "source": [
    "---"
   ]
  },
  {
   "cell_type": "code",
   "execution_count": 5,
   "id": "1cbde4e1",
   "metadata": {},
   "outputs": [
    {
     "data": {
      "text/plain": [
       "True"
      ]
     },
     "execution_count": 5,
     "metadata": {},
     "output_type": "execute_result"
    }
   ],
   "source": [
    "torch.cuda.is_available()"
   ]
  },
  {
   "cell_type": "code",
   "execution_count": 6,
   "id": "38f225b3",
   "metadata": {},
   "outputs": [
    {
     "data": {
      "text/plain": [
       "1"
      ]
     },
     "execution_count": 6,
     "metadata": {},
     "output_type": "execute_result"
    }
   ],
   "source": [
    "torch.cuda.device_count()"
   ]
  },
  {
   "cell_type": "code",
   "execution_count": 7,
   "id": "042161d4",
   "metadata": {},
   "outputs": [
    {
     "data": {
      "text/plain": [
       "'Tesla P40'"
      ]
     },
     "execution_count": 7,
     "metadata": {},
     "output_type": "execute_result"
    }
   ],
   "source": [
    "torch.cuda.get_device_name( torch.cuda.current_device() )"
   ]
  },
  {
   "cell_type": "code",
   "execution_count": null,
   "id": "6600652c",
   "metadata": {},
   "outputs": [],
   "source": []
  }
 ],
 "metadata": {
  "kernelspec": {
   "display_name": "Python 3 (ipykernel)",
   "language": "python",
   "name": "python3"
  },
  "language_info": {
   "codemirror_mode": {
    "name": "ipython",
    "version": 3
   },
   "file_extension": ".py",
   "mimetype": "text/x-python",
   "name": "python",
   "nbconvert_exporter": "python",
   "pygments_lexer": "ipython3",
   "version": "3.11.7"
  },
  "toc": {
   "base_numbering": 1,
   "nav_menu": {},
   "number_sections": true,
   "sideBar": true,
   "skip_h1_title": false,
   "title_cell": "Table of Contents",
   "title_sidebar": "Contents",
   "toc_cell": false,
   "toc_position": {},
   "toc_section_display": true,
   "toc_window_display": false
  }
 },
 "nbformat": 4,
 "nbformat_minor": 5
}
