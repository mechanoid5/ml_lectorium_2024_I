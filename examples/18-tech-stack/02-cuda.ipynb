{
 "cells": [
  {
   "cell_type": "markdown",
   "metadata": {},
   "source": [
    "**CUDA**\n",
    "\n",
    "Евгений Борисов <esborisov@sevsu.ru>"
   ]
  },
  {
   "cell_type": "markdown",
   "metadata": {},
   "source": [
    "---"
   ]
  },
  {
   "cell_type": "code",
   "execution_count": 3,
   "metadata": {},
   "outputs": [],
   "source": [
    "# !pip install pycuda"
   ]
  },
  {
   "cell_type": "code",
   "execution_count": 4,
   "metadata": {},
   "outputs": [
    {
     "data": {
      "text/plain": [
       "(2024, 1)"
      ]
     },
     "execution_count": 4,
     "metadata": {},
     "output_type": "execute_result"
    }
   ],
   "source": [
    "import pycuda\n",
    "\n",
    "# help(pycuda)\n",
    "pycuda.VERSION"
   ]
  },
  {
   "cell_type": "code",
   "execution_count": 5,
   "metadata": {},
   "outputs": [
    {
     "name": "stdout",
     "output_type": "stream",
     "text": [
      "total 24445MB\n",
      "free 24293MB - 99.38% \n"
     ]
    }
   ],
   "source": [
    "import pycuda.autoinit\n",
    "import pycuda.driver as cuda\n",
    "\n",
    "(free,total) = cuda.mem_get_info()\n",
    "\n",
    "print('total %iMB'%(total//1024**2))\n",
    "print('free %iMB - %.02f%% '%(free//1024**2,free*100/total))"
   ]
  },
  {
   "cell_type": "code",
   "execution_count": 6,
   "metadata": {},
   "outputs": [
    {
     "data": {
      "text/plain": [
       "1"
      ]
     },
     "execution_count": 6,
     "metadata": {},
     "output_type": "execute_result"
    }
   ],
   "source": [
    "cuda.Device.count()"
   ]
  },
  {
   "cell_type": "code",
   "execution_count": 7,
   "metadata": {},
   "outputs": [
    {
     "name": "stdout",
     "output_type": "stream",
     "text": [
      "device: Tesla P40\n"
     ]
    }
   ],
   "source": [
    "device = cuda.Device(0)\n",
    "\n",
    "print('device:',device.name())"
   ]
  },
  {
   "cell_type": "code",
   "execution_count": 8,
   "metadata": {},
   "outputs": [
    {
     "data": {
      "text/html": [
       "<table>\n",
       "<tbody>\n",
       "<tr><td>ASYNC_ENGINE_COUNT                          </td><td style=\"text-align: right;\">         2</td></tr>\n",
       "<tr><td>CAN_MAP_HOST_MEMORY                         </td><td style=\"text-align: right;\">         1</td></tr>\n",
       "<tr><td>CAN_USE_HOST_POINTER_FOR_REGISTERED_MEM     </td><td style=\"text-align: right;\">         1</td></tr>\n",
       "<tr><td>CLOCK_RATE                                  </td><td style=\"text-align: right;\">   1531000</td></tr>\n",
       "<tr><td>COMPUTE_CAPABILITY_MAJOR                    </td><td style=\"text-align: right;\">         6</td></tr>\n",
       "<tr><td>COMPUTE_CAPABILITY_MINOR                    </td><td style=\"text-align: right;\">         1</td></tr>\n",
       "<tr><td>COMPUTE_MODE                                </td><td style=\"text-align: right;\">         0</td></tr>\n",
       "<tr><td>COMPUTE_PREEMPTION_SUPPORTED                </td><td style=\"text-align: right;\">         1</td></tr>\n",
       "<tr><td>CONCURRENT_KERNELS                          </td><td style=\"text-align: right;\">         1</td></tr>\n",
       "<tr><td>CONCURRENT_MANAGED_ACCESS                   </td><td style=\"text-align: right;\">         1</td></tr>\n",
       "<tr><td>DIRECT_MANAGED_MEM_ACCESS_FROM_HOST         </td><td style=\"text-align: right;\">         0</td></tr>\n",
       "<tr><td>ECC_ENABLED                                 </td><td style=\"text-align: right;\">         0</td></tr>\n",
       "<tr><td>GENERIC_COMPRESSION_SUPPORTED               </td><td style=\"text-align: right;\">         0</td></tr>\n",
       "<tr><td>GLOBAL_L1_CACHE_SUPPORTED                   </td><td style=\"text-align: right;\">         1</td></tr>\n",
       "<tr><td>GLOBAL_MEMORY_BUS_WIDTH                     </td><td style=\"text-align: right;\">       384</td></tr>\n",
       "<tr><td>GPU_OVERLAP                                 </td><td style=\"text-align: right;\">         1</td></tr>\n",
       "<tr><td>HANDLE_TYPE_POSIX_FILE_DESCRIPTOR_SUPPORTED </td><td style=\"text-align: right;\">         1</td></tr>\n",
       "<tr><td>HANDLE_TYPE_WIN32_HANDLE_SUPPORTED          </td><td style=\"text-align: right;\">         0</td></tr>\n",
       "<tr><td>HANDLE_TYPE_WIN32_KMT_HANDLE_SUPPORTED      </td><td style=\"text-align: right;\">         0</td></tr>\n",
       "<tr><td>HOST_NATIVE_ATOMIC_SUPPORTED                </td><td style=\"text-align: right;\">         0</td></tr>\n",
       "<tr><td>INTEGRATED                                  </td><td style=\"text-align: right;\">         0</td></tr>\n",
       "<tr><td>KERNEL_EXEC_TIMEOUT                         </td><td style=\"text-align: right;\">         1</td></tr>\n",
       "<tr><td>L2_CACHE_SIZE                               </td><td style=\"text-align: right;\">   3145728</td></tr>\n",
       "<tr><td>LOCAL_L1_CACHE_SUPPORTED                    </td><td style=\"text-align: right;\">         1</td></tr>\n",
       "<tr><td>MANAGED_MEMORY                              </td><td style=\"text-align: right;\">         1</td></tr>\n",
       "<tr><td>MAXIMUM_SURFACE1D_LAYERED_LAYERS            </td><td style=\"text-align: right;\">      2048</td></tr>\n",
       "<tr><td>MAXIMUM_SURFACE1D_LAYERED_WIDTH             </td><td style=\"text-align: right;\">     32768</td></tr>\n",
       "<tr><td>MAXIMUM_SURFACE1D_WIDTH                     </td><td style=\"text-align: right;\">     32768</td></tr>\n",
       "<tr><td>MAXIMUM_SURFACE2D_HEIGHT                    </td><td style=\"text-align: right;\">     65536</td></tr>\n",
       "<tr><td>MAXIMUM_SURFACE2D_LAYERED_HEIGHT            </td><td style=\"text-align: right;\">     32768</td></tr>\n",
       "<tr><td>MAXIMUM_SURFACE2D_LAYERED_LAYERS            </td><td style=\"text-align: right;\">      2048</td></tr>\n",
       "<tr><td>MAXIMUM_SURFACE2D_LAYERED_WIDTH             </td><td style=\"text-align: right;\">     32768</td></tr>\n",
       "<tr><td>MAXIMUM_SURFACE2D_WIDTH                     </td><td style=\"text-align: right;\">    131072</td></tr>\n",
       "<tr><td>MAXIMUM_SURFACE3D_DEPTH                     </td><td style=\"text-align: right;\">     16384</td></tr>\n",
       "<tr><td>MAXIMUM_SURFACE3D_HEIGHT                    </td><td style=\"text-align: right;\">     16384</td></tr>\n",
       "<tr><td>MAXIMUM_SURFACE3D_WIDTH                     </td><td style=\"text-align: right;\">     16384</td></tr>\n",
       "<tr><td>MAXIMUM_SURFACECUBEMAP_LAYERED_LAYERS       </td><td style=\"text-align: right;\">      2046</td></tr>\n",
       "<tr><td>MAXIMUM_SURFACECUBEMAP_LAYERED_WIDTH        </td><td style=\"text-align: right;\">     32768</td></tr>\n",
       "<tr><td>MAXIMUM_SURFACECUBEMAP_WIDTH                </td><td style=\"text-align: right;\">     32768</td></tr>\n",
       "<tr><td>MAXIMUM_TEXTURE1D_LAYERED_LAYERS            </td><td style=\"text-align: right;\">      2048</td></tr>\n",
       "<tr><td>MAXIMUM_TEXTURE1D_LAYERED_WIDTH             </td><td style=\"text-align: right;\">     32768</td></tr>\n",
       "<tr><td>MAXIMUM_TEXTURE1D_LINEAR_WIDTH              </td><td style=\"text-align: right;\"> 268435456</td></tr>\n",
       "<tr><td>MAXIMUM_TEXTURE1D_MIPMAPPED_WIDTH           </td><td style=\"text-align: right;\">     16384</td></tr>\n",
       "<tr><td>MAXIMUM_TEXTURE1D_WIDTH                     </td><td style=\"text-align: right;\">    131072</td></tr>\n",
       "<tr><td>MAXIMUM_TEXTURE2D_ARRAY_HEIGHT              </td><td style=\"text-align: right;\">     32768</td></tr>\n",
       "<tr><td>MAXIMUM_TEXTURE2D_ARRAY_NUMSLICES           </td><td style=\"text-align: right;\">      2048</td></tr>\n",
       "<tr><td>MAXIMUM_TEXTURE2D_ARRAY_WIDTH               </td><td style=\"text-align: right;\">     32768</td></tr>\n",
       "<tr><td>MAXIMUM_TEXTURE2D_GATHER_HEIGHT             </td><td style=\"text-align: right;\">     32768</td></tr>\n",
       "<tr><td>MAXIMUM_TEXTURE2D_GATHER_WIDTH              </td><td style=\"text-align: right;\">     32768</td></tr>\n",
       "<tr><td>MAXIMUM_TEXTURE2D_HEIGHT                    </td><td style=\"text-align: right;\">     65536</td></tr>\n",
       "<tr><td>MAXIMUM_TEXTURE2D_LINEAR_HEIGHT             </td><td style=\"text-align: right;\">     65000</td></tr>\n",
       "<tr><td>MAXIMUM_TEXTURE2D_LINEAR_PITCH              </td><td style=\"text-align: right;\">   2097120</td></tr>\n",
       "<tr><td>MAXIMUM_TEXTURE2D_LINEAR_WIDTH              </td><td style=\"text-align: right;\">    131072</td></tr>\n",
       "<tr><td>MAXIMUM_TEXTURE2D_MIPMAPPED_HEIGHT          </td><td style=\"text-align: right;\">     32768</td></tr>\n",
       "<tr><td>MAXIMUM_TEXTURE2D_MIPMAPPED_WIDTH           </td><td style=\"text-align: right;\">     32768</td></tr>\n",
       "<tr><td>MAXIMUM_TEXTURE2D_WIDTH                     </td><td style=\"text-align: right;\">    131072</td></tr>\n",
       "<tr><td>MAXIMUM_TEXTURE3D_DEPTH                     </td><td style=\"text-align: right;\">     16384</td></tr>\n",
       "<tr><td>MAXIMUM_TEXTURE3D_DEPTH_ALTERNATE           </td><td style=\"text-align: right;\">     32768</td></tr>\n",
       "<tr><td>MAXIMUM_TEXTURE3D_HEIGHT                    </td><td style=\"text-align: right;\">     16384</td></tr>\n",
       "<tr><td>MAXIMUM_TEXTURE3D_HEIGHT_ALTERNATE          </td><td style=\"text-align: right;\">      8192</td></tr>\n",
       "<tr><td>MAXIMUM_TEXTURE3D_WIDTH                     </td><td style=\"text-align: right;\">     16384</td></tr>\n",
       "<tr><td>MAXIMUM_TEXTURE3D_WIDTH_ALTERNATE           </td><td style=\"text-align: right;\">      8192</td></tr>\n",
       "<tr><td>MAXIMUM_TEXTURECUBEMAP_LAYERED_LAYERS       </td><td style=\"text-align: right;\">      2046</td></tr>\n",
       "<tr><td>MAXIMUM_TEXTURECUBEMAP_LAYERED_WIDTH        </td><td style=\"text-align: right;\">     32768</td></tr>\n",
       "<tr><td>MAXIMUM_TEXTURECUBEMAP_WIDTH                </td><td style=\"text-align: right;\">     32768</td></tr>\n",
       "<tr><td>MAX_BLOCKS_PER_MULTIPROCESSOR               </td><td style=\"text-align: right;\">        32</td></tr>\n",
       "<tr><td>MAX_BLOCK_DIM_X                             </td><td style=\"text-align: right;\">      1024</td></tr>\n",
       "<tr><td>MAX_BLOCK_DIM_Y                             </td><td style=\"text-align: right;\">      1024</td></tr>\n",
       "<tr><td>MAX_BLOCK_DIM_Z                             </td><td style=\"text-align: right;\">        64</td></tr>\n",
       "<tr><td>MAX_GRID_DIM_X                              </td><td style=\"text-align: right;\">2147483647</td></tr>\n",
       "<tr><td>MAX_GRID_DIM_Y                              </td><td style=\"text-align: right;\">     65535</td></tr>\n",
       "<tr><td>MAX_GRID_DIM_Z                              </td><td style=\"text-align: right;\">     65535</td></tr>\n",
       "<tr><td>MAX_PERSISTING_L2_CACHE_SIZE                </td><td style=\"text-align: right;\">         0</td></tr>\n",
       "<tr><td>MAX_PITCH                                   </td><td style=\"text-align: right;\">2147483647</td></tr>\n",
       "<tr><td>MAX_REGISTERS_PER_BLOCK                     </td><td style=\"text-align: right;\">     65536</td></tr>\n",
       "<tr><td>MAX_REGISTERS_PER_MULTIPROCESSOR            </td><td style=\"text-align: right;\">     65536</td></tr>\n",
       "<tr><td>MAX_SHARED_MEMORY_PER_BLOCK                 </td><td style=\"text-align: right;\">     49152</td></tr>\n",
       "<tr><td>MAX_SHARED_MEMORY_PER_BLOCK_OPTIN           </td><td style=\"text-align: right;\">     49152</td></tr>\n",
       "<tr><td>MAX_SHARED_MEMORY_PER_MULTIPROCESSOR        </td><td style=\"text-align: right;\">     98304</td></tr>\n",
       "<tr><td>MAX_THREADS_PER_BLOCK                       </td><td style=\"text-align: right;\">      1024</td></tr>\n",
       "<tr><td>MAX_THREADS_PER_MULTIPROCESSOR              </td><td style=\"text-align: right;\">      2048</td></tr>\n",
       "<tr><td>MEMORY_CLOCK_RATE                           </td><td style=\"text-align: right;\">   3615000</td></tr>\n",
       "<tr><td>MEMORY_POOLS_SUPPORTED                      </td><td style=\"text-align: right;\">         1</td></tr>\n",
       "<tr><td>MULTIPROCESSOR_COUNT                        </td><td style=\"text-align: right;\">        30</td></tr>\n",
       "<tr><td>MULTI_GPU_BOARD                             </td><td style=\"text-align: right;\">         0</td></tr>\n",
       "<tr><td>MULTI_GPU_BOARD_GROUP_ID                    </td><td style=\"text-align: right;\">         0</td></tr>\n",
       "<tr><td>PAGEABLE_MEMORY_ACCESS                      </td><td style=\"text-align: right;\">         0</td></tr>\n",
       "<tr><td>PAGEABLE_MEMORY_ACCESS_USES_HOST_PAGE_TABLES</td><td style=\"text-align: right;\">         0</td></tr>\n",
       "<tr><td>PCI_BUS_ID                                  </td><td style=\"text-align: right;\">         1</td></tr>\n",
       "<tr><td>PCI_DEVICE_ID                               </td><td style=\"text-align: right;\">         0</td></tr>\n",
       "<tr><td>PCI_DOMAIN_ID                               </td><td style=\"text-align: right;\">         0</td></tr>\n",
       "<tr><td>READ_ONLY_HOST_REGISTER_SUPPORTED           </td><td style=\"text-align: right;\">         1</td></tr>\n",
       "<tr><td>RESERVED_SHARED_MEMORY_PER_BLOCK            </td><td style=\"text-align: right;\">         0</td></tr>\n",
       "<tr><td>SINGLE_TO_DOUBLE_PRECISION_PERF_RATIO       </td><td style=\"text-align: right;\">        32</td></tr>\n",
       "<tr><td>STREAM_PRIORITIES_SUPPORTED                 </td><td style=\"text-align: right;\">         1</td></tr>\n",
       "<tr><td>SURFACE_ALIGNMENT                           </td><td style=\"text-align: right;\">       512</td></tr>\n",
       "<tr><td>TCC_DRIVER                                  </td><td style=\"text-align: right;\">         0</td></tr>\n",
       "<tr><td>TEXTURE_ALIGNMENT                           </td><td style=\"text-align: right;\">       512</td></tr>\n",
       "<tr><td>TEXTURE_PITCH_ALIGNMENT                     </td><td style=\"text-align: right;\">        32</td></tr>\n",
       "<tr><td>TOTAL_CONSTANT_MEMORY                       </td><td style=\"text-align: right;\">     65536</td></tr>\n",
       "<tr><td>UNIFIED_ADDRESSING                          </td><td style=\"text-align: right;\">         1</td></tr>\n",
       "<tr><td>WARP_SIZE                                   </td><td style=\"text-align: right;\">        32</td></tr>\n",
       "</tbody>\n",
       "</table>"
      ],
      "text/plain": [
       "'<table>\\n<tbody>\\n<tr><td>ASYNC_ENGINE_COUNT                          </td><td style=\"text-align: right;\">         2</td></tr>\\n<tr><td>CAN_MAP_HOST_MEMORY                         </td><td style=\"text-align: right;\">         1</td></tr>\\n<tr><td>CAN_USE_HOST_POINTER_FOR_REGISTERED_MEM     </td><td style=\"text-align: right;\">         1</td></tr>\\n<tr><td>CLOCK_RATE                                  </td><td style=\"text-align: right;\">   1531000</td></tr>\\n<tr><td>COMPUTE_CAPABILITY_MAJOR                    </td><td style=\"text-align: right;\">         6</td></tr>\\n<tr><td>COMPUTE_CAPABILITY_MINOR                    </td><td style=\"text-align: right;\">         1</td></tr>\\n<tr><td>COMPUTE_MODE                                </td><td style=\"text-align: right;\">         0</td></tr>\\n<tr><td>COMPUTE_PREEMPTION_SUPPORTED                </td><td style=\"text-align: right;\">         1</td></tr>\\n<tr><td>CONCURRENT_KERNELS                          </td><td style=\"text-align: right;\">         1</td></tr>\\n<tr><td>CONCURRENT_MANAGED_ACCESS                   </td><td style=\"text-align: right;\">         1</td></tr>\\n<tr><td>DIRECT_MANAGED_MEM_ACCESS_FROM_HOST         </td><td style=\"text-align: right;\">         0</td></tr>\\n<tr><td>ECC_ENABLED                                 </td><td style=\"text-align: right;\">         0</td></tr>\\n<tr><td>GENERIC_COMPRESSION_SUPPORTED               </td><td style=\"text-align: right;\">         0</td></tr>\\n<tr><td>GLOBAL_L1_CACHE_SUPPORTED                   </td><td style=\"text-align: right;\">         1</td></tr>\\n<tr><td>GLOBAL_MEMORY_BUS_WIDTH                     </td><td style=\"text-align: right;\">       384</td></tr>\\n<tr><td>GPU_OVERLAP                                 </td><td style=\"text-align: right;\">         1</td></tr>\\n<tr><td>HANDLE_TYPE_POSIX_FILE_DESCRIPTOR_SUPPORTED </td><td style=\"text-align: right;\">         1</td></tr>\\n<tr><td>HANDLE_TYPE_WIN32_HANDLE_SUPPORTED          </td><td style=\"text-align: right;\">         0</td></tr>\\n<tr><td>HANDLE_TYPE_WIN32_KMT_HANDLE_SUPPORTED      </td><td style=\"text-align: right;\">         0</td></tr>\\n<tr><td>HOST_NATIVE_ATOMIC_SUPPORTED                </td><td style=\"text-align: right;\">         0</td></tr>\\n<tr><td>INTEGRATED                                  </td><td style=\"text-align: right;\">         0</td></tr>\\n<tr><td>KERNEL_EXEC_TIMEOUT                         </td><td style=\"text-align: right;\">         1</td></tr>\\n<tr><td>L2_CACHE_SIZE                               </td><td style=\"text-align: right;\">   3145728</td></tr>\\n<tr><td>LOCAL_L1_CACHE_SUPPORTED                    </td><td style=\"text-align: right;\">         1</td></tr>\\n<tr><td>MANAGED_MEMORY                              </td><td style=\"text-align: right;\">         1</td></tr>\\n<tr><td>MAXIMUM_SURFACE1D_LAYERED_LAYERS            </td><td style=\"text-align: right;\">      2048</td></tr>\\n<tr><td>MAXIMUM_SURFACE1D_LAYERED_WIDTH             </td><td style=\"text-align: right;\">     32768</td></tr>\\n<tr><td>MAXIMUM_SURFACE1D_WIDTH                     </td><td style=\"text-align: right;\">     32768</td></tr>\\n<tr><td>MAXIMUM_SURFACE2D_HEIGHT                    </td><td style=\"text-align: right;\">     65536</td></tr>\\n<tr><td>MAXIMUM_SURFACE2D_LAYERED_HEIGHT            </td><td style=\"text-align: right;\">     32768</td></tr>\\n<tr><td>MAXIMUM_SURFACE2D_LAYERED_LAYERS            </td><td style=\"text-align: right;\">      2048</td></tr>\\n<tr><td>MAXIMUM_SURFACE2D_LAYERED_WIDTH             </td><td style=\"text-align: right;\">     32768</td></tr>\\n<tr><td>MAXIMUM_SURFACE2D_WIDTH                     </td><td style=\"text-align: right;\">    131072</td></tr>\\n<tr><td>MAXIMUM_SURFACE3D_DEPTH                     </td><td style=\"text-align: right;\">     16384</td></tr>\\n<tr><td>MAXIMUM_SURFACE3D_HEIGHT                    </td><td style=\"text-align: right;\">     16384</td></tr>\\n<tr><td>MAXIMUM_SURFACE3D_WIDTH                     </td><td style=\"text-align: right;\">     16384</td></tr>\\n<tr><td>MAXIMUM_SURFACECUBEMAP_LAYERED_LAYERS       </td><td style=\"text-align: right;\">      2046</td></tr>\\n<tr><td>MAXIMUM_SURFACECUBEMAP_LAYERED_WIDTH        </td><td style=\"text-align: right;\">     32768</td></tr>\\n<tr><td>MAXIMUM_SURFACECUBEMAP_WIDTH                </td><td style=\"text-align: right;\">     32768</td></tr>\\n<tr><td>MAXIMUM_TEXTURE1D_LAYERED_LAYERS            </td><td style=\"text-align: right;\">      2048</td></tr>\\n<tr><td>MAXIMUM_TEXTURE1D_LAYERED_WIDTH             </td><td style=\"text-align: right;\">     32768</td></tr>\\n<tr><td>MAXIMUM_TEXTURE1D_LINEAR_WIDTH              </td><td style=\"text-align: right;\"> 268435456</td></tr>\\n<tr><td>MAXIMUM_TEXTURE1D_MIPMAPPED_WIDTH           </td><td style=\"text-align: right;\">     16384</td></tr>\\n<tr><td>MAXIMUM_TEXTURE1D_WIDTH                     </td><td style=\"text-align: right;\">    131072</td></tr>\\n<tr><td>MAXIMUM_TEXTURE2D_ARRAY_HEIGHT              </td><td style=\"text-align: right;\">     32768</td></tr>\\n<tr><td>MAXIMUM_TEXTURE2D_ARRAY_NUMSLICES           </td><td style=\"text-align: right;\">      2048</td></tr>\\n<tr><td>MAXIMUM_TEXTURE2D_ARRAY_WIDTH               </td><td style=\"text-align: right;\">     32768</td></tr>\\n<tr><td>MAXIMUM_TEXTURE2D_GATHER_HEIGHT             </td><td style=\"text-align: right;\">     32768</td></tr>\\n<tr><td>MAXIMUM_TEXTURE2D_GATHER_WIDTH              </td><td style=\"text-align: right;\">     32768</td></tr>\\n<tr><td>MAXIMUM_TEXTURE2D_HEIGHT                    </td><td style=\"text-align: right;\">     65536</td></tr>\\n<tr><td>MAXIMUM_TEXTURE2D_LINEAR_HEIGHT             </td><td style=\"text-align: right;\">     65000</td></tr>\\n<tr><td>MAXIMUM_TEXTURE2D_LINEAR_PITCH              </td><td style=\"text-align: right;\">   2097120</td></tr>\\n<tr><td>MAXIMUM_TEXTURE2D_LINEAR_WIDTH              </td><td style=\"text-align: right;\">    131072</td></tr>\\n<tr><td>MAXIMUM_TEXTURE2D_MIPMAPPED_HEIGHT          </td><td style=\"text-align: right;\">     32768</td></tr>\\n<tr><td>MAXIMUM_TEXTURE2D_MIPMAPPED_WIDTH           </td><td style=\"text-align: right;\">     32768</td></tr>\\n<tr><td>MAXIMUM_TEXTURE2D_WIDTH                     </td><td style=\"text-align: right;\">    131072</td></tr>\\n<tr><td>MAXIMUM_TEXTURE3D_DEPTH                     </td><td style=\"text-align: right;\">     16384</td></tr>\\n<tr><td>MAXIMUM_TEXTURE3D_DEPTH_ALTERNATE           </td><td style=\"text-align: right;\">     32768</td></tr>\\n<tr><td>MAXIMUM_TEXTURE3D_HEIGHT                    </td><td style=\"text-align: right;\">     16384</td></tr>\\n<tr><td>MAXIMUM_TEXTURE3D_HEIGHT_ALTERNATE          </td><td style=\"text-align: right;\">      8192</td></tr>\\n<tr><td>MAXIMUM_TEXTURE3D_WIDTH                     </td><td style=\"text-align: right;\">     16384</td></tr>\\n<tr><td>MAXIMUM_TEXTURE3D_WIDTH_ALTERNATE           </td><td style=\"text-align: right;\">      8192</td></tr>\\n<tr><td>MAXIMUM_TEXTURECUBEMAP_LAYERED_LAYERS       </td><td style=\"text-align: right;\">      2046</td></tr>\\n<tr><td>MAXIMUM_TEXTURECUBEMAP_LAYERED_WIDTH        </td><td style=\"text-align: right;\">     32768</td></tr>\\n<tr><td>MAXIMUM_TEXTURECUBEMAP_WIDTH                </td><td style=\"text-align: right;\">     32768</td></tr>\\n<tr><td>MAX_BLOCKS_PER_MULTIPROCESSOR               </td><td style=\"text-align: right;\">        32</td></tr>\\n<tr><td>MAX_BLOCK_DIM_X                             </td><td style=\"text-align: right;\">      1024</td></tr>\\n<tr><td>MAX_BLOCK_DIM_Y                             </td><td style=\"text-align: right;\">      1024</td></tr>\\n<tr><td>MAX_BLOCK_DIM_Z                             </td><td style=\"text-align: right;\">        64</td></tr>\\n<tr><td>MAX_GRID_DIM_X                              </td><td style=\"text-align: right;\">2147483647</td></tr>\\n<tr><td>MAX_GRID_DIM_Y                              </td><td style=\"text-align: right;\">     65535</td></tr>\\n<tr><td>MAX_GRID_DIM_Z                              </td><td style=\"text-align: right;\">     65535</td></tr>\\n<tr><td>MAX_PERSISTING_L2_CACHE_SIZE                </td><td style=\"text-align: right;\">         0</td></tr>\\n<tr><td>MAX_PITCH                                   </td><td style=\"text-align: right;\">2147483647</td></tr>\\n<tr><td>MAX_REGISTERS_PER_BLOCK                     </td><td style=\"text-align: right;\">     65536</td></tr>\\n<tr><td>MAX_REGISTERS_PER_MULTIPROCESSOR            </td><td style=\"text-align: right;\">     65536</td></tr>\\n<tr><td>MAX_SHARED_MEMORY_PER_BLOCK                 </td><td style=\"text-align: right;\">     49152</td></tr>\\n<tr><td>MAX_SHARED_MEMORY_PER_BLOCK_OPTIN           </td><td style=\"text-align: right;\">     49152</td></tr>\\n<tr><td>MAX_SHARED_MEMORY_PER_MULTIPROCESSOR        </td><td style=\"text-align: right;\">     98304</td></tr>\\n<tr><td>MAX_THREADS_PER_BLOCK                       </td><td style=\"text-align: right;\">      1024</td></tr>\\n<tr><td>MAX_THREADS_PER_MULTIPROCESSOR              </td><td style=\"text-align: right;\">      2048</td></tr>\\n<tr><td>MEMORY_CLOCK_RATE                           </td><td style=\"text-align: right;\">   3615000</td></tr>\\n<tr><td>MEMORY_POOLS_SUPPORTED                      </td><td style=\"text-align: right;\">         1</td></tr>\\n<tr><td>MULTIPROCESSOR_COUNT                        </td><td style=\"text-align: right;\">        30</td></tr>\\n<tr><td>MULTI_GPU_BOARD                             </td><td style=\"text-align: right;\">         0</td></tr>\\n<tr><td>MULTI_GPU_BOARD_GROUP_ID                    </td><td style=\"text-align: right;\">         0</td></tr>\\n<tr><td>PAGEABLE_MEMORY_ACCESS                      </td><td style=\"text-align: right;\">         0</td></tr>\\n<tr><td>PAGEABLE_MEMORY_ACCESS_USES_HOST_PAGE_TABLES</td><td style=\"text-align: right;\">         0</td></tr>\\n<tr><td>PCI_BUS_ID                                  </td><td style=\"text-align: right;\">         1</td></tr>\\n<tr><td>PCI_DEVICE_ID                               </td><td style=\"text-align: right;\">         0</td></tr>\\n<tr><td>PCI_DOMAIN_ID                               </td><td style=\"text-align: right;\">         0</td></tr>\\n<tr><td>READ_ONLY_HOST_REGISTER_SUPPORTED           </td><td style=\"text-align: right;\">         1</td></tr>\\n<tr><td>RESERVED_SHARED_MEMORY_PER_BLOCK            </td><td style=\"text-align: right;\">         0</td></tr>\\n<tr><td>SINGLE_TO_DOUBLE_PRECISION_PERF_RATIO       </td><td style=\"text-align: right;\">        32</td></tr>\\n<tr><td>STREAM_PRIORITIES_SUPPORTED                 </td><td style=\"text-align: right;\">         1</td></tr>\\n<tr><td>SURFACE_ALIGNMENT                           </td><td style=\"text-align: right;\">       512</td></tr>\\n<tr><td>TCC_DRIVER                                  </td><td style=\"text-align: right;\">         0</td></tr>\\n<tr><td>TEXTURE_ALIGNMENT                           </td><td style=\"text-align: right;\">       512</td></tr>\\n<tr><td>TEXTURE_PITCH_ALIGNMENT                     </td><td style=\"text-align: right;\">        32</td></tr>\\n<tr><td>TOTAL_CONSTANT_MEMORY                       </td><td style=\"text-align: right;\">     65536</td></tr>\\n<tr><td>UNIFIED_ADDRESSING                          </td><td style=\"text-align: right;\">         1</td></tr>\\n<tr><td>WARP_SIZE                                   </td><td style=\"text-align: right;\">        32</td></tr>\\n</tbody>\\n</table>'"
      ]
     },
     "execution_count": 8,
     "metadata": {},
     "output_type": "execute_result"
    }
   ],
   "source": [
    "from tabulate import tabulate \n",
    "\n",
    "attrs = device.get_attributes()\n",
    "tabulate( [ [str(k),int(v)] for k,v in attrs.items() ],tablefmt='html', )"
   ]
  },
  {
   "cell_type": "code",
   "execution_count": 6,
   "metadata": {},
   "outputs": [
    {
     "name": "stdout",
     "output_type": "stream",
     "text": [
      "NVIDIA GeForce GTX 1060 6GB\n",
      "  CUDA COMPUTE CAPABILITY: 6.1\n"
     ]
    }
   ],
   "source": [
    "print(\n",
    "    '%s\\n  CUDA COMPUTE CAPABILITY: %i.%i'%(\n",
    "    device.name(),\n",
    "    attrs[pycuda._driver.device_attribute.COMPUTE_CAPABILITY_MAJOR],\n",
    "    attrs[pycuda._driver.device_attribute.COMPUTE_CAPABILITY_MINOR]\n",
    "    )\n",
    ")"
   ]
  },
  {
   "cell_type": "markdown",
   "metadata": {},
   "source": [
    "----"
   ]
  },
  {
   "cell_type": "code",
   "execution_count": 7,
   "metadata": {},
   "outputs": [],
   "source": [
    "import numpy as np\n",
    "from pycuda.compiler import SourceModule"
   ]
  },
  {
   "cell_type": "code",
   "execution_count": 8,
   "metadata": {},
   "outputs": [],
   "source": [
    "mod = SourceModule('''\n",
    "__global__ void multiply_them(float *dest, float *a, float *b)\n",
    "{\n",
    "  const int i = threadIdx.x;\n",
    "  dest[i] = a[i] * b[i];\n",
    "}\n",
    "''')\n",
    "\n",
    "multiply_them = mod.get_function('multiply_them')"
   ]
  },
  {
   "cell_type": "code",
   "execution_count": 9,
   "metadata": {},
   "outputs": [],
   "source": [
    "n = 1024 # MAX_THREADS_PER_BLOCK: 1024\n",
    "\n",
    "a = np.random.randn(n).astype(np.float32)\n",
    "b = np.random.randn(n).astype(np.float32)\n",
    "z = np.zeros(n, dtype=np.float32)\n",
    "\n",
    "multiply_them( cuda.Out(z), cuda.In(a), cuda.In(b), block=(n,1,1), grid=(1,1))"
   ]
  },
  {
   "cell_type": "code",
   "execution_count": 10,
   "metadata": {},
   "outputs": [],
   "source": [
    "assert (z == a*b).all()"
   ]
  },
  {
   "cell_type": "code",
   "execution_count": 11,
   "metadata": {},
   "outputs": [
    {
     "data": {
      "text/plain": [
       "array([ 2.1113584 , -0.40109885,  0.05108616, ..., -0.12756826,\n",
       "        3.0181897 , -0.92047447], dtype=float32)"
      ]
     },
     "execution_count": 11,
     "metadata": {},
     "output_type": "execute_result"
    }
   ],
   "source": [
    "z"
   ]
  }
 ],
 "metadata": {
  "kernelspec": {
   "display_name": "Python 3 (ipykernel)",
   "language": "python",
   "name": "python3"
  },
  "language_info": {
   "codemirror_mode": {
    "name": "ipython",
    "version": 3
   },
   "file_extension": ".py",
   "mimetype": "text/x-python",
   "name": "python",
   "nbconvert_exporter": "python",
   "pygments_lexer": "ipython3",
   "version": "3.11.8"
  },
  "toc": {
   "base_numbering": 1,
   "nav_menu": {},
   "number_sections": true,
   "sideBar": true,
   "skip_h1_title": false,
   "title_cell": "Table of Contents",
   "title_sidebar": "Contents",
   "toc_cell": false,
   "toc_position": {},
   "toc_section_display": "block",
   "toc_window_display": false
  },
  "varInspector": {
   "cols": {
    "lenName": 16,
    "lenType": 16,
    "lenVar": 40
   },
   "kernels_config": {
    "python": {
     "delete_cmd_postfix": "",
     "delete_cmd_prefix": "del ",
     "library": "var_list.py",
     "varRefreshCmd": "print(var_dic_list())"
    },
    "r": {
     "delete_cmd_postfix": ") ",
     "delete_cmd_prefix": "rm(",
     "library": "var_list.r",
     "varRefreshCmd": "cat(var_dic_list()) "
    }
   },
   "types_to_exclude": [
    "module",
    "function",
    "builtin_function_or_method",
    "instance",
    "_Feature"
   ],
   "window_display": false
  }
 },
 "nbformat": 4,
 "nbformat_minor": 2
}
