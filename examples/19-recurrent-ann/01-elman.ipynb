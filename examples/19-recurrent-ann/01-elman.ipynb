{
 "cells": [
  {
   "cell_type": "markdown",
   "metadata": {},
   "source": [
    "**рекуррентная нейронная сеть Элмана**\n",
    "\n",
    "Евгений Борисов <esborisov@sevsu.ru>\n",
    "\n",
    "\n",
    "построим простую языковая модель и\n",
    "обучим её предсказывать последнюю букву в слове\n"
   ]
  },
  {
   "cell_type": "markdown",
   "metadata": {},
   "source": [
    "----"
   ]
  },
  {
   "cell_type": "markdown",
   "metadata": {},
   "source": [
    "Евгений Борисов  О рекуррентных нейронных сетях.    \n",
    "http://mechanoid.su/neural-net-rnn.html"
   ]
  },
  {
   "cell_type": "markdown",
   "metadata": {},
   "source": [
    "Jeffrey L. Elman Finding Structure in Time // COGNITIVE SCIENCE 14, 179-211 (1990)"
   ]
  },
  {
   "cell_type": "markdown",
   "metadata": {},
   "source": [
    "---"
   ]
  },
  {
   "cell_type": "code",
   "execution_count": 1,
   "metadata": {},
   "outputs": [],
   "source": [
    "# загружаем тексты\n",
    "import gzip\n",
    "import requests\n",
    "from bs4 import BeautifulSoup"
   ]
  },
  {
   "cell_type": "code",
   "execution_count": 2,
   "metadata": {},
   "outputs": [
    {
     "name": "stdout",
     "output_type": "stream",
     "text": [
      "символов:1279540\n",
      "---------------\n",
      "\n",
      "Приступая к описанию недавних и столь странных событий, происшедших в нашем, доселе ничем не отличавшемся городе, я принужден, по неумению моему, начать несколько издалека, а именно некоторыми биографическими подробностями о талантливом и многочтимом Степане Трофимовиче Верховенском. Пусть эти подробности послужат лишь введением к предлагаемой хронике, \n"
     ]
    }
   ],
   "source": [
    "url='http://az.lib.ru/d/dostoewskij_f_m/text_0080.shtml'\n",
    "text = BeautifulSoup(requests.get(url).text).get_text()\n",
    "with gzip.open('dostoewskij.txt.gz','wt') as f: f.write(text)\n",
    "\n",
    "# with gzip.open('dostoewskij.txt.gz','rt') as f: text = f.read()\n",
    "\n",
    "text = text[2876:-664184].strip() # выкидываем заголовок и хвост страницы \n",
    "print(f'символов:{len(text)}\\n---------------\\n'%())\n",
    "print(text[:355])"
   ]
  },
  {
   "cell_type": "markdown",
   "metadata": {},
   "source": [
    "----"
   ]
  },
  {
   "cell_type": "code",
   "execution_count": 3,
   "metadata": {},
   "outputs": [],
   "source": [
    "import numpy as np\n",
    "from numpy import random as rng\n",
    "from matplotlib import pyplot as plt"
   ]
  },
  {
   "cell_type": "code",
   "execution_count": 4,
   "metadata": {},
   "outputs": [],
   "source": [
    "from random import sample\n",
    "from tqdm.auto import tqdm\n",
    "from itertools import chain"
   ]
  },
  {
   "cell_type": "code",
   "execution_count": 5,
   "metadata": {},
   "outputs": [
    {
     "name": "stdout",
     "output_type": "stream",
     "text": [
      "nltk version: 3.8.1\n"
     ]
    }
   ],
   "source": [
    "from nltk import __version__ as nltk_version\n",
    "print('nltk version:',nltk_version)\n",
    "\n",
    "from nltk.tokenize import sent_tokenize as nltk_sentence_split\n",
    "from nltk.tokenize import word_tokenize as nltk_tokenize_word\n",
    "from nltk.util import ngrams"
   ]
  },
  {
   "cell_type": "code",
   "execution_count": 6,
   "metadata": {},
   "outputs": [],
   "source": [
    "class WordsDataset:\n",
    "    \n",
    "    def __init__(self,text,max_words):\n",
    "        assert len(text)>1\n",
    "         # выполняем токенизацию текста \n",
    "        self._words = sample([ \n",
    "                w\n",
    "                for s in tqdm(nltk_sentence_split(text,language='russian')) # режем текст на отдельные предложения\n",
    "                for w in nltk_tokenize_word(s,language='russian') # разбиваем предложения на слова\n",
    "                if len(w)>3 # выкинем короткие слова\n",
    "            ],max_words)\n",
    "        \n",
    "        abc = ['<pad>']+sorted(set(chain(*self._words)))\n",
    "        self._vocabulary = { c:n for n,c in enumerate(abc) }\n",
    "        \n",
    "        self._data = self._one_hot(\n",
    "                np.array(\n",
    "                     self._pad_seq([ self._encode(w) for w in self._words ])\n",
    "                    ,dtype=np.uint32\n",
    "                )\n",
    "            )\n",
    "    \n",
    "    @property\n",
    "    def vocabulary(self): \n",
    "        return self._vocabulary\n",
    "    \n",
    "    @property\n",
    "    def words(self): return self._words\n",
    "     \n",
    "    # заменить в последовательности все токены на их номера в словаре\n",
    "    def _encode(self,w):\n",
    "        return [ self._vocabulary[c] for c in w if (c in self._vocabulary) ]\n",
    "        \n",
    "    def __getitem__(self, idx): # выдать элемент датасета номер idx\n",
    "        return ( self._data[idx,:-1],  self._data[idx,-1] )\n",
    "        \n",
    "    def _pad_seq(self,s):\n",
    "        max_len = max([ len(w) for w in s])\n",
    "        pad = self._vocabulary['<pad>']\n",
    "        return [ [pad]*(max_len-len(w))+w for w in s ]\n",
    "    \n",
    "    def _one_hot(self,x):\n",
    "        return np.eye( len(self._vocabulary), dtype=np.float32 )[x]\n",
    "\n",
    "    # размер датасета\n",
    "    def __len__(self): \n",
    "        return len(self._data)        "
   ]
  },
  {
   "cell_type": "code",
   "execution_count": 7,
   "metadata": {},
   "outputs": [
    {
     "data": {
      "application/vnd.jupyter.widget-view+json": {
       "model_id": "db1ee8136ec54ef4938837653cbae98f",
       "version_major": 2,
       "version_minor": 0
      },
      "text/plain": [
       "  0%|          | 0/14424 [00:00<?, ?it/s]"
      ]
     },
     "metadata": {},
     "output_type": "display_data"
    },
    {
     "data": {
      "text/plain": [
       "32"
      ]
     },
     "metadata": {},
     "output_type": "display_data"
    },
    {
     "data": {
      "text/plain": [
       "34"
      ]
     },
     "metadata": {},
     "output_type": "display_data"
    }
   ],
   "source": [
    "ds = WordsDataset(text,32)\n",
    "display(len(ds) )\n",
    "display(len(ds.vocabulary))\n",
    "# display(ds.words)"
   ]
  },
  {
   "cell_type": "code",
   "execution_count": 8,
   "metadata": {},
   "outputs": [
    {
     "data": {
      "text/plain": [
       "((2, 12, 34), (2, 34))"
      ]
     },
     "metadata": {},
     "output_type": "display_data"
    }
   ],
   "source": [
    "x,t = ds[:2]\n",
    "display((x.shape,t.shape))"
   ]
  },
  {
   "cell_type": "code",
   "execution_count": 9,
   "metadata": {},
   "outputs": [
    {
     "data": {
      "text/plain": [
       "['выражение',\n",
       " 'Надо',\n",
       " 'было',\n",
       " 'сударыня',\n",
       " 'своего',\n",
       " 'устала',\n",
       " 'дикая',\n",
       " 'глаза',\n",
       " 'Итак',\n",
       " 'жизнь',\n",
       " 'доволен',\n",
       " 'невероятными',\n",
       " 'Степана',\n",
       " 'жить',\n",
       " 'значения',\n",
       " 'полевая',\n",
       " 'глядели',\n",
       " 'деле',\n",
       " 'бешенство',\n",
       " 'успешно',\n",
       " 'Лиза',\n",
       " 'Марье',\n",
       " 'знавший',\n",
       " 'почему',\n",
       " 'которую',\n",
       " 'Кажется',\n",
       " 'графа',\n",
       " 'ругательством',\n",
       " 'поправил',\n",
       " 'ожидаемой',\n",
       " 'себя',\n",
       " 'лакейскую']"
      ]
     },
     "metadata": {},
     "output_type": "display_data"
    }
   ],
   "source": [
    "display(ds.words)"
   ]
  },
  {
   "cell_type": "markdown",
   "metadata": {},
   "source": [
    "# строим модель"
   ]
  },
  {
   "cell_type": "code",
   "execution_count": 10,
   "metadata": {},
   "outputs": [],
   "source": [
    "from numpy import random as rng"
   ]
  },
  {
   "cell_type": "code",
   "execution_count": 11,
   "metadata": {},
   "outputs": [],
   "source": [
    "class Sigmoid: # функция активации\n",
    "    \n",
    "    def forward(self,x): \n",
    "        return np.tanh(x)\n",
    "\n",
    "    def backward(self,x): # производная активации\n",
    "        return 1./(np.cosh(x)**2)\n",
    "    \n",
    "    def __call__(self,x):\n",
    "        return self.forward(x)"
   ]
  },
  {
   "cell_type": "code",
   "execution_count": 12,
   "metadata": {},
   "outputs": [
    {
     "data": {
      "text/plain": [
       "Text(0.5, 1.0, 'd sigmoid')"
      ]
     },
     "execution_count": 12,
     "metadata": {},
     "output_type": "execute_result"
    },
    {
     "data": {
      "image/png": "[encoded data removed]",
      "text/plain": [
       "<Figure size 700x200 with 2 Axes>"
      ]
     },
     "metadata": {},
     "output_type": "display_data"
    }
   ],
   "source": [
    "f = Sigmoid()\n",
    "x = np.linspace(-3,3,30)\n",
    "fig,ax = plt.subplots(ncols=2,figsize=(7,2))\n",
    "ax[0].plot(x,f(x),'-r')\n",
    "ax[0].grid()\n",
    "ax[0].set_title('sigmoid' )\n",
    "ax[1].plot(x,f.backward(x),'-g')\n",
    "ax[1].grid()\n",
    "ax[1].set_title('d sigmoid' )"
   ]
  },
  {
   "cell_type": "code",
   "execution_count": 13,
   "metadata": {},
   "outputs": [],
   "source": [
    "class Linear:\n",
    "    \n",
    "    def __init__(self,in_size,out_size):\n",
    "        self._weight = rng.normal(loc=0.,scale=1e-5,size=(in_size,out_size))\n",
    "        self._bias = np.zeros(shape=(1,out_size))\n",
    "        \n",
    "    def forward(self,x):\n",
    "        assert len(x)>0\n",
    "        assert x.shape[-1]==self._weight.shape[0]\n",
    "        return x.dot(self._weight)+self._bias\n",
    "\n",
    "    def forward_train(self,x):\n",
    "        return self.forward(x)\n",
    "    \n",
    "    def backward(self,d):\n",
    "        return d.dot(self._weight.T)\n",
    "    \n",
    "    def gradient(self,x,d):\n",
    "        return x.T.dot(d), d.sum(axis=0,keepdims=True) \n",
    "    \n",
    "    def __call__(self,x):\n",
    "        return self.forward(x)\n",
    "    \n",
    "    @property\n",
    "    def weight(self):\n",
    "        return self._weight, self._bias\n",
    "\n",
    "    @weight.setter\n",
    "    def weight(self,w):\n",
    "        self._weight=w[0] \n",
    "        self._bias=w[1]\n",
    "        return self"
   ]
  },
  {
   "cell_type": "code",
   "execution_count": 14,
   "metadata": {},
   "outputs": [],
   "source": [
    "# in_size,out_size = 7,5\n",
    "\n",
    "# model = Linear(in_size,out_size)\n",
    "# x = rng.rand(2,in_size)\n",
    "# t = rng.rand(2,out_size)\n",
    "\n",
    "# display(x.shape)\n",
    "\n",
    "# o = model(x)\n",
    "# display(o.shape)\n",
    "\n",
    "# o = model.forward_train(x)\n",
    "# display(o.shape)\n",
    "\n",
    "# d = model.backward(t-o)\n",
    "# display(d.shape)\n",
    "\n",
    "# dw,db = model.gradient(x,t)\n",
    "# display((dw.shape,db.shape))"
   ]
  },
  {
   "cell_type": "code",
   "execution_count": 15,
   "metadata": {},
   "outputs": [],
   "source": [
    "class RNN:\n",
    "    \n",
    "    def __init__(self,in_size,hidden_size):\n",
    "        self._weight_in = rng.normal(loc=0.,scale=1e-5,size=(in_size,hidden_size))\n",
    "        self._weight_hidden = rng.normal(loc=0.,scale=1e-5,size=(hidden_size,hidden_size))\n",
    "        self._bias = np.zeros(shape=(1,hidden_size))\n",
    "        self._hidden = np.zeros(shape=(1,hidden_size)) # np.array(0.)\n",
    "        self._activation = Sigmoid()\n",
    "        \n",
    "    def forward(self,x,h=None):\n",
    "        assert len(x)>0\n",
    "        assert x.shape[-1]==self._weight_in.shape[0]\n",
    "        n_samples, seq_len, emb_size = x.shape\n",
    "        \n",
    "        _,hidden_size = self._hidden.shape\n",
    "        self._hidden = h if not (h is None) else np.zeros(shape=(1,hidden_size))\n",
    "        for i in range(seq_len): \n",
    "            o = self._activation(self._forward_step(x[:,i,:]))\n",
    "        return self._hidden, o\n",
    "    \n",
    "    def _forward_step(self,x):\n",
    "        assert len(x)>0\n",
    "        assert x.shape[-1]==self._weight_in.shape[0]\n",
    "        self._hidden = x.dot(self._weight_in) + self._hidden.dot(self._weight_hidden) + self._bias\n",
    "        return self._hidden\n",
    "        \n",
    "    def forward_train(self,x,h=None):\n",
    "        assert len(x)>0\n",
    "        assert x.shape[-1]==self._weight_in.shape[0]\n",
    "        n_samples, seq_len, _ = x.shape\n",
    "        hidden,out = [],[]\n",
    "        \n",
    "        _,hidden_size = self._hidden.shape\n",
    "        self._hidden = h if not (h is None) else np.zeros(shape=(1,hidden_size))\n",
    "        for i in range(seq_len): \n",
    "            hidden.append( self._forward_step(x[:,i,:]) )\n",
    "            out.append( self._activation( hidden[-1] ) )\n",
    "        return hidden, out\n",
    "    \n",
    "    def backward(self,d,state):\n",
    "        seq_len = len(state)\n",
    "        delta = [d]\n",
    "        for s in state[::-1]:\n",
    "            delta.append( delta[-1].dot(self._weight_hidden.T)*self._activation.backward(s) )\n",
    "        return delta[::-1]\n",
    "    \n",
    "    def gradient(self,x,out,delta):\n",
    "        batch_size,seq_len,_ = x.shape\n",
    "        dw,dwr,db = 0.,0.,0.\n",
    "        for i in range(seq_len):\n",
    "            dw  += x[:,i,:].T.dot( delta[i] )\n",
    "            dwr += out[i].T.dot( delta[i] )\n",
    "            db  += delta[i].sum(axis=0,keepdims=True) \n",
    "        return dw,dwr,db   \n",
    "            \n",
    "    def __call__(self,x):\n",
    "        return self.forward(x)\n",
    "    \n",
    "    @property\n",
    "    def weight(self):\n",
    "        return self._weight_in, self._weight_hidden,  self._bias\n",
    "\n",
    "    @weight.setter\n",
    "    def weight(self,w):\n",
    "        self._weight_in=w[0] \n",
    "        self._weight_hidden=w[1] \n",
    "        self._bias=w[2]\n",
    "        return self\n",
    "    \n",
    "    @property\n",
    "    def hidden(self):\n",
    "        return self._hidden"
   ]
  },
  {
   "cell_type": "code",
   "execution_count": 16,
   "metadata": {},
   "outputs": [],
   "source": [
    "# in_size, seq_len, out_size = 7,9,5\n",
    "\n",
    "# model = RNN(in_size,out_size)\n",
    "# x = rng.rand(2,seq_len,in_size)\n",
    "# d = rng.rand(2,out_size)\n",
    "\n",
    "# display(x.shape)\n",
    "\n",
    "# h,o = model.forward(x)\n",
    "# display((h.shape,o.shape))\n",
    "\n",
    "# h,o = model.forward_train(x)\n",
    "# display( (len(h),len(o)) )\n",
    "\n",
    "# d = model.backward(d,h[:-1])\n",
    "# display(len(d))\n",
    "\n",
    "# dw,dwr,db = model.gradient(x,o,d)\n",
    "# display((dw.shape, dwr.shape, db.shape))"
   ]
  },
  {
   "attachments": {
    "image.png": {
     "image/png": "[encoded data removed]"
    }
   },
   "cell_type": "markdown",
   "metadata": {},
   "source": [
    "рекуррентная сеть Элмана \n",
    "\n",
    "![image.png](attachment:image.png)"
   ]
  },
  {
   "cell_type": "code",
   "execution_count": 17,
   "metadata": {},
   "outputs": [],
   "source": [
    "class ElmanRNN:\n",
    "    \n",
    "    def __init__(self,in_size,hidden_size,out_size):\n",
    "        self._activation = Sigmoid()\n",
    "        self._rnn = RNN(in_size,hidden_size)\n",
    "        self._lin = Linear(hidden_size,out_size)\n",
    "                \n",
    "    @property\n",
    "    def weight(self):\n",
    "        return self._rnn.weight, self._lin.weight\n",
    "\n",
    "    @weight.setter\n",
    "    def weight(self,w):\n",
    "        self._rnn.weight=w[0] \n",
    "        self._lin.weight=w[1]\n",
    "        return self\n",
    "    \n",
    "    def forward(self,x):\n",
    "        assert len(x)>0\n",
    "        _,o = self._rnn(x)\n",
    "        o = self._lin(o)\n",
    "        o = self._activation(o)\n",
    "        return o\n",
    "    \n",
    "    def __call__(self,x):\n",
    "        return self.forward(x)\n",
    "    \n",
    "    def forward_train(self,x):\n",
    "        state,out = [x],[]\n",
    "        \n",
    "        h,o = self._rnn.forward_train(x)\n",
    "        state.append(h)\n",
    "        out.append(o)\n",
    "        \n",
    "        s = self._lin.forward_train(o[-1])\n",
    "        o = self._activation(s)\n",
    "        state.append(s)\n",
    "        out.append(o)\n",
    "        \n",
    "        return state, out\n",
    "    \n",
    "    def backward(self,d,state):\n",
    "        delta = [ d*self._activation.backward(state[2]) ]\n",
    "        delta.append( self._lin.backward( delta[-1]  ) * self._activation.backward( state[1][-1]) )\n",
    "        delta.append( self._rnn.backward( delta[-1], state[-2][:-1] ) )\n",
    "        return delta[::-1] \n",
    "    \n",
    "    def gradient(self,x,out,delta):\n",
    "        dw0,dw0r,db0 = self._rnn.gradient(x,out[0],delta[0])\n",
    "        dw1,db1 = self._lin.gradient(out[0][-1],delta[2])    \n",
    "        return [dw0,dw0r,db0],[dw1,db1] \n"
   ]
  },
  {
   "cell_type": "code",
   "execution_count": 18,
   "metadata": {},
   "outputs": [],
   "source": [
    "# x,t = ds[:2]\n",
    "# display( (x.shape,t.shape) )\n",
    "\n",
    "# model = ElmanRNN(in_size=x.shape[-1],hidden_size=16,out_size=x.shape[-1])\n",
    "\n",
    "# o = model.forward(x)\n",
    "# display(o.shape)\n",
    "\n",
    "# s,o = model.forward_train(x)\n",
    "# display( ( (len(s), s[-1].shape), ( len(o), o[1].shape,) ) )\n",
    "\n",
    "# d = model.backward((o[-1]-t),s)\n",
    "# display( ( len(d), d[-1].shape ) )\n",
    "\n",
    "# [dw0,dw0r,db0],[dw1,db1] = model.gradient(x,o,d)\n",
    "# display((dw0.shape, dw0r.shape, db0.shape))\n",
    "# display((dw1.shape, db1.shape))"
   ]
  },
  {
   "cell_type": "markdown",
   "metadata": {},
   "source": [
    "# обучаем модель"
   ]
  },
  {
   "cell_type": "markdown",
   "metadata": {},
   "source": [
    "функция потери средняя квадратичная ошибка\n",
    "$$L=MSQE(y,o)=\\frac{1}{m}\\sum\\limits_{i=0}^m(o_i-y_i)^2$$"
   ]
  },
  {
   "cell_type": "code",
   "execution_count": 19,
   "metadata": {},
   "outputs": [],
   "source": [
    "class MSQELoss:\n",
    "    \n",
    "    def __init__(self,model): \n",
    "        self._model = model\n",
    "        self._history = []\n",
    "                \n",
    "    def estimate(self,x,target):\n",
    "        s = self._estimate( target, self._model(x))\n",
    "        self._history.append(s)\n",
    "        return s\n",
    "        \n",
    "    def _estimate(self,target,predicted):\n",
    "        return np.square(target-predicted).mean()\n",
    "    \n",
    "    def gradient(self,x,target):\n",
    "        s,o = model.forward_train(x) # состояния и выходы всех нейронов сети\n",
    "        d0 = (o[-1]-target) # ошибка выходного слоя\n",
    "        d = model.backward(d0,s) # значение ошибки для всех нейронов скрытых слоёв\n",
    "        return model.gradient(x,o,d) \n",
    "    \n",
    "    def __call__(self,x,target):\n",
    "        return self.estimate(x,target)        \n",
    "    \n",
    "    @property\n",
    "    def model(self): \n",
    "        return self._model"
   ]
  },
  {
   "cell_type": "markdown",
   "metadata": {},
   "source": [
    "----"
   ]
  },
  {
   "cell_type": "code",
   "execution_count": 20,
   "metadata": {},
   "outputs": [],
   "source": [
    "# model = ElmanRNN(in_size=x.shape[-1],hidden_size=16,out_size=x.shape[-1])\n",
    "\n",
    "# x,t = ds[:2]\n",
    "# display( (x.shape,t.shape) )\n",
    "\n",
    "# o = model(x)\n",
    "# display(o.shape)\n",
    "\n",
    "# loss = MSQELoss(model)\n",
    "# display( loss.estimate(x,t) )"
   ]
  },
  {
   "cell_type": "markdown",
   "metadata": {},
   "source": [
    "# обучаем"
   ]
  },
  {
   "cell_type": "code",
   "execution_count": 21,
   "metadata": {},
   "outputs": [],
   "source": [
    "from tqdm.auto import tqdm"
   ]
  },
  {
   "cell_type": "code",
   "execution_count": 22,
   "metadata": {},
   "outputs": [],
   "source": [
    "class TrainGD:\n",
    "    \n",
    "    def __init__(self,loss): \n",
    "        self._loss = loss\n",
    "        \n",
    "    def fit(self,x,t,n_echo=128,lr=1e-2):\n",
    "        history = []\n",
    "        for _ in tqdm(range(n_echo)):\n",
    "            history.append( self._loss.estimate(x,t) )\n",
    "            dw = self._loss.gradient(x,t)\n",
    "            dw = self._weight_norm(dw)\n",
    "            self._loss.model.weight = self._weight_adjust(self._loss.model.weight,dw,lr=lr)    \n",
    "        return history,model \n",
    "    \n",
    "\n",
    "    def _weight_adjust(self,w,dw,lr):\n",
    "        return [ \n",
    "            [ w[l][n] - lr*dw[l][n] for n in range(len(w[l])) ]\n",
    "            for l in range(len(w))\n",
    "        ]\n",
    "    \n",
    "    @staticmethod\n",
    "    def _weight_max(w):\n",
    "        return max([ np.abs(w[l][n]).max() for l in range(len(w)) for n in range(len(w[l])) ])\n",
    "\n",
    "    def _weight_norm(self,w):\n",
    "        wm = self._weight_max(w)\n",
    "        return [ \n",
    "            [  w[l][n]/wm  for n in range(len(w[l])) ]\n",
    "            for l in range(len(w))\n",
    "        ]"
   ]
  },
  {
   "cell_type": "code",
   "execution_count": 23,
   "metadata": {},
   "outputs": [
    {
     "data": {
      "text/plain": [
       "((22, 12, 34), (22, 34))"
      ]
     },
     "metadata": {},
     "output_type": "display_data"
    },
    {
     "data": {
      "text/plain": [
       "((10, 12, 34), (10, 34))"
      ]
     },
     "metadata": {},
     "output_type": "display_data"
    }
   ],
   "source": [
    "random_indices = rng.permutation(len(ds))\n",
    "\n",
    "b = len(ds)//3\n",
    "x_train,t_train = ds[random_indices[b:]]\n",
    "x_test,t_test = ds[random_indices[:b]]\n",
    "\n",
    "display( (x_train.shape,t_train.shape) )\n",
    "\n",
    "display( (x_test.shape,t_test.shape) )"
   ]
  },
  {
   "cell_type": "code",
   "execution_count": 24,
   "metadata": {},
   "outputs": [],
   "source": [
    "model = ElmanRNN(in_size=x_train.shape[-1],hidden_size=16,out_size=t_train.shape[-1])"
   ]
  },
  {
   "cell_type": "code",
   "execution_count": 25,
   "metadata": {},
   "outputs": [
    {
     "data": {
      "application/vnd.jupyter.widget-view+json": {
       "model_id": "3cbb826cfa3f446098f41e948e4f4fe3",
       "version_major": 2,
       "version_minor": 0
      },
      "text/plain": [
       "  0%|          | 0/1024 [00:00<?, ?it/s]"
      ]
     },
     "metadata": {},
     "output_type": "display_data"
    }
   ],
   "source": [
    "loss_history, model = TrainGD(MSQELoss(model)).fit(x_train,t_train,n_echo=1024)"
   ]
  },
  {
   "cell_type": "code",
   "execution_count": 26,
   "metadata": {},
   "outputs": [
    {
     "data": {
      "text/plain": [
       "<matplotlib.legend.Legend at 0x70cdb38f2750>"
      ]
     },
     "execution_count": 26,
     "metadata": {},
     "output_type": "execute_result"
    },
    {
     "data": {
      "image/png": "[encoded data removed]",
      "text/plain": [
       "<Figure size 640x480 with 1 Axes>"
      ]
     },
     "metadata": {},
     "output_type": "display_data"
    }
   ],
   "source": [
    "# история изменения значений ф-ции потери\n",
    "plt.plot(loss_history,label='min loss=%.3f'%(min(loss_history)))\n",
    "plt.grid()\n",
    "plt.legend()"
   ]
  },
  {
   "cell_type": "markdown",
   "metadata": {},
   "source": [
    "## тестируем модель"
   ]
  },
  {
   "cell_type": "code",
   "execution_count": 34,
   "metadata": {},
   "outputs": [],
   "source": [
    "import pandas as pd\n",
    "from sklearn.metrics import accuracy_score"
   ]
  },
  {
   "cell_type": "code",
   "execution_count": 35,
   "metadata": {},
   "outputs": [],
   "source": [
    "def decode(x,vocabulary):\n",
    "    v = { n:w for w,n in  vocabulary.items() }\n",
    "    return [\n",
    "        ''.join([ v[c] for c in s if (c!=vocabulary['<pad>']) ])\n",
    "        for s in np.argmax(x,axis=-1) \n",
    "    ]"
   ]
  },
  {
   "cell_type": "code",
   "execution_count": 38,
   "metadata": {},
   "outputs": [
    {
     "data": {
      "text/plain": [
       "0.9090909090909091"
      ]
     },
     "metadata": {},
     "output_type": "display_data"
    }
   ],
   "source": [
    "p = model(x_train)\n",
    "display( accuracy_score(y_true=np.argmax(t_train,axis=-1), y_pred=np.argmax( p,axis=-1) ) )"
   ]
  },
  {
   "cell_type": "code",
   "execution_count": 39,
   "metadata": {},
   "outputs": [
    {
     "data": {
      "text/html": [
       "<div>\n",
       "<style scoped>\n",
       "    .dataframe tbody tr th:only-of-type {\n",
       "        vertical-align: middle;\n",
       "    }\n",
       "\n",
       "    .dataframe tbody tr th {\n",
       "        vertical-align: top;\n",
       "    }\n",
       "\n",
       "    .dataframe thead th {\n",
       "        text-align: right;\n",
       "    }\n",
       "</style>\n",
       "<table border=\"1\" class=\"dataframe\">\n",
       "  <thead>\n",
       "    <tr style=\"text-align: right;\">\n",
       "      <th></th>\n",
       "      <th>sequence</th>\n",
       "      <th>target</th>\n",
       "      <th>predicted</th>\n",
       "    </tr>\n",
       "  </thead>\n",
       "  <tbody>\n",
       "    <tr>\n",
       "      <th>0</th>\n",
       "      <td>своег</td>\n",
       "      <td>о</td>\n",
       "      <td>о</td>\n",
       "    </tr>\n",
       "    <tr>\n",
       "      <th>1</th>\n",
       "      <td>был</td>\n",
       "      <td>о</td>\n",
       "      <td>о</td>\n",
       "    </tr>\n",
       "    <tr>\n",
       "      <th>2</th>\n",
       "      <td>лакейску</td>\n",
       "      <td>ю</td>\n",
       "      <td>ю</td>\n",
       "    </tr>\n",
       "    <tr>\n",
       "      <th>3</th>\n",
       "      <td>Лиз</td>\n",
       "      <td>а</td>\n",
       "      <td>а</td>\n",
       "    </tr>\n",
       "    <tr>\n",
       "      <th>4</th>\n",
       "      <td>Степан</td>\n",
       "      <td>а</td>\n",
       "      <td>а</td>\n",
       "    </tr>\n",
       "    <tr>\n",
       "      <th>5</th>\n",
       "      <td>Марь</td>\n",
       "      <td>е</td>\n",
       "      <td>е</td>\n",
       "    </tr>\n",
       "    <tr>\n",
       "      <th>6</th>\n",
       "      <td>глядел</td>\n",
       "      <td>и</td>\n",
       "      <td>и</td>\n",
       "    </tr>\n",
       "    <tr>\n",
       "      <th>7</th>\n",
       "      <td>бешенств</td>\n",
       "      <td>о</td>\n",
       "      <td>о</td>\n",
       "    </tr>\n",
       "    <tr>\n",
       "      <th>8</th>\n",
       "      <td>котору</td>\n",
       "      <td>ю</td>\n",
       "      <td>ю</td>\n",
       "    </tr>\n",
       "    <tr>\n",
       "      <th>9</th>\n",
       "      <td>невероятным</td>\n",
       "      <td>и</td>\n",
       "      <td>и</td>\n",
       "    </tr>\n",
       "    <tr>\n",
       "      <th>10</th>\n",
       "      <td>знавши</td>\n",
       "      <td>й</td>\n",
       "      <td>й</td>\n",
       "    </tr>\n",
       "    <tr>\n",
       "      <th>11</th>\n",
       "      <td>дел</td>\n",
       "      <td>е</td>\n",
       "      <td>е</td>\n",
       "    </tr>\n",
       "    <tr>\n",
       "      <th>12</th>\n",
       "      <td>сударын</td>\n",
       "      <td>я</td>\n",
       "      <td>я</td>\n",
       "    </tr>\n",
       "    <tr>\n",
       "      <th>13</th>\n",
       "      <td>успешн</td>\n",
       "      <td>о</td>\n",
       "      <td>о</td>\n",
       "    </tr>\n",
       "    <tr>\n",
       "      <th>14</th>\n",
       "      <td>почем</td>\n",
       "      <td>у</td>\n",
       "      <td>и</td>\n",
       "    </tr>\n",
       "    <tr>\n",
       "      <th>15</th>\n",
       "      <td>полева</td>\n",
       "      <td>я</td>\n",
       "      <td>я</td>\n",
       "    </tr>\n",
       "    <tr>\n",
       "      <th>16</th>\n",
       "      <td>ругательство</td>\n",
       "      <td>м</td>\n",
       "      <td>й</td>\n",
       "    </tr>\n",
       "    <tr>\n",
       "      <th>17</th>\n",
       "      <td>выражени</td>\n",
       "      <td>е</td>\n",
       "      <td>е</td>\n",
       "    </tr>\n",
       "    <tr>\n",
       "      <th>18</th>\n",
       "      <td>себ</td>\n",
       "      <td>я</td>\n",
       "      <td>я</td>\n",
       "    </tr>\n",
       "    <tr>\n",
       "      <th>19</th>\n",
       "      <td>Кажетс</td>\n",
       "      <td>я</td>\n",
       "      <td>я</td>\n",
       "    </tr>\n",
       "    <tr>\n",
       "      <th>20</th>\n",
       "      <td>устал</td>\n",
       "      <td>а</td>\n",
       "      <td>а</td>\n",
       "    </tr>\n",
       "    <tr>\n",
       "      <th>21</th>\n",
       "      <td>ожидаемо</td>\n",
       "      <td>й</td>\n",
       "      <td>й</td>\n",
       "    </tr>\n",
       "  </tbody>\n",
       "</table>\n",
       "</div>"
      ],
      "text/plain": [
       "        sequence target predicted\n",
       "0          своег      о         о\n",
       "1            был      о         о\n",
       "2       лакейску      ю         ю\n",
       "3            Лиз      а         а\n",
       "4         Степан      а         а\n",
       "5           Марь      е         е\n",
       "6         глядел      и         и\n",
       "7       бешенств      о         о\n",
       "8         котору      ю         ю\n",
       "9    невероятным      и         и\n",
       "10        знавши      й         й\n",
       "11           дел      е         е\n",
       "12       сударын      я         я\n",
       "13        успешн      о         о\n",
       "14         почем      у         и\n",
       "15        полева      я         я\n",
       "16  ругательство      м         й\n",
       "17      выражени      е         е\n",
       "18           себ      я         я\n",
       "19        Кажетс      я         я\n",
       "20         устал      а         а\n",
       "21      ожидаемо      й         й"
      ]
     },
     "metadata": {},
     "output_type": "display_data"
    }
   ],
   "source": [
    "# декодируем слова\n",
    "df = pd.DataFrame({\n",
    "         'sequence': decode(x_train,ds.vocabulary),\n",
    "           'target': decode(t_train[:,np.newaxis,:],ds.vocabulary),\n",
    "        'predicted': decode(p[:,np.newaxis,:],ds.vocabulary)\n",
    "    })\n",
    "\n",
    "display(df)"
   ]
  },
  {
   "cell_type": "code",
   "execution_count": 40,
   "metadata": {},
   "outputs": [
    {
     "data": {
      "text/plain": [
       "0.3"
      ]
     },
     "metadata": {},
     "output_type": "display_data"
    }
   ],
   "source": [
    "p = model(x_test)\n",
    "display( accuracy_score(y_true=np.argmax(t_test,axis=-1), y_pred=np.argmax(p,axis=-1)) )"
   ]
  },
  {
   "cell_type": "code",
   "execution_count": 41,
   "metadata": {},
   "outputs": [
    {
     "data": {
      "text/html": [
       "<div>\n",
       "<style scoped>\n",
       "    .dataframe tbody tr th:only-of-type {\n",
       "        vertical-align: middle;\n",
       "    }\n",
       "\n",
       "    .dataframe tbody tr th {\n",
       "        vertical-align: top;\n",
       "    }\n",
       "\n",
       "    .dataframe thead th {\n",
       "        text-align: right;\n",
       "    }\n",
       "</style>\n",
       "<table border=\"1\" class=\"dataframe\">\n",
       "  <thead>\n",
       "    <tr style=\"text-align: right;\">\n",
       "      <th></th>\n",
       "      <th>sequence</th>\n",
       "      <th>target</th>\n",
       "      <th>predicted</th>\n",
       "    </tr>\n",
       "  </thead>\n",
       "  <tbody>\n",
       "    <tr>\n",
       "      <th>0</th>\n",
       "      <td>поправи</td>\n",
       "      <td>л</td>\n",
       "      <td>я</td>\n",
       "    </tr>\n",
       "    <tr>\n",
       "      <th>1</th>\n",
       "      <td>дика</td>\n",
       "      <td>я</td>\n",
       "      <td>я</td>\n",
       "    </tr>\n",
       "    <tr>\n",
       "      <th>2</th>\n",
       "      <td>Ита</td>\n",
       "      <td>к</td>\n",
       "      <td>а</td>\n",
       "    </tr>\n",
       "    <tr>\n",
       "      <th>3</th>\n",
       "      <td>граф</td>\n",
       "      <td>а</td>\n",
       "      <td>а</td>\n",
       "    </tr>\n",
       "    <tr>\n",
       "      <th>4</th>\n",
       "      <td>значени</td>\n",
       "      <td>я</td>\n",
       "      <td>й</td>\n",
       "    </tr>\n",
       "    <tr>\n",
       "      <th>5</th>\n",
       "      <td>глаз</td>\n",
       "      <td>а</td>\n",
       "      <td>а</td>\n",
       "    </tr>\n",
       "    <tr>\n",
       "      <th>6</th>\n",
       "      <td>Над</td>\n",
       "      <td>о</td>\n",
       "      <td>я</td>\n",
       "    </tr>\n",
       "    <tr>\n",
       "      <th>7</th>\n",
       "      <td>жит</td>\n",
       "      <td>ь</td>\n",
       "      <td>е</td>\n",
       "    </tr>\n",
       "    <tr>\n",
       "      <th>8</th>\n",
       "      <td>доволе</td>\n",
       "      <td>н</td>\n",
       "      <td>о</td>\n",
       "    </tr>\n",
       "    <tr>\n",
       "      <th>9</th>\n",
       "      <td>жизн</td>\n",
       "      <td>ь</td>\n",
       "      <td>а</td>\n",
       "    </tr>\n",
       "  </tbody>\n",
       "</table>\n",
       "</div>"
      ],
      "text/plain": [
       "  sequence target predicted\n",
       "0  поправи      л         я\n",
       "1     дика      я         я\n",
       "2      Ита      к         а\n",
       "3     граф      а         а\n",
       "4  значени      я         й\n",
       "5     глаз      а         а\n",
       "6      Над      о         я\n",
       "7      жит      ь         е\n",
       "8   доволе      н         о\n",
       "9     жизн      ь         а"
      ]
     },
     "metadata": {},
     "output_type": "display_data"
    }
   ],
   "source": [
    "# декодируем слова\n",
    "df = pd.DataFrame({\n",
    "         'sequence': decode(x_test,ds.vocabulary),\n",
    "           'target': decode(t_test[:,np.newaxis,:],ds.vocabulary),\n",
    "        'predicted': decode(p[:,np.newaxis,:],ds.vocabulary)\n",
    "    })\n",
    "\n",
    "display(df)"
   ]
  },
  {
   "cell_type": "code",
   "execution_count": null,
   "metadata": {},
   "outputs": [],
   "source": []
  }
 ],
 "metadata": {
  "kernelspec": {
   "display_name": "Python 3 (ipykernel)",
   "language": "python",
   "name": "python3"
  },
  "language_info": {
   "codemirror_mode": {
    "name": "ipython",
    "version": 3
   },
   "file_extension": ".py",
   "mimetype": "text/x-python",
   "name": "python",
   "nbconvert_exporter": "python",
   "pygments_lexer": "ipython3",
   "version": "3.11.7"
  },
  "toc": {
   "base_numbering": 1,
   "nav_menu": {},
   "number_sections": true,
   "sideBar": true,
   "skip_h1_title": false,
   "title_cell": "Table of Contents",
   "title_sidebar": "Contents",
   "toc_cell": false,
   "toc_position": {},
   "toc_section_display": true,
   "toc_window_display": false
  }
 },
 "nbformat": 4,
 "nbformat_minor": 4
}
