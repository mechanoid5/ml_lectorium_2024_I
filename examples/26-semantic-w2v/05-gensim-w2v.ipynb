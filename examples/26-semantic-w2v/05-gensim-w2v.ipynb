{
 "cells": [
  {
   "cell_type": "markdown",
   "id": "d1cad6b4",
   "metadata": {},
   "source": [
    "__Использование Word2Vec__\n",
    "\n",
    "Евгений Борисов <esborisov@sevsu.ru>"
   ]
  },
  {
   "cell_type": "markdown",
   "id": "7a34cfe4",
   "metadata": {},
   "source": [
    "---"
   ]
  },
  {
   "cell_type": "markdown",
   "id": "49c6428f",
   "metadata": {},
   "source": [
    "Полное руководство по библиотеки Gensim для начинающих    \n",
    "https://pythonru.com/biblioteki/gensim\n",
    "\n",
    "\n",
    "Russian Distributional Thesaurus   \n",
    "https://nlpub.ru/Russian_Distributional_Thesaurus\n",
    "\n",
    "Поиск семантически связанных слов   \n",
    "http://serelex.cental.be\n",
    "\n",
    "\n",
    "Jay Alammar Word2vec в картинках. (перевод - Анатолий Ализар)    \n",
    "https://habr.com/ru/articles/446530/"
   ]
  },
  {
   "cell_type": "code",
   "execution_count": null,
   "id": "85cf57dc",
   "metadata": {},
   "outputs": [],
   "source": [
    "# !pip install gensim"
   ]
  },
  {
   "cell_type": "code",
   "execution_count": 1,
   "id": "a89cc656",
   "metadata": {},
   "outputs": [
    {
     "data": {
      "text/plain": [
       "dict_keys(['corpora', 'models'])"
      ]
     },
     "metadata": {},
     "output_type": "display_data"
    }
   ],
   "source": [
    "import gensim.downloader as api\n",
    "\n",
    "api_ = api.info() # список доступных моделей и датасетов\n",
    "display( api_.keys() )"
   ]
  },
  {
   "cell_type": "markdown",
   "id": "416a7252",
   "metadata": {},
   "source": [
    "---"
   ]
  },
  {
   "cell_type": "code",
   "execution_count": 2,
   "id": "03ee6e74",
   "metadata": {},
   "outputs": [
    {
     "data": {
      "text/plain": [
       "['semeval-2016-2017-task3-subtaskBC',\n",
       " 'semeval-2016-2017-task3-subtaskA-unannotated',\n",
       " 'patent-2017',\n",
       " 'quora-duplicate-questions',\n",
       " 'wiki-english-20171001',\n",
       " 'text8',\n",
       " 'fake-news',\n",
       " '20-newsgroups',\n",
       " '__testing_matrix-synopsis',\n",
       " '__testing_multipart-matrix-synopsis']"
      ]
     },
     "metadata": {},
     "output_type": "display_data"
    }
   ],
   "source": [
    "# список датасетов\n",
    "display( list( api_['corpora'].keys() ) )"
   ]
  },
  {
   "cell_type": "code",
   "execution_count": null,
   "id": "70b37b51",
   "metadata": {},
   "outputs": [],
   "source": [
    "# display( api_.info('quora-duplicate-questions') )"
   ]
  },
  {
   "cell_type": "markdown",
   "id": "77253267",
   "metadata": {},
   "source": [
    "----"
   ]
  },
  {
   "cell_type": "code",
   "execution_count": 3,
   "id": "7f1688c2",
   "metadata": {},
   "outputs": [
    {
     "data": {
      "text/plain": [
       "['fasttext-wiki-news-subwords-300',\n",
       " 'conceptnet-numberbatch-17-06-300',\n",
       " 'word2vec-ruscorpora-300',\n",
       " 'word2vec-google-news-300',\n",
       " 'glove-wiki-gigaword-50',\n",
       " 'glove-wiki-gigaword-100',\n",
       " 'glove-wiki-gigaword-200',\n",
       " 'glove-wiki-gigaword-300',\n",
       " 'glove-twitter-25',\n",
       " 'glove-twitter-50',\n",
       " 'glove-twitter-100',\n",
       " 'glove-twitter-200',\n",
       " '__testing_word2vec-matrix-synopsis']"
      ]
     },
     "metadata": {},
     "output_type": "display_data"
    }
   ],
   "source": [
    "# список моделей\n",
    "display( list( api_['models'].keys() ) )"
   ]
  },
  {
   "cell_type": "code",
   "execution_count": 4,
   "id": "decfec54",
   "metadata": {},
   "outputs": [
    {
     "data": {
      "text/plain": [
       "{'num_records': 184973,\n",
       " 'file_size': 208427381,\n",
       " 'base_dataset': 'Russian National Corpus (about 250M words)',\n",
       " 'reader_code': 'https://github.com/RaRe-Technologies/gensim-data/releases/download/word2vec-ruscorpora-300/__init__.py',\n",
       " 'license': 'https://creativecommons.org/licenses/by/4.0/deed.en',\n",
       " 'parameters': {'dimension': 300, 'window_size': 10},\n",
       " 'description': 'Word2vec Continuous Skipgram vectors trained on full Russian National Corpus (about 250M words). The model contains 185K words.',\n",
       " 'preprocessing': 'The corpus was lemmatized and tagged with Universal PoS',\n",
       " 'read_more': ['https://www.academia.edu/24306935/WebVectors_a_Toolkit_for_Building_Web_Interfaces_for_Vector_Semantic_Models',\n",
       "  'http://rusvectores.org/en/',\n",
       "  'https://github.com/RaRe-Technologies/gensim-data/issues/3'],\n",
       " 'checksum': '9bdebdc8ae6d17d20839dd9b5af10bc4',\n",
       " 'file_name': 'word2vec-ruscorpora-300.gz',\n",
       " 'parts': 1}"
      ]
     },
     "metadata": {},
     "output_type": "display_data"
    }
   ],
   "source": [
    "display( api.info('word2vec-ruscorpora-300') )"
   ]
  },
  {
   "cell_type": "code",
   "execution_count": 5,
   "id": "7b3d162b",
   "metadata": {},
   "outputs": [
    {
     "data": {
      "text/plain": [
       "{'num_records': 3000000,\n",
       " 'file_size': 1743563840,\n",
       " 'base_dataset': 'Google News (about 100 billion words)',\n",
       " 'reader_code': 'https://github.com/RaRe-Technologies/gensim-data/releases/download/word2vec-google-news-300/__init__.py',\n",
       " 'license': 'not found',\n",
       " 'parameters': {'dimension': 300},\n",
       " 'description': \"Pre-trained vectors trained on a part of the Google News dataset (about 100 billion words). The model contains 300-dimensional vectors for 3 million words and phrases. The phrases were obtained using a simple data-driven approach described in 'Distributed Representations of Words and Phrases and their Compositionality' (https://code.google.com/archive/p/word2vec/).\",\n",
       " 'read_more': ['https://code.google.com/archive/p/word2vec/',\n",
       "  'https://arxiv.org/abs/1301.3781',\n",
       "  'https://arxiv.org/abs/1310.4546',\n",
       "  'https://www.microsoft.com/en-us/research/publication/linguistic-regularities-in-continuous-space-word-representations/?from=http%3A%2F%2Fresearch.microsoft.com%2Fpubs%2F189726%2Frvecs.pdf'],\n",
       " 'checksum': 'a5e5354d40acb95f9ec66d5977d140ef',\n",
       " 'file_name': 'word2vec-google-news-300.gz',\n",
       " 'parts': 1}"
      ]
     },
     "metadata": {},
     "output_type": "display_data"
    }
   ],
   "source": [
    "display( api.info('word2vec-google-news-300') )"
   ]
  },
  {
   "cell_type": "code",
   "execution_count": 6,
   "id": "2e3f99d3",
   "metadata": {},
   "outputs": [],
   "source": [
    "# api.load('word2vec-ruscorpora-300',return_path=True)"
   ]
  },
  {
   "cell_type": "code",
   "execution_count": 7,
   "id": "5839d494",
   "metadata": {},
   "outputs": [],
   "source": [
    "model = api.load('word2vec-ruscorpora-300')\n",
    "# model = api.load('word2vec-google-news-300')"
   ]
  },
  {
   "cell_type": "markdown",
   "id": "ef5b23e1",
   "metadata": {},
   "source": [
    "----"
   ]
  },
  {
   "cell_type": "code",
   "execution_count": 13,
   "id": "d585cf42",
   "metadata": {},
   "outputs": [
    {
     "data": {
      "text/plain": [
       "['стратоник_NOUN',\n",
       " 'отбавлять_VERB',\n",
       " 'эритема_NOUN',\n",
       " 'халявский_NOUN',\n",
       " 'рассудочность_NOUN',\n",
       " 'разорвание_NOUN',\n",
       " 'флосс_NOUN',\n",
       " 'впалый_ADJ',\n",
       " 'дикарбоновый::кислота_NOUN',\n",
       " 'flight_NOUN']"
      ]
     },
     "metadata": {},
     "output_type": "display_data"
    }
   ],
   "source": [
    "from numpy import random as rng\n",
    "display( list(rng.permutation( list(model.key_to_index.keys()) )[:10]) ) "
   ]
  },
  {
   "cell_type": "code",
   "execution_count": 14,
   "id": "7591e324",
   "metadata": {},
   "outputs": [
    {
     "data": {
      "text/plain": [
       "(300,)"
      ]
     },
     "metadata": {},
     "output_type": "display_data"
    },
    {
     "data": {
      "text/plain": [
       "{'дуб_NOUN': 0.7490348815917969,\n",
       " 'береза_NOUN': 0.7402018308639526,\n",
       " 'сосна_NOUN': 0.7250653505325317,\n",
       " 'клен_NOUN': 0.7105392217636108,\n",
       " 'кустарник_NOUN': 0.6997158527374268,\n",
       " 'листва_NOUN': 0.6985297203063965,\n",
       " 'сук_NOUN': 0.6809549331665039,\n",
       " 'безлиственный_ADJ': 0.6707502603530884,\n",
       " 'куст_NOUN': 0.6643524169921875,\n",
       " 'яблоня_NOUN': 0.6635726094245911}"
      ]
     },
     "metadata": {},
     "output_type": "display_data"
    }
   ],
   "source": [
    "w = 'дерево_NOUN'\n",
    "v = model.get_vector(w)\n",
    "display(v.shape)\n",
    "display( { w:s for w,s in model.most_similar(w) } )"
   ]
  },
  {
   "cell_type": "markdown",
   "id": "3c87ab69",
   "metadata": {},
   "source": [
    "---"
   ]
  },
  {
   "cell_type": "code",
   "execution_count": 15,
   "id": "f7da475b",
   "metadata": {},
   "outputs": [
    {
     "data": {
      "text/plain": [
       "array([0.55679   , 0.27162316], dtype=float32)"
      ]
     },
     "metadata": {},
     "output_type": "display_data"
    }
   ],
   "source": [
    "cat = model.get_vector(u'кот_NOUN')\n",
    "dog = model.get_vector(u'собака_NOUN')\n",
    "lynx = model.get_vector(u'рысь_NOUN')\n",
    "\n",
    "s = model.cosine_similarities( cat, [dog,lynx] )\n",
    "display( s )"
   ]
  },
  {
   "cell_type": "markdown",
   "id": "94698e1e",
   "metadata": {},
   "source": [
    "----"
   ]
  },
  {
   "cell_type": "code",
   "execution_count": 16,
   "id": "aef25a08",
   "metadata": {},
   "outputs": [
    {
     "data": {
      "text/plain": [
       "[('королева_NOUN', 0.7313904762268066),\n",
       " ('герцог_NOUN', 0.6502388715744019),\n",
       " ('принцесса_NOUN', 0.6266285181045532)]"
      ]
     },
     "metadata": {},
     "output_type": "display_data"
    }
   ],
   "source": [
    "# 'король' - 'мужчина' + 'женщина' = 'королева'\n",
    "s = model.most_similar(\n",
    "        positive=['женщина_NOUN', 'король_NOUN'], \n",
    "        negative=['мужчина_NOUN'],\n",
    "        topn=3\n",
    "    )\n",
    "display( s )"
   ]
  },
  {
   "cell_type": "code",
   "execution_count": null,
   "id": "172c1c81",
   "metadata": {},
   "outputs": [],
   "source": []
  }
 ],
 "metadata": {
  "kernelspec": {
   "display_name": "Python 3 (ipykernel)",
   "language": "python",
   "name": "python3"
  },
  "language_info": {
   "codemirror_mode": {
    "name": "ipython",
    "version": 3
   },
   "file_extension": ".py",
   "mimetype": "text/x-python",
   "name": "python",
   "nbconvert_exporter": "python",
   "pygments_lexer": "ipython3",
   "version": "3.11.7"
  },
  "toc": {
   "base_numbering": 1,
   "nav_menu": {},
   "number_sections": true,
   "sideBar": true,
   "skip_h1_title": false,
   "title_cell": "Table of Contents",
   "title_sidebar": "Contents",
   "toc_cell": false,
   "toc_position": {},
   "toc_section_display": true,
   "toc_window_display": false
  }
 },
 "nbformat": 4,
 "nbformat_minor": 5
}
