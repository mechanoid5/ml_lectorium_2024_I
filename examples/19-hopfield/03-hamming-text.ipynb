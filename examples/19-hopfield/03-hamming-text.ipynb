{
 "cells": [
  {
   "cell_type": "markdown",
   "metadata": {},
   "source": [
    "**сеть Хемминга**\n",
    "\n",
    "нечёткий поиск по словарю\n",
    "\n",
    "Евгений Борисов esborisov@sevsu.ru"
   ]
  },
  {
   "cell_type": "markdown",
   "metadata": {},
   "source": [
    "---"
   ]
  },
  {
   "cell_type": "markdown",
   "metadata": {},
   "source": [
    "Борисов Е.  Классификатор на основе нейронной сети Хемминга.   \n",
    "http://mechanoid.su/neural-net-hamming-classifier.html\n",
    "\n",
    "Арустамов А., Стариков А.   Ассоциативная память.Применение сетей Хемминга для нечеткого поиска.   \n",
    "https://basegroup.ru/community/articles/assoc"
   ]
  },
  {
   "cell_type": "markdown",
   "metadata": {},
   "source": [
    "##  загружаем данные "
   ]
  },
  {
   "cell_type": "code",
   "execution_count": 1,
   "metadata": {},
   "outputs": [
    {
     "data": {
      "text/plain": [
       "112"
      ]
     },
     "metadata": {},
     "output_type": "display_data"
    },
    {
     "data": {
      "text/plain": [
       "['Одинцово', 'Новгород', 'Каунас', 'Гомель', 'Пенза']"
      ]
     },
     "metadata": {},
     "output_type": "display_data"
    }
   ],
   "source": [
    "import gzip\n",
    "from random import sample\n",
    "\n",
    "with gzip.open('data/ideal_u.txt.gz','rt') as f: \n",
    "    ideal = [ w.strip() for w in f.read().split('\\n') if w.strip() ]\n",
    "        \n",
    "display(len(ideal))\n",
    "display(sample(ideal,5))"
   ]
  },
  {
   "cell_type": "markdown",
   "metadata": {},
   "source": [
    "## кодируем данные"
   ]
  },
  {
   "cell_type": "code",
   "execution_count": 2,
   "metadata": {},
   "outputs": [],
   "source": [
    "import numpy as np\n",
    "from numpy import random as rng"
   ]
  },
  {
   "cell_type": "code",
   "execution_count": 4,
   "metadata": {},
   "outputs": [],
   "source": [
    "class DataEncoder:\n",
    "    \n",
    "    def __init__(self):\n",
    "        # Кодирование строится таким образом, \n",
    "        # что бы стоящие рядом на компьютерной клавиатуре символы \n",
    "        # имели близкие по Хеммингу коды.\n",
    "        # Таким образом должно достигаться наиболее эффективное исправление опечаток.\n",
    "        self._abc = {\n",
    "           'к':(0,0,0,0,0,),\n",
    "           'ж':(0,0,0,0,1,),\n",
    "           'г':(0,0,0,1,0,),\n",
    "           'щ':(0,0,0,1,1,),\n",
    "           'ч':(0,0,1,0,0,),\n",
    "           'х':(0,0,1,0,1,),\n",
    "           'ю':(0,0,1,1,0,),\n",
    "           'с':(0,0,1,1,1,),\n",
    "           'у':(0,1,0,0,0,),\n",
    "           'б':(0,1,0,0,1,),\n",
    "           'л':(0,1,0,1,0,),\n",
    "           'е':(0,1,0,1,1,),\n",
    "           'о':(0,1,1,0,0,),\n",
    "           'р':(0,1,1,0,1,),\n",
    "           'н':(0,1,1,1,0,),\n",
    "           'й':(0,1,1,1,1,),\n",
    "           'т':(1,0,0,0,0,),\n",
    "           'з':(1,0,0,0,1,),\n",
    "           'ы':(1,0,0,1,0,),\n",
    "           'п':(1,0,0,1,1,),\n",
    "           'ф':(1,0,1,0,0,),\n",
    "           'ш':(1,0,1,0,1,),\n",
    "           'м':(1,0,1,1,0,),\n",
    "           'э':(1,0,1,1,1,),\n",
    "           'ъ':(1,1,0,0,0,),\n",
    "           'д':(1,1,0,0,1,),\n",
    "           'в':(1,1,0,1,0,),\n",
    "           'а':(1,1,0,1,1,),\n",
    "           'ц':(1,1,1,0,0,),\n",
    "           'и':(1,1,1,0,1,),\n",
    "           'я':(1,1,1,1,0,),\n",
    "           'ь':(1,1,1,1,1,),\n",
    "        }\n",
    "\n",
    "    # собираем датасет из списка слов text,\n",
    "    # max_word - ограничение максимальной длины слова (0 - нет ограничений)\n",
    "    def transform(self,text,max_word_len=0):\n",
    "        # заменяем буквы на коды\n",
    "        c = [ self._encode(w) for w in text ] \n",
    "        \n",
    "        x = np.array( self._pad(c,max_word_len) )*2-1\n",
    "        n_samples, seq_len, code_len = x.shape\n",
    "        return x.reshape(n_samples,seq_len*code_len)\n",
    "\n",
    "    def _encode(self,w):\n",
    "        return  [ self._abc[a] for a in w.lower() ]\n",
    "   \n",
    "    # дополняем коды коротких слов нулями\n",
    "    def _pad(self,x,max_word_len): \n",
    "        code_len = len(x[0][0]) # длинна кода\n",
    "        # максимальная длинна слова\n",
    "        mwl = max([len(v) for v in x]+[max_word_len])\n",
    "        # дополнение нулями\n",
    "        z = [(0,)*code_len]*mwl\n",
    "        # дополняем короткое слово\n",
    "        return [ v + z[:(mwl-len(v))] for v in x ]"
   ]
  },
  {
   "cell_type": "code",
   "execution_count": 5,
   "metadata": {},
   "outputs": [
    {
     "data": {
      "text/plain": [
       "(112, 70)"
      ]
     },
     "metadata": {},
     "output_type": "display_data"
    }
   ],
   "source": [
    "x_train = DataEncoder().transform(ideal)\n",
    "display(x_train.shape)"
   ]
  },
  {
   "cell_type": "code",
   "execution_count": 6,
   "metadata": {},
   "outputs": [
    {
     "data": {
      "text/plain": [
       "array([[ 1,  1, -1, ..., -1, -1, -1],\n",
       "       [ 1,  1, -1, ..., -1, -1, -1],\n",
       "       [ 1,  1, -1, ..., -1, -1, -1],\n",
       "       ...,\n",
       "       [ 1, -1,  1, ..., -1, -1, -1],\n",
       "       [ 1,  1,  1, ..., -1, -1, -1],\n",
       "       [ 1,  1,  1, ..., -1, -1, -1]])"
      ]
     },
     "execution_count": 6,
     "metadata": {},
     "output_type": "execute_result"
    }
   ],
   "source": [
    "x_train"
   ]
  },
  {
   "cell_type": "markdown",
   "metadata": {},
   "source": [
    "# модель"
   ]
  },
  {
   "cell_type": "markdown",
   "metadata": {},
   "source": [
    "сеть Хэминга\n",
    "\n",
    "![neural-net-hamming](http://mechanoid.su/content/neural-net-hamming-classifier.html/nnet.png)"
   ]
  },
  {
   "cell_type": "code",
   "execution_count": 7,
   "metadata": {},
   "outputs": [],
   "source": [
    "class HammingNet:\n",
    "    \n",
    "    def __init__(self):\n",
    "        self._weight_lin = 0.\n",
    "        self._weight_hop = 0.\n",
    "        \n",
    "    def fit(self,x):\n",
    "        self._weight_lin =  0.5*x.T\n",
    "        \n",
    "        n_samples,_ = x.shape # количество учебных примеров \n",
    "        c = 1./(2.*n_samples) # коэффициент торможения\n",
    "        # веса для нейронов второго слоя\n",
    "        self._weight_hop = -c*(np.ones(n_samples)-np.eye(n_samples)) + np.eye(n_samples)\n",
    "        \n",
    "        return self\n",
    "    \n",
    "    def forward(self,x,max_iter=8):\n",
    "        o = x.dot(self._weight_lin)\n",
    "        for n in range(max_iter):\n",
    "            o_ = o.copy() # сохраняем состояние\n",
    "            o = self._forward_step(o) # переходим в новое состояние\n",
    "            # если состояние не изменилось то завершаем\n",
    "            if np.all(o==o_): break\n",
    "        return n,o        \n",
    "    \n",
    "    def _forward_step(self,x):\n",
    "        return np.max( [x.dot(self._weight_hop), np.zeros(x.shape)],axis=0 )\n",
    "    \n",
    "    def __call__(self,x):\n",
    "        return self.forward(x)\n",
    "    \n",
    "    def predict(self,x):\n",
    "        n,o = self.forward(x)\n",
    "        return n,np.argmax(o,axis=1)"
   ]
  },
  {
   "cell_type": "markdown",
   "metadata": {},
   "source": [
    "# загружаем память модели"
   ]
  },
  {
   "cell_type": "code",
   "execution_count": 8,
   "metadata": {},
   "outputs": [],
   "source": [
    "model = HammingNet().fit(x_train)"
   ]
  },
  {
   "cell_type": "markdown",
   "metadata": {},
   "source": [
    "## тестируем"
   ]
  },
  {
   "cell_type": "code",
   "execution_count": 9,
   "metadata": {},
   "outputs": [
    {
     "data": {
      "text/plain": [
       "112"
      ]
     },
     "metadata": {},
     "output_type": "display_data"
    },
    {
     "data": {
      "text/plain": [
       "['Ньвгьрьд', 'Тумюьв', 'Тьмск', 'Кцрск', 'Бурнуул']"
      ]
     },
     "metadata": {},
     "output_type": "display_data"
    }
   ],
   "source": [
    "with gzip.open('data/test_u.txt.gz','rt') as f: \n",
    "    test = [ w.strip() for w in f.read().split('\\n') if w.strip() ]\n",
    "        \n",
    "display(len(test))\n",
    "display(sample(test,5))"
   ]
  },
  {
   "cell_type": "code",
   "execution_count": 10,
   "metadata": {},
   "outputs": [
    {
     "data": {
      "text/plain": [
       "14"
      ]
     },
     "metadata": {},
     "output_type": "display_data"
    }
   ],
   "source": [
    "max_word_len = max([ len(w) for w in ideal ])\n",
    "display(max_word_len)"
   ]
  },
  {
   "cell_type": "code",
   "execution_count": 11,
   "metadata": {},
   "outputs": [
    {
     "data": {
      "text/plain": [
       "(112, 70)"
      ]
     },
     "metadata": {},
     "output_type": "display_data"
    }
   ],
   "source": [
    "x_test = DataEncoder().transform(test,max_word_len=max_word_len)\n",
    "display(x_test.shape)"
   ]
  },
  {
   "cell_type": "code",
   "execution_count": 12,
   "metadata": {
    "scrolled": false
   },
   "outputs": [
    {
     "data": {
      "text/html": [
       "<table>\n",
       "<tbody>\n",
       "<tr><td>Акмьлу        </td><td>Актау         </td></tr>\n",
       "<tr><td>Актуу         </td><td>Актау         </td></tr>\n",
       "<tr><td>Алмуты        </td><td>Алматы        </td></tr>\n",
       "<tr><td>Архунгельск   </td><td>Архангельск   </td></tr>\n",
       "<tr><td>Аструхунь     </td><td>Астрахань     </td></tr>\n",
       "<tr><td>Ашхуюуд       </td><td>Ашхабад       </td></tr>\n",
       "<tr><td>Буку          </td><td>Баку          </td></tr>\n",
       "<tr><td>Бурнуул       </td><td>Барнаул       </td></tr>\n",
       "<tr><td>Билкек        </td><td>Бишкек        </td></tr>\n",
       "<tr><td>Блугьвещенск  </td><td>Благовещенск  </td></tr>\n",
       "<tr><td>Брутск        </td><td>Братск        </td></tr>\n",
       "<tr><td>Браст         </td><td>Брест         </td></tr>\n",
       "<tr><td>Брынск        </td><td>Брянск        </td></tr>\n",
       "<tr><td>Вмльньс       </td><td>Вильнюс       </td></tr>\n",
       "<tr><td>Витеюск       </td><td>Витебск       </td></tr>\n",
       "<tr><td>Влудивьстьк   </td><td>Владивосток   </td></tr>\n",
       "<tr><td>Влудикувкуз   </td><td>Владикавказ   </td></tr>\n",
       "<tr><td>Вьлгьгруд     </td><td>Волгоград     </td></tr>\n",
       "<tr><td>Вьлжский      </td><td>Волжский      </td></tr>\n",
       "<tr><td>Вьльгду       </td><td>Вологда       </td></tr>\n",
       "<tr><td>Вьрьнеж       </td><td>Воронеж       </td></tr>\n",
       "<tr><td>Гьмель        </td><td>Гомель        </td></tr>\n",
       "<tr><td>Грьднь        </td><td>Гомель        </td></tr>\n",
       "<tr><td>Грьзный       </td><td>Грозный       </td></tr>\n",
       "<tr><td>Гулистун      </td><td>Гулистан      </td></tr>\n",
       "<tr><td>Дзерэинск     </td><td>Дзержинск     </td></tr>\n",
       "<tr><td>Днепрьпетрьвск</td><td>Днепропетровск</td></tr>\n",
       "<tr><td>Дьнецк        </td><td>Донецк        </td></tr>\n",
       "<tr><td>Душунюе       </td><td>Душанбе       </td></tr>\n",
       "<tr><td>Екутеринюург  </td><td>Екатеринбург  </td></tr>\n",
       "<tr><td>Еревун        </td><td>Ереван        </td></tr>\n",
       "<tr><td>Зупьрьжье     </td><td>Запорожье     </td></tr>\n",
       "<tr><td>Ивуньвь       </td><td>Иваново       </td></tr>\n",
       "<tr><td>Ижзеск        </td><td>Ижевск        </td></tr>\n",
       "<tr><td>Ипкутск       </td><td>Иркутск       </td></tr>\n",
       "<tr><td>Кузунь        </td><td>Казань        </td></tr>\n",
       "<tr><td>Кулинингруд   </td><td>Калининград   </td></tr>\n",
       "<tr><td>Кулугу        </td><td>Калуга        </td></tr>\n",
       "<tr><td>Куругунду     </td><td>Караганда     </td></tr>\n",
       "<tr><td>Куунус        </td><td>Каунас        </td></tr>\n",
       "<tr><td>Кемерьвь      </td><td>Кемерово      </td></tr>\n",
       "<tr><td>Кыив          </td><td>Тарту         </td></tr>\n",
       "<tr><td>Кирьв         </td><td>Киров         </td></tr>\n",
       "<tr><td>Кирьвьгруд    </td><td>Кировоград    </td></tr>\n",
       "<tr><td>Кишгнев       </td><td>Кишинев       </td></tr>\n",
       "<tr><td>Клуйпеду      </td><td>Клайпеда      </td></tr>\n",
       "<tr><td>Кьстрьму      </td><td>Кострома      </td></tr>\n",
       "<tr><td>Крусньдур     </td><td>Краснодар     </td></tr>\n",
       "<tr><td>Крусньярск    </td><td>Красноярск    </td></tr>\n",
       "<tr><td>Кцрск         </td><td>Курск         </td></tr>\n",
       "<tr><td>Кустунуй      </td><td>Кустанай      </td></tr>\n",
       "<tr><td>Лопецк        </td><td>Липецк        </td></tr>\n",
       "<tr><td>Лугунск       </td><td>Луганск       </td></tr>\n",
       "<tr><td>Лтвьв         </td><td>Львов         </td></tr>\n",
       "<tr><td>Лююерцы       </td><td>Люберцы       </td></tr>\n",
       "<tr><td>Мугнитьгьрск  </td><td>Магнитогорск  </td></tr>\n",
       "<tr><td>Муриупьль     </td><td>Мариуполь     </td></tr>\n",
       "<tr><td>Мухучкулу     </td><td>Махачкала     </td></tr>\n",
       "<tr><td>Манск         </td><td>Минск         </td></tr>\n",
       "<tr><td>Мьскву        </td><td>Москва        </td></tr>\n",
       "<tr><td>Мурмунск      </td><td>Мурманск      </td></tr>\n",
       "<tr><td>Нижневуртьвск </td><td>Нижневартовск </td></tr>\n",
       "<tr><td>Нижнекумск    </td><td>Нижнекамск    </td></tr>\n",
       "<tr><td>Ньвгьрьд      </td><td>Новгород      </td></tr>\n",
       "<tr><td>Никьлуев      </td><td>Николаев      </td></tr>\n",
       "<tr><td>Ньвькузнецк   </td><td>Новокузнецк   </td></tr>\n",
       "<tr><td>Ньвьсиюирск   </td><td>Новосибирск   </td></tr>\n",
       "<tr><td>Ньрильск      </td><td>Норильск      </td></tr>\n",
       "<tr><td>Одассу        </td><td>Одесса        </td></tr>\n",
       "<tr><td>Одинцьвь      </td><td>Одинцово      </td></tr>\n",
       "<tr><td>Рмск          </td><td>Омск          </td></tr>\n",
       "<tr><td>Оренюург      </td><td>Оренбург      </td></tr>\n",
       "<tr><td>Пувльдур      </td><td>Павлодар      </td></tr>\n",
       "<tr><td>Панзу         </td><td>Пенза         </td></tr>\n",
       "<tr><td>Пармь         </td><td>Пермь         </td></tr>\n",
       "<tr><td>Ригу          </td><td>Рига          </td></tr>\n",
       "<tr><td>Рьстьв        </td><td>Ростов        </td></tr>\n",
       "<tr><td>Рязунь        </td><td>Рязань        </td></tr>\n",
       "<tr><td>Сумуру        </td><td>Самара        </td></tr>\n",
       "<tr><td>Сумуркунд     </td><td>Самарканд     </td></tr>\n",
       "<tr><td>Петерюург     </td><td>Петербург     </td></tr>\n",
       "<tr><td>Сурунск       </td><td>Саранск       </td></tr>\n",
       "<tr><td>Сурутьв       </td><td>Саратов       </td></tr>\n",
       "<tr><td>Севустьпьль   </td><td>Севастополь   </td></tr>\n",
       "<tr><td>Серпухьв      </td><td>Серпухов      </td></tr>\n",
       "<tr><td>Симферьпьль   </td><td>Симферополь   </td></tr>\n",
       "<tr><td>Смьленск      </td><td>Смоленск      </td></tr>\n",
       "<tr><td>Сьчи          </td><td>Сочи          </td></tr>\n",
       "<tr><td>Стуврьпьль    </td><td>Ставрополь    </td></tr>\n",
       "<tr><td>Сургут        </td><td>Сургут        </td></tr>\n",
       "<tr><td>Сыктывкур     </td><td>Сыктывкар     </td></tr>\n",
       "<tr><td>Туллин        </td><td>Таллин        </td></tr>\n",
       "<tr><td>Тумюьв        </td><td>Акмола        </td></tr>\n",
       "<tr><td>Турту         </td><td>Тарту         </td></tr>\n",
       "<tr><td>Тушкент       </td><td>Ташкент       </td></tr>\n",
       "<tr><td>Тюилиси       </td><td>Тбилиси       </td></tr>\n",
       "<tr><td>Тверь         </td><td>Тверь         </td></tr>\n",
       "<tr><td>Тьльятти      </td><td>Тольятти      </td></tr>\n",
       "<tr><td>Тьмск         </td><td>Томск         </td></tr>\n",
       "<tr><td>Тклу          </td><td>Тула          </td></tr>\n",
       "<tr><td>Тжмень        </td><td>Тюмень        </td></tr>\n",
       "<tr><td>Улояньвск     </td><td>Ульяновск     </td></tr>\n",
       "<tr><td>Уфу           </td><td>Уфа           </td></tr>\n",
       "<tr><td>Хаюурьвск     </td><td>Хабаровск     </td></tr>\n",
       "<tr><td>Херькьв       </td><td>Харьков       </td></tr>\n",
       "<tr><td>Харсьн        </td><td>Херсон        </td></tr>\n",
       "<tr><td>Чеюьксуры     </td><td>Чебоксары     </td></tr>\n",
       "<tr><td>Челяюинск     </td><td>Челябинск     </td></tr>\n",
       "<tr><td>Черкуссы      </td><td>Черкассы      </td></tr>\n",
       "<tr><td>Элисту        </td><td>Элиста        </td></tr>\n",
       "<tr><td>Члту          </td><td>Ялта          </td></tr>\n",
       "<tr><td>Ярьслувль     </td><td>Ярославль     </td></tr>\n",
       "</tbody>\n",
       "</table>"
      ],
      "text/plain": [
       "'<table>\\n<tbody>\\n<tr><td>Акмьлу        </td><td>Актау         </td></tr>\\n<tr><td>Актуу         </td><td>Актау         </td></tr>\\n<tr><td>Алмуты        </td><td>Алматы        </td></tr>\\n<tr><td>Архунгельск   </td><td>Архангельск   </td></tr>\\n<tr><td>Аструхунь     </td><td>Астрахань     </td></tr>\\n<tr><td>Ашхуюуд       </td><td>Ашхабад       </td></tr>\\n<tr><td>Буку          </td><td>Баку          </td></tr>\\n<tr><td>Бурнуул       </td><td>Барнаул       </td></tr>\\n<tr><td>Билкек        </td><td>Бишкек        </td></tr>\\n<tr><td>Блугьвещенск  </td><td>Благовещенск  </td></tr>\\n<tr><td>Брутск        </td><td>Братск        </td></tr>\\n<tr><td>Браст         </td><td>Брест         </td></tr>\\n<tr><td>Брынск        </td><td>Брянск        </td></tr>\\n<tr><td>Вмльньс       </td><td>Вильнюс       </td></tr>\\n<tr><td>Витеюск       </td><td>Витебск       </td></tr>\\n<tr><td>Влудивьстьк   </td><td>Владивосток   </td></tr>\\n<tr><td>Влудикувкуз   </td><td>Владикавказ   </td></tr>\\n<tr><td>Вьлгьгруд     </td><td>Волгоград     </td></tr>\\n<tr><td>Вьлжский      </td><td>Волжский      </td></tr>\\n<tr><td>Вьльгду       </td><td>Вологда       </td></tr>\\n<tr><td>Вьрьнеж       </td><td>Воронеж       </td></tr>\\n<tr><td>Гьмель        </td><td>Гомель        </td></tr>\\n<tr><td>Грьднь        </td><td>Гомель        </td></tr>\\n<tr><td>Грьзный       </td><td>Грозный       </td></tr>\\n<tr><td>Гулистун      </td><td>Гулистан      </td></tr>\\n<tr><td>Дзерэинск     </td><td>Дзержинск     </td></tr>\\n<tr><td>Днепрьпетрьвск</td><td>Днепропетровск</td></tr>\\n<tr><td>Дьнецк        </td><td>Донецк        </td></tr>\\n<tr><td>Душунюе       </td><td>Душанбе       </td></tr>\\n<tr><td>Екутеринюург  </td><td>Екатеринбург  </td></tr>\\n<tr><td>Еревун        </td><td>Ереван        </td></tr>\\n<tr><td>Зупьрьжье     </td><td>Запорожье     </td></tr>\\n<tr><td>Ивуньвь       </td><td>Иваново       </td></tr>\\n<tr><td>Ижзеск        </td><td>Ижевск        </td></tr>\\n<tr><td>Ипкутск       </td><td>Иркутск       </td></tr>\\n<tr><td>Кузунь        </td><td>Казань        </td></tr>\\n<tr><td>Кулинингруд   </td><td>Калининград   </td></tr>\\n<tr><td>Кулугу        </td><td>Калуга        </td></tr>\\n<tr><td>Куругунду     </td><td>Караганда     </td></tr>\\n<tr><td>Куунус        </td><td>Каунас        </td></tr>\\n<tr><td>Кемерьвь      </td><td>Кемерово      </td></tr>\\n<tr><td>Кыив          </td><td>Тарту         </td></tr>\\n<tr><td>Кирьв         </td><td>Киров         </td></tr>\\n<tr><td>Кирьвьгруд    </td><td>Кировоград    </td></tr>\\n<tr><td>Кишгнев       </td><td>Кишинев       </td></tr>\\n<tr><td>Клуйпеду      </td><td>Клайпеда      </td></tr>\\n<tr><td>Кьстрьму      </td><td>Кострома      </td></tr>\\n<tr><td>Крусньдур     </td><td>Краснодар     </td></tr>\\n<tr><td>Крусньярск    </td><td>Красноярск    </td></tr>\\n<tr><td>Кцрск         </td><td>Курск         </td></tr>\\n<tr><td>Кустунуй      </td><td>Кустанай      </td></tr>\\n<tr><td>Лопецк        </td><td>Липецк        </td></tr>\\n<tr><td>Лугунск       </td><td>Луганск       </td></tr>\\n<tr><td>Лтвьв         </td><td>Львов         </td></tr>\\n<tr><td>Лююерцы       </td><td>Люберцы       </td></tr>\\n<tr><td>Мугнитьгьрск  </td><td>Магнитогорск  </td></tr>\\n<tr><td>Муриупьль     </td><td>Мариуполь     </td></tr>\\n<tr><td>Мухучкулу     </td><td>Махачкала     </td></tr>\\n<tr><td>Манск         </td><td>Минск         </td></tr>\\n<tr><td>Мьскву        </td><td>Москва        </td></tr>\\n<tr><td>Мурмунск      </td><td>Мурманск      </td></tr>\\n<tr><td>Нижневуртьвск </td><td>Нижневартовск </td></tr>\\n<tr><td>Нижнекумск    </td><td>Нижнекамск    </td></tr>\\n<tr><td>Ньвгьрьд      </td><td>Новгород      </td></tr>\\n<tr><td>Никьлуев      </td><td>Николаев      </td></tr>\\n<tr><td>Ньвькузнецк   </td><td>Новокузнецк   </td></tr>\\n<tr><td>Ньвьсиюирск   </td><td>Новосибирск   </td></tr>\\n<tr><td>Ньрильск      </td><td>Норильск      </td></tr>\\n<tr><td>Одассу        </td><td>Одесса        </td></tr>\\n<tr><td>Одинцьвь      </td><td>Одинцово      </td></tr>\\n<tr><td>Рмск          </td><td>Омск          </td></tr>\\n<tr><td>Оренюург      </td><td>Оренбург      </td></tr>\\n<tr><td>Пувльдур      </td><td>Павлодар      </td></tr>\\n<tr><td>Панзу         </td><td>Пенза         </td></tr>\\n<tr><td>Пармь         </td><td>Пермь         </td></tr>\\n<tr><td>Ригу          </td><td>Рига          </td></tr>\\n<tr><td>Рьстьв        </td><td>Ростов        </td></tr>\\n<tr><td>Рязунь        </td><td>Рязань        </td></tr>\\n<tr><td>Сумуру        </td><td>Самара        </td></tr>\\n<tr><td>Сумуркунд     </td><td>Самарканд     </td></tr>\\n<tr><td>Петерюург     </td><td>Петербург     </td></tr>\\n<tr><td>Сурунск       </td><td>Саранск       </td></tr>\\n<tr><td>Сурутьв       </td><td>Саратов       </td></tr>\\n<tr><td>Севустьпьль   </td><td>Севастополь   </td></tr>\\n<tr><td>Серпухьв      </td><td>Серпухов      </td></tr>\\n<tr><td>Симферьпьль   </td><td>Симферополь   </td></tr>\\n<tr><td>Смьленск      </td><td>Смоленск      </td></tr>\\n<tr><td>Сьчи          </td><td>Сочи          </td></tr>\\n<tr><td>Стуврьпьль    </td><td>Ставрополь    </td></tr>\\n<tr><td>Сургут        </td><td>Сургут        </td></tr>\\n<tr><td>Сыктывкур     </td><td>Сыктывкар     </td></tr>\\n<tr><td>Туллин        </td><td>Таллин        </td></tr>\\n<tr><td>Тумюьв        </td><td>Акмола        </td></tr>\\n<tr><td>Турту         </td><td>Тарту         </td></tr>\\n<tr><td>Тушкент       </td><td>Ташкент       </td></tr>\\n<tr><td>Тюилиси       </td><td>Тбилиси       </td></tr>\\n<tr><td>Тверь         </td><td>Тверь         </td></tr>\\n<tr><td>Тьльятти      </td><td>Тольятти      </td></tr>\\n<tr><td>Тьмск         </td><td>Томск         </td></tr>\\n<tr><td>Тклу          </td><td>Тула          </td></tr>\\n<tr><td>Тжмень        </td><td>Тюмень        </td></tr>\\n<tr><td>Улояньвск     </td><td>Ульяновск     </td></tr>\\n<tr><td>Уфу           </td><td>Уфа           </td></tr>\\n<tr><td>Хаюурьвск     </td><td>Хабаровск     </td></tr>\\n<tr><td>Херькьв       </td><td>Харьков       </td></tr>\\n<tr><td>Харсьн        </td><td>Херсон        </td></tr>\\n<tr><td>Чеюьксуры     </td><td>Чебоксары     </td></tr>\\n<tr><td>Челяюинск     </td><td>Челябинск     </td></tr>\\n<tr><td>Черкуссы      </td><td>Черкассы      </td></tr>\\n<tr><td>Элисту        </td><td>Элиста        </td></tr>\\n<tr><td>Члту          </td><td>Ялта          </td></tr>\\n<tr><td>Ярьслувль     </td><td>Ярославль     </td></tr>\\n</tbody>\\n</table>'"
      ]
     },
     "execution_count": 12,
     "metadata": {},
     "output_type": "execute_result"
    }
   ],
   "source": [
    "from tabulate import tabulate \n",
    "\n",
    "_,p = model.predict(x_test)\n",
    "res = [ \n",
    "        [ t, ideal[ p[i] ] ] \n",
    "        for i,t in enumerate(test) \n",
    "    ]\n",
    "\n",
    "tabulate(res, tablefmt='html')"
   ]
  },
  {
   "cell_type": "code",
   "execution_count": null,
   "metadata": {},
   "outputs": [],
   "source": []
  },
  {
   "cell_type": "code",
   "execution_count": null,
   "metadata": {},
   "outputs": [],
   "source": []
  }
 ],
 "metadata": {
  "kernelspec": {
   "display_name": "Python 3 (ipykernel)",
   "language": "python",
   "name": "python3"
  },
  "language_info": {
   "codemirror_mode": {
    "name": "ipython",
    "version": 3
   },
   "file_extension": ".py",
   "mimetype": "text/x-python",
   "name": "python",
   "nbconvert_exporter": "python",
   "pygments_lexer": "ipython3",
   "version": "3.11.8"
  },
  "toc": {
   "base_numbering": 1,
   "nav_menu": {},
   "number_sections": true,
   "sideBar": true,
   "skip_h1_title": false,
   "title_cell": "Table of Contents",
   "title_sidebar": "Contents",
   "toc_cell": false,
   "toc_position": {},
   "toc_section_display": "block",
   "toc_window_display": false
  }
 },
 "nbformat": 4,
 "nbformat_minor": 2
}
