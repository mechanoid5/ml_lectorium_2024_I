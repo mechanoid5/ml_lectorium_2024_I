{
 "cells": [
  {
   "cell_type": "markdown",
   "metadata": {},
   "source": [
    "**сеть Хопфилда: ассоциативная память**\n",
    "\n",
    "Евгений Борисов <esborisov@sevsu.ru>"
   ]
  },
  {
   "cell_type": "markdown",
   "metadata": {},
   "source": [
    "##  загружаем данные "
   ]
  },
  {
   "cell_type": "code",
   "execution_count": 1,
   "metadata": {},
   "outputs": [],
   "source": [
    "# !ls data"
   ]
  },
  {
   "cell_type": "code",
   "execution_count": 2,
   "metadata": {},
   "outputs": [],
   "source": [
    "import pickle\n",
    "import gzip\n",
    "\n",
    "# with gzip.open('data/numb-30x30.pkl.gz','rb') as f: data = pickle.load(f)\n",
    "with gzip.open('data/pix-17x31.pkl.gz','rb') as f: data = pickle.load(f)"
   ]
  },
  {
   "cell_type": "code",
   "execution_count": 3,
   "metadata": {},
   "outputs": [],
   "source": [
    "data_train = data['train']['data']\n",
    "data_test = data['test']['data']\n",
    "#data_test = data['test']['noise_lo']['data']\n",
    "\n",
    "del data"
   ]
  },
  {
   "cell_type": "code",
   "execution_count": 4,
   "metadata": {},
   "outputs": [],
   "source": [
    "import matplotlib.pyplot as plt\n",
    "\n",
    "def plot_images(data,figsize=(10,4)):\n",
    "    fig, ax = plt.subplots(1,len(data), figsize=figsize)\n",
    "    for i in range(len(data)): \n",
    "        ax[i].axis('off')\n",
    "        ax[i].imshow(data[i]) #,cmap='GnBu')"
   ]
  },
  {
   "cell_type": "code",
   "execution_count": 5,
   "metadata": {},
   "outputs": [
    {
     "data": {
      "image/png": "[encoded data removed]",
      "text/plain": [
       "<Figure size 300x200 with 3 Axes>"
      ]
     },
     "metadata": {},
     "output_type": "display_data"
    },
    {
     "data": {
      "image/png": "[encoded data removed]",
      "text/plain": [
       "<Figure size 700x200 with 7 Axes>"
      ]
     },
     "metadata": {},
     "output_type": "display_data"
    }
   ],
   "source": [
    "plot_images(data_train,(len(data_train),2))\n",
    "plot_images(data_test, (len(data_test), 2))"
   ]
  },
  {
   "cell_type": "markdown",
   "metadata": {},
   "source": [
    "## формируем датасет"
   ]
  },
  {
   "cell_type": "code",
   "execution_count": 6,
   "metadata": {},
   "outputs": [],
   "source": [
    "import numpy as np"
   ]
  },
  {
   "cell_type": "code",
   "execution_count": 7,
   "metadata": {},
   "outputs": [
    {
     "data": {
      "text/plain": [
       "((3, 527), (7, 527))"
      ]
     },
     "metadata": {},
     "output_type": "display_data"
    }
   ],
   "source": [
    "n,w,h = data_train.shape\n",
    "x_train = np.sign( 254.-data_train ).reshape(n,w*h)\n",
    "\n",
    "n,w,h = data_test.shape\n",
    "x_test = np.sign( 254.-data_test ).reshape(n,w*h)\n",
    "\n",
    "display(( x_train.shape, x_test.shape ))"
   ]
  },
  {
   "cell_type": "markdown",
   "metadata": {},
   "source": [
    "# модель"
   ]
  },
  {
   "cell_type": "markdown",
   "metadata": {},
   "source": [
    "![hopfield](http://mechanoid.su/content/neural-net-hopfield-associative-memory.html/hopfield.bmp)"
   ]
  },
  {
   "cell_type": "code",
   "execution_count": 8,
   "metadata": {},
   "outputs": [],
   "source": [
    "class HophieldNet:\n",
    "    \n",
    "    def __init__(self):\n",
    "        self._weight = 0.\n",
    "        self._bias = 0.\n",
    "        \n",
    "    def fit(self,x):\n",
    "        assert len(x)>1\n",
    "        batch_size, data_size = x.shape\n",
    "        self._weight = x.T.dot(x)\n",
    "        self._bias = x.sum(axis=0)\n",
    "        # обнуляем главную диагональ матрицы весов\n",
    "        # т.е. удаляем обратную связь нейрона на самого себя \n",
    "        self._weight = self._weight *(np.ones([data_size,data_size])-np.eye(data_size,data_size))\n",
    "        return self\n",
    "    \n",
    "    def forward(self,x,max_iter=8):\n",
    "        o = x\n",
    "        for n in range(max_iter):\n",
    "            o_ = o.copy() # сохраняем состояние\n",
    "            o = self._forward_step(o) # переходим в новое состояние\n",
    "            # если состояние не изменилось то завершаем\n",
    "            if np.all(o==o_): break\n",
    "        return n,o        \n",
    "    \n",
    "    def _forward_step(self,x):\n",
    "        return np.sign( x.dot(self._weight) - self._bias )\n",
    "    "
   ]
  },
  {
   "cell_type": "markdown",
   "metadata": {},
   "source": [
    "# загружаем память модели"
   ]
  },
  {
   "cell_type": "code",
   "execution_count": 9,
   "metadata": {},
   "outputs": [],
   "source": [
    "model = HophieldNet().fit(x_train)"
   ]
  },
  {
   "cell_type": "markdown",
   "metadata": {},
   "source": [
    "# тестируем"
   ]
  },
  {
   "cell_type": "code",
   "execution_count": 10,
   "metadata": {},
   "outputs": [
    {
     "data": {
      "text/plain": [
       "2"
      ]
     },
     "metadata": {},
     "output_type": "display_data"
    }
   ],
   "source": [
    "n,o = model.forward(x_test)\n",
    "display(n)"
   ]
  },
  {
   "cell_type": "code",
   "execution_count": 11,
   "metadata": {},
   "outputs": [
    {
     "data": {
      "image/png": "[encoded data removed]",
      "text/plain": [
       "<Figure size 300x200 with 3 Axes>"
      ]
     },
     "metadata": {},
     "output_type": "display_data"
    },
    {
     "data": {
      "image/png": "[encoded data removed]",
      "text/plain": [
       "<Figure size 700x200 with 7 Axes>"
      ]
     },
     "metadata": {},
     "output_type": "display_data"
    },
    {
     "data": {
      "image/png": "[encoded data removed]",
      "text/plain": [
       "<Figure size 700x200 with 7 Axes>"
      ]
     },
     "metadata": {},
     "output_type": "display_data"
    }
   ],
   "source": [
    "plot_images(data_train,(len(data_train),2))\n",
    "plot_images(data_test, (len(data_test), 2))\n",
    "p = (1-o.reshape(data_test.shape))*127\n",
    "plot_images(p,(len(data_test),2))"
   ]
  },
  {
   "cell_type": "code",
   "execution_count": null,
   "metadata": {},
   "outputs": [],
   "source": []
  },
  {
   "cell_type": "code",
   "execution_count": null,
   "metadata": {},
   "outputs": [],
   "source": []
  }
 ],
 "metadata": {
  "kernelspec": {
   "display_name": "Python 3 (ipykernel)",
   "language": "python",
   "name": "python3"
  },
  "language_info": {
   "codemirror_mode": {
    "name": "ipython",
    "version": 3
   },
   "file_extension": ".py",
   "mimetype": "text/x-python",
   "name": "python",
   "nbconvert_exporter": "python",
   "pygments_lexer": "ipython3",
   "version": "3.11.7"
  },
  "toc": {
   "base_numbering": 1,
   "nav_menu": {},
   "number_sections": true,
   "sideBar": true,
   "skip_h1_title": false,
   "title_cell": "Table of Contents",
   "title_sidebar": "Contents",
   "toc_cell": false,
   "toc_position": {},
   "toc_section_display": "block",
   "toc_window_display": false
  }
 },
 "nbformat": 4,
 "nbformat_minor": 2
}
