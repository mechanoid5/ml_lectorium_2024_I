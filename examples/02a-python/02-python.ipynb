{
 "cells": [
  {
   "cell_type": "markdown",
   "metadata": {},
   "source": [
    "__базовые возможности языка Python__\n",
    "\n",
    "_Евгений Борисов <esborisov@sevsu.ru>_"
   ]
  },
  {
   "cell_type": "markdown",
   "metadata": {},
   "source": [
    "---"
   ]
  },
  {
   "cell_type": "code",
   "execution_count": 1,
   "metadata": {},
   "outputs": [],
   "source": [
    "# печатать выдачу всех строк ячейки\n",
    "from IPython.core.interactiveshell import InteractiveShell\n",
    "InteractiveShell.ast_node_interactivity = 'all'\n",
    "# InteractiveShell.ast_node_interactivity = 'last_expr'"
   ]
  },
  {
   "cell_type": "markdown",
   "metadata": {},
   "source": [
    "## Логический тип"
   ]
  },
  {
   "cell_type": "code",
   "execution_count": 2,
   "metadata": {},
   "outputs": [],
   "source": [
    "a=True\n",
    "\n",
    "b=False"
   ]
  },
  {
   "cell_type": "code",
   "execution_count": 3,
   "metadata": {},
   "outputs": [
    {
     "data": {
      "text/plain": [
       "False"
      ]
     },
     "execution_count": 3,
     "metadata": {},
     "output_type": "execute_result"
    }
   ],
   "source": [
    "a==b"
   ]
  },
  {
   "cell_type": "code",
   "execution_count": 4,
   "metadata": {},
   "outputs": [
    {
     "data": {
      "text/plain": [
       "True"
      ]
     },
     "execution_count": 4,
     "metadata": {},
     "output_type": "execute_result"
    }
   ],
   "source": [
    "a!=b"
   ]
  },
  {
   "cell_type": "code",
   "execution_count": 5,
   "metadata": {},
   "outputs": [
    {
     "data": {
      "text/plain": [
       "False"
      ]
     },
     "execution_count": 5,
     "metadata": {},
     "output_type": "execute_result"
    }
   ],
   "source": [
    "a and b "
   ]
  },
  {
   "cell_type": "code",
   "execution_count": 6,
   "metadata": {},
   "outputs": [
    {
     "data": {
      "text/plain": [
       "True"
      ]
     },
     "execution_count": 6,
     "metadata": {},
     "output_type": "execute_result"
    }
   ],
   "source": [
    "a or b "
   ]
  },
  {
   "cell_type": "code",
   "execution_count": 7,
   "metadata": {},
   "outputs": [
    {
     "data": {
      "text/plain": [
       "False"
      ]
     },
     "execution_count": 7,
     "metadata": {},
     "output_type": "execute_result"
    }
   ],
   "source": [
    "not a or b "
   ]
  },
  {
   "cell_type": "markdown",
   "metadata": {},
   "source": [
    "## Числовые типы"
   ]
  },
  {
   "cell_type": "code",
   "execution_count": 9,
   "metadata": {},
   "outputs": [],
   "source": [
    "a = 34 # int\n",
    "\n",
    "b = -7.3 # float\n",
    "c = -.3\n",
    "d = 3e-4"
   ]
  },
  {
   "cell_type": "code",
   "execution_count": 10,
   "metadata": {},
   "outputs": [
    {
     "data": {
      "text/plain": [
       "True"
      ]
     },
     "execution_count": 10,
     "metadata": {},
     "output_type": "execute_result"
    }
   ],
   "source": [
    "a>b"
   ]
  },
  {
   "cell_type": "code",
   "execution_count": 11,
   "metadata": {},
   "outputs": [
    {
     "data": {
      "text/plain": [
       "False"
      ]
     },
     "execution_count": 11,
     "metadata": {},
     "output_type": "execute_result"
    }
   ],
   "source": [
    "a<=c"
   ]
  },
  {
   "cell_type": "code",
   "execution_count": 12,
   "metadata": {},
   "outputs": [
    {
     "data": {
      "text/plain": [
       "26.7"
      ]
     },
     "execution_count": 12,
     "metadata": {},
     "output_type": "execute_result"
    }
   ],
   "source": [
    "a+b"
   ]
  },
  {
   "cell_type": "code",
   "execution_count": 13,
   "metadata": {},
   "outputs": [
    {
     "data": {
      "text/plain": [
       "-248.2"
      ]
     },
     "execution_count": 13,
     "metadata": {},
     "output_type": "execute_result"
    }
   ],
   "source": [
    "a*b"
   ]
  },
  {
   "cell_type": "code",
   "execution_count": 14,
   "metadata": {},
   "outputs": [
    {
     "data": {
      "text/plain": [
       "39304"
      ]
     },
     "execution_count": 14,
     "metadata": {},
     "output_type": "execute_result"
    }
   ],
   "source": [
    "a**3 # возведение в степень"
   ]
  },
  {
   "cell_type": "code",
   "execution_count": 15,
   "metadata": {},
   "outputs": [
    {
     "data": {
      "text/plain": [
       "34.3"
      ]
     },
     "execution_count": 15,
     "metadata": {},
     "output_type": "execute_result"
    }
   ],
   "source": [
    "a-c"
   ]
  },
  {
   "cell_type": "code",
   "execution_count": 16,
   "metadata": {},
   "outputs": [
    {
     "data": {
      "text/plain": [
       "-4.657534246575342"
      ]
     },
     "execution_count": 16,
     "metadata": {},
     "output_type": "execute_result"
    }
   ],
   "source": [
    "a/b"
   ]
  },
  {
   "cell_type": "code",
   "execution_count": 17,
   "metadata": {},
   "outputs": [
    {
     "data": {
      "text/plain": [
       "1"
      ]
     },
     "execution_count": 17,
     "metadata": {},
     "output_type": "execute_result"
    }
   ],
   "source": [
    "a%3 # остаток от деления"
   ]
  },
  {
   "cell_type": "code",
   "execution_count": 18,
   "metadata": {},
   "outputs": [
    {
     "data": {
      "text/plain": [
       "11"
      ]
     },
     "execution_count": 18,
     "metadata": {},
     "output_type": "execute_result"
    }
   ],
   "source": [
    "a//3 # целая часть от деления"
   ]
  },
  {
   "cell_type": "code",
   "execution_count": 24,
   "metadata": {},
   "outputs": [
    {
     "data": {
      "text/plain": [
       "'0b10111'"
      ]
     },
     "execution_count": 24,
     "metadata": {},
     "output_type": "execute_result"
    },
    {
     "data": {
      "text/plain": [
       "'0o27'"
      ]
     },
     "execution_count": 24,
     "metadata": {},
     "output_type": "execute_result"
    },
    {
     "data": {
      "text/plain": [
       "'0x17'"
      ]
     },
     "execution_count": 24,
     "metadata": {},
     "output_type": "execute_result"
    },
    {
     "data": {
      "text/plain": [
       "5"
      ]
     },
     "execution_count": 24,
     "metadata": {},
     "output_type": "execute_result"
    }
   ],
   "source": [
    "# системы счисления\n",
    "n = 23 # десятичное представление\n",
    "\n",
    "bin(n) # бинарное\n",
    "oct(n) # восьмеричное \n",
    "hex(n) # шестнадцатеричное\n",
    "\n",
    "n.bit_length() # количество бит в двоичном представлении"
   ]
  },
  {
   "cell_type": "code",
   "execution_count": 25,
   "metadata": {},
   "outputs": [
    {
     "data": {
      "text/plain": [
       "'0b11111111'"
      ]
     },
     "execution_count": 25,
     "metadata": {},
     "output_type": "execute_result"
    },
    {
     "data": {
      "text/plain": [
       "'0b10000000'"
      ]
     },
     "execution_count": 25,
     "metadata": {},
     "output_type": "execute_result"
    },
    {
     "data": {
      "text/plain": [
       "'0b11111111'"
      ]
     },
     "execution_count": 25,
     "metadata": {},
     "output_type": "execute_result"
    }
   ],
   "source": [
    "bin(255)\n",
    "bin(128)\n",
    "bin( 255 | 128 )  # битовое или"
   ]
  },
  {
   "cell_type": "code",
   "execution_count": 26,
   "metadata": {},
   "outputs": [
    {
     "data": {
      "text/plain": [
       "'0b11111111'"
      ]
     },
     "execution_count": 26,
     "metadata": {},
     "output_type": "execute_result"
    },
    {
     "data": {
      "text/plain": [
       "'0b1000000'"
      ]
     },
     "execution_count": 26,
     "metadata": {},
     "output_type": "execute_result"
    },
    {
     "data": {
      "text/plain": [
       "'0b1000000'"
      ]
     },
     "execution_count": 26,
     "metadata": {},
     "output_type": "execute_result"
    }
   ],
   "source": [
    "bin(255)\n",
    "bin(64)\n",
    "bin( 255 & 64 ) # битовое и"
   ]
  },
  {
   "cell_type": "code",
   "execution_count": 27,
   "metadata": {},
   "outputs": [
    {
     "data": {
      "text/plain": [
       "'0b11111111'"
      ]
     },
     "execution_count": 27,
     "metadata": {},
     "output_type": "execute_result"
    },
    {
     "data": {
      "text/plain": [
       "'0b10000000'"
      ]
     },
     "execution_count": 27,
     "metadata": {},
     "output_type": "execute_result"
    },
    {
     "data": {
      "text/plain": [
       "'0b1111111'"
      ]
     },
     "execution_count": 27,
     "metadata": {},
     "output_type": "execute_result"
    }
   ],
   "source": [
    "bin(255)\n",
    "bin(128)\n",
    "bin( 255 ^ 128 ) # битовое xor"
   ]
  },
  {
   "cell_type": "code",
   "execution_count": 28,
   "metadata": {},
   "outputs": [
    {
     "data": {
      "text/plain": [
       "'0b11111111'"
      ]
     },
     "execution_count": 28,
     "metadata": {},
     "output_type": "execute_result"
    },
    {
     "data": {
      "text/plain": [
       "'0b111111'"
      ]
     },
     "execution_count": 28,
     "metadata": {},
     "output_type": "execute_result"
    }
   ],
   "source": [
    "bin(255)\n",
    "bin(255>>2) # сдвиг"
   ]
  },
  {
   "cell_type": "code",
   "execution_count": 23,
   "metadata": {},
   "outputs": [
    {
     "data": {
      "text/plain": [
       "'0b10111'"
      ]
     },
     "execution_count": 23,
     "metadata": {},
     "output_type": "execute_result"
    },
    {
     "data": {
      "text/plain": [
       "'0o27'"
      ]
     },
     "execution_count": 23,
     "metadata": {},
     "output_type": "execute_result"
    },
    {
     "data": {
      "text/plain": [
       "'0x17'"
      ]
     },
     "execution_count": 23,
     "metadata": {},
     "output_type": "execute_result"
    },
    {
     "data": {
      "text/plain": [
       "5"
      ]
     },
     "execution_count": 23,
     "metadata": {},
     "output_type": "execute_result"
    }
   ],
   "source": [
    "# системы счисления\n",
    "n = 23 # десятичное представление\n",
    "\n",
    "bin(n) # бинарное\n",
    "oct(n) # восьмеричное \n",
    "hex(n) # шестнадцатеричное\n",
    "\n",
    "n.bit_length() # количество бит в двоичном представлении"
   ]
  },
  {
   "cell_type": "markdown",
   "metadata": {},
   "source": [
    "## None"
   ]
  },
  {
   "cell_type": "code",
   "execution_count": 29,
   "metadata": {},
   "outputs": [],
   "source": [
    "a = None"
   ]
  },
  {
   "cell_type": "markdown",
   "metadata": {},
   "source": [
    "## присваивание"
   ]
  },
  {
   "cell_type": "code",
   "execution_count": 30,
   "metadata": {},
   "outputs": [],
   "source": [
    "a,b = 1,2\n",
    "a,b = b,a\n",
    "a = 10\n",
    "a += 7"
   ]
  },
  {
   "cell_type": "markdown",
   "metadata": {},
   "source": [
    "## Строки"
   ]
  },
  {
   "cell_type": "code",
   "execution_count": 31,
   "metadata": {},
   "outputs": [],
   "source": [
    "a = 'превед'\n",
    "\n",
    "b = \"медвед\"\n",
    "\n",
    "c='''это две\n",
    "     строки'''"
   ]
  },
  {
   "cell_type": "code",
   "execution_count": 32,
   "metadata": {},
   "outputs": [
    {
     "data": {
      "text/plain": [
       "'преведмедвед'"
      ]
     },
     "execution_count": 32,
     "metadata": {},
     "output_type": "execute_result"
    }
   ],
   "source": [
    "a+b"
   ]
  },
  {
   "cell_type": "code",
   "execution_count": 33,
   "metadata": {},
   "outputs": [
    {
     "data": {
      "text/plain": [
       "'превед превед превед превед '"
      ]
     },
     "execution_count": 33,
     "metadata": {},
     "output_type": "execute_result"
    }
   ],
   "source": [
    "(a+' ')*4"
   ]
  },
  {
   "cell_type": "code",
   "execution_count": 34,
   "metadata": {},
   "outputs": [
    {
     "data": {
      "text/plain": [
       "'1_a'"
      ]
     },
     "execution_count": 34,
     "metadata": {},
     "output_type": "execute_result"
    }
   ],
   "source": [
    "'%i_%s'%(1,'a')"
   ]
  },
  {
   "cell_type": "code",
   "execution_count": 35,
   "metadata": {},
   "outputs": [
    {
     "data": {
      "text/plain": [
       "'a_1'"
      ]
     },
     "execution_count": 35,
     "metadata": {},
     "output_type": "execute_result"
    }
   ],
   "source": [
    "'{1}_{0}'.format(1,'a')"
   ]
  },
  {
   "cell_type": "code",
   "execution_count": 37,
   "metadata": {},
   "outputs": [
    {
     "data": {
      "text/plain": [
       "'превед медвед'"
      ]
     },
     "execution_count": 37,
     "metadata": {},
     "output_type": "execute_result"
    }
   ],
   "source": [
    "f'{a} {b}'"
   ]
  },
  {
   "cell_type": "code",
   "execution_count": 38,
   "metadata": {},
   "outputs": [
    {
     "data": {
      "text/plain": [
       "6"
      ]
     },
     "execution_count": 38,
     "metadata": {},
     "output_type": "execute_result"
    }
   ],
   "source": [
    "len(a)"
   ]
  },
  {
   "cell_type": "code",
   "execution_count": 43,
   "metadata": {},
   "outputs": [
    {
     "data": {
      "text/plain": [
       "3"
      ]
     },
     "execution_count": 43,
     "metadata": {},
     "output_type": "execute_result"
    }
   ],
   "source": [
    "a.find('ве')"
   ]
  },
  {
   "cell_type": "code",
   "execution_count": 44,
   "metadata": {},
   "outputs": [
    {
     "data": {
      "text/plain": [
       "'ревед'"
      ]
     },
     "execution_count": 44,
     "metadata": {},
     "output_type": "execute_result"
    }
   ],
   "source": [
    "a[1:]"
   ]
  },
  {
   "cell_type": "markdown",
   "metadata": {},
   "source": [
    "## Списки"
   ]
  },
  {
   "cell_type": "markdown",
   "metadata": {},
   "source": [
    "## способы определения списков"
   ]
  },
  {
   "cell_type": "code",
   "execution_count": 75,
   "metadata": {},
   "outputs": [
    {
     "data": {
      "text/plain": [
       "[1, 3, 2, 4]"
      ]
     },
     "execution_count": 75,
     "metadata": {},
     "output_type": "execute_result"
    },
    {
     "data": {
      "text/plain": [
       "['a', ['bbb', 45], False]"
      ]
     },
     "execution_count": 75,
     "metadata": {},
     "output_type": "execute_result"
    },
    {
     "data": {
      "text/plain": [
       "[-15, -13, -11, -9, -7, -5, -3, -1, 1, 3, 5, 7, 9, 11, 13]"
      ]
     },
     "execution_count": 75,
     "metadata": {},
     "output_type": "execute_result"
    }
   ],
   "source": [
    "[1,3,2,4] # простой\n",
    "\n",
    "['a',['bbb',45], False ] # сложный\n",
    "\n",
    "list( range(-15, 15, 2) ) # с помощью генератора (начало, конец, шаг)"
   ]
  },
  {
   "cell_type": "markdown",
   "metadata": {},
   "source": [
    "----"
   ]
  },
  {
   "cell_type": "code",
   "execution_count": 76,
   "metadata": {},
   "outputs": [
    {
     "data": {
      "text/plain": [
       "4"
      ]
     },
     "execution_count": 76,
     "metadata": {},
     "output_type": "execute_result"
    }
   ],
   "source": [
    "len( [1,3,2,4] ) # длина"
   ]
  },
  {
   "cell_type": "code",
   "execution_count": 77,
   "metadata": {},
   "outputs": [
    {
     "data": {
      "text/plain": [
       "[1, 2, 3, 4]"
      ]
     },
     "execution_count": 77,
     "metadata": {},
     "output_type": "execute_result"
    }
   ],
   "source": [
    "sorted( [1,3,2,4] ) # сортировка"
   ]
  },
  {
   "cell_type": "code",
   "execution_count": 78,
   "metadata": {},
   "outputs": [
    {
     "data": {
      "text/plain": [
       "True"
      ]
     },
     "execution_count": 78,
     "metadata": {},
     "output_type": "execute_result"
    }
   ],
   "source": [
    "2 in [1,3,2,4] # проверка вхождения "
   ]
  },
  {
   "cell_type": "code",
   "execution_count": 83,
   "metadata": {},
   "outputs": [
    {
     "data": {
      "text/plain": [
       "[2, 4, 24, 5, 0, 9, 8]"
      ]
     },
     "execution_count": 83,
     "metadata": {},
     "output_type": "execute_result"
    }
   ],
   "source": [
    "[2,4,24,5]+[0,9,8,] # конкатенация списков"
   ]
  },
  {
   "cell_type": "code",
   "execution_count": 79,
   "metadata": {},
   "outputs": [
    {
     "data": {
      "text/plain": [
       "2"
      ]
     },
     "execution_count": 79,
     "metadata": {},
     "output_type": "execute_result"
    },
    {
     "data": {
      "text/plain": [
       "1"
      ]
     },
     "execution_count": 79,
     "metadata": {},
     "output_type": "execute_result"
    }
   ],
   "source": [
    "# чтение элемента\n",
    "[1,3,2,4].index(2) \n",
    "[1,3,2,4][0]"
   ]
  },
  {
   "cell_type": "code",
   "execution_count": 81,
   "metadata": {},
   "outputs": [
    {
     "data": {
      "text/plain": [
       "4"
      ]
     },
     "execution_count": 81,
     "metadata": {},
     "output_type": "execute_result"
    }
   ],
   "source": [
    "[1,3,2,4][-1] # последний элемент"
   ]
  },
  {
   "cell_type": "code",
   "execution_count": 82,
   "metadata": {},
   "outputs": [
    {
     "data": {
      "text/plain": [
       "[4, 2, 3, 1]"
      ]
     },
     "execution_count": 82,
     "metadata": {},
     "output_type": "execute_result"
    }
   ],
   "source": [
    "[1,3,2,4][::-1] # в обратном порядке"
   ]
  },
  {
   "cell_type": "code",
   "execution_count": 80,
   "metadata": {},
   "outputs": [
    {
     "data": {
      "text/plain": [
       "[9, 7, 5, 3]"
      ]
     },
     "execution_count": 80,
     "metadata": {},
     "output_type": "execute_result"
    }
   ],
   "source": [
    "list(range(20))[9:1:-2] # list slicing  (начало:конец:шаг)"
   ]
  },
  {
   "cell_type": "markdown",
   "metadata": {},
   "source": [
    "---"
   ]
  },
  {
   "cell_type": "code",
   "execution_count": 91,
   "metadata": {},
   "outputs": [],
   "source": [
    "a = [1,3,2,4]"
   ]
  },
  {
   "cell_type": "code",
   "execution_count": 92,
   "metadata": {},
   "outputs": [
    {
     "data": {
      "text/plain": [
       "[1, 3, 2, 4, 9]"
      ]
     },
     "execution_count": 92,
     "metadata": {},
     "output_type": "execute_result"
    }
   ],
   "source": [
    "a.append(9) # добавить элемент\n",
    "a"
   ]
  },
  {
   "cell_type": "code",
   "execution_count": 93,
   "metadata": {},
   "outputs": [
    {
     "data": {
      "text/plain": [
       "[1, 3, 78, 2, 33, 9]"
      ]
     },
     "execution_count": 93,
     "metadata": {},
     "output_type": "execute_result"
    }
   ],
   "source": [
    "# вставить элемент в позицию\n",
    "a[3] = 33\n",
    "a.insert(2,78)\n",
    "a"
   ]
  },
  {
   "cell_type": "markdown",
   "metadata": {},
   "source": [
    "## list comprehension"
   ]
  },
  {
   "cell_type": "code",
   "execution_count": 60,
   "metadata": {},
   "outputs": [
    {
     "data": {
      "text/plain": [
       "[0.5, 1.0, 1.5, 2.0]"
      ]
     },
     "execution_count": 60,
     "metadata": {},
     "output_type": "execute_result"
    }
   ],
   "source": [
    "[ i/2 for i in [1,2,3,4] ]"
   ]
  },
  {
   "cell_type": "code",
   "execution_count": 94,
   "metadata": {},
   "outputs": [
    {
     "data": {
      "text/plain": [
       "[1, 3, 4]"
      ]
     },
     "execution_count": 94,
     "metadata": {},
     "output_type": "execute_result"
    }
   ],
   "source": [
    "[ i for i in [1,2,3,4] if i!=2 ] # исключаем 2"
   ]
  },
  {
   "cell_type": "code",
   "execution_count": 62,
   "metadata": {},
   "outputs": [
    {
     "data": {
      "text/plain": [
       "[0, 1, 2, 4, 5, 6, 7, 8, 9]"
      ]
     },
     "execution_count": 62,
     "metadata": {},
     "output_type": "execute_result"
    }
   ],
   "source": [
    "[ i for i in range(10) if i!=3 ] # используем генератор"
   ]
  },
  {
   "cell_type": "code",
   "execution_count": 63,
   "metadata": {},
   "outputs": [
    {
     "data": {
      "text/plain": [
       "['0_a', '1_b', '2_c', '3_d']"
      ]
     },
     "execution_count": 63,
     "metadata": {},
     "output_type": "execute_result"
    }
   ],
   "source": [
    "[ '%i_%s'%(i,s) for i,s in enumerate('abcd') ] # нумеруем последовательность  "
   ]
  },
  {
   "cell_type": "code",
   "execution_count": null,
   "metadata": {},
   "outputs": [],
   "source": [
    "[ '%i_%s'%(x,y) for x,y in zip(range(4),'abcd') ] # собираем пары из двух списков"
   ]
  },
  {
   "cell_type": "code",
   "execution_count": 65,
   "metadata": {},
   "outputs": [
    {
     "data": {
      "text/plain": [
       "['0_0_a', '1_1_b', '2_2_c', '3_3_d']"
      ]
     },
     "execution_count": 65,
     "metadata": {},
     "output_type": "execute_result"
    }
   ],
   "source": [
    "# собираем пары из двух списков и нумеруем\n",
    "[ '%i_%i_%s'%(i,x,y) for i,(x,y) in enumerate( zip(range(4),'abcd') ) ] "
   ]
  },
  {
   "cell_type": "markdown",
   "metadata": {},
   "source": [
    "## кортежи"
   ]
  },
  {
   "cell_type": "code",
   "execution_count": 95,
   "metadata": {},
   "outputs": [],
   "source": [
    "a = (1,2,3,4)\n",
    "b = tuple(['a','bbb','cc'])"
   ]
  },
  {
   "cell_type": "code",
   "execution_count": 96,
   "metadata": {},
   "outputs": [
    {
     "data": {
      "text/plain": [
       "3"
      ]
     },
     "execution_count": 96,
     "metadata": {},
     "output_type": "execute_result"
    }
   ],
   "source": [
    "a[2]"
   ]
  },
  {
   "cell_type": "code",
   "execution_count": 97,
   "metadata": {},
   "outputs": [
    {
     "ename": "TypeError",
     "evalue": "'tuple' object does not support item assignment",
     "output_type": "error",
     "traceback": [
      "\u001b[0;31m---------------------------------------------------------------------------\u001b[0m",
      "\u001b[0;31mTypeError\u001b[0m                                 Traceback (most recent call last)",
      "Cell \u001b[0;32mIn[97], line 1\u001b[0m\n\u001b[0;32m----> 1\u001b[0m \u001b[43ma\u001b[49m\u001b[43m[\u001b[49m\u001b[38;5;241;43m2\u001b[39;49m\u001b[43m]\u001b[49m \u001b[38;5;241m=\u001b[39m \u001b[38;5;241m3\u001b[39m \u001b[38;5;66;03m# Error!\u001b[39;00m\n",
      "\u001b[0;31mTypeError\u001b[0m: 'tuple' object does not support item assignment"
     ]
    }
   ],
   "source": [
    "a[2] = 3 # Error!"
   ]
  },
  {
   "cell_type": "markdown",
   "metadata": {},
   "source": [
    "## Множества"
   ]
  },
  {
   "cell_type": "code",
   "execution_count": 98,
   "metadata": {},
   "outputs": [],
   "source": [
    "a = set([1,2,3,2,4,1])\n",
    "\n",
    "b = set([3,2,4])"
   ]
  },
  {
   "cell_type": "code",
   "execution_count": 99,
   "metadata": {},
   "outputs": [
    {
     "data": {
      "text/plain": [
       "{1, 2, 3, 4}"
      ]
     },
     "execution_count": 99,
     "metadata": {},
     "output_type": "execute_result"
    }
   ],
   "source": [
    "a"
   ]
  },
  {
   "cell_type": "code",
   "execution_count": 100,
   "metadata": {},
   "outputs": [
    {
     "ename": "TypeError",
     "evalue": "'set' object is not subscriptable",
     "output_type": "error",
     "traceback": [
      "\u001b[0;31m---------------------------------------------------------------------------\u001b[0m",
      "\u001b[0;31mTypeError\u001b[0m                                 Traceback (most recent call last)",
      "Cell \u001b[0;32mIn[100], line 1\u001b[0m\n\u001b[0;32m----> 1\u001b[0m \u001b[43ma\u001b[49m\u001b[43m[\u001b[49m\u001b[38;5;241;43m0\u001b[39;49m\u001b[43m]\u001b[49m \u001b[38;5;66;03m# Error!\u001b[39;00m\n",
      "\u001b[0;31mTypeError\u001b[0m: 'set' object is not subscriptable"
     ]
    }
   ],
   "source": [
    "a[0] # Error!"
   ]
  },
  {
   "cell_type": "code",
   "execution_count": 101,
   "metadata": {},
   "outputs": [],
   "source": [
    "a.add(7)"
   ]
  },
  {
   "cell_type": "code",
   "execution_count": 102,
   "metadata": {},
   "outputs": [
    {
     "data": {
      "text/plain": [
       "{1, 7}"
      ]
     },
     "execution_count": 102,
     "metadata": {},
     "output_type": "execute_result"
    }
   ],
   "source": [
    "a - b"
   ]
  },
  {
   "cell_type": "code",
   "execution_count": 103,
   "metadata": {},
   "outputs": [
    {
     "data": {
      "text/plain": [
       "{2, 3, 4}"
      ]
     },
     "execution_count": 103,
     "metadata": {},
     "output_type": "execute_result"
    }
   ],
   "source": [
    "a & b"
   ]
  },
  {
   "cell_type": "code",
   "execution_count": 104,
   "metadata": {},
   "outputs": [
    {
     "data": {
      "text/plain": [
       "{1, 2, 3, 4, 7}"
      ]
     },
     "execution_count": 104,
     "metadata": {},
     "output_type": "execute_result"
    }
   ],
   "source": [
    "a | b "
   ]
  },
  {
   "cell_type": "code",
   "execution_count": 105,
   "metadata": {},
   "outputs": [
    {
     "data": {
      "text/plain": [
       "{1, 7}"
      ]
     },
     "execution_count": 105,
     "metadata": {},
     "output_type": "execute_result"
    }
   ],
   "source": [
    "a ^ b "
   ]
  },
  {
   "cell_type": "code",
   "execution_count": 107,
   "metadata": {},
   "outputs": [
    {
     "data": {
      "text/plain": [
       "frozenset({1, 2, 3, 4})"
      ]
     },
     "execution_count": 107,
     "metadata": {},
     "output_type": "execute_result"
    }
   ],
   "source": [
    "c = frozenset([1,2,3,2,4,1])\n",
    "c"
   ]
  },
  {
   "cell_type": "code",
   "execution_count": 108,
   "metadata": {},
   "outputs": [
    {
     "ename": "AttributeError",
     "evalue": "'frozenset' object has no attribute 'add'",
     "output_type": "error",
     "traceback": [
      "\u001b[0;31m---------------------------------------------------------------------------\u001b[0m",
      "\u001b[0;31mAttributeError\u001b[0m                            Traceback (most recent call last)",
      "Cell \u001b[0;32mIn[108], line 1\u001b[0m\n\u001b[0;32m----> 1\u001b[0m \u001b[43mc\u001b[49m\u001b[38;5;241;43m.\u001b[39;49m\u001b[43madd\u001b[49m(\u001b[38;5;241m7\u001b[39m)\n",
      "\u001b[0;31mAttributeError\u001b[0m: 'frozenset' object has no attribute 'add'"
     ]
    }
   ],
   "source": [
    "c.add(7) # Error!"
   ]
  },
  {
   "cell_type": "markdown",
   "metadata": {},
   "source": [
    "## Словари"
   ]
  },
  {
   "cell_type": "code",
   "execution_count": 113,
   "metadata": {},
   "outputs": [],
   "source": [
    "d = { 'a':1, 'b':2, 'c':3 }"
   ]
  },
  {
   "cell_type": "code",
   "execution_count": 114,
   "metadata": {},
   "outputs": [
    {
     "data": {
      "text/plain": [
       "dict_keys(['a', 'b', 'c'])"
      ]
     },
     "execution_count": 114,
     "metadata": {},
     "output_type": "execute_result"
    }
   ],
   "source": [
    "d.keys()"
   ]
  },
  {
   "cell_type": "code",
   "execution_count": 115,
   "metadata": {},
   "outputs": [
    {
     "data": {
      "text/plain": [
       "dict_values([1, 2, 3])"
      ]
     },
     "execution_count": 115,
     "metadata": {},
     "output_type": "execute_result"
    }
   ],
   "source": [
    "d.values()"
   ]
  },
  {
   "cell_type": "code",
   "execution_count": 116,
   "metadata": {},
   "outputs": [
    {
     "data": {
      "text/plain": [
       "dict_items([('a', 1), ('b', 2), ('c', 3)])"
      ]
     },
     "execution_count": 116,
     "metadata": {},
     "output_type": "execute_result"
    }
   ],
   "source": [
    "d.items()"
   ]
  },
  {
   "cell_type": "code",
   "execution_count": 117,
   "metadata": {},
   "outputs": [
    {
     "data": {
      "text/plain": [
       "1"
      ]
     },
     "execution_count": 117,
     "metadata": {},
     "output_type": "execute_result"
    }
   ],
   "source": [
    "d['a']"
   ]
  },
  {
   "cell_type": "markdown",
   "metadata": {},
   "source": [
    "## управление"
   ]
  },
  {
   "cell_type": "code",
   "execution_count": 118,
   "metadata": {},
   "outputs": [
    {
     "name": "stdout",
     "output_type": "stream",
     "text": [
      "z\n"
     ]
    }
   ],
   "source": [
    "x=True\n",
    "y=False\n",
    "\n",
    "if not x:\n",
    "    print('x')\n",
    "elif y:\n",
    "    print('y')\n",
    "else:\n",
    "    print('z')"
   ]
  },
  {
   "cell_type": "code",
   "execution_count": 119,
   "metadata": {},
   "outputs": [
    {
     "data": {
      "text/plain": [
       "2"
      ]
     },
     "execution_count": 119,
     "metadata": {},
     "output_type": "execute_result"
    }
   ],
   "source": [
    "a = 1 if y else 2\n",
    "a"
   ]
  },
  {
   "cell_type": "markdown",
   "metadata": {},
   "source": [
    "## циклы"
   ]
  },
  {
   "cell_type": "code",
   "execution_count": 121,
   "metadata": {},
   "outputs": [
    {
     "name": "stdout",
     "output_type": "stream",
     "text": [
      "0\n",
      "1\n",
      "2\n",
      "3\n",
      "4\n"
     ]
    }
   ],
   "source": [
    "i=0 \n",
    "while i<5:\n",
    "    print(i)\n",
    "    i+=1"
   ]
  },
  {
   "cell_type": "code",
   "execution_count": 122,
   "metadata": {},
   "outputs": [
    {
     "name": "stdout",
     "output_type": "stream",
     "text": [
      "1\n",
      "2\n",
      "3\n",
      "4\n"
     ]
    }
   ],
   "source": [
    "for x in [1,2,3,4]: \n",
    "    print(x)"
   ]
  },
  {
   "cell_type": "code",
   "execution_count": 123,
   "metadata": {},
   "outputs": [
    {
     "name": "stdout",
     "output_type": "stream",
     "text": [
      "0\n",
      "1\n",
      "2\n",
      "3\n",
      "4\n",
      "5\n"
     ]
    }
   ],
   "source": [
    "# repeat until\n",
    "i=0   \n",
    "while True:\n",
    "    print(i)\n",
    "    i+=1\n",
    "    if i>5: break"
   ]
  },
  {
   "cell_type": "markdown",
   "metadata": {},
   "source": [
    "## элементы функционального программирования"
   ]
  },
  {
   "cell_type": "code",
   "execution_count": 124,
   "metadata": {},
   "outputs": [
    {
     "data": {
      "text/plain": [
       "['a_d', 'b_d', 'c_d']"
      ]
     },
     "execution_count": 124,
     "metadata": {},
     "output_type": "execute_result"
    }
   ],
   "source": [
    "# применение операции на списке\n",
    "list( map( lambda с: с+'_d' , [ 'a','b','c'] ) ) "
   ]
  },
  {
   "cell_type": "code",
   "execution_count": 125,
   "metadata": {},
   "outputs": [
    {
     "data": {
      "text/plain": [
       "24"
      ]
     },
     "execution_count": 125,
     "metadata": {},
     "output_type": "execute_result"
    }
   ],
   "source": [
    "# сворачивание списка\n",
    "from functools import reduce\n",
    "product = reduce((lambda x,y: x*y), [1, 2, 3, 4])\n",
    "product"
   ]
  },
  {
   "cell_type": "code",
   "execution_count": 126,
   "metadata": {},
   "outputs": [
    {
     "data": {
      "text/plain": [
       "[-5, -4, -3, -2, -1]"
      ]
     },
     "execution_count": 126,
     "metadata": {},
     "output_type": "execute_result"
    }
   ],
   "source": [
    "# фильтрация по условию\n",
    "number_list = range(-5, 5)\n",
    "less_than_zero = list(filter(lambda x: x < 0, number_list))\n",
    "less_than_zero"
   ]
  },
  {
   "cell_type": "markdown",
   "metadata": {},
   "source": [
    "## исключения"
   ]
  },
  {
   "cell_type": "code",
   "execution_count": 127,
   "metadata": {},
   "outputs": [
    {
     "name": "stdout",
     "output_type": "stream",
     "text": [
      "исключение: division by zero\n",
      "завершение\n"
     ]
    }
   ],
   "source": [
    "x = 10\n",
    "try:\n",
    "    x = x/0\n",
    "except Exception as e:\n",
    "    print(f'исключение: {e}')\n",
    "finally:    \n",
    "    print('завершение')\n"
   ]
  },
  {
   "cell_type": "markdown",
   "metadata": {},
   "source": [
    "## ввод / вывод "
   ]
  },
  {
   "cell_type": "code",
   "execution_count": 129,
   "metadata": {},
   "outputs": [],
   "source": [
    "x='''У лукоморья дуб зелёный;\n",
    "Златая цепь на дубе том:\n",
    "И днём и ночью кот учёный\n",
    "Всё ходит по цепи кругом;\n",
    "Идёт направо - песнь заводит,\n",
    "Налево - сказку говорит.\n",
    "Там чудеса: там леший бродит,\n",
    "Русалка на ветвях сидит;\n",
    "Там на неведомых дорожках\n",
    "Следы невиданных зверей;\n",
    "Избушка там на курьих ножках\n",
    "Стоит без окон, без дверей;\n",
    "'''"
   ]
  },
  {
   "cell_type": "code",
   "execution_count": 130,
   "metadata": {},
   "outputs": [
    {
     "data": {
      "text/plain": [
       "320"
      ]
     },
     "execution_count": 130,
     "metadata": {},
     "output_type": "execute_result"
    }
   ],
   "source": [
    "with open('temp.txt','wt') as f: f.write(x) # запись в файл"
   ]
  },
  {
   "cell_type": "code",
   "execution_count": 131,
   "metadata": {},
   "outputs": [
    {
     "name": "stdout",
     "output_type": "stream",
     "text": [
      "У лукоморья дуб зелёный;\n",
      "Златая цепь на дубе том:\n",
      "И днём и ночью кот учёный\n",
      "Всё ходит по цепи кругом;\n",
      "Идёт направо - песнь заводит,\n",
      "Налево - сказку говорит.\n",
      "Там чудеса: там леший бродит,\n",
      "Русалка на ветвях сидит;\n",
      "Там на неведомых дорожках\n",
      "Следы невиданных зверей;\n",
      "Избушка там на курьих ножках\n",
      "Стоит без окон, без дверей;\n",
      "\n"
     ]
    }
   ],
   "source": [
    "with open('temp.txt','rt') as f: x = f.read()  # чтение из файла\n",
    "print(x)    "
   ]
  },
  {
   "cell_type": "code",
   "execution_count": 132,
   "metadata": {},
   "outputs": [
    {
     "data": {
      "text/plain": [
       "['У лукоморья дуб зелёный;',\n",
       " 'Златая цепь на дубе том:',\n",
       " 'И днём и ночью кот учёный',\n",
       " 'Всё ходит по цепи кругом;',\n",
       " 'Идёт направо - песнь заводит,',\n",
       " 'Налево - сказку говорит.',\n",
       " 'Там чудеса: там леший бродит,',\n",
       " 'Русалка на ветвях сидит;',\n",
       " 'Там на неведомых дорожках',\n",
       " 'Следы невиданных зверей;',\n",
       " 'Избушка там на курьих ножках',\n",
       " 'Стоит без окон, без дверей;']"
      ]
     },
     "execution_count": 132,
     "metadata": {},
     "output_type": "execute_result"
    }
   ],
   "source": [
    "# чтение из файла с нарезкой на отдельные строки в список\n",
    "with open('temp.txt','rt') as f:   \n",
    "    x = [ s.strip() for s in f.read().split('\\n') if s.strip() ]\n",
    "    \n",
    "x    "
   ]
  },
  {
   "cell_type": "markdown",
   "metadata": {},
   "source": [
    "## функции"
   ]
  },
  {
   "cell_type": "code",
   "execution_count": 133,
   "metadata": {},
   "outputs": [
    {
     "name": "stdout",
     "output_type": "stream",
     "text": [
      "-1\n"
     ]
    },
    {
     "data": {
      "text/plain": [
       "0"
      ]
     },
     "execution_count": 133,
     "metadata": {},
     "output_type": "execute_result"
    },
    {
     "data": {
      "text/plain": [
       "2.5"
      ]
     },
     "execution_count": 133,
     "metadata": {},
     "output_type": "execute_result"
    }
   ],
   "source": [
    "def myfunc(x,y=1):\n",
    "    print(x)\n",
    "    return x+1,y/2\n",
    "\n",
    "\n",
    "a,b = myfunc(y=5,x=-1)\n",
    "a\n",
    "b"
   ]
  },
  {
   "cell_type": "markdown",
   "metadata": {},
   "source": [
    "## итераторы"
   ]
  },
  {
   "cell_type": "markdown",
   "metadata": {},
   "source": [
    "объект перечислитель\n",
    "\n",
    "реализует навигацию по элементам другого объекта\n",
    "\n",
    "выдаёт следующий элемент __next__()\n",
    "\n",
    "если элементов больше нет \n",
    "то бросает исключение"
   ]
  },
  {
   "cell_type": "code",
   "execution_count": 134,
   "metadata": {},
   "outputs": [
    {
     "data": {
      "text/plain": [
       "'a'"
      ]
     },
     "execution_count": 134,
     "metadata": {},
     "output_type": "execute_result"
    },
    {
     "name": "stdout",
     "output_type": "stream",
     "text": [
      "b\n",
      "c\n",
      "d\n",
      "e\n",
      "f\n"
     ]
    }
   ],
   "source": [
    "s='abcdef'\n",
    "it_s = iter(s)\n",
    "it_s.__next__()\n",
    "for c in it_s: print(c)"
   ]
  },
  {
   "cell_type": "code",
   "execution_count": 135,
   "metadata": {},
   "outputs": [
    {
     "name": "stdout",
     "output_type": "stream",
     "text": [
      "a\n",
      "b\n",
      "c\n",
      "d\n",
      "e\n",
      "f\n"
     ]
    }
   ],
   "source": [
    "s='abcdef'\n",
    "for c in s: print(c)"
   ]
  },
  {
   "cell_type": "markdown",
   "metadata": {},
   "source": [
    "## генераторы"
   ]
  },
  {
   "cell_type": "markdown",
   "metadata": {},
   "source": [
    "генерирует последовательность"
   ]
  },
  {
   "cell_type": "code",
   "execution_count": 136,
   "metadata": {},
   "outputs": [
    {
     "name": "stdout",
     "output_type": "stream",
     "text": [
      "1\n",
      "1\n",
      "1\n",
      "1\n"
     ]
    }
   ],
   "source": [
    "def ones(n):\n",
    "    while n > 0:\n",
    "        n -= 1\n",
    "        yield 1\n",
    "\n",
    "for o in ones(4): \n",
    "    print(o)"
   ]
  },
  {
   "cell_type": "markdown",
   "metadata": {},
   "source": [
    "## ООП"
   ]
  },
  {
   "cell_type": "markdown",
   "metadata": {},
   "source": [
    "__всё есть объекты__"
   ]
  },
  {
   "cell_type": "markdown",
   "metadata": {},
   "source": [
    "\n",
    "неизменяемые типы ( присваивание создаёт новый объект )\n",
    "\n",
    "_immutable types_: \n",
    "  int float bool string tuple frozenset "
   ]
  },
  {
   "cell_type": "code",
   "execution_count": 137,
   "metadata": {},
   "outputs": [
    {
     "data": {
      "text/plain": [
       "126824314441288"
      ]
     },
     "execution_count": 137,
     "metadata": {},
     "output_type": "execute_result"
    },
    {
     "data": {
      "text/plain": [
       "126824314441320"
      ]
     },
     "execution_count": 137,
     "metadata": {},
     "output_type": "execute_result"
    }
   ],
   "source": [
    "test = 10\n",
    "id(test)\n",
    "\n",
    "test += 1 # присваивание создаёт новый объект\n",
    "id(test)"
   ]
  },
  {
   "cell_type": "markdown",
   "metadata": {},
   "source": [
    "изменяемые типы\n",
    "\n",
    "_mutable types_: \n",
    "  list dict set "
   ]
  },
  {
   "cell_type": "code",
   "execution_count": 138,
   "metadata": {},
   "outputs": [
    {
     "data": {
      "text/plain": [
       "126824211029824"
      ]
     },
     "execution_count": 138,
     "metadata": {},
     "output_type": "execute_result"
    },
    {
     "data": {
      "text/plain": [
       "126824211029824"
      ]
     },
     "execution_count": 138,
     "metadata": {},
     "output_type": "execute_result"
    }
   ],
   "source": [
    "test = [ 10 ]\n",
    "id(test)\n",
    "\n",
    "test += [ 1 ] # присваивание изменяет объект\n",
    "id(test)"
   ]
  },
  {
   "cell_type": "code",
   "execution_count": 139,
   "metadata": {},
   "outputs": [
    {
     "name": "stdout",
     "output_type": "stream",
     "text": [
      "Help on built-in function id in module builtins:\n",
      "\n",
      "id(obj, /)\n",
      "    Return the identity of an object.\n",
      "    \n",
      "    This is guaranteed to be unique among simultaneously existing objects.\n",
      "    (CPython uses the object's memory address.)\n",
      "\n"
     ]
    }
   ],
   "source": [
    "help(id)"
   ]
  },
  {
   "cell_type": "markdown",
   "metadata": {},
   "source": [
    "---"
   ]
  },
  {
   "cell_type": "code",
   "execution_count": 140,
   "metadata": {},
   "outputs": [
    {
     "data": {
      "text/plain": [
       "33"
      ]
     },
     "execution_count": 140,
     "metadata": {},
     "output_type": "execute_result"
    },
    {
     "data": {
      "text/plain": [
       "1"
      ]
     },
     "execution_count": 140,
     "metadata": {},
     "output_type": "execute_result"
    },
    {
     "data": {
      "text/plain": [
       "3"
      ]
     },
     "execution_count": 140,
     "metadata": {},
     "output_type": "execute_result"
    },
    {
     "data": {
      "text/plain": [
       "3"
      ]
     },
     "execution_count": 140,
     "metadata": {},
     "output_type": "execute_result"
    },
    {
     "data": {
      "text/plain": [
       "31"
      ]
     },
     "execution_count": 140,
     "metadata": {},
     "output_type": "execute_result"
    }
   ],
   "source": [
    "class A:\n",
    "    field0 = 0 # public\n",
    "    _field1 = 1 # protected\n",
    "    __field2 = 3 # private \n",
    "    \n",
    "    def __init__(self, field0=12):\n",
    "        self.field0 = field0\n",
    "    \n",
    "    @property\n",
    "    def field2(self):\n",
    "        return self.__field2\n",
    "    \n",
    "    def method0(self):\n",
    "        return self.field0+self._field1-self.__field2\n",
    "    \n",
    "a = A(33)\n",
    "a.field0\n",
    "a._field1\n",
    "\n",
    "a.field2\n",
    "# a.__field2 # Error!\n",
    "a._A__field2\n",
    "\n",
    "a.method0()"
   ]
  },
  {
   "cell_type": "code",
   "execution_count": 141,
   "metadata": {},
   "outputs": [
    {
     "name": "stdout",
     "output_type": "stream",
     "text": [
      "Grr...!\n",
      "Grr...!\n",
      "Woof!\n"
     ]
    }
   ],
   "source": [
    "class Animal:\n",
    "    \n",
    "    # конструктор \n",
    "    def __init__(self, name, color):\n",
    "        self.name = name\n",
    "        self.color = color\n",
    "\n",
    "class Wolf(Animal):\n",
    "    def bark(self):\n",
    "        print(\"Grr...!\")\n",
    "\n",
    "\n",
    "class Dog(Wolf):\n",
    "    def bark(self):\n",
    "        super().bark()\n",
    "        print(\"Woof!\")\n",
    "    def __repr__(self):\n",
    "        return \"Dog({})\".format(self.name)    \n",
    "    \n",
    "Wolf('J','gray').bark()\n",
    "Dog('B','black').bark()    "
   ]
  },
  {
   "cell_type": "markdown",
   "metadata": {},
   "source": [
    "### ООП декораторы"
   ]
  },
  {
   "cell_type": "code",
   "execution_count": 142,
   "metadata": {},
   "outputs": [],
   "source": [
    "class Rectangle:\n",
    "    def __init__(self, width, height):\n",
    "        self.width = width\n",
    "        self.height = height\n",
    "        self._allowed = False\n",
    "\n",
    "    def calculate_area(self):\n",
    "        return self.width * self.height\n",
    "\n",
    "    @classmethod\n",
    "    def new_square(cls, side_length):\n",
    "        return cls(side_length, side_length)\n",
    "\n",
    "    @staticmethod\n",
    "    def square(a):\n",
    "        return a**2\n",
    "\n",
    "    @property\n",
    "    def allowed(self):\n",
    "        return self._allowed\n",
    "\n",
    "    @allowed.setter\n",
    "    def allowed(self, value):\n",
    "        self._allowed = not(value)"
   ]
  },
  {
   "cell_type": "code",
   "execution_count": 143,
   "metadata": {},
   "outputs": [
    {
     "name": "stdout",
     "output_type": "stream",
     "text": [
      "25\n",
      "True\n",
      "16\n"
     ]
    }
   ],
   "source": [
    "sq = Rectangle.new_square(5)\n",
    "\n",
    "print(sq.calculate_area())\n",
    "# 25\n",
    "sq.allowed=0 \n",
    "print(sq.allowed)\n",
    "# True\n",
    "print(Rectangle.square(4))\n",
    "# 16"
   ]
  },
  {
   "cell_type": "markdown",
   "metadata": {},
   "source": [
    "## модули"
   ]
  },
  {
   "cell_type": "code",
   "execution_count": 144,
   "metadata": {},
   "outputs": [],
   "source": [
    "import math"
   ]
  },
  {
   "cell_type": "code",
   "execution_count": 145,
   "metadata": {},
   "outputs": [
    {
     "data": {
      "text/plain": [
       "1.0"
      ]
     },
     "execution_count": 145,
     "metadata": {},
     "output_type": "execute_result"
    }
   ],
   "source": [
    "from math import log\n",
    "\n",
    "log( math.e )"
   ]
  },
  {
   "cell_type": "markdown",
   "metadata": {},
   "source": [
    "## справка"
   ]
  },
  {
   "cell_type": "code",
   "execution_count": 146,
   "metadata": {},
   "outputs": [
    {
     "name": "stdout",
     "output_type": "stream",
     "text": [
      "{'A': <class '__main__.A'>,\n",
      " 'Animal': <class '__main__.Animal'>,\n",
      " 'Dog': <class '__main__.Dog'>,\n",
      " 'In': ['',\n",
      "        '# печатать выдачу всех строк ячейки\\n'\n",
      "        'from IPython.core.interactiveshell import InteractiveShell\\n'\n",
      "        \"InteractiveShell.ast_node_interactivity = 'all'\\n\"\n",
      "        \"# InteractiveShell.ast_node_interactivity = 'last_expr'\",\n",
      "        'a=True\\n\\nb=False',\n",
      "        'a==b',\n",
      "        'a!=b',\n",
      "        'a and b ',\n",
      "        'a or b ',\n",
      "        'not a or b ',\n",
      "        'a = 34\\n\\nb = -7.3\\n\\nc = -.3\\n\\nd = 3e-4',\n",
      "        'a = 34 # int\\n\\nb = -7.3 # float\\nc = -.3\\nd = 3e-4',\n",
      "        'a>b',\n",
      "        'a<=c',\n",
      "        'a+b',\n",
      "        'a*b',\n",
      "        'a**3',\n",
      "        'a-c',\n",
      "        'a/b',\n",
      "        'a%3 # остаток от деления',\n",
      "        'a//3 # целая часть от деления',\n",
      "        '255 | 128  # битовое или',\n",
      "        '255 & 64 # битовое и',\n",
      "        '255 ^ 128 # битовое xor',\n",
      "        '255>>2 # сдвиг',\n",
      "        '# системы счисления\\n'\n",
      "        'n = 23 # десятичное представление\\n'\n",
      "        '\\n'\n",
      "        'bin(n) # бинарное\\n'\n",
      "        'oct(n) # восьмеричное \\n'\n",
      "        'hex(n) # шестнадцатеричное\\n'\n",
      "        '\\n'\n",
      "        'n.bit_length() # количество бит в двоичном представлении',\n",
      "        '# системы счисления\\n'\n",
      "        'n = 23 # десятичное представление\\n'\n",
      "        '\\n'\n",
      "        'bin(n) # бинарное\\n'\n",
      "        'oct(n) # восьмеричное \\n'\n",
      "        'hex(n) # шестнадцатеричное\\n'\n",
      "        '\\n'\n",
      "        'n.bit_length() # количество бит в двоичном представлении',\n",
      "        'bin(255)\\nbin(128)\\nbin( 255 | 128 )  # битовое или',\n",
      "        'bin(255)\\nbin(64)\\nbin( 255 & 64 ) # битовое и',\n",
      "        'bin(255)\\nbin(128)\\nbin( 255 ^ 128) # битовое xorbin',\n",
      "        'bin(255)\\nbin(255>>2) # сдвиг',\n",
      "        'a=None',\n",
      "        'a,b = 1,2\\na,b = b,a\\na = 10\\na += 7',\n",
      "        'a = \\'превед\\'\\n\\nb = \"медвед\"\\n\\nc=\\'\\'\\'это две\\n     строки\\'\\'\\'',\n",
      "        'a+b',\n",
      "        \"(a+' ')*4\",\n",
      "        \"'%i_%s'%(1,'a')\",\n",
      "        \"'{1}_{0}'.format(1,'a')\",\n",
      "        \"f'{a}'\",\n",
      "        \"f'{a} {b}'\",\n",
      "        'len(a)',\n",
      "        \"a.search('me')\",\n",
      "        \"a.find('')\",\n",
      "        \"a.find('ри')\",\n",
      "        \"a.find('ре')\",\n",
      "        \"a.find('ве')\",\n",
      "        'a[1:]',\n",
      "        '# способы определения списков\\n'\n",
      "        '\\n'\n",
      "        'a = [1,3,2,4]\\n'\n",
      "        '\\n'\n",
      "        \"b = list(['a','bbb','cc'])\\n\"\n",
      "        '\\n'\n",
      "        \"c = ['a',['bbb',45], False ]\",\n",
      "        '# начало, конец, шаг\\nlist( range(-15, 15, 2) ) ',\n",
      "        '[ i/2 for i in  a ]',\n",
      "        '[ i/2 for i in  a ] # list comprehension',\n",
      "        '[ i+1 for i in  a if i!=2 ]',\n",
      "        '[ i+1 for i in a if i!=2 ]',\n",
      "        '[ i/2 for i in range(10) if i!=3  ]',\n",
      "        \"[ '%i_%s'%(i,s) for i,s in enumerate(b) ]\",\n",
      "        'a = [1,2,3,4]\\n'\n",
      "        \"s = 'abcd'\\n\"\n",
      "        \"[ '%i_%i_%s'%(i,x,y) for i,x,y in enumerate(zip(a,s)) ]\",\n",
      "        '# a = [1,2,3,4]\\n'\n",
      "        \"# s = 'abcd'\\n\"\n",
      "        \"# [ '%i_%i_%s'%(i,x,y) for i,x,y in enumerate(zip(a,s)) ]\\n\"\n",
      "        '\\n'\n",
      "        'a = [1,2,3,4]\\n'\n",
      "        \"s = 'abcd'\\n\"\n",
      "        \"[ '%i_%i_%s'%(i,x,y) for x,y in zip(a,s) ]\",\n",
      "        'a = [1,2,3,4]\\n'\n",
      "        \"s = 'abcd'\\n\"\n",
      "        \"[ '%i_%i_%s'%(i,x,y) for i,(x,y) in enumerate(zip(a,s)) ]\\n\"\n",
      "        '\\n'\n",
      "        '# a = [1,2,3,4]\\n'\n",
      "        \"# s = 'abcd'\\n\"\n",
      "        \"# [ '%i_%i_%s'%(i,x,y) for i,x,y izip(a,s) ]\",\n",
      "        'a = [1,2,3,4]\\n'\n",
      "        \"s = 'abcd'\\n\"\n",
      "        '\\n'\n",
      "        \"[ '%i_%s'%(x,y) for x,y in zip(a,s) ]\\n\"\n",
      "        '\\n'\n",
      "        \"# [ '%i_%i_%s'%(i,x,y) for i,(x,y) in enumerate(zip(a,s)) ]\\n\"\n",
      "        '\\n'\n",
      "        '# a = [1,2,3,4]\\n'\n",
      "        \"# s = 'abcd'\\n\"\n",
      "        \"# [ '%i_%i_%s'%(i,x,y) for i,x,y izip(a,s) ]\",\n",
      "        'a = [1,2,3,4]\\n'\n",
      "        \"s = 'abcd'\\n\"\n",
      "        '\\n'\n",
      "        \"[ '%i_%s'%(x,y) for x,y in zip(a,s) ]\\n\"\n",
      "        '\\n'\n",
      "        \"[ '%i_%i_%s'%(i,x,y) for i,(x,y) in enumerate(zip(a,s)) ]\",\n",
      "        'a = [1,2,3,4]\\n'\n",
      "        \"s = 'abcd'\\n\"\n",
      "        '\\n'\n",
      "        \"[ '%i_%s'%(x,y) for x,y in zip(a,s) ]\\n\"\n",
      "        '\\n'\n",
      "        \"[ '%i_%i_%s'%(i,x,y) for i,(x,y) in enumerate( zip(a,s) ) ]\",\n",
      "        'a = [1,2,3,4]',\n",
      "        '[ i/2 for i in  a ]',\n",
      "        '[ i for i in a if i!=2 ] # исключаем ',\n",
      "        '[ i for i in range(10) if i!=3  ]',\n",
      "        \"[ '%i_%s'%(i,s) for i,s in enumerate('abcd') ] # нумеруем \"\n",
      "        'последовательность  ',\n",
      "        \"[ '%i_%s'%(x,y) for x,y in zip(range(4),'abcd') ]\\n\"\n",
      "        '\\n'\n",
      "        \"# [ '%i_%i_%s'%(i,x,y) for i,(x,y) in enumerate( zip(a,s) ) ]\",\n",
      "        \"[ '%i_%i_%s'%(i,x,y) for i,(x,y) in enumerate( zip(range(4),'abcd') ) \"\n",
      "        '] # собираем пары из двух списков и нумеруем',\n",
      "        '# способы определения списков\\n'\n",
      "        '\\n'\n",
      "        'a = [1,3,2,4]\\n'\n",
      "        '\\n'\n",
      "        \"b = list(['a','bbb','cc'])\\n\"\n",
      "        '\\n'\n",
      "        \"c = ['a',['bbb',45], False ]\\n\"\n",
      "        '\\n'\n",
      "        '# начало, конец, шаг\\n'\n",
      "        'd = list( range(-15, 15, 2) ) ',\n",
      "        'len(a) # длина',\n",
      "        'sorted(a) # сортировка',\n",
      "        '2 in a # проверка вхождения ',\n",
      "        'a.append(9) # добавить элемент\\na',\n",
      "        '# вставить элемент в позицию\\na[3] = 33\\na.insert(5,78)\\na',\n",
      "        '[1,3,2,4].append(9) # добавить элемент\\na',\n",
      "        '[1,3,2,4].append(9) # добавить элемент\\n# a',\n",
      "        '# способы определения списков\\n'\n",
      "        '[1,3,2,4]\\n'\n",
      "        '\\n'\n",
      "        \"list(['a','bbb','cc'])\\n\"\n",
      "        '\\n'\n",
      "        \"['a',['bbb',45], False ]\\n\"\n",
      "        '\\n'\n",
      "        'list( range(-15, 15, 2) ) # начало, конец, шаг',\n",
      "        '[1,3,2,4] # простой\\n'\n",
      "        '\\n'\n",
      "        \"['a',['bbb',45], False ] # сложный\\n\"\n",
      "        '\\n'\n",
      "        'list( range(-15, 15, 2) ) # с помощью генератора (начало, конец, шаг)',\n",
      "        'len( [1,3,2,4] ) # длина',\n",
      "        'sorted( [1,3,2,4] ) # сортировка',\n",
      "        '2 in [1,3,2,4] # проверка вхождения ',\n",
      "        '# чтение элемента\\n\\n[1,3,2,4].index(2) \\n[1,3,2,4][0]',\n",
      "        '# начало:конец:шаг\\n# a = list(range(20))\\nlist(range(20))[9:1:-2]',\n",
      "        '[1,3,2,4][-1] # последний элемент',\n",
      "        '[1,3,2,4][::-1] # в обратном порядке',\n",
      "        '[2,4,24,5]+[0,9,8,] # конкатенация списков',\n",
      "        'a = [1,3,2,4]',\n",
      "        '# вставить элемент в позицию\\na[3] = 33\\na.insert(5,78)\\na',\n",
      "        'a.append(9) # добавить элемент\\na',\n",
      "        'a = [1,3,2,4]',\n",
      "        'a.append(9) # добавить элемент\\na',\n",
      "        '# вставить элемент в позицию\\na[3] = 33\\na.insert(5,78)\\na',\n",
      "        '# вставить элемент в позицию\\na[3] = 33\\na.insert(2,78)\\na',\n",
      "        'a = [1,3,2,4]',\n",
      "        'a.append(9) # добавить элемент\\na',\n",
      "        '# вставить элемент в позицию\\na[3] = 33\\na.insert(2,78)\\na',\n",
      "        '[ i for i in [1,2,3,4] if i!=2 ] # исключаем 2',\n",
      "        \"a = (1,2,3,4)\\nb = tuple(['a','bbb','cc'])\",\n",
      "        'a[2]',\n",
      "        'a[2] = 3 # Error!',\n",
      "        'a = set([1,2,3,2,4,1])\\n\\nb = set([3,2,4])',\n",
      "        'a',\n",
      "        'a[0] # Error!',\n",
      "        'a.add(7)',\n",
      "        'a - b',\n",
      "        'a & b',\n",
      "        'a | b ',\n",
      "        'a ^ b ',\n",
      "        'c = frozenset([1,2,3,2,4,1])',\n",
      "        'c = frozenset([1,2,3,2,4,1])\\nc',\n",
      "        'c.add(7)',\n",
      "        \"a = { 'a':1, 'b':2, 'c':3 }\",\n",
      "        'a.keys()',\n",
      "        'a.values()',\n",
      "        \"a['a']\",\n",
      "        \"d = { 'a':1, 'b':2, 'c':3 }\",\n",
      "        'd.keys()',\n",
      "        'd.values()',\n",
      "        'd.items()',\n",
      "        \"d['a']\",\n",
      "        'x=True\\n'\n",
      "        'y=False\\n'\n",
      "        '\\n'\n",
      "        'if not x:\\n'\n",
      "        \"    print('x')\\n\"\n",
      "        'elif y:\\n'\n",
      "        \"    print('y')\\n\"\n",
      "        'else:\\n'\n",
      "        \"    print('z')\",\n",
      "        'a = 1 if y else 2\\na',\n",
      "        'i=0   \\nwhile True:\\n    print(i)\\n    i+=1\\n    if i>5: break',\n",
      "        'i=0 \\nwhile i<5:\\n    print(i)\\n    i+=1',\n",
      "        'for x in [1,2,3,4]: \\n    print(x)',\n",
      "        '# repeat until\\n'\n",
      "        'i=0   \\n'\n",
      "        'while True:\\n'\n",
      "        '    print(i)\\n'\n",
      "        '    i+=1\\n'\n",
      "        '    if i>5: break',\n",
      "        '# применение операции на списке\\n'\n",
      "        \"list( map( lambda с: с+'_d' , [ 'a','b','c'] ) ) \",\n",
      "        '# сворачивание списка\\n'\n",
      "        'from functools import reduce\\n'\n",
      "        'product = reduce((lambda x,y: x*y), [1, 2, 3, 4])\\n'\n",
      "        'product',\n",
      "        '# фильтрация по условию\\n'\n",
      "        'number_list = range(-5, 5)\\n'\n",
      "        'less_than_zero = list(filter(lambda x: x < 0, number_list))\\n'\n",
      "        'less_than_zero',\n",
      "        'x = 10\\n'\n",
      "        'try:\\n'\n",
      "        '    x = x/0\\n'\n",
      "        'except Exception as e:\\n'\n",
      "        \"    print(f'исключение: {e}')\\n\"\n",
      "        'finally:    \\n'\n",
      "        \"    print('завершение')\",\n",
      "        \"x='''У лукоморья дуб зелёный;\\n\"\n",
      "        'Златая цепь на дубе том:\\n'\n",
      "        'И днём и ночью кот учёный\\n'\n",
      "        'Всё ходит по цепи кругом;\\n'\n",
      "        'Идёт направо - песнь заводит,\\n'\n",
      "        'Налево - сказку говорит.\\n'\n",
      "        'Там чудеса: там леший бродит,\\n'\n",
      "        'Русалка на ветвях сидит;\\n'\n",
      "        'Там на неведомых дорожках\\n'\n",
      "        'Следы невиданных зверей;\\n'\n",
      "        'Избушка там на курьих ножках\\n'\n",
      "        'Стоит без окон, без дверей;\\n'\n",
      "        \"'''\",\n",
      "        \"x='''У лукоморья дуб зелёный;\\n\"\n",
      "        'Златая цепь на дубе том:\\n'\n",
      "        'И днём и ночью кот учёный\\n'\n",
      "        'Всё ходит по цепи кругом;\\n'\n",
      "        'Идёт направо - песнь заводит,\\n'\n",
      "        'Налево - сказку говорит.\\n'\n",
      "        'Там чудеса: там леший бродит,\\n'\n",
      "        'Русалка на ветвях сидит;\\n'\n",
      "        'Там на неведомых дорожках\\n'\n",
      "        'Следы невиданных зверей;\\n'\n",
      "        'Избушка там на курьих ножках\\n'\n",
      "        'Стоит без окон, без дверей;\\n'\n",
      "        \"'''\",\n",
      "        \"with open('temp.txt','wt') as f: f.write(x) # запись в файл\",\n",
      "        \"with open('temp.txt','rt') as f: x = f.read()  # чтение из файла\\n\"\n",
      "        'print(x)    ',\n",
      "        \"with open('temp.txt','rt') as f:   \\n\"\n",
      "        \"    x = [ s.strip() for s in f.read().split('\\\\n') if s.strip() ]\\n\"\n",
      "        '    \\n'\n",
      "        'x    ',\n",
      "        'def myfunc(x,y=1):\\n'\n",
      "        '    print(x)\\n'\n",
      "        '    return x+1,y/2\\n'\n",
      "        '\\n'\n",
      "        '\\n'\n",
      "        'a,b = myfunc(y=5,x=-1)\\n'\n",
      "        'a\\n'\n",
      "        'b',\n",
      "        \"s='abcdef'\\nit_s = iter(s)\\nit_s.__next__()\\nfor c in it_s: print(c)\",\n",
      "        \"s='abcdef'\\nfor c in s: print(c)\",\n",
      "        'def ones(n):\\n'\n",
      "        '    while n > 0:\\n'\n",
      "        '        n -= 1\\n'\n",
      "        '        yield 1\\n'\n",
      "        '\\n'\n",
      "        'for o in ones(4): \\n'\n",
      "        '    print(o)',\n",
      "        'test = 10\\nid(test)\\n\\ntest += 1\\nid(test)',\n",
      "        'test = [ 10 ]\\nid(test)\\n\\ntest += [ 1 ]\\nid(test)',\n",
      "        'help(id)',\n",
      "        'class A:\\n'\n",
      "        '    field0 = 0 # public\\n'\n",
      "        '    _field1 = 1 # protected\\n'\n",
      "        '    __field2 = 3 # private \\n'\n",
      "        '    \\n'\n",
      "        '    def __init__(self, field0=12):\\n'\n",
      "        '        self.field0 = field0\\n'\n",
      "        '    \\n'\n",
      "        '    @property\\n'\n",
      "        '    def field2(self):\\n'\n",
      "        '        return self.__field2\\n'\n",
      "        '    \\n'\n",
      "        '    def method0(self):\\n'\n",
      "        '        return self.field0+self._field1-self.__field2\\n'\n",
      "        '    \\n'\n",
      "        'a = A(33)\\n'\n",
      "        'a.field0\\n'\n",
      "        'a._field1\\n'\n",
      "        '\\n'\n",
      "        'a.field2\\n'\n",
      "        '# a.__field2 # Error!\\n'\n",
      "        'a._A__field2\\n'\n",
      "        '\\n'\n",
      "        'a.method0()',\n",
      "        'class Animal:\\n'\n",
      "        '    \\n'\n",
      "        '    # конструктор \\n'\n",
      "        '    def __init__(self, name, color):\\n'\n",
      "        '        self.name = name\\n'\n",
      "        '        self.color = color\\n'\n",
      "        '\\n'\n",
      "        'class Wolf(Animal):\\n'\n",
      "        '    def bark(self):\\n'\n",
      "        '        print(\"Grr...!\")\\n'\n",
      "        '\\n'\n",
      "        '\\n'\n",
      "        'class Dog(Wolf):\\n'\n",
      "        '    def bark(self):\\n'\n",
      "        '        super().bark()\\n'\n",
      "        '        print(\"Woof!\")\\n'\n",
      "        '    def __repr__(self):\\n'\n",
      "        '        return \"Dog({})\".format(self.name)    \\n'\n",
      "        '    \\n'\n",
      "        \"Wolf('J','gray').bark()\\n\"\n",
      "        \"Dog('B','black').bark()    \",\n",
      "        'class Rectangle:\\n'\n",
      "        '    def __init__(self, width, height):\\n'\n",
      "        '        self.width = width\\n'\n",
      "        '        self.height = height\\n'\n",
      "        '        self._allowed = False\\n'\n",
      "        '\\n'\n",
      "        '    def calculate_area(self):\\n'\n",
      "        '        return self.width * self.height\\n'\n",
      "        '\\n'\n",
      "        '    @classmethod\\n'\n",
      "        '    def new_square(cls, side_length):\\n'\n",
      "        '        return cls(side_length, side_length)\\n'\n",
      "        '\\n'\n",
      "        '    @staticmethod\\n'\n",
      "        '    def square(a):\\n'\n",
      "        '        return a**2\\n'\n",
      "        '\\n'\n",
      "        '    @property\\n'\n",
      "        '    def allowed(self):\\n'\n",
      "        '        return self._allowed\\n'\n",
      "        '\\n'\n",
      "        '    @allowed.setter\\n'\n",
      "        '    def allowed(self, value):\\n'\n",
      "        '        self._allowed = not(value)',\n",
      "        'sq = Rectangle.new_square(5)\\n'\n",
      "        '\\n'\n",
      "        'print(sq.calculate_area())\\n'\n",
      "        '# 25\\n'\n",
      "        'sq.allowed=0 \\n'\n",
      "        'print(sq.allowed)\\n'\n",
      "        '# True\\n'\n",
      "        'print(Rectangle.square(4))\\n'\n",
      "        '# 16',\n",
      "        'import math',\n",
      "        'from math import log\\n\\nlog( math.e )',\n",
      "        'from pprint import pprint\\n'\n",
      "        '# список задействованных имён \\n'\n",
      "        'pprint( globals() )'],\n",
      " 'InteractiveShell': <class 'IPython.core.interactiveshell.InteractiveShell'>,\n",
      " 'Out': {3: False,\n",
      "         4: True,\n",
      "         5: False,\n",
      "         6: True,\n",
      "         7: False,\n",
      "         10: True,\n",
      "         11: False,\n",
      "         12: 26.7,\n",
      "         13: -248.2,\n",
      "         14: 39304,\n",
      "         15: 34.3,\n",
      "         16: -4.657534246575342,\n",
      "         17: 1,\n",
      "         18: 11,\n",
      "         19: 255,\n",
      "         20: 64,\n",
      "         21: 127,\n",
      "         22: 63,\n",
      "         23: 5,\n",
      "         24: 5,\n",
      "         25: '0b11111111',\n",
      "         26: '0b1000000',\n",
      "         27: '0b1111111',\n",
      "         28: '0b111111',\n",
      "         32: 'преведмедвед',\n",
      "         33: 'превед превед превед превед ',\n",
      "         34: '1_a',\n",
      "         35: 'a_1',\n",
      "         36: 'превед',\n",
      "         37: 'превед медвед',\n",
      "         38: 6,\n",
      "         40: 0,\n",
      "         41: -1,\n",
      "         42: 1,\n",
      "         43: 3,\n",
      "         44: 'ревед',\n",
      "         46: [-15, -13, -11, -9, -7, -5, -3, -1, 1, 3, 5, 7, 9, 11, 13],\n",
      "         47: [0.5, 1.5, 1.0, 2.0],\n",
      "         48: [0.5, 1.5, 1.0, 2.0],\n",
      "         49: [2, 4, 5],\n",
      "         50: [2, 4, 5],\n",
      "         51: [0.0, 0.5, 1.0, 2.0, 2.5, 3.0, 3.5, 4.0, 4.5],\n",
      "         52: ['0_a', '1_bbb', '2_cc'],\n",
      "         55: ['0_1_a', '1_2_b', '2_3_c', '3_4_d'],\n",
      "         56: ['1_a', '2_b', '3_c', '4_d'],\n",
      "         57: ['0_1_a', '1_2_b', '2_3_c', '3_4_d'],\n",
      "         58: ['0_1_a', '1_2_b', '2_3_c', '3_4_d'],\n",
      "         60: [0.5, 1.0, 1.5, 2.0],\n",
      "         61: [1, 3, 4],\n",
      "         62: [0, 1, 2, 4, 5, 6, 7, 8, 9],\n",
      "         63: ['0_a', '1_b', '2_c', '3_d'],\n",
      "         64: ['0_a', '1_b', '2_c', '3_d'],\n",
      "         65: ['0_0_a', '1_1_b', '2_2_c', '3_3_d'],\n",
      "         67: 4,\n",
      "         68: [1, 2, 3, 4],\n",
      "         69: True,\n",
      "         70: [1, 3, 2, 33, 9, 78],\n",
      "         71: [1, 3, 2, 33, 9, 78],\n",
      "         72: [1, 3, 2, 33, 9, 78],\n",
      "         74: [-15, -13, -11, -9, -7, -5, -3, -1, 1, 3, 5, 7, 9, 11, 13],\n",
      "         75: [-15, -13, -11, -9, -7, -5, -3, -1, 1, 3, 5, 7, 9, 11, 13],\n",
      "         76: 4,\n",
      "         77: [1, 2, 3, 4],\n",
      "         78: True,\n",
      "         79: 1,\n",
      "         80: [9, 7, 5, 3],\n",
      "         81: 4,\n",
      "         82: [4, 2, 3, 1],\n",
      "         83: [2, 4, 24, 5, 0, 9, 8],\n",
      "         85: [1, 3, 2, 33, 78, 9],\n",
      "         86: [1, 3, 2, 33, 78, 9],\n",
      "         88: [1, 3, 78, 2, 33, 9, 78],\n",
      "         89: [1, 3, 78, 2, 33, 9, 78],\n",
      "         90: [1, 3, 78, 2, 33, 9, 78],\n",
      "         92: [1, 3, 78, 2, 33, 9],\n",
      "         93: [1, 3, 78, 2, 33, 9],\n",
      "         94: [1, 3, 4],\n",
      "         96: 3,\n",
      "         99: {1, 2, 3, 4, 7},\n",
      "         102: {1, 7},\n",
      "         103: {2, 3, 4},\n",
      "         104: {1, 2, 3, 4, 7},\n",
      "         105: {1, 7},\n",
      "         107: frozenset({1, 2, 3, 4}),\n",
      "         110: dict_keys(['a', 'b', 'c']),\n",
      "         111: dict_values([1, 2, 3]),\n",
      "         112: 1,\n",
      "         114: dict_keys(['a', 'b', 'c']),\n",
      "         115: dict_values([1, 2, 3]),\n",
      "         116: dict_items([('a', 1), ('b', 2), ('c', 3)]),\n",
      "         117: 1,\n",
      "         119: 2,\n",
      "         124: ['a_d', 'b_d', 'c_d'],\n",
      "         125: 24,\n",
      "         126: [-5, -4, -3, -2, -1],\n",
      "         130: 320,\n",
      "         132: ['У лукоморья дуб зелёный;',\n",
      "               'Златая цепь на дубе том:',\n",
      "               'И днём и ночью кот учёный',\n",
      "               'Всё ходит по цепи кругом;',\n",
      "               'Идёт направо - песнь заводит,',\n",
      "               'Налево - сказку говорит.',\n",
      "               'Там чудеса: там леший бродит,',\n",
      "               'Русалка на ветвях сидит;',\n",
      "               'Там на неведомых дорожках',\n",
      "               'Следы невиданных зверей;',\n",
      "               'Избушка там на курьих ножках',\n",
      "               'Стоит без окон, без дверей;'],\n",
      "         133: 2.5,\n",
      "         134: 'a',\n",
      "         137: 126824314441320,\n",
      "         138: 126824211029824,\n",
      "         140: 31,\n",
      "         145: 1.0},\n",
      " 'Rectangle': <class '__main__.Rectangle'>,\n",
      " 'Wolf': <class '__main__.Wolf'>,\n",
      " '_': 1.0,\n",
      " '_10': True,\n",
      " '_102': {1, 7},\n",
      " '_103': {2, 3, 4},\n",
      " '_104': {1, 2, 3, 4, 7},\n",
      " '_105': {1, 7},\n",
      " '_107': frozenset({1, 2, 3, 4}),\n",
      " '_11': False,\n",
      " '_110': dict_keys(['a', 'b', 'c']),\n",
      " '_111': dict_values([1, 2, 3]),\n",
      " '_112': 1,\n",
      " '_114': dict_keys(['a', 'b', 'c']),\n",
      " '_115': dict_values([1, 2, 3]),\n",
      " '_116': dict_items([('a', 1), ('b', 2), ('c', 3)]),\n",
      " '_117': 1,\n",
      " '_119': 2,\n",
      " '_12': 26.7,\n",
      " '_124': ['a_d', 'b_d', 'c_d'],\n",
      " '_125': 24,\n",
      " '_126': [-5, -4, -3, -2, -1],\n",
      " '_13': -248.2,\n",
      " '_130': 320,\n",
      " '_132': ['У лукоморья дуб зелёный;',\n",
      "          'Златая цепь на дубе том:',\n",
      "          'И днём и ночью кот учёный',\n",
      "          'Всё ходит по цепи кругом;',\n",
      "          'Идёт направо - песнь заводит,',\n",
      "          'Налево - сказку говорит.',\n",
      "          'Там чудеса: там леший бродит,',\n",
      "          'Русалка на ветвях сидит;',\n",
      "          'Там на неведомых дорожках',\n",
      "          'Следы невиданных зверей;',\n",
      "          'Избушка там на курьих ножках',\n",
      "          'Стоит без окон, без дверей;'],\n",
      " '_133': 2.5,\n",
      " '_134': 'a',\n",
      " '_137': 126824314441320,\n",
      " '_138': 126824211029824,\n",
      " '_14': 39304,\n",
      " '_140': 31,\n",
      " '_145': 1.0,\n",
      " '_15': 34.3,\n",
      " '_16': -4.657534246575342,\n",
      " '_17': 1,\n",
      " '_18': 11,\n",
      " '_19': 255,\n",
      " '_20': 64,\n",
      " '_21': 127,\n",
      " '_22': 63,\n",
      " '_23': 5,\n",
      " '_24': 5,\n",
      " '_25': '0b11111111',\n",
      " '_26': '0b1000000',\n",
      " '_27': '0b1111111',\n",
      " '_28': '0b111111',\n",
      " '_3': False,\n",
      " '_32': 'преведмедвед',\n",
      " '_33': 'превед превед превед превед ',\n",
      " '_34': '1_a',\n",
      " '_35': 'a_1',\n",
      " '_36': 'превед',\n",
      " '_37': 'превед медвед',\n",
      " '_38': 6,\n",
      " '_4': True,\n",
      " '_40': 0,\n",
      " '_41': -1,\n",
      " '_42': 1,\n",
      " '_43': 3,\n",
      " '_44': 'ревед',\n",
      " '_46': [-15, -13, -11, -9, -7, -5, -3, -1, 1, 3, 5, 7, 9, 11, 13],\n",
      " '_47': [0.5, 1.5, 1.0, 2.0],\n",
      " '_48': [0.5, 1.5, 1.0, 2.0],\n",
      " '_49': [2, 4, 5],\n",
      " '_5': False,\n",
      " '_50': [2, 4, 5],\n",
      " '_51': [0.0, 0.5, 1.0, 2.0, 2.5, 3.0, 3.5, 4.0, 4.5],\n",
      " '_52': ['0_a', '1_bbb', '2_cc'],\n",
      " '_55': ['0_1_a', '1_2_b', '2_3_c', '3_4_d'],\n",
      " '_56': ['1_a', '2_b', '3_c', '4_d'],\n",
      " '_57': ['0_1_a', '1_2_b', '2_3_c', '3_4_d'],\n",
      " '_58': ['0_1_a', '1_2_b', '2_3_c', '3_4_d'],\n",
      " '_6': True,\n",
      " '_60': [0.5, 1.0, 1.5, 2.0],\n",
      " '_61': [1, 3, 4],\n",
      " '_62': [0, 1, 2, 4, 5, 6, 7, 8, 9],\n",
      " '_63': ['0_a', '1_b', '2_c', '3_d'],\n",
      " '_64': ['0_a', '1_b', '2_c', '3_d'],\n",
      " '_65': ['0_0_a', '1_1_b', '2_2_c', '3_3_d'],\n",
      " '_67': 4,\n",
      " '_68': [1, 2, 3, 4],\n",
      " '_69': True,\n",
      " '_7': False,\n",
      " '_70': [1, 3, 2, 33, 9, 78],\n",
      " '_71': [1, 3, 2, 33, 9, 78],\n",
      " '_72': [1, 3, 2, 33, 9, 78],\n",
      " '_74': [-15, -13, -11, -9, -7, -5, -3, -1, 1, 3, 5, 7, 9, 11, 13],\n",
      " '_75': [-15, -13, -11, -9, -7, -5, -3, -1, 1, 3, 5, 7, 9, 11, 13],\n",
      " '_76': 4,\n",
      " '_77': [1, 2, 3, 4],\n",
      " '_78': True,\n",
      " '_79': 1,\n",
      " '_80': [9, 7, 5, 3],\n",
      " '_81': 4,\n",
      " '_82': [4, 2, 3, 1],\n",
      " '_83': [2, 4, 24, 5, 0, 9, 8],\n",
      " '_85': [1, 3, 2, 33, 78, 9],\n",
      " '_86': [1, 3, 2, 33, 78, 9],\n",
      " '_88': [1, 3, 78, 2, 33, 9, 78],\n",
      " '_89': [1, 3, 78, 2, 33, 9, 78],\n",
      " '_90': [1, 3, 78, 2, 33, 9, 78],\n",
      " '_92': [1, 3, 78, 2, 33, 9],\n",
      " '_93': [1, 3, 78, 2, 33, 9],\n",
      " '_94': [1, 3, 4],\n",
      " '_96': 3,\n",
      " '_99': {1, 2, 3, 4, 7},\n",
      " '__': 31,\n",
      " '___': 3,\n",
      " '__builtin__': <module 'builtins' (built-in)>,\n",
      " '__builtins__': <module 'builtins' (built-in)>,\n",
      " '__doc__': 'Automatically created module for IPython interactive environment',\n",
      " '__loader__': None,\n",
      " '__name__': '__main__',\n",
      " '__package__': None,\n",
      " '__spec__': None,\n",
      " '_dh': [PosixPath('/data/documents/sevgu/ml_lectorium_2024_I/examples/02a-python')],\n",
      " '_i': 'from math import log\\n\\nlog( math.e )',\n",
      " '_i1': '# печатать выдачу всех строк ячейки\\n'\n",
      "        'from IPython.core.interactiveshell import InteractiveShell\\n'\n",
      "        \"InteractiveShell.ast_node_interactivity = 'all'\\n\"\n",
      "        \"# InteractiveShell.ast_node_interactivity = 'last_expr'\",\n",
      " '_i10': 'a>b',\n",
      " '_i100': 'a[0] # Error!',\n",
      " '_i101': 'a.add(7)',\n",
      " '_i102': 'a - b',\n",
      " '_i103': 'a & b',\n",
      " '_i104': 'a | b ',\n",
      " '_i105': 'a ^ b ',\n",
      " '_i106': 'c = frozenset([1,2,3,2,4,1])',\n",
      " '_i107': 'c = frozenset([1,2,3,2,4,1])\\nc',\n",
      " '_i108': 'c.add(7)',\n",
      " '_i109': \"a = { 'a':1, 'b':2, 'c':3 }\",\n",
      " '_i11': 'a<=c',\n",
      " '_i110': 'a.keys()',\n",
      " '_i111': 'a.values()',\n",
      " '_i112': \"a['a']\",\n",
      " '_i113': \"d = { 'a':1, 'b':2, 'c':3 }\",\n",
      " '_i114': 'd.keys()',\n",
      " '_i115': 'd.values()',\n",
      " '_i116': 'd.items()',\n",
      " '_i117': \"d['a']\",\n",
      " '_i118': 'x=True\\n'\n",
      "          'y=False\\n'\n",
      "          '\\n'\n",
      "          'if not x:\\n'\n",
      "          \"    print('x')\\n\"\n",
      "          'elif y:\\n'\n",
      "          \"    print('y')\\n\"\n",
      "          'else:\\n'\n",
      "          \"    print('z')\",\n",
      " '_i119': 'a = 1 if y else 2\\na',\n",
      " '_i12': 'a+b',\n",
      " '_i120': 'i=0   \\nwhile True:\\n    print(i)\\n    i+=1\\n    if i>5: break',\n",
      " '_i121': 'i=0 \\nwhile i<5:\\n    print(i)\\n    i+=1',\n",
      " '_i122': 'for x in [1,2,3,4]: \\n    print(x)',\n",
      " '_i123': '# repeat until\\n'\n",
      "          'i=0   \\n'\n",
      "          'while True:\\n'\n",
      "          '    print(i)\\n'\n",
      "          '    i+=1\\n'\n",
      "          '    if i>5: break',\n",
      " '_i124': '# применение операции на списке\\n'\n",
      "          \"list( map( lambda с: с+'_d' , [ 'a','b','c'] ) ) \",\n",
      " '_i125': '# сворачивание списка\\n'\n",
      "          'from functools import reduce\\n'\n",
      "          'product = reduce((lambda x,y: x*y), [1, 2, 3, 4])\\n'\n",
      "          'product',\n",
      " '_i126': '# фильтрация по условию\\n'\n",
      "          'number_list = range(-5, 5)\\n'\n",
      "          'less_than_zero = list(filter(lambda x: x < 0, number_list))\\n'\n",
      "          'less_than_zero',\n",
      " '_i127': 'x = 10\\n'\n",
      "          'try:\\n'\n",
      "          '    x = x/0\\n'\n",
      "          'except Exception as e:\\n'\n",
      "          \"    print(f'исключение: {e}')\\n\"\n",
      "          'finally:    \\n'\n",
      "          \"    print('завершение')\",\n",
      " '_i128': \"x='''У лукоморья дуб зелёный;\\n\"\n",
      "          'Златая цепь на дубе том:\\n'\n",
      "          'И днём и ночью кот учёный\\n'\n",
      "          'Всё ходит по цепи кругом;\\n'\n",
      "          'Идёт направо - песнь заводит,\\n'\n",
      "          'Налево - сказку говорит.\\n'\n",
      "          'Там чудеса: там леший бродит,\\n'\n",
      "          'Русалка на ветвях сидит;\\n'\n",
      "          'Там на неведомых дорожках\\n'\n",
      "          'Следы невиданных зверей;\\n'\n",
      "          'Избушка там на курьих ножках\\n'\n",
      "          'Стоит без окон, без дверей;\\n'\n",
      "          \"'''\",\n",
      " '_i129': \"x='''У лукоморья дуб зелёный;\\n\"\n",
      "          'Златая цепь на дубе том:\\n'\n",
      "          'И днём и ночью кот учёный\\n'\n",
      "          'Всё ходит по цепи кругом;\\n'\n",
      "          'Идёт направо - песнь заводит,\\n'\n",
      "          'Налево - сказку говорит.\\n'\n",
      "          'Там чудеса: там леший бродит,\\n'\n",
      "          'Русалка на ветвях сидит;\\n'\n",
      "          'Там на неведомых дорожках\\n'\n",
      "          'Следы невиданных зверей;\\n'\n",
      "          'Избушка там на курьих ножках\\n'\n",
      "          'Стоит без окон, без дверей;\\n'\n",
      "          \"'''\",\n",
      " '_i13': 'a*b',\n",
      " '_i130': \"with open('temp.txt','wt') as f: f.write(x) # запись в файл\",\n",
      " '_i131': \"with open('temp.txt','rt') as f: x = f.read()  # чтение из файла\\n\"\n",
      "          'print(x)    ',\n",
      " '_i132': \"with open('temp.txt','rt') as f:   \\n\"\n",
      "          \"    x = [ s.strip() for s in f.read().split('\\\\n') if s.strip() ]\\n\"\n",
      "          '    \\n'\n",
      "          'x    ',\n",
      " '_i133': 'def myfunc(x,y=1):\\n'\n",
      "          '    print(x)\\n'\n",
      "          '    return x+1,y/2\\n'\n",
      "          '\\n'\n",
      "          '\\n'\n",
      "          'a,b = myfunc(y=5,x=-1)\\n'\n",
      "          'a\\n'\n",
      "          'b',\n",
      " '_i134': \"s='abcdef'\\n\"\n",
      "          'it_s = iter(s)\\n'\n",
      "          'it_s.__next__()\\n'\n",
      "          'for c in it_s: print(c)',\n",
      " '_i135': \"s='abcdef'\\nfor c in s: print(c)\",\n",
      " '_i136': 'def ones(n):\\n'\n",
      "          '    while n > 0:\\n'\n",
      "          '        n -= 1\\n'\n",
      "          '        yield 1\\n'\n",
      "          '\\n'\n",
      "          'for o in ones(4): \\n'\n",
      "          '    print(o)',\n",
      " '_i137': 'test = 10\\nid(test)\\n\\ntest += 1\\nid(test)',\n",
      " '_i138': 'test = [ 10 ]\\nid(test)\\n\\ntest += [ 1 ]\\nid(test)',\n",
      " '_i139': 'help(id)',\n",
      " '_i14': 'a**3',\n",
      " '_i140': 'class A:\\n'\n",
      "          '    field0 = 0 # public\\n'\n",
      "          '    _field1 = 1 # protected\\n'\n",
      "          '    __field2 = 3 # private \\n'\n",
      "          '    \\n'\n",
      "          '    def __init__(self, field0=12):\\n'\n",
      "          '        self.field0 = field0\\n'\n",
      "          '    \\n'\n",
      "          '    @property\\n'\n",
      "          '    def field2(self):\\n'\n",
      "          '        return self.__field2\\n'\n",
      "          '    \\n'\n",
      "          '    def method0(self):\\n'\n",
      "          '        return self.field0+self._field1-self.__field2\\n'\n",
      "          '    \\n'\n",
      "          'a = A(33)\\n'\n",
      "          'a.field0\\n'\n",
      "          'a._field1\\n'\n",
      "          '\\n'\n",
      "          'a.field2\\n'\n",
      "          '# a.__field2 # Error!\\n'\n",
      "          'a._A__field2\\n'\n",
      "          '\\n'\n",
      "          'a.method0()',\n",
      " '_i141': 'class Animal:\\n'\n",
      "          '    \\n'\n",
      "          '    # конструктор \\n'\n",
      "          '    def __init__(self, name, color):\\n'\n",
      "          '        self.name = name\\n'\n",
      "          '        self.color = color\\n'\n",
      "          '\\n'\n",
      "          'class Wolf(Animal):\\n'\n",
      "          '    def bark(self):\\n'\n",
      "          '        print(\"Grr...!\")\\n'\n",
      "          '\\n'\n",
      "          '\\n'\n",
      "          'class Dog(Wolf):\\n'\n",
      "          '    def bark(self):\\n'\n",
      "          '        super().bark()\\n'\n",
      "          '        print(\"Woof!\")\\n'\n",
      "          '    def __repr__(self):\\n'\n",
      "          '        return \"Dog({})\".format(self.name)    \\n'\n",
      "          '    \\n'\n",
      "          \"Wolf('J','gray').bark()\\n\"\n",
      "          \"Dog('B','black').bark()    \",\n",
      " '_i142': 'class Rectangle:\\n'\n",
      "          '    def __init__(self, width, height):\\n'\n",
      "          '        self.width = width\\n'\n",
      "          '        self.height = height\\n'\n",
      "          '        self._allowed = False\\n'\n",
      "          '\\n'\n",
      "          '    def calculate_area(self):\\n'\n",
      "          '        return self.width * self.height\\n'\n",
      "          '\\n'\n",
      "          '    @classmethod\\n'\n",
      "          '    def new_square(cls, side_length):\\n'\n",
      "          '        return cls(side_length, side_length)\\n'\n",
      "          '\\n'\n",
      "          '    @staticmethod\\n'\n",
      "          '    def square(a):\\n'\n",
      "          '        return a**2\\n'\n",
      "          '\\n'\n",
      "          '    @property\\n'\n",
      "          '    def allowed(self):\\n'\n",
      "          '        return self._allowed\\n'\n",
      "          '\\n'\n",
      "          '    @allowed.setter\\n'\n",
      "          '    def allowed(self, value):\\n'\n",
      "          '        self._allowed = not(value)',\n",
      " '_i143': 'sq = Rectangle.new_square(5)\\n'\n",
      "          '\\n'\n",
      "          'print(sq.calculate_area())\\n'\n",
      "          '# 25\\n'\n",
      "          'sq.allowed=0 \\n'\n",
      "          'print(sq.allowed)\\n'\n",
      "          '# True\\n'\n",
      "          'print(Rectangle.square(4))\\n'\n",
      "          '# 16',\n",
      " '_i144': 'import math',\n",
      " '_i145': 'from math import log\\n\\nlog( math.e )',\n",
      " '_i146': 'from pprint import pprint\\n'\n",
      "          '# список задействованных имён \\n'\n",
      "          'pprint( globals() )',\n",
      " '_i15': 'a-c',\n",
      " '_i16': 'a/b',\n",
      " '_i17': 'a%3 # остаток от деления',\n",
      " '_i18': 'a//3 # целая часть от деления',\n",
      " '_i19': '255 | 128  # битовое или',\n",
      " '_i2': 'a=True\\n\\nb=False',\n",
      " '_i20': '255 & 64 # битовое и',\n",
      " '_i21': '255 ^ 128 # битовое xor',\n",
      " '_i22': '255>>2 # сдвиг',\n",
      " '_i23': '# системы счисления\\n'\n",
      "         'n = 23 # десятичное представление\\n'\n",
      "         '\\n'\n",
      "         'bin(n) # бинарное\\n'\n",
      "         'oct(n) # восьмеричное \\n'\n",
      "         'hex(n) # шестнадцатеричное\\n'\n",
      "         '\\n'\n",
      "         'n.bit_length() # количество бит в двоичном представлении',\n",
      " '_i24': '# системы счисления\\n'\n",
      "         'n = 23 # десятичное представление\\n'\n",
      "         '\\n'\n",
      "         'bin(n) # бинарное\\n'\n",
      "         'oct(n) # восьмеричное \\n'\n",
      "         'hex(n) # шестнадцатеричное\\n'\n",
      "         '\\n'\n",
      "         'n.bit_length() # количество бит в двоичном представлении',\n",
      " '_i25': 'bin(255)\\nbin(128)\\nbin( 255 | 128 )  # битовое или',\n",
      " '_i26': 'bin(255)\\nbin(64)\\nbin( 255 & 64 ) # битовое и',\n",
      " '_i27': 'bin(255)\\nbin(128)\\nbin( 255 ^ 128) # битовое xorbin',\n",
      " '_i28': 'bin(255)\\nbin(255>>2) # сдвиг',\n",
      " '_i29': 'a=None',\n",
      " '_i3': 'a==b',\n",
      " '_i30': 'a,b = 1,2\\na,b = b,a\\na = 10\\na += 7',\n",
      " '_i31': 'a = \\'превед\\'\\n\\nb = \"медвед\"\\n\\nc=\\'\\'\\'это две\\n     строки\\'\\'\\'',\n",
      " '_i32': 'a+b',\n",
      " '_i33': \"(a+' ')*4\",\n",
      " '_i34': \"'%i_%s'%(1,'a')\",\n",
      " '_i35': \"'{1}_{0}'.format(1,'a')\",\n",
      " '_i36': \"f'{a}'\",\n",
      " '_i37': \"f'{a} {b}'\",\n",
      " '_i38': 'len(a)',\n",
      " '_i39': \"a.search('me')\",\n",
      " '_i4': 'a!=b',\n",
      " '_i40': \"a.find('')\",\n",
      " '_i41': \"a.find('ри')\",\n",
      " '_i42': \"a.find('ре')\",\n",
      " '_i43': \"a.find('ве')\",\n",
      " '_i44': 'a[1:]',\n",
      " '_i45': '# способы определения списков\\n'\n",
      "         '\\n'\n",
      "         'a = [1,3,2,4]\\n'\n",
      "         '\\n'\n",
      "         \"b = list(['a','bbb','cc'])\\n\"\n",
      "         '\\n'\n",
      "         \"c = ['a',['bbb',45], False ]\",\n",
      " '_i46': '# начало, конец, шаг\\nlist( range(-15, 15, 2) ) ',\n",
      " '_i47': '[ i/2 for i in  a ]',\n",
      " '_i48': '[ i/2 for i in  a ] # list comprehension',\n",
      " '_i49': '[ i+1 for i in  a if i!=2 ]',\n",
      " '_i5': 'a and b ',\n",
      " '_i50': '[ i+1 for i in a if i!=2 ]',\n",
      " '_i51': '[ i/2 for i in range(10) if i!=3  ]',\n",
      " '_i52': \"[ '%i_%s'%(i,s) for i,s in enumerate(b) ]\",\n",
      " '_i53': 'a = [1,2,3,4]\\n'\n",
      "         \"s = 'abcd'\\n\"\n",
      "         \"[ '%i_%i_%s'%(i,x,y) for i,x,y in enumerate(zip(a,s)) ]\",\n",
      " '_i54': '# a = [1,2,3,4]\\n'\n",
      "         \"# s = 'abcd'\\n\"\n",
      "         \"# [ '%i_%i_%s'%(i,x,y) for i,x,y in enumerate(zip(a,s)) ]\\n\"\n",
      "         '\\n'\n",
      "         'a = [1,2,3,4]\\n'\n",
      "         \"s = 'abcd'\\n\"\n",
      "         \"[ '%i_%i_%s'%(i,x,y) for x,y in zip(a,s) ]\",\n",
      " '_i55': 'a = [1,2,3,4]\\n'\n",
      "         \"s = 'abcd'\\n\"\n",
      "         \"[ '%i_%i_%s'%(i,x,y) for i,(x,y) in enumerate(zip(a,s)) ]\\n\"\n",
      "         '\\n'\n",
      "         '# a = [1,2,3,4]\\n'\n",
      "         \"# s = 'abcd'\\n\"\n",
      "         \"# [ '%i_%i_%s'%(i,x,y) for i,x,y izip(a,s) ]\",\n",
      " '_i56': 'a = [1,2,3,4]\\n'\n",
      "         \"s = 'abcd'\\n\"\n",
      "         '\\n'\n",
      "         \"[ '%i_%s'%(x,y) for x,y in zip(a,s) ]\\n\"\n",
      "         '\\n'\n",
      "         \"# [ '%i_%i_%s'%(i,x,y) for i,(x,y) in enumerate(zip(a,s)) ]\\n\"\n",
      "         '\\n'\n",
      "         '# a = [1,2,3,4]\\n'\n",
      "         \"# s = 'abcd'\\n\"\n",
      "         \"# [ '%i_%i_%s'%(i,x,y) for i,x,y izip(a,s) ]\",\n",
      " '_i57': 'a = [1,2,3,4]\\n'\n",
      "         \"s = 'abcd'\\n\"\n",
      "         '\\n'\n",
      "         \"[ '%i_%s'%(x,y) for x,y in zip(a,s) ]\\n\"\n",
      "         '\\n'\n",
      "         \"[ '%i_%i_%s'%(i,x,y) for i,(x,y) in enumerate(zip(a,s)) ]\",\n",
      " '_i58': 'a = [1,2,3,4]\\n'\n",
      "         \"s = 'abcd'\\n\"\n",
      "         '\\n'\n",
      "         \"[ '%i_%s'%(x,y) for x,y in zip(a,s) ]\\n\"\n",
      "         '\\n'\n",
      "         \"[ '%i_%i_%s'%(i,x,y) for i,(x,y) in enumerate( zip(a,s) ) ]\",\n",
      " '_i59': 'a = [1,2,3,4]',\n",
      " '_i6': 'a or b ',\n",
      " '_i60': '[ i/2 for i in  a ]',\n",
      " '_i61': '[ i for i in a if i!=2 ] # исключаем ',\n",
      " '_i62': '[ i for i in range(10) if i!=3  ]',\n",
      " '_i63': \"[ '%i_%s'%(i,s) for i,s in enumerate('abcd') ] # нумеруем \"\n",
      "         'последовательность  ',\n",
      " '_i64': \"[ '%i_%s'%(x,y) for x,y in zip(range(4),'abcd') ]\\n\"\n",
      "         '\\n'\n",
      "         \"# [ '%i_%i_%s'%(i,x,y) for i,(x,y) in enumerate( zip(a,s) ) ]\",\n",
      " '_i65': \"[ '%i_%i_%s'%(i,x,y) for i,(x,y) in enumerate( zip(range(4),'abcd') \"\n",
      "         ') ] # собираем пары из двух списков и нумеруем',\n",
      " '_i66': '# способы определения списков\\n'\n",
      "         '\\n'\n",
      "         'a = [1,3,2,4]\\n'\n",
      "         '\\n'\n",
      "         \"b = list(['a','bbb','cc'])\\n\"\n",
      "         '\\n'\n",
      "         \"c = ['a',['bbb',45], False ]\\n\"\n",
      "         '\\n'\n",
      "         '# начало, конец, шаг\\n'\n",
      "         'd = list( range(-15, 15, 2) ) ',\n",
      " '_i67': 'len(a) # длина',\n",
      " '_i68': 'sorted(a) # сортировка',\n",
      " '_i69': '2 in a # проверка вхождения ',\n",
      " '_i7': 'not a or b ',\n",
      " '_i70': 'a.append(9) # добавить элемент\\na',\n",
      " '_i71': '# вставить элемент в позицию\\na[3] = 33\\na.insert(5,78)\\na',\n",
      " '_i72': '[1,3,2,4].append(9) # добавить элемент\\na',\n",
      " '_i73': '[1,3,2,4].append(9) # добавить элемент\\n# a',\n",
      " '_i74': '# способы определения списков\\n'\n",
      "         '[1,3,2,4]\\n'\n",
      "         '\\n'\n",
      "         \"list(['a','bbb','cc'])\\n\"\n",
      "         '\\n'\n",
      "         \"['a',['bbb',45], False ]\\n\"\n",
      "         '\\n'\n",
      "         'list( range(-15, 15, 2) ) # начало, конец, шаг',\n",
      " '_i75': '[1,3,2,4] # простой\\n'\n",
      "         '\\n'\n",
      "         \"['a',['bbb',45], False ] # сложный\\n\"\n",
      "         '\\n'\n",
      "         'list( range(-15, 15, 2) ) # с помощью генератора (начало, конец, '\n",
      "         'шаг)',\n",
      " '_i76': 'len( [1,3,2,4] ) # длина',\n",
      " '_i77': 'sorted( [1,3,2,4] ) # сортировка',\n",
      " '_i78': '2 in [1,3,2,4] # проверка вхождения ',\n",
      " '_i79': '# чтение элемента\\n\\n[1,3,2,4].index(2) \\n[1,3,2,4][0]',\n",
      " '_i8': 'a = 34\\n\\nb = -7.3\\n\\nc = -.3\\n\\nd = 3e-4',\n",
      " '_i80': '# начало:конец:шаг\\n# a = list(range(20))\\nlist(range(20))[9:1:-2]',\n",
      " '_i81': '[1,3,2,4][-1] # последний элемент',\n",
      " '_i82': '[1,3,2,4][::-1] # в обратном порядке',\n",
      " '_i83': '[2,4,24,5]+[0,9,8,] # конкатенация списков',\n",
      " '_i84': 'a = [1,3,2,4]',\n",
      " '_i85': '# вставить элемент в позицию\\na[3] = 33\\na.insert(5,78)\\na',\n",
      " '_i86': 'a.append(9) # добавить элемент\\na',\n",
      " '_i87': 'a = [1,3,2,4]',\n",
      " '_i88': 'a.append(9) # добавить элемент\\na',\n",
      " '_i89': '# вставить элемент в позицию\\na[3] = 33\\na.insert(5,78)\\na',\n",
      " '_i9': 'a = 34 # int\\n\\nb = -7.3 # float\\nc = -.3\\nd = 3e-4',\n",
      " '_i90': '# вставить элемент в позицию\\na[3] = 33\\na.insert(2,78)\\na',\n",
      " '_i91': 'a = [1,3,2,4]',\n",
      " '_i92': 'a.append(9) # добавить элемент\\na',\n",
      " '_i93': '# вставить элемент в позицию\\na[3] = 33\\na.insert(2,78)\\na',\n",
      " '_i94': '[ i for i in [1,2,3,4] if i!=2 ] # исключаем 2',\n",
      " '_i95': \"a = (1,2,3,4)\\nb = tuple(['a','bbb','cc'])\",\n",
      " '_i96': 'a[2]',\n",
      " '_i97': 'a[2] = 3 # Error!',\n",
      " '_i98': 'a = set([1,2,3,2,4,1])\\n\\nb = set([3,2,4])',\n",
      " '_i99': 'a',\n",
      " '_ih': ['',\n",
      "         '# печатать выдачу всех строк ячейки\\n'\n",
      "         'from IPython.core.interactiveshell import InteractiveShell\\n'\n",
      "         \"InteractiveShell.ast_node_interactivity = 'all'\\n\"\n",
      "         \"# InteractiveShell.ast_node_interactivity = 'last_expr'\",\n",
      "         'a=True\\n\\nb=False',\n",
      "         'a==b',\n",
      "         'a!=b',\n",
      "         'a and b ',\n",
      "         'a or b ',\n",
      "         'not a or b ',\n",
      "         'a = 34\\n\\nb = -7.3\\n\\nc = -.3\\n\\nd = 3e-4',\n",
      "         'a = 34 # int\\n\\nb = -7.3 # float\\nc = -.3\\nd = 3e-4',\n",
      "         'a>b',\n",
      "         'a<=c',\n",
      "         'a+b',\n",
      "         'a*b',\n",
      "         'a**3',\n",
      "         'a-c',\n",
      "         'a/b',\n",
      "         'a%3 # остаток от деления',\n",
      "         'a//3 # целая часть от деления',\n",
      "         '255 | 128  # битовое или',\n",
      "         '255 & 64 # битовое и',\n",
      "         '255 ^ 128 # битовое xor',\n",
      "         '255>>2 # сдвиг',\n",
      "         '# системы счисления\\n'\n",
      "         'n = 23 # десятичное представление\\n'\n",
      "         '\\n'\n",
      "         'bin(n) # бинарное\\n'\n",
      "         'oct(n) # восьмеричное \\n'\n",
      "         'hex(n) # шестнадцатеричное\\n'\n",
      "         '\\n'\n",
      "         'n.bit_length() # количество бит в двоичном представлении',\n",
      "         '# системы счисления\\n'\n",
      "         'n = 23 # десятичное представление\\n'\n",
      "         '\\n'\n",
      "         'bin(n) # бинарное\\n'\n",
      "         'oct(n) # восьмеричное \\n'\n",
      "         'hex(n) # шестнадцатеричное\\n'\n",
      "         '\\n'\n",
      "         'n.bit_length() # количество бит в двоичном представлении',\n",
      "         'bin(255)\\nbin(128)\\nbin( 255 | 128 )  # битовое или',\n",
      "         'bin(255)\\nbin(64)\\nbin( 255 & 64 ) # битовое и',\n",
      "         'bin(255)\\nbin(128)\\nbin( 255 ^ 128) # битовое xorbin',\n",
      "         'bin(255)\\nbin(255>>2) # сдвиг',\n",
      "         'a=None',\n",
      "         'a,b = 1,2\\na,b = b,a\\na = 10\\na += 7',\n",
      "         'a = \\'превед\\'\\n\\nb = \"медвед\"\\n\\nc=\\'\\'\\'это две\\n     строки\\'\\'\\'',\n",
      "         'a+b',\n",
      "         \"(a+' ')*4\",\n",
      "         \"'%i_%s'%(1,'a')\",\n",
      "         \"'{1}_{0}'.format(1,'a')\",\n",
      "         \"f'{a}'\",\n",
      "         \"f'{a} {b}'\",\n",
      "         'len(a)',\n",
      "         \"a.search('me')\",\n",
      "         \"a.find('')\",\n",
      "         \"a.find('ри')\",\n",
      "         \"a.find('ре')\",\n",
      "         \"a.find('ве')\",\n",
      "         'a[1:]',\n",
      "         '# способы определения списков\\n'\n",
      "         '\\n'\n",
      "         'a = [1,3,2,4]\\n'\n",
      "         '\\n'\n",
      "         \"b = list(['a','bbb','cc'])\\n\"\n",
      "         '\\n'\n",
      "         \"c = ['a',['bbb',45], False ]\",\n",
      "         '# начало, конец, шаг\\nlist( range(-15, 15, 2) ) ',\n",
      "         '[ i/2 for i in  a ]',\n",
      "         '[ i/2 for i in  a ] # list comprehension',\n",
      "         '[ i+1 for i in  a if i!=2 ]',\n",
      "         '[ i+1 for i in a if i!=2 ]',\n",
      "         '[ i/2 for i in range(10) if i!=3  ]',\n",
      "         \"[ '%i_%s'%(i,s) for i,s in enumerate(b) ]\",\n",
      "         'a = [1,2,3,4]\\n'\n",
      "         \"s = 'abcd'\\n\"\n",
      "         \"[ '%i_%i_%s'%(i,x,y) for i,x,y in enumerate(zip(a,s)) ]\",\n",
      "         '# a = [1,2,3,4]\\n'\n",
      "         \"# s = 'abcd'\\n\"\n",
      "         \"# [ '%i_%i_%s'%(i,x,y) for i,x,y in enumerate(zip(a,s)) ]\\n\"\n",
      "         '\\n'\n",
      "         'a = [1,2,3,4]\\n'\n",
      "         \"s = 'abcd'\\n\"\n",
      "         \"[ '%i_%i_%s'%(i,x,y) for x,y in zip(a,s) ]\",\n",
      "         'a = [1,2,3,4]\\n'\n",
      "         \"s = 'abcd'\\n\"\n",
      "         \"[ '%i_%i_%s'%(i,x,y) for i,(x,y) in enumerate(zip(a,s)) ]\\n\"\n",
      "         '\\n'\n",
      "         '# a = [1,2,3,4]\\n'\n",
      "         \"# s = 'abcd'\\n\"\n",
      "         \"# [ '%i_%i_%s'%(i,x,y) for i,x,y izip(a,s) ]\",\n",
      "         'a = [1,2,3,4]\\n'\n",
      "         \"s = 'abcd'\\n\"\n",
      "         '\\n'\n",
      "         \"[ '%i_%s'%(x,y) for x,y in zip(a,s) ]\\n\"\n",
      "         '\\n'\n",
      "         \"# [ '%i_%i_%s'%(i,x,y) for i,(x,y) in enumerate(zip(a,s)) ]\\n\"\n",
      "         '\\n'\n",
      "         '# a = [1,2,3,4]\\n'\n",
      "         \"# s = 'abcd'\\n\"\n",
      "         \"# [ '%i_%i_%s'%(i,x,y) for i,x,y izip(a,s) ]\",\n",
      "         'a = [1,2,3,4]\\n'\n",
      "         \"s = 'abcd'\\n\"\n",
      "         '\\n'\n",
      "         \"[ '%i_%s'%(x,y) for x,y in zip(a,s) ]\\n\"\n",
      "         '\\n'\n",
      "         \"[ '%i_%i_%s'%(i,x,y) for i,(x,y) in enumerate(zip(a,s)) ]\",\n",
      "         'a = [1,2,3,4]\\n'\n",
      "         \"s = 'abcd'\\n\"\n",
      "         '\\n'\n",
      "         \"[ '%i_%s'%(x,y) for x,y in zip(a,s) ]\\n\"\n",
      "         '\\n'\n",
      "         \"[ '%i_%i_%s'%(i,x,y) for i,(x,y) in enumerate( zip(a,s) ) ]\",\n",
      "         'a = [1,2,3,4]',\n",
      "         '[ i/2 for i in  a ]',\n",
      "         '[ i for i in a if i!=2 ] # исключаем ',\n",
      "         '[ i for i in range(10) if i!=3  ]',\n",
      "         \"[ '%i_%s'%(i,s) for i,s in enumerate('abcd') ] # нумеруем \"\n",
      "         'последовательность  ',\n",
      "         \"[ '%i_%s'%(x,y) for x,y in zip(range(4),'abcd') ]\\n\"\n",
      "         '\\n'\n",
      "         \"# [ '%i_%i_%s'%(i,x,y) for i,(x,y) in enumerate( zip(a,s) ) ]\",\n",
      "         \"[ '%i_%i_%s'%(i,x,y) for i,(x,y) in enumerate( zip(range(4),'abcd') \"\n",
      "         ') ] # собираем пары из двух списков и нумеруем',\n",
      "         '# способы определения списков\\n'\n",
      "         '\\n'\n",
      "         'a = [1,3,2,4]\\n'\n",
      "         '\\n'\n",
      "         \"b = list(['a','bbb','cc'])\\n\"\n",
      "         '\\n'\n",
      "         \"c = ['a',['bbb',45], False ]\\n\"\n",
      "         '\\n'\n",
      "         '# начало, конец, шаг\\n'\n",
      "         'd = list( range(-15, 15, 2) ) ',\n",
      "         'len(a) # длина',\n",
      "         'sorted(a) # сортировка',\n",
      "         '2 in a # проверка вхождения ',\n",
      "         'a.append(9) # добавить элемент\\na',\n",
      "         '# вставить элемент в позицию\\na[3] = 33\\na.insert(5,78)\\na',\n",
      "         '[1,3,2,4].append(9) # добавить элемент\\na',\n",
      "         '[1,3,2,4].append(9) # добавить элемент\\n# a',\n",
      "         '# способы определения списков\\n'\n",
      "         '[1,3,2,4]\\n'\n",
      "         '\\n'\n",
      "         \"list(['a','bbb','cc'])\\n\"\n",
      "         '\\n'\n",
      "         \"['a',['bbb',45], False ]\\n\"\n",
      "         '\\n'\n",
      "         'list( range(-15, 15, 2) ) # начало, конец, шаг',\n",
      "         '[1,3,2,4] # простой\\n'\n",
      "         '\\n'\n",
      "         \"['a',['bbb',45], False ] # сложный\\n\"\n",
      "         '\\n'\n",
      "         'list( range(-15, 15, 2) ) # с помощью генератора (начало, конец, '\n",
      "         'шаг)',\n",
      "         'len( [1,3,2,4] ) # длина',\n",
      "         'sorted( [1,3,2,4] ) # сортировка',\n",
      "         '2 in [1,3,2,4] # проверка вхождения ',\n",
      "         '# чтение элемента\\n\\n[1,3,2,4].index(2) \\n[1,3,2,4][0]',\n",
      "         '# начало:конец:шаг\\n# a = list(range(20))\\nlist(range(20))[9:1:-2]',\n",
      "         '[1,3,2,4][-1] # последний элемент',\n",
      "         '[1,3,2,4][::-1] # в обратном порядке',\n",
      "         '[2,4,24,5]+[0,9,8,] # конкатенация списков',\n",
      "         'a = [1,3,2,4]',\n",
      "         '# вставить элемент в позицию\\na[3] = 33\\na.insert(5,78)\\na',\n",
      "         'a.append(9) # добавить элемент\\na',\n",
      "         'a = [1,3,2,4]',\n",
      "         'a.append(9) # добавить элемент\\na',\n",
      "         '# вставить элемент в позицию\\na[3] = 33\\na.insert(5,78)\\na',\n",
      "         '# вставить элемент в позицию\\na[3] = 33\\na.insert(2,78)\\na',\n",
      "         'a = [1,3,2,4]',\n",
      "         'a.append(9) # добавить элемент\\na',\n",
      "         '# вставить элемент в позицию\\na[3] = 33\\na.insert(2,78)\\na',\n",
      "         '[ i for i in [1,2,3,4] if i!=2 ] # исключаем 2',\n",
      "         \"a = (1,2,3,4)\\nb = tuple(['a','bbb','cc'])\",\n",
      "         'a[2]',\n",
      "         'a[2] = 3 # Error!',\n",
      "         'a = set([1,2,3,2,4,1])\\n\\nb = set([3,2,4])',\n",
      "         'a',\n",
      "         'a[0] # Error!',\n",
      "         'a.add(7)',\n",
      "         'a - b',\n",
      "         'a & b',\n",
      "         'a | b ',\n",
      "         'a ^ b ',\n",
      "         'c = frozenset([1,2,3,2,4,1])',\n",
      "         'c = frozenset([1,2,3,2,4,1])\\nc',\n",
      "         'c.add(7)',\n",
      "         \"a = { 'a':1, 'b':2, 'c':3 }\",\n",
      "         'a.keys()',\n",
      "         'a.values()',\n",
      "         \"a['a']\",\n",
      "         \"d = { 'a':1, 'b':2, 'c':3 }\",\n",
      "         'd.keys()',\n",
      "         'd.values()',\n",
      "         'd.items()',\n",
      "         \"d['a']\",\n",
      "         'x=True\\n'\n",
      "         'y=False\\n'\n",
      "         '\\n'\n",
      "         'if not x:\\n'\n",
      "         \"    print('x')\\n\"\n",
      "         'elif y:\\n'\n",
      "         \"    print('y')\\n\"\n",
      "         'else:\\n'\n",
      "         \"    print('z')\",\n",
      "         'a = 1 if y else 2\\na',\n",
      "         'i=0   \\nwhile True:\\n    print(i)\\n    i+=1\\n    if i>5: break',\n",
      "         'i=0 \\nwhile i<5:\\n    print(i)\\n    i+=1',\n",
      "         'for x in [1,2,3,4]: \\n    print(x)',\n",
      "         '# repeat until\\n'\n",
      "         'i=0   \\n'\n",
      "         'while True:\\n'\n",
      "         '    print(i)\\n'\n",
      "         '    i+=1\\n'\n",
      "         '    if i>5: break',\n",
      "         '# применение операции на списке\\n'\n",
      "         \"list( map( lambda с: с+'_d' , [ 'a','b','c'] ) ) \",\n",
      "         '# сворачивание списка\\n'\n",
      "         'from functools import reduce\\n'\n",
      "         'product = reduce((lambda x,y: x*y), [1, 2, 3, 4])\\n'\n",
      "         'product',\n",
      "         '# фильтрация по условию\\n'\n",
      "         'number_list = range(-5, 5)\\n'\n",
      "         'less_than_zero = list(filter(lambda x: x < 0, number_list))\\n'\n",
      "         'less_than_zero',\n",
      "         'x = 10\\n'\n",
      "         'try:\\n'\n",
      "         '    x = x/0\\n'\n",
      "         'except Exception as e:\\n'\n",
      "         \"    print(f'исключение: {e}')\\n\"\n",
      "         'finally:    \\n'\n",
      "         \"    print('завершение')\",\n",
      "         \"x='''У лукоморья дуб зелёный;\\n\"\n",
      "         'Златая цепь на дубе том:\\n'\n",
      "         'И днём и ночью кот учёный\\n'\n",
      "         'Всё ходит по цепи кругом;\\n'\n",
      "         'Идёт направо - песнь заводит,\\n'\n",
      "         'Налево - сказку говорит.\\n'\n",
      "         'Там чудеса: там леший бродит,\\n'\n",
      "         'Русалка на ветвях сидит;\\n'\n",
      "         'Там на неведомых дорожках\\n'\n",
      "         'Следы невиданных зверей;\\n'\n",
      "         'Избушка там на курьих ножках\\n'\n",
      "         'Стоит без окон, без дверей;\\n'\n",
      "         \"'''\",\n",
      "         \"x='''У лукоморья дуб зелёный;\\n\"\n",
      "         'Златая цепь на дубе том:\\n'\n",
      "         'И днём и ночью кот учёный\\n'\n",
      "         'Всё ходит по цепи кругом;\\n'\n",
      "         'Идёт направо - песнь заводит,\\n'\n",
      "         'Налево - сказку говорит.\\n'\n",
      "         'Там чудеса: там леший бродит,\\n'\n",
      "         'Русалка на ветвях сидит;\\n'\n",
      "         'Там на неведомых дорожках\\n'\n",
      "         'Следы невиданных зверей;\\n'\n",
      "         'Избушка там на курьих ножках\\n'\n",
      "         'Стоит без окон, без дверей;\\n'\n",
      "         \"'''\",\n",
      "         \"with open('temp.txt','wt') as f: f.write(x) # запись в файл\",\n",
      "         \"with open('temp.txt','rt') as f: x = f.read()  # чтение из файла\\n\"\n",
      "         'print(x)    ',\n",
      "         \"with open('temp.txt','rt') as f:   \\n\"\n",
      "         \"    x = [ s.strip() for s in f.read().split('\\\\n') if s.strip() ]\\n\"\n",
      "         '    \\n'\n",
      "         'x    ',\n",
      "         'def myfunc(x,y=1):\\n'\n",
      "         '    print(x)\\n'\n",
      "         '    return x+1,y/2\\n'\n",
      "         '\\n'\n",
      "         '\\n'\n",
      "         'a,b = myfunc(y=5,x=-1)\\n'\n",
      "         'a\\n'\n",
      "         'b',\n",
      "         \"s='abcdef'\\nit_s = iter(s)\\nit_s.__next__()\\nfor c in it_s: print(c)\",\n",
      "         \"s='abcdef'\\nfor c in s: print(c)\",\n",
      "         'def ones(n):\\n'\n",
      "         '    while n > 0:\\n'\n",
      "         '        n -= 1\\n'\n",
      "         '        yield 1\\n'\n",
      "         '\\n'\n",
      "         'for o in ones(4): \\n'\n",
      "         '    print(o)',\n",
      "         'test = 10\\nid(test)\\n\\ntest += 1\\nid(test)',\n",
      "         'test = [ 10 ]\\nid(test)\\n\\ntest += [ 1 ]\\nid(test)',\n",
      "         'help(id)',\n",
      "         'class A:\\n'\n",
      "         '    field0 = 0 # public\\n'\n",
      "         '    _field1 = 1 # protected\\n'\n",
      "         '    __field2 = 3 # private \\n'\n",
      "         '    \\n'\n",
      "         '    def __init__(self, field0=12):\\n'\n",
      "         '        self.field0 = field0\\n'\n",
      "         '    \\n'\n",
      "         '    @property\\n'\n",
      "         '    def field2(self):\\n'\n",
      "         '        return self.__field2\\n'\n",
      "         '    \\n'\n",
      "         '    def method0(self):\\n'\n",
      "         '        return self.field0+self._field1-self.__field2\\n'\n",
      "         '    \\n'\n",
      "         'a = A(33)\\n'\n",
      "         'a.field0\\n'\n",
      "         'a._field1\\n'\n",
      "         '\\n'\n",
      "         'a.field2\\n'\n",
      "         '# a.__field2 # Error!\\n'\n",
      "         'a._A__field2\\n'\n",
      "         '\\n'\n",
      "         'a.method0()',\n",
      "         'class Animal:\\n'\n",
      "         '    \\n'\n",
      "         '    # конструктор \\n'\n",
      "         '    def __init__(self, name, color):\\n'\n",
      "         '        self.name = name\\n'\n",
      "         '        self.color = color\\n'\n",
      "         '\\n'\n",
      "         'class Wolf(Animal):\\n'\n",
      "         '    def bark(self):\\n'\n",
      "         '        print(\"Grr...!\")\\n'\n",
      "         '\\n'\n",
      "         '\\n'\n",
      "         'class Dog(Wolf):\\n'\n",
      "         '    def bark(self):\\n'\n",
      "         '        super().bark()\\n'\n",
      "         '        print(\"Woof!\")\\n'\n",
      "         '    def __repr__(self):\\n'\n",
      "         '        return \"Dog({})\".format(self.name)    \\n'\n",
      "         '    \\n'\n",
      "         \"Wolf('J','gray').bark()\\n\"\n",
      "         \"Dog('B','black').bark()    \",\n",
      "         'class Rectangle:\\n'\n",
      "         '    def __init__(self, width, height):\\n'\n",
      "         '        self.width = width\\n'\n",
      "         '        self.height = height\\n'\n",
      "         '        self._allowed = False\\n'\n",
      "         '\\n'\n",
      "         '    def calculate_area(self):\\n'\n",
      "         '        return self.width * self.height\\n'\n",
      "         '\\n'\n",
      "         '    @classmethod\\n'\n",
      "         '    def new_square(cls, side_length):\\n'\n",
      "         '        return cls(side_length, side_length)\\n'\n",
      "         '\\n'\n",
      "         '    @staticmethod\\n'\n",
      "         '    def square(a):\\n'\n",
      "         '        return a**2\\n'\n",
      "         '\\n'\n",
      "         '    @property\\n'\n",
      "         '    def allowed(self):\\n'\n",
      "         '        return self._allowed\\n'\n",
      "         '\\n'\n",
      "         '    @allowed.setter\\n'\n",
      "         '    def allowed(self, value):\\n'\n",
      "         '        self._allowed = not(value)',\n",
      "         'sq = Rectangle.new_square(5)\\n'\n",
      "         '\\n'\n",
      "         'print(sq.calculate_area())\\n'\n",
      "         '# 25\\n'\n",
      "         'sq.allowed=0 \\n'\n",
      "         'print(sq.allowed)\\n'\n",
      "         '# True\\n'\n",
      "         'print(Rectangle.square(4))\\n'\n",
      "         '# 16',\n",
      "         'import math',\n",
      "         'from math import log\\n\\nlog( math.e )',\n",
      "         'from pprint import pprint\\n'\n",
      "         '# список задействованных имён \\n'\n",
      "         'pprint( globals() )'],\n",
      " '_ii': 'import math',\n",
      " '_iii': 'sq = Rectangle.new_square(5)\\n'\n",
      "         '\\n'\n",
      "         'print(sq.calculate_area())\\n'\n",
      "         '# 25\\n'\n",
      "         'sq.allowed=0 \\n'\n",
      "         'print(sq.allowed)\\n'\n",
      "         '# True\\n'\n",
      "         'print(Rectangle.square(4))\\n'\n",
      "         '# 16',\n",
      " '_oh': {3: False,\n",
      "         4: True,\n",
      "         5: False,\n",
      "         6: True,\n",
      "         7: False,\n",
      "         10: True,\n",
      "         11: False,\n",
      "         12: 26.7,\n",
      "         13: -248.2,\n",
      "         14: 39304,\n",
      "         15: 34.3,\n",
      "         16: -4.657534246575342,\n",
      "         17: 1,\n",
      "         18: 11,\n",
      "         19: 255,\n",
      "         20: 64,\n",
      "         21: 127,\n",
      "         22: 63,\n",
      "         23: 5,\n",
      "         24: 5,\n",
      "         25: '0b11111111',\n",
      "         26: '0b1000000',\n",
      "         27: '0b1111111',\n",
      "         28: '0b111111',\n",
      "         32: 'преведмедвед',\n",
      "         33: 'превед превед превед превед ',\n",
      "         34: '1_a',\n",
      "         35: 'a_1',\n",
      "         36: 'превед',\n",
      "         37: 'превед медвед',\n",
      "         38: 6,\n",
      "         40: 0,\n",
      "         41: -1,\n",
      "         42: 1,\n",
      "         43: 3,\n",
      "         44: 'ревед',\n",
      "         46: [-15, -13, -11, -9, -7, -5, -3, -1, 1, 3, 5, 7, 9, 11, 13],\n",
      "         47: [0.5, 1.5, 1.0, 2.0],\n",
      "         48: [0.5, 1.5, 1.0, 2.0],\n",
      "         49: [2, 4, 5],\n",
      "         50: [2, 4, 5],\n",
      "         51: [0.0, 0.5, 1.0, 2.0, 2.5, 3.0, 3.5, 4.0, 4.5],\n",
      "         52: ['0_a', '1_bbb', '2_cc'],\n",
      "         55: ['0_1_a', '1_2_b', '2_3_c', '3_4_d'],\n",
      "         56: ['1_a', '2_b', '3_c', '4_d'],\n",
      "         57: ['0_1_a', '1_2_b', '2_3_c', '3_4_d'],\n",
      "         58: ['0_1_a', '1_2_b', '2_3_c', '3_4_d'],\n",
      "         60: [0.5, 1.0, 1.5, 2.0],\n",
      "         61: [1, 3, 4],\n",
      "         62: [0, 1, 2, 4, 5, 6, 7, 8, 9],\n",
      "         63: ['0_a', '1_b', '2_c', '3_d'],\n",
      "         64: ['0_a', '1_b', '2_c', '3_d'],\n",
      "         65: ['0_0_a', '1_1_b', '2_2_c', '3_3_d'],\n",
      "         67: 4,\n",
      "         68: [1, 2, 3, 4],\n",
      "         69: True,\n",
      "         70: [1, 3, 2, 33, 9, 78],\n",
      "         71: [1, 3, 2, 33, 9, 78],\n",
      "         72: [1, 3, 2, 33, 9, 78],\n",
      "         74: [-15, -13, -11, -9, -7, -5, -3, -1, 1, 3, 5, 7, 9, 11, 13],\n",
      "         75: [-15, -13, -11, -9, -7, -5, -3, -1, 1, 3, 5, 7, 9, 11, 13],\n",
      "         76: 4,\n",
      "         77: [1, 2, 3, 4],\n",
      "         78: True,\n",
      "         79: 1,\n",
      "         80: [9, 7, 5, 3],\n",
      "         81: 4,\n",
      "         82: [4, 2, 3, 1],\n",
      "         83: [2, 4, 24, 5, 0, 9, 8],\n",
      "         85: [1, 3, 2, 33, 78, 9],\n",
      "         86: [1, 3, 2, 33, 78, 9],\n",
      "         88: [1, 3, 78, 2, 33, 9, 78],\n",
      "         89: [1, 3, 78, 2, 33, 9, 78],\n",
      "         90: [1, 3, 78, 2, 33, 9, 78],\n",
      "         92: [1, 3, 78, 2, 33, 9],\n",
      "         93: [1, 3, 78, 2, 33, 9],\n",
      "         94: [1, 3, 4],\n",
      "         96: 3,\n",
      "         99: {1, 2, 3, 4, 7},\n",
      "         102: {1, 7},\n",
      "         103: {2, 3, 4},\n",
      "         104: {1, 2, 3, 4, 7},\n",
      "         105: {1, 7},\n",
      "         107: frozenset({1, 2, 3, 4}),\n",
      "         110: dict_keys(['a', 'b', 'c']),\n",
      "         111: dict_values([1, 2, 3]),\n",
      "         112: 1,\n",
      "         114: dict_keys(['a', 'b', 'c']),\n",
      "         115: dict_values([1, 2, 3]),\n",
      "         116: dict_items([('a', 1), ('b', 2), ('c', 3)]),\n",
      "         117: 1,\n",
      "         119: 2,\n",
      "         124: ['a_d', 'b_d', 'c_d'],\n",
      "         125: 24,\n",
      "         126: [-5, -4, -3, -2, -1],\n",
      "         130: 320,\n",
      "         132: ['У лукоморья дуб зелёный;',\n",
      "               'Златая цепь на дубе том:',\n",
      "               'И днём и ночью кот учёный',\n",
      "               'Всё ходит по цепи кругом;',\n",
      "               'Идёт направо - песнь заводит,',\n",
      "               'Налево - сказку говорит.',\n",
      "               'Там чудеса: там леший бродит,',\n",
      "               'Русалка на ветвях сидит;',\n",
      "               'Там на неведомых дорожках',\n",
      "               'Следы невиданных зверей;',\n",
      "               'Избушка там на курьих ножках',\n",
      "               'Стоит без окон, без дверей;'],\n",
      "         133: 2.5,\n",
      "         134: 'a',\n",
      "         137: 126824314441320,\n",
      "         138: 126824211029824,\n",
      "         140: 31,\n",
      "         145: 1.0},\n",
      " 'a': <__main__.A object at 0x7358900d8390>,\n",
      " 'b': 2.5,\n",
      " 'c': 'f',\n",
      " 'd': {'a': 1, 'b': 2, 'c': 3},\n",
      " 'exit': <IPython.core.autocall.ZMQExitAutocall object at 0x7358926bf950>,\n",
      " 'f': <_io.TextIOWrapper name='temp.txt' mode='rt' encoding='UTF-8'>,\n",
      " 'get_ipython': <bound method InteractiveShell.get_ipython of <ipykernel.zmqshell.ZMQInteractiveShell object at 0x7358926b7290>>,\n",
      " 'i': 6,\n",
      " 'it_s': <str_ascii_iterator object at 0x7358926ec5e0>,\n",
      " 'less_than_zero': [-5, -4, -3, -2, -1],\n",
      " 'log': <built-in function log>,\n",
      " 'math': <module 'math' from '/usr/lib/python3.11/lib-dynload/math.cpython-311-x86_64-linux-gnu.so'>,\n",
      " 'myfunc': <function myfunc at 0x7358900980e0>,\n",
      " 'n': 23,\n",
      " 'number_list': range(-5, 5),\n",
      " 'o': 1,\n",
      " 'ones': <function ones at 0x735890098900>,\n",
      " 'open': <function open at 0x735893655760>,\n",
      " 'pprint': <function pprint at 0x7358942eb920>,\n",
      " 'product': 24,\n",
      " 'quit': <IPython.core.autocall.ZMQExitAutocall object at 0x7358926bf950>,\n",
      " 'reduce': <built-in function reduce>,\n",
      " 's': 'abcdef',\n",
      " 'sq': <__main__.Rectangle object at 0x735890102750>,\n",
      " 'test': [10, 1],\n",
      " 'x': ['У лукоморья дуб зелёный;',\n",
      "       'Златая цепь на дубе том:',\n",
      "       'И днём и ночью кот учёный',\n",
      "       'Всё ходит по цепи кругом;',\n",
      "       'Идёт направо - песнь заводит,',\n",
      "       'Налево - сказку говорит.',\n",
      "       'Там чудеса: там леший бродит,',\n",
      "       'Русалка на ветвях сидит;',\n",
      "       'Там на неведомых дорожках',\n",
      "       'Следы невиданных зверей;',\n",
      "       'Избушка там на курьих ножках',\n",
      "       'Стоит без окон, без дверей;'],\n",
      " 'y': False}\n"
     ]
    }
   ],
   "source": [
    "from pprint import pprint\n",
    "# список задействованных имён \n",
    "pprint( globals() )"
   ]
  },
  {
   "cell_type": "code",
   "execution_count": 147,
   "metadata": {},
   "outputs": [
    {
     "data": {
      "text/plain": [
       "dict_keys(['__name__', '__doc__', '__package__', '__loader__', '__spec__', '__builtin__', '__builtins__', '_ih', '_oh', '_dh', 'In', 'Out', 'get_ipython', 'exit', 'quit', 'open', '_', '__', '___', '_i', '_ii', '_iii', '_i1', 'InteractiveShell', '_i2', 'a', 'b', '_i3', '_3', '_i4', '_4', '_i5', '_5', '_i6', '_6', '_i7', '_7', '_i8', 'c', 'd', '_i9', '_i10', '_10', '_i11', '_11', '_i12', '_12', '_i13', '_13', '_i14', '_14', '_i15', '_15', '_i16', '_16', '_i17', '_17', '_i18', '_18', '_i19', '_19', '_i20', '_20', '_i21', '_21', '_i22', '_22', '_i23', 'n', '_23', '_i24', '_24', '_i25', '_25', '_i26', '_26', '_i27', '_27', '_i28', '_28', '_i29', '_i30', '_i31', '_i32', '_32', '_i33', '_33', '_i34', '_34', '_i35', '_35', '_i36', '_36', '_i37', '_37', '_i38', '_38', '_i39', '_i40', '_40', '_i41', '_41', '_i42', '_42', '_i43', '_43', '_i44', '_44', '_i45', '_i46', '_46', '_i47', '_47', '_i48', '_48', '_i49', '_49', '_i50', '_50', '_i51', '_51', '_i52', '_52', '_i53', 's', '_i54', '_i55', '_55', '_i56', '_56', '_i57', '_57', '_i58', '_58', '_i59', '_i60', '_60', '_i61', '_61', '_i62', '_62', '_i63', '_63', '_i64', '_64', '_i65', '_65', '_i66', '_i67', '_67', '_i68', '_68', '_i69', '_69', '_i70', '_70', '_i71', '_71', '_i72', '_72', '_i73', '_i74', '_74', '_i75', '_75', '_i76', '_76', '_i77', '_77', '_i78', '_78', '_i79', '_79', '_i80', '_80', '_i81', '_81', '_i82', '_82', '_i83', '_83', '_i84', '_i85', '_85', '_i86', '_86', '_i87', '_i88', '_88', '_i89', '_89', '_i90', '_90', '_i91', '_i92', '_92', '_i93', '_93', '_i94', '_94', '_i95', '_i96', '_96', '_i97', '_i98', '_i99', '_99', '_i100', '_i101', '_i102', '_102', '_i103', '_103', '_i104', '_104', '_i105', '_105', '_i106', '_i107', '_107', '_i108', '_i109', '_i110', '_110', '_i111', '_111', '_i112', '_112', '_i113', '_i114', '_114', '_i115', '_115', '_i116', '_116', '_i117', '_117', '_i118', 'x', 'y', '_i119', '_119', '_i120', 'i', '_i121', '_i122', '_i123', '_i124', '_124', '_i125', 'reduce', 'product', '_125', '_i126', 'number_list', 'less_than_zero', '_126', '_i127', '_i128', '_i129', '_i130', 'f', '_130', '_i131', '_i132', '_132', '_i133', 'myfunc', '_133', '_i134', 'it_s', '_134', '_i135', '_i136', 'ones', 'o', '_i137', 'test', '_137', '_i138', '_138', '_i139', '_i140', 'A', '_140', '_i141', 'Animal', 'Wolf', 'Dog', '_i142', 'Rectangle', '_i143', 'sq', '_i144', 'math', '_i145', 'log', '_145', '_i146', 'pprint', '_i147'])"
      ]
     },
     "execution_count": 147,
     "metadata": {},
     "output_type": "execute_result"
    }
   ],
   "source": [
    "globals().keys()"
   ]
  },
  {
   "cell_type": "code",
   "execution_count": 152,
   "metadata": {},
   "outputs": [
    {
     "data": {
      "text/plain": [
       "'string'"
      ]
     },
     "execution_count": 152,
     "metadata": {},
     "output_type": "execute_result"
    },
    {
     "name": "stdout",
     "output_type": "stream",
     "text": [
      "Help on built-in function lower:\n",
      "\n",
      "lower() method of builtins.str instance\n",
      "    Return a copy of the string converted to lowercase.\n",
      "\n"
     ]
    },
    {
     "data": {
      "text/plain": [
       "'Return a copy of the string converted to lowercase.'"
      ]
     },
     "execution_count": 152,
     "metadata": {},
     "output_type": "execute_result"
    }
   ],
   "source": [
    "# справка о методе\n",
    "s = 'string'\n",
    "s.lower()\n",
    "help(s.lower)\n",
    "s.lower.__doc__"
   ]
  },
  {
   "cell_type": "code",
   "execution_count": 151,
   "metadata": {},
   "outputs": [
    {
     "name": "stdout",
     "output_type": "stream",
     "text": [
      "Help on module math:\n",
      "\n",
      "NAME\n",
      "    math\n",
      "\n",
      "MODULE REFERENCE\n",
      "    https://docs.python.org/3.11/library/math.html\n",
      "    \n",
      "    The following documentation is automatically generated from the Python\n",
      "    source files.  It may be incomplete, incorrect or include features that\n",
      "    are considered implementation detail and may vary between Python\n",
      "    implementations.  When in doubt, consult the module reference at the\n",
      "    location listed above.\n",
      "\n",
      "DESCRIPTION\n",
      "    This module provides access to the mathematical functions\n",
      "    defined by the C standard.\n",
      "\n",
      "FUNCTIONS\n",
      "    acos(x, /)\n",
      "        Return the arc cosine (measured in radians) of x.\n",
      "        \n",
      "        The result is between 0 and pi.\n",
      "    \n",
      "    acosh(x, /)\n",
      "        Return the inverse hyperbolic cosine of x.\n",
      "    \n",
      "    asin(x, /)\n",
      "        Return the arc sine (measured in radians) of x.\n",
      "        \n",
      "        The result is between -pi/2 and pi/2.\n",
      "    \n",
      "    asinh(x, /)\n",
      "        Return the inverse hyperbolic sine of x.\n",
      "    \n",
      "    atan(x, /)\n",
      "        Return the arc tangent (measured in radians) of x.\n",
      "        \n",
      "        The result is between -pi/2 and pi/2.\n",
      "    \n",
      "    atan2(y, x, /)\n",
      "        Return the arc tangent (measured in radians) of y/x.\n",
      "        \n",
      "        Unlike atan(y/x), the signs of both x and y are considered.\n",
      "    \n",
      "    atanh(x, /)\n",
      "        Return the inverse hyperbolic tangent of x.\n",
      "    \n",
      "    cbrt(x, /)\n",
      "        Return the cube root of x.\n",
      "    \n",
      "    ceil(x, /)\n",
      "        Return the ceiling of x as an Integral.\n",
      "        \n",
      "        This is the smallest integer >= x.\n",
      "    \n",
      "    comb(n, k, /)\n",
      "        Number of ways to choose k items from n items without repetition and without order.\n",
      "        \n",
      "        Evaluates to n! / (k! * (n - k)!) when k <= n and evaluates\n",
      "        to zero when k > n.\n",
      "        \n",
      "        Also called the binomial coefficient because it is equivalent\n",
      "        to the coefficient of k-th term in polynomial expansion of the\n",
      "        expression (1 + x)**n.\n",
      "        \n",
      "        Raises TypeError if either of the arguments are not integers.\n",
      "        Raises ValueError if either of the arguments are negative.\n",
      "    \n",
      "    copysign(x, y, /)\n",
      "        Return a float with the magnitude (absolute value) of x but the sign of y.\n",
      "        \n",
      "        On platforms that support signed zeros, copysign(1.0, -0.0)\n",
      "        returns -1.0.\n",
      "    \n",
      "    cos(x, /)\n",
      "        Return the cosine of x (measured in radians).\n",
      "    \n",
      "    cosh(x, /)\n",
      "        Return the hyperbolic cosine of x.\n",
      "    \n",
      "    degrees(x, /)\n",
      "        Convert angle x from radians to degrees.\n",
      "    \n",
      "    dist(p, q, /)\n",
      "        Return the Euclidean distance between two points p and q.\n",
      "        \n",
      "        The points should be specified as sequences (or iterables) of\n",
      "        coordinates.  Both inputs must have the same dimension.\n",
      "        \n",
      "        Roughly equivalent to:\n",
      "            sqrt(sum((px - qx) ** 2.0 for px, qx in zip(p, q)))\n",
      "    \n",
      "    erf(x, /)\n",
      "        Error function at x.\n",
      "    \n",
      "    erfc(x, /)\n",
      "        Complementary error function at x.\n",
      "    \n",
      "    exp(x, /)\n",
      "        Return e raised to the power of x.\n",
      "    \n",
      "    exp2(x, /)\n",
      "        Return 2 raised to the power of x.\n",
      "    \n",
      "    expm1(x, /)\n",
      "        Return exp(x)-1.\n",
      "        \n",
      "        This function avoids the loss of precision involved in the direct evaluation of exp(x)-1 for small x.\n",
      "    \n",
      "    fabs(x, /)\n",
      "        Return the absolute value of the float x.\n",
      "    \n",
      "    factorial(n, /)\n",
      "        Find n!.\n",
      "        \n",
      "        Raise a ValueError if x is negative or non-integral.\n",
      "    \n",
      "    floor(x, /)\n",
      "        Return the floor of x as an Integral.\n",
      "        \n",
      "        This is the largest integer <= x.\n",
      "    \n",
      "    fmod(x, y, /)\n",
      "        Return fmod(x, y), according to platform C.\n",
      "        \n",
      "        x % y may differ.\n",
      "    \n",
      "    frexp(x, /)\n",
      "        Return the mantissa and exponent of x, as pair (m, e).\n",
      "        \n",
      "        m is a float and e is an int, such that x = m * 2.**e.\n",
      "        If x is 0, m and e are both 0.  Else 0.5 <= abs(m) < 1.0.\n",
      "    \n",
      "    fsum(seq, /)\n",
      "        Return an accurate floating point sum of values in the iterable seq.\n",
      "        \n",
      "        Assumes IEEE-754 floating point arithmetic.\n",
      "    \n",
      "    gamma(x, /)\n",
      "        Gamma function at x.\n",
      "    \n",
      "    gcd(*integers)\n",
      "        Greatest Common Divisor.\n",
      "    \n",
      "    hypot(...)\n",
      "        hypot(*coordinates) -> value\n",
      "        \n",
      "        Multidimensional Euclidean distance from the origin to a point.\n",
      "        \n",
      "        Roughly equivalent to:\n",
      "            sqrt(sum(x**2 for x in coordinates))\n",
      "        \n",
      "        For a two dimensional point (x, y), gives the hypotenuse\n",
      "        using the Pythagorean theorem:  sqrt(x*x + y*y).\n",
      "        \n",
      "        For example, the hypotenuse of a 3/4/5 right triangle is:\n",
      "        \n",
      "            >>> hypot(3.0, 4.0)\n",
      "            5.0\n",
      "    \n",
      "    isclose(a, b, *, rel_tol=1e-09, abs_tol=0.0)\n",
      "        Determine whether two floating point numbers are close in value.\n",
      "        \n",
      "          rel_tol\n",
      "            maximum difference for being considered \"close\", relative to the\n",
      "            magnitude of the input values\n",
      "          abs_tol\n",
      "            maximum difference for being considered \"close\", regardless of the\n",
      "            magnitude of the input values\n",
      "        \n",
      "        Return True if a is close in value to b, and False otherwise.\n",
      "        \n",
      "        For the values to be considered close, the difference between them\n",
      "        must be smaller than at least one of the tolerances.\n",
      "        \n",
      "        -inf, inf and NaN behave similarly to the IEEE 754 Standard.  That\n",
      "        is, NaN is not close to anything, even itself.  inf and -inf are\n",
      "        only close to themselves.\n",
      "    \n",
      "    isfinite(x, /)\n",
      "        Return True if x is neither an infinity nor a NaN, and False otherwise.\n",
      "    \n",
      "    isinf(x, /)\n",
      "        Return True if x is a positive or negative infinity, and False otherwise.\n",
      "    \n",
      "    isnan(x, /)\n",
      "        Return True if x is a NaN (not a number), and False otherwise.\n",
      "    \n",
      "    isqrt(n, /)\n",
      "        Return the integer part of the square root of the input.\n",
      "    \n",
      "    lcm(*integers)\n",
      "        Least Common Multiple.\n",
      "    \n",
      "    ldexp(x, i, /)\n",
      "        Return x * (2**i).\n",
      "        \n",
      "        This is essentially the inverse of frexp().\n",
      "    \n",
      "    lgamma(x, /)\n",
      "        Natural logarithm of absolute value of Gamma function at x.\n",
      "    \n",
      "    log(...)\n",
      "        log(x, [base=math.e])\n",
      "        Return the logarithm of x to the given base.\n",
      "        \n",
      "        If the base not specified, returns the natural logarithm (base e) of x.\n",
      "    \n",
      "    log10(x, /)\n",
      "        Return the base 10 logarithm of x.\n",
      "    \n",
      "    log1p(x, /)\n",
      "        Return the natural logarithm of 1+x (base e).\n",
      "        \n",
      "        The result is computed in a way which is accurate for x near zero.\n",
      "    \n",
      "    log2(x, /)\n",
      "        Return the base 2 logarithm of x.\n",
      "    \n",
      "    modf(x, /)\n",
      "        Return the fractional and integer parts of x.\n",
      "        \n",
      "        Both results carry the sign of x and are floats.\n",
      "    \n",
      "    nextafter(x, y, /)\n",
      "        Return the next floating-point value after x towards y.\n",
      "    \n",
      "    perm(n, k=None, /)\n",
      "        Number of ways to choose k items from n items without repetition and with order.\n",
      "        \n",
      "        Evaluates to n! / (n - k)! when k <= n and evaluates\n",
      "        to zero when k > n.\n",
      "        \n",
      "        If k is not specified or is None, then k defaults to n\n",
      "        and the function returns n!.\n",
      "        \n",
      "        Raises TypeError if either of the arguments are not integers.\n",
      "        Raises ValueError if either of the arguments are negative.\n",
      "    \n",
      "    pow(x, y, /)\n",
      "        Return x**y (x to the power of y).\n",
      "    \n",
      "    prod(iterable, /, *, start=1)\n",
      "        Calculate the product of all the elements in the input iterable.\n",
      "        \n",
      "        The default start value for the product is 1.\n",
      "        \n",
      "        When the iterable is empty, return the start value.  This function is\n",
      "        intended specifically for use with numeric values and may reject\n",
      "        non-numeric types.\n",
      "    \n",
      "    radians(x, /)\n",
      "        Convert angle x from degrees to radians.\n",
      "    \n",
      "    remainder(x, y, /)\n",
      "        Difference between x and the closest integer multiple of y.\n",
      "        \n",
      "        Return x - n*y where n*y is the closest integer multiple of y.\n",
      "        In the case where x is exactly halfway between two multiples of\n",
      "        y, the nearest even value of n is used. The result is always exact.\n",
      "    \n",
      "    sin(x, /)\n",
      "        Return the sine of x (measured in radians).\n",
      "    \n",
      "    sinh(x, /)\n",
      "        Return the hyperbolic sine of x.\n",
      "    \n",
      "    sqrt(x, /)\n",
      "        Return the square root of x.\n",
      "    \n",
      "    tan(x, /)\n",
      "        Return the tangent of x (measured in radians).\n",
      "    \n",
      "    tanh(x, /)\n",
      "        Return the hyperbolic tangent of x.\n",
      "    \n",
      "    trunc(x, /)\n",
      "        Truncates the Real x to the nearest Integral toward 0.\n",
      "        \n",
      "        Uses the __trunc__ magic method.\n",
      "    \n",
      "    ulp(x, /)\n",
      "        Return the value of the least significant bit of the float x.\n",
      "\n",
      "DATA\n",
      "    e = 2.718281828459045\n",
      "    inf = inf\n",
      "    nan = nan\n",
      "    pi = 3.141592653589793\n",
      "    tau = 6.283185307179586\n",
      "\n",
      "FILE\n",
      "    /usr/lib/python3.11/lib-dynload/math.cpython-311-x86_64-linux-gnu.so\n",
      "\n",
      "\n"
     ]
    }
   ],
   "source": [
    "help(math) # информация о модуле"
   ]
  },
  {
   "cell_type": "code",
   "execution_count": 153,
   "metadata": {},
   "outputs": [
    {
     "data": {
      "text/plain": [
       "['__doc__',\n",
       " '__file__',\n",
       " '__loader__',\n",
       " '__name__',\n",
       " '__package__',\n",
       " '__spec__',\n",
       " 'acos',\n",
       " 'acosh',\n",
       " 'asin',\n",
       " 'asinh',\n",
       " 'atan',\n",
       " 'atan2',\n",
       " 'atanh',\n",
       " 'cbrt',\n",
       " 'ceil',\n",
       " 'comb',\n",
       " 'copysign',\n",
       " 'cos',\n",
       " 'cosh',\n",
       " 'degrees',\n",
       " 'dist',\n",
       " 'e',\n",
       " 'erf',\n",
       " 'erfc',\n",
       " 'exp',\n",
       " 'exp2',\n",
       " 'expm1',\n",
       " 'fabs',\n",
       " 'factorial',\n",
       " 'floor',\n",
       " 'fmod',\n",
       " 'frexp',\n",
       " 'fsum',\n",
       " 'gamma',\n",
       " 'gcd',\n",
       " 'hypot',\n",
       " 'inf',\n",
       " 'isclose',\n",
       " 'isfinite',\n",
       " 'isinf',\n",
       " 'isnan',\n",
       " 'isqrt',\n",
       " 'lcm',\n",
       " 'ldexp',\n",
       " 'lgamma',\n",
       " 'log',\n",
       " 'log10',\n",
       " 'log1p',\n",
       " 'log2',\n",
       " 'modf',\n",
       " 'nan',\n",
       " 'nextafter',\n",
       " 'perm',\n",
       " 'pi',\n",
       " 'pow',\n",
       " 'prod',\n",
       " 'radians',\n",
       " 'remainder',\n",
       " 'sin',\n",
       " 'sinh',\n",
       " 'sqrt',\n",
       " 'tan',\n",
       " 'tanh',\n",
       " 'tau',\n",
       " 'trunc',\n",
       " 'ulp']"
      ]
     },
     "execution_count": 153,
     "metadata": {},
     "output_type": "execute_result"
    }
   ],
   "source": [
    "dir(math) # содержимое объекта"
   ]
  },
  {
   "cell_type": "code",
   "execution_count": 154,
   "metadata": {},
   "outputs": [
    {
     "name": "stdout",
     "output_type": "stream",
     "text": [
      "capitalize     Return a capitalized version of the string.\n",
      "casefold       Return a version of the string suitable for caseless comparisons.\n",
      "center         Return a centered string of length width.\n",
      "count          S.count(sub[, start[, end]]) -> int\n",
      "encode         Encode the string using the codec registered for encoding.\n",
      "endswith       S.endswith(suffix[, start[, end]]) -> bool\n",
      "expandtabs     Return a copy where all tab characters are expanded using spaces.\n",
      "find           S.find(sub[, start[, end]]) -> int\n",
      "format         S.format(*args, **kwargs) -> str\n",
      "index          S.index(sub[, start[, end]]) -> int\n",
      "isalnum        Return True if the string is an alpha-numeric string, False otherwise.\n",
      "isalpha        Return True if the string is an alphabetic string, False otherwise.\n",
      "isascii        Return True if all characters in the string are ASCII, False otherwise.\n",
      "isdecimal      Return True if the string is a decimal string, False otherwise.\n",
      "isdigit        Return True if the string is a digit string, False otherwise.\n",
      "isidentifier   Return True if the string is a valid Python identifier, False otherwise.\n",
      "islower        Return True if the string is a lowercase string, False otherwise.\n",
      "isnumeric      Return True if the string is a numeric string, False otherwise.\n",
      "isprintable    Return True if the string is printable, False otherwise.\n",
      "isspace        Return True if the string is a whitespace string, False otherwise.\n",
      "istitle        Return True if the string is a title-cased string, False otherwise.\n",
      "isupper        Return True if the string is an uppercase string, False otherwise.\n",
      "join           Concatenate any number of strings.\n",
      "ljust          Return a left-justified string of length width.\n",
      "lower          Return a copy of the string converted to lowercase.\n",
      "lstrip         Return a copy of the string with leading whitespace removed.\n",
      "maketrans      Return a translation table usable for str.translate().\n",
      "partition      Partition the string into three parts using the given separator.\n",
      "removeprefix   Return a str with the given prefix string removed if present.\n",
      "removesuffix   Return a str with the given suffix string removed if present.\n",
      "replace        Return a copy with all occurrences of substring old replaced by new.\n",
      "rfind          S.rfind(sub[, start[, end]]) -> int\n",
      "rindex         S.rindex(sub[, start[, end]]) -> int\n",
      "rjust          Return a right-justified string of length width.\n",
      "rpartition     Partition the string into three parts using the given separator.\n",
      "rsplit         Return a list of the substrings in the string, using sep as the separator string.\n",
      "rstrip         Return a copy of the string with trailing whitespace removed.\n",
      "split          Return a list of the substrings in the string, using sep as the separator string.\n",
      "splitlines     Return a list of the lines in the string, breaking at line boundaries.\n",
      "startswith     S.startswith(prefix[, start[, end]]) -> bool\n",
      "strip          Return a copy of the string with leading and trailing whitespace removed.\n",
      "swapcase       Convert uppercase characters to lowercase and lowercase characters to uppercase.\n",
      "title          Return a version of the string where each word is titlecased.\n",
      "translate      Replace each character in the string using the given translation table.\n",
      "upper          Return a copy of the string converted to uppercase.\n",
      "zfill          Pad a numeric string with zeros on the left, to fill a field of the given width.\n"
     ]
    }
   ],
   "source": [
    "def obj_help(obj):\n",
    "    for name in dir(obj):\n",
    "        attr = getattr(obj,name)\n",
    "        if callable(attr) and '_' not in name:\n",
    "            doc = attr.__doc__\n",
    "            small_help = doc.split('\\n')[0]\n",
    "            print(f'{name:<15}{small_help}')\n",
    "            \n",
    "obj_help(s)            "
   ]
  },
  {
   "cell_type": "markdown",
   "metadata": {},
   "source": [
    "## имена и кодировка"
   ]
  },
  {
   "cell_type": "code",
   "execution_count": 155,
   "metadata": {},
   "outputs": [
    {
     "data": {
      "text/plain": [
       "0.05714285714285722"
      ]
     },
     "execution_count": 155,
     "metadata": {},
     "output_type": "execute_result"
    }
   ],
   "source": [
    "сумма = 10\n",
    "процент = сумма *.13\n",
    "Δ = .23\n",
    "𝜆 = .7\n",
    "𝜉 = .37\n",
    "процент * Δ / 𝜆 - 𝜉"
   ]
  },
  {
   "cell_type": "markdown",
   "metadata": {},
   "source": [
    "## упражнения"
   ]
  },
  {
   "cell_type": "markdown",
   "metadata": {},
   "source": [
    "Пять задачек из тех, которые хорошо бы уметь решать  \n",
    "\n",
    "http://www.michurin.net/computer-science/five-problems.html"
   ]
  },
  {
   "cell_type": "code",
   "execution_count": null,
   "metadata": {},
   "outputs": [],
   "source": [
    "# \"Перевернуть\" число\n",
    "# Вводится целое число. Вывести число, обратное по порядку составляющих его цифр введенному. \n",
    "# Например, введено 3425, надо вывести 5243."
   ]
  },
  {
   "cell_type": "code",
   "execution_count": null,
   "metadata": {},
   "outputs": [],
   "source": [
    "# Определить процент строчных и прописных букв в строке\n",
    "# Вводится строка. Необходимо определить в ней проценты прописных (больших) и строчных (малых) букв."
   ]
  },
  {
   "cell_type": "code",
   "execution_count": null,
   "metadata": {},
   "outputs": [],
   "source": [
    "# Определить длину самого короткого слова в строке\n",
    "# В заданной строке найти самое короткое слово. \n",
    "# Слова могут быть разделены пробелами, несколькими пробелами, знаками препинания."
   ]
  },
  {
   "cell_type": "code",
   "execution_count": null,
   "metadata": {},
   "outputs": [],
   "source": [
    "# Посчитать четные и нечетные цифры числа"
   ]
  },
  {
   "cell_type": "code",
   "execution_count": null,
   "metadata": {},
   "outputs": [],
   "source": [
    "# при заданных параметрах a,b,c,d\n",
    "# найти все целые положительные корни уравнения вида \n",
    "# ax + by + cz = d"
   ]
  },
  {
   "cell_type": "code",
   "execution_count": null,
   "metadata": {},
   "outputs": [],
   "source": [
    "# используя рекурсию, напишите функцию phib(n), \n",
    "# которая по данному целому неотрицательному n возвращает n-e число Фибоначчи"
   ]
  },
  {
   "cell_type": "code",
   "execution_count": null,
   "metadata": {},
   "outputs": [],
   "source": [
    "# ДАНО: последовательность блоков переменной длинны \n",
    "# блоки состоят из слов {0,1} длинны 8\n",
    "\n",
    "# 0 1 0 0 1 0 1 0   1 1 1 1 0 0 1 0   0 0 1 1 1 0 1 1   0 1 0 1 0 1 0 0 ...\n",
    "\n",
    "# если первый символ блока 0 \n",
    "# то размер блока - 2 слова\n",
    "# иначе размер блока - 1 слово\n",
    "\n",
    "\n",
    "# ЗАДАЧА: определить размер последнего блока последовательности"
   ]
  },
  {
   "cell_type": "markdown",
   "metadata": {},
   "source": [
    "## Литература\n",
    "\n",
    "\n",
    "- Лутц М. Изучаем Python. пер. с англ. — СПб.: ООО “Диалектика”, 2019.\n",
    "\n",
    "\n",
    "- Дауни А.    Основы Python. Научитесь думать как программист. пер. с англ. — Москва : \"Манн, Иванов и Фербер\", 2021.\n",
    "\n",
    "\n",
    "- Дейтел П., Дейтел Х.  Python: Искусственный интеллект, большие данные и облачные вычисления. — СПб.: Питер, 2020.\n",
    "\n",
    "\n",
    "- Python Help : Tutorial     https://docs.python.org/3/tutorial/index.html\n"
   ]
  },
  {
   "cell_type": "code",
   "execution_count": null,
   "metadata": {},
   "outputs": [],
   "source": []
  }
 ],
 "metadata": {
  "kernelspec": {
   "display_name": "Python 3 (ipykernel)",
   "language": "python",
   "name": "python3"
  },
  "language_info": {
   "codemirror_mode": {
    "name": "ipython",
    "version": 3
   },
   "file_extension": ".py",
   "mimetype": "text/x-python",
   "name": "python",
   "nbconvert_exporter": "python",
   "pygments_lexer": "ipython3",
   "version": "3.11.6"
  },
  "toc": {
   "base_numbering": 1,
   "nav_menu": {},
   "number_sections": true,
   "sideBar": true,
   "skip_h1_title": false,
   "title_cell": "Table of Contents",
   "title_sidebar": "Contents",
   "toc_cell": false,
   "toc_position": {
    "height": "calc(100% - 180px)",
    "left": "10px",
    "top": "150px",
    "width": "375.594px"
   },
   "toc_section_display": true,
   "toc_window_display": true
  }
 },
 "nbformat": 4,
 "nbformat_minor": 2
}
