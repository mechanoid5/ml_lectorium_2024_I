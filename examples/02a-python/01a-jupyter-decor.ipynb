{
 "cells": [
  {
   "cell_type": "markdown",
   "metadata": {},
   "source": [
    "__дополнительные возможности оформления notebook__\n",
    "\n",
    "_Евгений Борисов <esborisov@sevsu.ru>_"
   ]
  },
  {
   "cell_type": "markdown",
   "metadata": {},
   "source": [
    "---"
   ]
  },
  {
   "cell_type": "markdown",
   "metadata": {},
   "source": [
    "Добавляем в Jupyter Notebooks красоту и интерактивность   \n",
    "https://habr.com/ru/post/485318/"
   ]
  },
  {
   "cell_type": "markdown",
   "metadata": {},
   "source": [
    "---"
   ]
  },
  {
   "cell_type": "markdown",
   "metadata": {},
   "source": [
    "## табличные данные"
   ]
  },
  {
   "cell_type": "code",
   "execution_count": 1,
   "metadata": {},
   "outputs": [
    {
     "data": {
      "text/plain": [
       "[['Москва', 2561, 12615882],\n",
       " ['Санкт-Петербург', 1439, 5383890],\n",
       " ['Ярославль', 205, 609828],\n",
       " ['Хабаровск', 383, 1321473]]"
      ]
     },
     "metadata": {},
     "output_type": "display_data"
    }
   ],
   "source": [
    "# данные\n",
    "tabledata = [[\"Москва\", 2561, 12615882],\n",
    "         [\"Санкт-Петербург\", 1439, 5383890],\n",
    "         [\"Ярославль\", 205, 609828],\n",
    "         [\"Хабаровск\", 383, 1321473]]\n",
    "\n",
    "display(tabledata)"
   ]
  },
  {
   "cell_type": "markdown",
   "metadata": {},
   "source": [
    "----"
   ]
  },
  {
   "cell_type": "markdown",
   "metadata": {},
   "source": [
    "# вывод HTML"
   ]
  },
  {
   "cell_type": "code",
   "execution_count": 2,
   "metadata": {},
   "outputs": [
    {
     "data": {
      "text/html": [
       "<table><tr><th>Город</th> <th>Площадь (кв. км)</th> <th>Население (человек)</th></tr><tr><td>Москва</td> <td>2561</td> <td>12615882</td></tr>\n",
       "<tr><td>Санкт-Петербург</td> <td>1439</td> <td>5383890</td></tr>\n",
       "<tr><td>Ярославль</td> <td>205</td> <td>609828</td></tr>\n",
       "<tr><td>Хабаровск</td> <td>383</td> <td>1321473</td></tr></table>"
      ],
      "text/plain": [
       "<IPython.core.display.HTML object>"
      ]
     },
     "metadata": {},
     "output_type": "display_data"
    }
   ],
   "source": [
    "# from IPython.display import display\n",
    "from IPython.display import HTML\n",
    "\n",
    "# рисуем таблицу\n",
    "def t_row(row): \n",
    "    return  '<tr>'+' '.join(['<td>'+str(cell)+'</td>' for cell in row ])+'</tr>'\n",
    "\n",
    "def t_body(data): \n",
    "    return '\\n'.join([t_row(row) for row in data ])\n",
    "\n",
    "def t_header(columns):\n",
    "    return '<tr>'+' '.join([ '<th>' + col + '</th>' for col in columns if columns ])+'</tr>'\n",
    "\n",
    "def list2table(data,columns=''):\n",
    "    if len(data)<1: return HTML('<b>Нет данных</b>')\n",
    "    return '<table>' + t_header(columns) + t_body(data) + '</table>'\n",
    "\n",
    "# display( HTML( list2table(tabledata, columns=[\"Город\",\"Площадь (кв. км)\", \"Население (человек)\"]) ) )\n",
    "\n",
    "display( HTML( list2table(tabledata, columns=[\"Город\",\"Площадь (кв. км)\", \"Население (человек)\"]) ) )"
   ]
  },
  {
   "cell_type": "markdown",
   "metadata": {},
   "source": [
    "## для формирования таблицы используем пакет tabulate"
   ]
  },
  {
   "cell_type": "code",
   "execution_count": 6,
   "metadata": {},
   "outputs": [],
   "source": [
    "# !pip3 install tabulate"
   ]
  },
  {
   "cell_type": "code",
   "execution_count": 5,
   "metadata": {},
   "outputs": [
    {
     "name": "stdout",
     "output_type": "stream",
     "text": [
      "---------------  ----  --------\n",
      "Москва           2561  12615882\n",
      "Санкт-Петербург  1439   5383890\n",
      "Ярославль         205    609828\n",
      "Хабаровск         383   1321473\n",
      "---------------  ----  --------\n"
     ]
    }
   ],
   "source": [
    "from tabulate import tabulate \n",
    "\n",
    "# простая таблица\n",
    "print(tabulate(tabledata))"
   ]
  },
  {
   "cell_type": "code",
   "execution_count": 7,
   "metadata": {},
   "outputs": [
    {
     "data": {
      "text/html": [
       "<table>\n",
       "<tbody>\n",
       "<tr><td>Москва         </td><td style=\"text-align: right;\">2561</td><td style=\"text-align: right;\">12615882</td></tr>\n",
       "<tr><td>Санкт-Петербург</td><td style=\"text-align: right;\">1439</td><td style=\"text-align: right;\"> 5383890</td></tr>\n",
       "<tr><td>Ярославль      </td><td style=\"text-align: right;\"> 205</td><td style=\"text-align: right;\">  609828</td></tr>\n",
       "<tr><td>Хабаровск      </td><td style=\"text-align: right;\"> 383</td><td style=\"text-align: right;\"> 1321473</td></tr>\n",
       "</tbody>\n",
       "</table>"
      ],
      "text/plain": [
       "'<table>\\n<tbody>\\n<tr><td>Москва         </td><td style=\"text-align: right;\">2561</td><td style=\"text-align: right;\">12615882</td></tr>\\n<tr><td>Санкт-Петербург</td><td style=\"text-align: right;\">1439</td><td style=\"text-align: right;\"> 5383890</td></tr>\\n<tr><td>Ярославль      </td><td style=\"text-align: right;\"> 205</td><td style=\"text-align: right;\">  609828</td></tr>\\n<tr><td>Хабаровск      </td><td style=\"text-align: right;\"> 383</td><td style=\"text-align: right;\"> 1321473</td></tr>\\n</tbody>\\n</table>'"
      ]
     },
     "metadata": {},
     "output_type": "display_data"
    }
   ],
   "source": [
    "# таблица в HTML\n",
    "display( tabulate(tabledata, tablefmt='html') )"
   ]
  },
  {
   "cell_type": "code",
   "execution_count": 8,
   "metadata": {},
   "outputs": [
    {
     "data": {
      "text/html": [
       "<table>\n",
       "<thead>\n",
       "<tr><th style=\"text-align: right;\">  </th><th>Город          </th><th style=\"text-align: right;\">  Площадь (кв. км)</th><th style=\"text-align: right;\">  Население (человек)</th></tr>\n",
       "</thead>\n",
       "<tbody>\n",
       "<tr><td style=\"text-align: right;\"> 0</td><td>Москва         </td><td style=\"text-align: right;\">              2561</td><td style=\"text-align: right;\">             12615882</td></tr>\n",
       "<tr><td style=\"text-align: right;\"> 1</td><td>Санкт-Петербург</td><td style=\"text-align: right;\">              1439</td><td style=\"text-align: right;\">              5383890</td></tr>\n",
       "<tr><td style=\"text-align: right;\"> 2</td><td>Ярославль      </td><td style=\"text-align: right;\">               205</td><td style=\"text-align: right;\">               609828</td></tr>\n",
       "<tr><td style=\"text-align: right;\"> 3</td><td>Хабаровск      </td><td style=\"text-align: right;\">               383</td><td style=\"text-align: right;\">              1321473</td></tr>\n",
       "</tbody>\n",
       "</table>"
      ],
      "text/plain": [
       "'<table>\\n<thead>\\n<tr><th style=\"text-align: right;\">  </th><th>Город          </th><th style=\"text-align: right;\">  Площадь (кв. км)</th><th style=\"text-align: right;\">  Население (человек)</th></tr>\\n</thead>\\n<tbody>\\n<tr><td style=\"text-align: right;\"> 0</td><td>Москва         </td><td style=\"text-align: right;\">              2561</td><td style=\"text-align: right;\">             12615882</td></tr>\\n<tr><td style=\"text-align: right;\"> 1</td><td>Санкт-Петербург</td><td style=\"text-align: right;\">              1439</td><td style=\"text-align: right;\">              5383890</td></tr>\\n<tr><td style=\"text-align: right;\"> 2</td><td>Ярославль      </td><td style=\"text-align: right;\">               205</td><td style=\"text-align: right;\">               609828</td></tr>\\n<tr><td style=\"text-align: right;\"> 3</td><td>Хабаровск      </td><td style=\"text-align: right;\">               383</td><td style=\"text-align: right;\">              1321473</td></tr>\\n</tbody>\\n</table>'"
      ]
     },
     "metadata": {},
     "output_type": "display_data"
    }
   ],
   "source": [
    "# таблица в HTML с заголовком\n",
    "display( tabulate(\n",
    "    tabledata, \n",
    "    headers=[\"Город\",\"Площадь (кв. км)\", \"Население (человек)\"], \n",
    "    tablefmt='html', \n",
    "    showindex=\"always\"\n",
    ") )"
   ]
  },
  {
   "cell_type": "markdown",
   "metadata": {},
   "source": [
    "## картинки в коде"
   ]
  },
  {
   "cell_type": "code",
   "execution_count": 9,
   "metadata": {},
   "outputs": [
    {
     "data": {
      "text/html": [
       "<img src=\"https://www.python.org/static/img/python-logo.png\" width=\"200\"/>"
      ],
      "text/plain": [
       "<IPython.core.display.Image object>"
      ]
     },
     "metadata": {},
     "output_type": "display_data"
    }
   ],
   "source": [
    "from IPython.core.display import Image\n",
    "\n",
    "display( Image(url='https://www.python.org/static/img/python-logo.png', width = 200) )"
   ]
  },
  {
   "cell_type": "markdown",
   "metadata": {},
   "source": [
    "вставка ссылки на картинку средствами markdown...\n",
    "\n",
    "![sevsu](https://www.python.org/static/img/python-logo.png)"
   ]
  },
  {
   "attachments": {
    "image.png": {
     "image/png": "[encoded data removed]"
    }
   },
   "cell_type": "markdown",
   "metadata": {},
   "source": [
    "картинка целиком в ячейке markdown\n",
    "\n",
    "![image.png](attachment:image.png)"
   ]
  },
  {
   "cell_type": "markdown",
   "metadata": {},
   "source": [
    "## декорирование текста"
   ]
  },
  {
   "cell_type": "code",
   "execution_count": 10,
   "metadata": {},
   "outputs": [
    {
     "data": {
      "text/html": [
       "<font color='green'>Мой зеленый текст</font>"
      ],
      "text/plain": [
       "<IPython.core.display.HTML object>"
      ]
     },
     "metadata": {},
     "output_type": "display_data"
    }
   ],
   "source": [
    "display( HTML(\"<font color='green'>Мой зеленый текст</font>\") )"
   ]
  },
  {
   "cell_type": "code",
   "execution_count": 11,
   "metadata": {},
   "outputs": [],
   "source": [
    "# !pip install termcolor"
   ]
  },
  {
   "cell_type": "markdown",
   "metadata": {},
   "source": [
    "## progressBar"
   ]
  },
  {
   "cell_type": "code",
   "execution_count": 12,
   "metadata": {},
   "outputs": [
    {
     "data": {
      "application/vnd.jupyter.widget-view+json": {
       "model_id": "df27eed6bd28452aa1d4f38b5d45ab30",
       "version_major": 2,
       "version_minor": 0
      },
      "text/plain": [
       "  0%|          | 0/10 [00:00<?, ?it/s]"
      ]
     },
     "metadata": {},
     "output_type": "display_data"
    }
   ],
   "source": [
    "from numpy import random as rng\n",
    "from time import sleep\n",
    "from tqdm.notebook import tqdm\n",
    "# from tqdm import tqdm\n",
    "\n",
    "\n",
    "def run_something(): \n",
    "    sleep(rng.rand())\n",
    "    return rng.rand()**rng.randint(5)\n",
    "    \n",
    "for i in tqdm(range(10)): run_something()"
   ]
  },
  {
   "cell_type": "markdown",
   "metadata": {},
   "source": [
    "## виджеты пакета ipywidgets"
   ]
  },
  {
   "cell_type": "code",
   "execution_count": 13,
   "metadata": {},
   "outputs": [
    {
     "data": {
      "application/vnd.jupyter.widget-view+json": {
       "model_id": "c60287e3c3524c56aed0dce3e5ffbcc5",
       "version_major": 2,
       "version_minor": 0
      },
      "text/plain": [
       "IntProgress(value=0, max=10)"
      ]
     },
     "metadata": {},
     "output_type": "display_data"
    },
    {
     "name": "stdout",
     "output_type": "stream",
     "text": [
      "Процесс завершен\n"
     ]
    }
   ],
   "source": [
    "from ipywidgets import IntProgress\n",
    "from time import sleep\n",
    "\n",
    "prgBar = IntProgress(min = 0, max = 10) # Создаем прогрессбар\n",
    "display(prgBar) # Выводим прогрессбар на экран\n",
    "\n",
    "while prgBar.value < prgBar.max:   # Пока положение не дошло до максимума - продолжаем цикл\n",
    "    prgBar.value = prgBar.value + 1 # Двигаем \"полоску\"\n",
    "    sleep(.1)\n",
    "    \n",
    "print('Процесс завершен')"
   ]
  },
  {
   "cell_type": "code",
   "execution_count": 14,
   "metadata": {},
   "outputs": [
    {
     "data": {
      "application/vnd.jupyter.widget-view+json": {
       "model_id": "db3bcf67651e48078cb567a7991a66b7",
       "version_major": 2,
       "version_minor": 0
      },
      "text/plain": [
       "Button(button_style='success', description='Нажми меня!', style=ButtonStyle())"
      ]
     },
     "metadata": {},
     "output_type": "display_data"
    },
    {
     "name": "stdout",
     "output_type": "stream",
     "text": [
      "Клик\n"
     ]
    }
   ],
   "source": [
    "from ipywidgets import Button \n",
    "\n",
    "# Создаем кнопку с нужными параметрами\n",
    "button1 = Button(description=\"Нажми меня!\", \n",
    "                        button_style='success' # 'success', 'info', 'warning', 'danger', ''\n",
    "                        )\n",
    "\n",
    "def on_button_clicked(b): # Описываем обработчик события\n",
    "    print(\"Клик\")\n",
    "\n",
    "button1.on_click(on_button_clicked) # Назначаем этот обработчик на событие \"on_click\"\n",
    "\n",
    "display(button1) # Отображаем кнопку"
   ]
  },
  {
   "cell_type": "code",
   "execution_count": 15,
   "metadata": {},
   "outputs": [
    {
     "data": {
      "application/vnd.jupyter.widget-view+json": {
       "model_id": "5162713acaaf4b0ebbf2067dd0e7d7e9",
       "version_major": 2,
       "version_minor": 0
      },
      "text/plain": [
       "Button(button_style='success', description='Кнопка с заданными размерами', layout=Layout(height='80px', width=…"
      ]
     },
     "metadata": {},
     "output_type": "display_data"
    }
   ],
   "source": [
    "from ipywidgets import Button, Layout\n",
    "\n",
    "button2 = Button(description='Кнопка с заданными размерами', button_style='success',\n",
    "           layout=Layout(width='50%', height='80px'))\n",
    "display(button2)"
   ]
  },
  {
   "cell_type": "code",
   "execution_count": 16,
   "metadata": {},
   "outputs": [
    {
     "data": {
      "application/vnd.jupyter.widget-view+json": {
       "model_id": "d237f4483ebb4f79a803fcaa67347fbe",
       "version_major": 2,
       "version_minor": 0
      },
      "text/plain": [
       "FloatSlider(value=7.5, continuous_update=False, description='Параметр:', max=10.0)"
      ]
     },
     "metadata": {},
     "output_type": "display_data"
    },
    {
     "name": "stdout",
     "output_type": "stream",
     "text": [
      "7.5 -> 7.7\n"
     ]
    }
   ],
   "source": [
    "from ipywidgets import FloatSlider\n",
    "\n",
    "fSlider = FloatSlider(\n",
    "    value=7.5, # Первоначальное значение\n",
    "    min=0,     # Минимум\n",
    "    max=10.0,  # Максимум\n",
    "    step=0.1,  # Шаг изменения\n",
    "    description='Параметр:',\n",
    "    continuous_update=False,  # True - событие observe возникает для каждого шага при изменении значения\n",
    "    orientation='horizontal'  # Горизонтальное или вертикальное расположение\n",
    ")\n",
    "\n",
    "def on_value_change(b):\n",
    "    print(b['old'], '->', b['new'])\n",
    "\n",
    "fSlider.observe(on_value_change, names='value')\n",
    "display(fSlider)"
   ]
  },
  {
   "cell_type": "code",
   "execution_count": 17,
   "metadata": {},
   "outputs": [
    {
     "data": {
      "application/vnd.jupyter.widget-view+json": {
       "model_id": "b7dcb19e75584fc4b77db2106a93367d",
       "version_major": 2,
       "version_minor": 0
      },
      "text/plain": [
       "DatePicker(value=None, description='Дата:', step=1)"
      ]
     },
     "metadata": {},
     "output_type": "display_data"
    },
    {
     "name": "stdout",
     "output_type": "stream",
     "text": [
      "None -> 2024-02-14\n"
     ]
    }
   ],
   "source": [
    "from ipywidgets import DatePicker\n",
    "\n",
    "dPicker = DatePicker(\n",
    "    description='Дата:'\n",
    ")\n",
    "\n",
    "def on_button_clicked(b):\n",
    "    print(b['old'], '->', b['new'])\n",
    "\n",
    "dPicker.observe(on_button_clicked, names='value')\n",
    "display(dPicker)"
   ]
  },
  {
   "cell_type": "code",
   "execution_count": 18,
   "metadata": {},
   "outputs": [
    {
     "data": {
      "application/vnd.jupyter.widget-view+json": {
       "model_id": "e25980b6181546b0a67534ea3bef147d",
       "version_major": 2,
       "version_minor": 0
      },
      "text/plain": [
       "RadioButtons(description='Цвет:', index=1, options=('Красный', 'Желтый', 'Зеленый'), value='Желтый')"
      ]
     },
     "metadata": {},
     "output_type": "display_data"
    },
    {
     "name": "stdout",
     "output_type": "stream",
     "text": [
      "Желтый -> Красный\n"
     ]
    }
   ],
   "source": [
    "from ipywidgets import RadioButtons\n",
    "\n",
    "rButtons1 = RadioButtons(\n",
    "    options=['Красный', 'Желтый', 'Зеленый'],\n",
    "    value='Желтый', # Выбор по умолчанию\n",
    "    description='Цвет:'\n",
    ")\n",
    "\n",
    "\n",
    "def on_button_clicked(b):\n",
    "    print(b['old'], '->', b['new'])\n",
    "\n",
    "rButtons1.observe(on_button_clicked, names='value')\n",
    "display(rButtons1)"
   ]
  },
  {
   "cell_type": "code",
   "execution_count": 19,
   "metadata": {},
   "outputs": [
    {
     "data": {
      "application/vnd.jupyter.widget-view+json": {
       "model_id": "f8bf905f4fdd4639b90a16daeda98c49",
       "version_major": 2,
       "version_minor": 0
      },
      "text/plain": [
       "Dropdown(description='Цвет:', index=1, options=(('Красный', 1), ('Желтый', 2), ('Зеленый', 3)), value=2)"
      ]
     },
     "metadata": {},
     "output_type": "display_data"
    },
    {
     "name": "stdout",
     "output_type": "stream",
     "text": [
      "2 -> 1\n"
     ]
    }
   ],
   "source": [
    "from ipywidgets import Dropdown\n",
    "\n",
    "dropdown1 = Dropdown(\n",
    "    options=[('Красный', 1), ('Желтый', 2), ('Зеленый', 3)],\n",
    "    value=2, # Выбор по умолчанию\n",
    "    description='Цвет:' \n",
    ")\n",
    "\n",
    "def on_button_clicked(b):\n",
    "    print(b['old'], '->', b['new'])\n",
    "\n",
    "dropdown1.observe(on_button_clicked, names='value')\n",
    "display(dropdown1)"
   ]
  },
  {
   "cell_type": "code",
   "execution_count": 20,
   "metadata": {},
   "outputs": [
    {
     "data": {
      "application/vnd.jupyter.widget-view+json": {
       "model_id": "58d23d1ae0304d05afe3d1a36d5b2498",
       "version_major": 2,
       "version_minor": 0
      },
      "text/plain": [
       "Checkbox(value=False, description='Согласен')"
      ]
     },
     "metadata": {},
     "output_type": "display_data"
    },
    {
     "name": "stdout",
     "output_type": "stream",
     "text": [
      "True\n"
     ]
    }
   ],
   "source": [
    "from ipywidgets import Checkbox\n",
    "\n",
    "cb1 = Checkbox(\n",
    "    value=False,\n",
    "    description='Согласен' \n",
    ")\n",
    "\n",
    "def on_button_clicked(b):\n",
    "    print(cb1.value)\n",
    "\n",
    "cb1.observe(on_button_clicked, names='value')\n",
    "display(cb1)"
   ]
  },
  {
   "cell_type": "code",
   "execution_count": 21,
   "metadata": {},
   "outputs": [
    {
     "data": {
      "application/vnd.jupyter.widget-view+json": {
       "model_id": "e592ab3030d24e288802c438a44d6f90",
       "version_major": 2,
       "version_minor": 0
      },
      "text/plain": [
       "ToggleButton(value=False, button_style='success', description='Не нажата', icon='check', tooltip='Принять усло…"
      ]
     },
     "metadata": {},
     "output_type": "display_data"
    },
    {
     "data": {
      "application/vnd.jupyter.widget-view+json": {
       "model_id": "10845d615e2b407abaf7b627bb0243d5",
       "version_major": 2,
       "version_minor": 0
      },
      "text/plain": [
       "ToggleButton(value=True, button_style='success', description='А эта нажата', icon='check', tooltip='Принять ус…"
      ]
     },
     "metadata": {},
     "output_type": "display_data"
    }
   ],
   "source": [
    "from ipywidgets import ToggleButton\n",
    "\n",
    "tb1 = ToggleButton(\n",
    "    value=False,\n",
    "    description='Не нажата',\n",
    "    disabled=False,\n",
    "    button_style='success', # 'success', 'info', 'warning', 'danger' or ''\n",
    "    tooltip='Принять условия',\n",
    "    icon='check'\n",
    ")\n",
    "tb2 = ToggleButton(\n",
    "    value=True,\n",
    "    description='А эта нажата',\n",
    "    disabled=False,\n",
    "    button_style='success', # 'success', 'info', 'warning', 'danger' or ''\n",
    "    tooltip='Принять условия',\n",
    "    icon='check'\n",
    ")\n",
    "\n",
    "display(tb1, tb2)"
   ]
  },
  {
   "cell_type": "code",
   "execution_count": 22,
   "metadata": {},
   "outputs": [
    {
     "data": {
      "application/vnd.jupyter.widget-view+json": {
       "model_id": "fe9863e305024264843e4124afc999c3",
       "version_major": 2,
       "version_minor": 0
      },
      "text/plain": [
       "Textarea(value='Привет, Habr!', description='Текст:', layout=Layout(height='100px', width='600px'), placeholde…"
      ]
     },
     "metadata": {},
     "output_type": "display_data"
    }
   ],
   "source": [
    "from ipywidgets import Textarea, Layout\n",
    "\n",
    "Textarea1 = Textarea(\n",
    "    value='Привет, Habr!',\n",
    "    placeholder='Введите текст',\n",
    "    description='Текст:',\n",
    "    layout=Layout(width='600px', height='100px')\n",
    ")\n",
    "\n",
    "display(Textarea1)"
   ]
  },
  {
   "cell_type": "code",
   "execution_count": 23,
   "metadata": {},
   "outputs": [
    {
     "data": {
      "application/vnd.jupyter.widget-view+json": {
       "model_id": "d05d106b4ce24cb0850449afd8856709",
       "version_major": 2,
       "version_minor": 0
      },
      "text/plain": [
       "Accordion(children=(IntSlider(value=42), Text(value='Сорок два')), titles=('Раздел 1', 'Раздел 2'))"
      ]
     },
     "metadata": {},
     "output_type": "display_data"
    }
   ],
   "source": [
    "from ipywidgets import Accordion, IntSlider, Text\n",
    "\n",
    "accordion = Accordion(children=[IntSlider(value=42), Text(value='Сорок два')])\n",
    "accordion.set_title(0, 'Раздел 1')\n",
    "accordion.set_title(1, 'Раздел 2')\n",
    "display(accordion)"
   ]
  },
  {
   "cell_type": "code",
   "execution_count": 24,
   "metadata": {},
   "outputs": [
    {
     "data": {
      "application/vnd.jupyter.widget-view+json": {
       "model_id": "fae1f13c012a4cccb703cf8db8a8991c",
       "version_major": 2,
       "version_minor": 0
      },
      "text/plain": [
       "Tab(children=(IntSlider(value=42), Text(value='Сорок два')), selected_index=0, titles=('Раздел 1', 'Раздел 2')…"
      ]
     },
     "metadata": {},
     "output_type": "display_data"
    }
   ],
   "source": [
    "from ipywidgets import Tab, IntSlider, Text\n",
    "\n",
    "tab = Tab()\n",
    "tab.children = [IntSlider(value=42), Text(value='Сорок два')]\n",
    "tab.set_title(0, 'Раздел 1')\n",
    "tab.set_title(1, 'Раздел 2')\n",
    "\n",
    "display(tab)"
   ]
  },
  {
   "cell_type": "code",
   "execution_count": null,
   "metadata": {},
   "outputs": [],
   "source": []
  }
 ],
 "metadata": {
  "kernelspec": {
   "display_name": "Python 3 (ipykernel)",
   "language": "python",
   "name": "python3"
  },
  "language_info": {
   "codemirror_mode": {
    "name": "ipython",
    "version": 3
   },
   "file_extension": ".py",
   "mimetype": "text/x-python",
   "name": "python",
   "nbconvert_exporter": "python",
   "pygments_lexer": "ipython3",
   "version": "3.11.6"
  },
  "toc": {
   "base_numbering": 1,
   "nav_menu": {},
   "number_sections": true,
   "sideBar": true,
   "skip_h1_title": false,
   "title_cell": "Table of Contents",
   "title_sidebar": "Contents",
   "toc_cell": false,
   "toc_position": {},
   "toc_section_display": true,
   "toc_window_display": false
  }
 },
 "nbformat": 4,
 "nbformat_minor": 4
}
