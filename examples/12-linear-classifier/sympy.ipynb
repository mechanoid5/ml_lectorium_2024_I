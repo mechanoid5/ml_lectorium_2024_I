{
 "cells": [
  {
   "cell_type": "markdown",
   "id": "07901fbd",
   "metadata": {},
   "source": [
    "Криволапов С.Я., Хрипунова М.Б. Математика на Python : учебник — Москва: КНОРУС, 2022\n",
    "\n",
    "\n",
    "Математическая библиотека Python SymPy   \n",
    "https://pythonru.com/biblioteki/sympy-v-python"
   ]
  },
  {
   "cell_type": "code",
   "execution_count": 2,
   "id": "3afd2b8e",
   "metadata": {},
   "outputs": [],
   "source": [
    "# !pip install sympy"
   ]
  },
  {
   "cell_type": "code",
   "execution_count": 3,
   "id": "a695870a",
   "metadata": {},
   "outputs": [],
   "source": [
    "import numpy as np\n",
    "\n",
    "from matplotlib import pyplot as plt\n",
    "\n",
    "from sympy.abc import x,y,w,o,u\n",
    "from sympy import *"
   ]
  },
  {
   "cell_type": "markdown",
   "id": "e5ad605e",
   "metadata": {},
   "source": [
    "---"
   ]
  },
  {
   "cell_type": "code",
   "execution_count": 5,
   "id": "b2aade81",
   "metadata": {},
   "outputs": [
    {
     "data": {
      "text/latex": [
       "$\\displaystyle \\log{\\left(1 + e^{- x} \\right)}$"
      ],
      "text/plain": [
       "log(1 + exp(-x))"
      ]
     },
     "metadata": {},
     "output_type": "display_data"
    }
   ],
   "source": [
    "expr = log(1+exp(-x))\n",
    "display( expr )"
   ]
  },
  {
   "cell_type": "code",
   "execution_count": 6,
   "id": "b7129c81",
   "metadata": {},
   "outputs": [
    {
     "data": {
      "text/latex": [
       "$\\displaystyle - \\frac{1}{e^{x} + 1}$"
      ],
      "text/plain": [
       "-1/(exp(x) + 1)"
      ]
     },
     "metadata": {},
     "output_type": "display_data"
    }
   ],
   "source": [
    "d_expr = expr.diff(x).simplify()\n",
    "display(  d_expr  )"
   ]
  },
  {
   "cell_type": "code",
   "execution_count": null,
   "id": "e4ddb93f",
   "metadata": {},
   "outputs": [],
   "source": [
    "arg = np.linspace(-10,10,100)\n",
    "values = lambdify(x, expr)(arg)\n",
    "dvalues = lambdify(x,d_expr)(arg)"
   ]
  },
  {
   "cell_type": "code",
   "execution_count": null,
   "id": "e5d65af2",
   "metadata": {},
   "outputs": [],
   "source": [
    "arg = np.linspace(-10,10,100)\n",
    "fig,ax = plt.subplots(ncols=2,figsize=(7,3))\n",
    "ax[0].plot(arg,values)\n",
    "ax[0].grid()\n",
    "ax[1].plot(arg,dvalues)\n",
    "ax[1].grid()"
   ]
  },
  {
   "cell_type": "markdown",
   "id": "6aa2e815",
   "metadata": {},
   "source": [
    "---"
   ]
  },
  {
   "cell_type": "code",
   "execution_count": null,
   "id": "f154c2ff",
   "metadata": {},
   "outputs": [],
   "source": [
    "expr = (x+y)**2\n",
    "expr"
   ]
  },
  {
   "cell_type": "code",
   "execution_count": null,
   "id": "2cb35fd6",
   "metadata": {},
   "outputs": [],
   "source": [
    "expr.expand()"
   ]
  },
  {
   "cell_type": "markdown",
   "id": "0f4d8e93",
   "metadata": {},
   "source": [
    "---"
   ]
  },
  {
   "cell_type": "code",
   "execution_count": null,
   "id": "6d482b91",
   "metadata": {},
   "outputs": [],
   "source": [
    "expr = sin(x)**2 + cos(x)**2 \n",
    "expr"
   ]
  },
  {
   "cell_type": "code",
   "execution_count": null,
   "id": "e0c55ad9",
   "metadata": {},
   "outputs": [],
   "source": [
    "expr.simplify()"
   ]
  },
  {
   "cell_type": "markdown",
   "id": "86f5a187",
   "metadata": {},
   "source": [
    "---"
   ]
  },
  {
   "cell_type": "code",
   "execution_count": null,
   "id": "196dd1a9",
   "metadata": {},
   "outputs": [],
   "source": [
    "expr = sympify('x**2 + 3*x + 2')\n",
    "expr"
   ]
  },
  {
   "cell_type": "code",
   "execution_count": null,
   "id": "b0232802",
   "metadata": {},
   "outputs": [],
   "source": [
    "expr.subs(x,2)"
   ]
  },
  {
   "cell_type": "markdown",
   "id": "307be889",
   "metadata": {},
   "source": [
    "---"
   ]
  },
  {
   "cell_type": "code",
   "execution_count": null,
   "id": "840f548d",
   "metadata": {},
   "outputs": [],
   "source": [
    "expr=( x**2+2*x+1 )/(x+1)\n",
    "expr"
   ]
  },
  {
   "cell_type": "code",
   "execution_count": null,
   "id": "0776c562",
   "metadata": {},
   "outputs": [],
   "source": [
    "expr.simplify()"
   ]
  },
  {
   "cell_type": "code",
   "execution_count": null,
   "id": "3764d034",
   "metadata": {},
   "outputs": [],
   "source": []
  }
 ],
 "metadata": {
  "kernelspec": {
   "display_name": "Python 3 (ipykernel)",
   "language": "python",
   "name": "python3"
  },
  "language_info": {
   "codemirror_mode": {
    "name": "ipython",
    "version": 3
   },
   "file_extension": ".py",
   "mimetype": "text/x-python",
   "name": "python",
   "nbconvert_exporter": "python",
   "pygments_lexer": "ipython3",
   "version": "3.11.7"
  },
  "toc": {
   "base_numbering": 1,
   "nav_menu": {},
   "number_sections": true,
   "sideBar": true,
   "skip_h1_title": false,
   "title_cell": "Table of Contents",
   "title_sidebar": "Contents",
   "toc_cell": false,
   "toc_position": {},
   "toc_section_display": true,
   "toc_window_display": false
  }
 },
 "nbformat": 4,
 "nbformat_minor": 5
}
