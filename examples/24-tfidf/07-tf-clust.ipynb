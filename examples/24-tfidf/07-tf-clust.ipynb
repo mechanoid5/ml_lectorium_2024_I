{
 "cells": [
  {
   "cell_type": "markdown",
   "metadata": {},
   "source": [
    "**кластеризатор текстов**\n",
    "\n",
    "SnowballStemmer + TFIDF + DBSCAN\n",
    "\n",
    "_Евгений Борисов <esborisov@sevsu.ru>_"
   ]
  },
  {
   "cell_type": "code",
   "execution_count": 1,
   "metadata": {},
   "outputs": [],
   "source": [
    "import pandas as pd\n",
    "from tqdm.auto import tqdm\n",
    "\n",
    "pd.options.display.precision = 2 \n",
    "pd.options.display.max_colwidth = 200 \n",
    "tqdm.pandas()"
   ]
  },
  {
   "cell_type": "markdown",
   "metadata": {},
   "source": [
    "## загрузка данных"
   ]
  },
  {
   "cell_type": "markdown",
   "metadata": {},
   "source": [
    "датасет news.pkl.gz   \n",
    "https://disk.yandex.ru/d/8_T_XITkZ4gKAw"
   ]
  },
  {
   "cell_type": "code",
   "execution_count": 2,
   "metadata": {},
   "outputs": [
    {
     "data": {
      "text/plain": [
       "3196"
      ]
     },
     "metadata": {},
     "output_type": "display_data"
    },
    {
     "data": {
      "text/html": [
       "<div>\n",
       "<style scoped>\n",
       "    .dataframe tbody tr th:only-of-type {\n",
       "        vertical-align: middle;\n",
       "    }\n",
       "\n",
       "    .dataframe tbody tr th {\n",
       "        vertical-align: top;\n",
       "    }\n",
       "\n",
       "    .dataframe thead th {\n",
       "        text-align: right;\n",
       "    }\n",
       "</style>\n",
       "<table border=\"1\" class=\"dataframe\">\n",
       "  <thead>\n",
       "    <tr style=\"text-align: right;\">\n",
       "      <th></th>\n",
       "      <th>text</th>\n",
       "      <th>tag</th>\n",
       "    </tr>\n",
       "  </thead>\n",
       "  <tbody>\n",
       "    <tr>\n",
       "      <th>2681</th>\n",
       "      <td>Ученые решили установить, почему в организме человека образовываются раковые клетки и как они себя ведут.\\n\\nБлагодаря очередному исследованию ученым удалось установить, как связан жир в организме...</td>\n",
       "      <td>science</td>\n",
       "    </tr>\n",
       "    <tr>\n",
       "      <th>3138</th>\n",
       "      <td>Трибуна (Сыктывкар) Схватили за язык. Слово чиновника не воробей Комиссия\\nадминистрации Главы и правительства Коми признала, что сотрудник администрации\\nРоман Квашнев нарушил законодательство в ...</td>\n",
       "      <td>incident</td>\n",
       "    </tr>\n",
       "  </tbody>\n",
       "</table>\n",
       "</div>"
      ],
      "text/plain": [
       "                                                                                                                                                                                                         text  \\\n",
       "2681  Ученые решили установить, почему в организме человека образовываются раковые клетки и как они себя ведут.\\n\\nБлагодаря очередному исследованию ученым удалось установить, как связан жир в организме...   \n",
       "3138  Трибуна (Сыктывкар) Схватили за язык. Слово чиновника не воробей Комиссия\\nадминистрации Главы и правительства Коми признала, что сотрудник администрации\\nРоман Квашнев нарушил законодательство в ...   \n",
       "\n",
       "           tag  \n",
       "2681   science  \n",
       "3138  incident  "
      ]
     },
     "metadata": {},
     "output_type": "display_data"
    }
   ],
   "source": [
    "# загружаем тексты\n",
    "data = pd.read_pickle('news.pkl.gz')\n",
    "display( len(data) )\n",
    "display(  data.sample(2) )"
   ]
  },
  {
   "cell_type": "code",
   "execution_count": 3,
   "metadata": {},
   "outputs": [
    {
     "data": {
      "text/plain": [
       "3196"
      ]
     },
     "metadata": {},
     "output_type": "display_data"
    }
   ],
   "source": [
    "display( len( data.drop_duplicates('text') ) )"
   ]
  },
  {
   "cell_type": "markdown",
   "metadata": {},
   "source": [
    "## токенайзер"
   ]
  },
  {
   "cell_type": "code",
   "execution_count": 4,
   "metadata": {},
   "outputs": [],
   "source": [
    "# NLTK package manager\n",
    "# import nltk\n",
    "# nltk.download()"
   ]
  },
  {
   "cell_type": "code",
   "execution_count": 5,
   "metadata": {},
   "outputs": [],
   "source": [
    "# import re\n",
    "# from nltk.tokenize import word_tokenize as nltk_tokenize_word\n",
    "\n",
    "# def tokenizer(text):\n",
    "#     return [\n",
    "#             t for t in nltk_tokenize_word( # разбиваем текст на слова\n",
    "#                 re.sub(r'</?[a-z]+>',' ',text), # удаляем xml tag \n",
    "#                 language='russian'\n",
    "#             ) \n",
    "#         ]"
   ]
  },
  {
   "cell_type": "code",
   "execution_count": 6,
   "metadata": {},
   "outputs": [],
   "source": [
    "# import re\n",
    "# from nltk.tokenize import word_tokenize as nltk_tokenize_word\n",
    "# from nltk.corpus import stopwords as nltk_stopwords\n",
    "\n",
    "# stopwords = set(nltk_stopwords.words('russian'))\n",
    "\n",
    "# def tokenizer(text,stopwords=stopwords):\n",
    "#     return [\n",
    "#             t for t in nltk_tokenize_word( # разбиваем текст на слова\n",
    "#                 re.sub(r'</?[a-z]+>',' ',text), # удаляем xml tag \n",
    "#                 language='russian'\n",
    "#             ) \n",
    "#             if not (\n",
    "#                False\n",
    "#                or (len(t)<3) # выкидываем очень короткие слова\n",
    "#                or re.match(r'^[^a-zA-ZЁёА-я]+$', t) # выкидываем токены не содержащие букв\n",
    "#                or re.match(r'^(\\w)\\1+$', t)  # выкидываем токены из одного повторяющегося символа\n",
    "#                or re.match(r'^[^a-zA-ZЁёА-я].*$', t)  # выкидываем токены начинающиеся не с буквы\n",
    "#                or (t in stopwords) # выкидываем предлоги, союзы и т.п.    \n",
    "#             )\n",
    "#         ] "
   ]
  },
  {
   "cell_type": "code",
   "execution_count": 7,
   "metadata": {},
   "outputs": [],
   "source": [
    "import re\n",
    "# from razdel import sentenize\n",
    "from razdel import tokenize\n",
    "from nltk.corpus import stopwords as nltk_stopwords\n",
    "stopwords = set(nltk_stopwords.words('russian'))\n",
    "\n",
    "def tokenizer(text,stopwords=stopwords):\n",
    "    return [\n",
    "            t.text for t in tokenize( # разбиваем текст на слова\n",
    "                re.sub(r'</?[a-z]+>',' ',text), # удаляем xml tag \n",
    "            ) \n",
    "            if not (\n",
    "               False\n",
    "               or (len(t.text)<3) # выкидываем очень короткие слова\n",
    "               or re.match(r'^[^a-zA-ZЁёА-я]+$', t.text) # выкидываем токены не содержащие букв\n",
    "               or re.match(r'^(\\w)\\1+$', t.text)  # выкидываем токены из одного повторяющегося символа\n",
    "               or re.match(r'^[^a-zA-ZЁёА-я].*$', t.text)  # выкидываем токены начинающиеся не с буквы\n",
    "               or (t.text in stopwords) # выкидываем предлоги, союзы и т.п.    \n",
    "            )\n",
    "        ] "
   ]
  },
  {
   "cell_type": "markdown",
   "metadata": {},
   "source": [
    "## выполняем частотный анализ"
   ]
  },
  {
   "cell_type": "code",
   "execution_count": 8,
   "metadata": {},
   "outputs": [],
   "source": [
    "# from sklearn.feature_extraction.text import CountVectorizer\n",
    "# tf_model = CountVectorizer(\n",
    "#         min_df=.01, # выкидываем очень редкие слова\n",
    "#         max_df=.25, # выкидываем очень частые слова\n",
    "#         tokenizer=tokenizer, # ф-ция токенайзер\n",
    "#         token_pattern=None, # отключаем дефолтный токенайзер\n",
    "#         binary=True,\n",
    "#     )"
   ]
  },
  {
   "cell_type": "code",
   "execution_count": 9,
   "metadata": {},
   "outputs": [],
   "source": [
    "from sklearn.feature_extraction.text import TfidfVectorizer\n",
    "tf_model = TfidfVectorizer(\n",
    "        min_df=.01, # выкидываем очень редкие слова\n",
    "        max_df=.10, # выкидываем очень частые слова\n",
    "        use_idf=False, # не используем обратную частоту\n",
    "        norm='l2', # нормируем TF\n",
    "        tokenizer=tokenizer, # ф-ция токенайзер\n",
    "        token_pattern=None, # отключаем дефолтный токенайзер\n",
    "        ngram_range = (2,2)\n",
    "    )"
   ]
  },
  {
   "cell_type": "code",
   "execution_count": 10,
   "metadata": {},
   "outputs": [
    {
     "data": {
      "text/plain": [
       "(3196, 116)"
      ]
     },
     "metadata": {},
     "output_type": "display_data"
    },
    {
     "name": "stdout",
     "output_type": "stream",
     "text": [
      "CPU times: user 4.31 s, sys: 31.1 ms, total: 4.34 s\n",
      "Wall time: 4.34 s\n"
     ]
    }
   ],
   "source": [
    "%%time\n",
    "\n",
    "data_tf = tf_model.fit_transform( data['text'].str.lower() )\n",
    "\n",
    "display(data_tf.shape)"
   ]
  },
  {
   "cell_type": "code",
   "execution_count": 11,
   "metadata": {},
   "outputs": [
    {
     "data": {
      "text/plain": [
       "116"
      ]
     },
     "metadata": {},
     "output_type": "display_data"
    },
    {
     "data": {
      "text/plain": [
       "['adobe flash',\n",
       " 'afisha tut',\n",
       " 'auto tut',\n",
       " 'finance tut',\n",
       " 'flash player',\n",
       " 'html установлена',\n",
       " 'javascript ваш',\n",
       " 'realty tut',\n",
       " 'sport tut',\n",
       " 'wall street',\n",
       " 'ближайшее время',\n",
       " 'большая часть',\n",
       " 'браузер поддерживает',\n",
       " 'ваш браузер',\n",
       " 'версия проигрывателя',\n",
       " 'владимир путин',\n",
       " 'внимание отключен',\n",
       " 'возбуждено уголовное',\n",
       " 'вторник декабря',\n",
       " 'второе место',\n",
       " 'глава государства',\n",
       " 'главы государства',\n",
       " 'говорится сообщении',\n",
       " 'года назад',\n",
       " 'данный момент',\n",
       " 'дек риа',\n",
       " 'декабря auto',\n",
       " 'декабря lenta',\n",
       " 'декабря sport',\n",
       " 'декабря tut',\n",
       " 'декабря года',\n",
       " 'декабря обновлено',\n",
       " 'декабря тасс',\n",
       " 'дональд трамп',\n",
       " 'дональда трампа',\n",
       " 'друг друга',\n",
       " 'избранного президента',\n",
       " 'избранный президент',\n",
       " 'иностранных дел',\n",
       " 'конца года',\n",
       " 'коренных малочисленных',\n",
       " 'лет назад',\n",
       " 'лиги чемпионов',\n",
       " 'лошадиных сил',\n",
       " 'малочисленных народов',\n",
       " 'мвд россии',\n",
       " 'миллиона рублей',\n",
       " 'миллионов рублей',\n",
       " 'млн долларов',\n",
       " 'млн рублей',\n",
       " 'москва дек',\n",
       " 'москва декабря',\n",
       " 'народов севера',\n",
       " 'настоящее время',\n",
       " 'несколько дней',\n",
       " 'несколько лет',\n",
       " 'обновлено декабря',\n",
       " 'около тысяч',\n",
       " 'опубликовано декабря',\n",
       " 'отключен javascript',\n",
       " 'официальный представитель',\n",
       " 'первое место',\n",
       " 'первую очередь',\n",
       " 'поддерживает html',\n",
       " 'подписывайтесь канал',\n",
       " 'понедельник декабря',\n",
       " 'последнее время',\n",
       " 'правах рекламы',\n",
       " 'предварительной информации',\n",
       " 'предварительным данным',\n",
       " 'президент сша',\n",
       " 'президента сша',\n",
       " 'проигрывателя adobe',\n",
       " 'прошлого года',\n",
       " 'прошлой неделе',\n",
       " 'прошлом году',\n",
       " 'рабочих мест',\n",
       " 'различной степени',\n",
       " 'ранее сообщалось',\n",
       " 'результате дтп',\n",
       " 'речь идет',\n",
       " 'риа новости',\n",
       " 'российской федерации',\n",
       " 'самом деле',\n",
       " 'сегодняшний день',\n",
       " 'сих пор',\n",
       " 'следственного комитета',\n",
       " 'следующего года',\n",
       " 'следующем году',\n",
       " 'сообщает пресс-служба',\n",
       " 'сообщает риа',\n",
       " 'сообщили пресс-службе',\n",
       " 'социальной сети',\n",
       " 'стало известно',\n",
       " 'старая версия',\n",
       " 'степени тяжести',\n",
       " 'стоит отметить',\n",
       " 'сша дональд',\n",
       " 'таким образом',\n",
       " 'текущего года',\n",
       " 'тех пор',\n",
       " 'точки зрения',\n",
       " 'тура чемпионата',\n",
       " 'турнирной таблице',\n",
       " 'тысяч долларов',\n",
       " 'тысяч рублей',\n",
       " 'тысяч человек',\n",
       " 'уголовное дело',\n",
       " 'установлена старая',\n",
       " 'фото reuters',\n",
       " 'фото сайта',\n",
       " 'читайте также',\n",
       " 'это время',\n",
       " 'это значит',\n",
       " 'это очень',\n",
       " 'января года']"
      ]
     },
     "metadata": {},
     "output_type": "display_data"
    }
   ],
   "source": [
    "vocab = sorted(tf_model.vocabulary_)\n",
    "display(len(vocab))\n",
    "display(vocab)"
   ]
  },
  {
   "cell_type": "markdown",
   "metadata": {},
   "source": [
    "## кластеризируем"
   ]
  },
  {
   "cell_type": "code",
   "execution_count": 12,
   "metadata": {},
   "outputs": [
    {
     "data": {
      "text/plain": [
       "0.018299992189866887"
      ]
     },
     "metadata": {},
     "output_type": "display_data"
    },
    {
     "data": {
      "text/plain": [
       "1.2168617334102432"
      ]
     },
     "metadata": {},
     "output_type": "display_data"
    },
    {
     "data": {
      "text/plain": [
       "1.4142135623730954"
      ]
     },
     "metadata": {},
     "output_type": "display_data"
    }
   ],
   "source": [
    "# оценки расстояний \n",
    "from sklearn.metrics.pairwise import euclidean_distances\n",
    "d = euclidean_distances(data_tf)\n",
    "\n",
    "display( d[d>0.].min(),d[d>0.].mean(),d.max(), )"
   ]
  },
  {
   "cell_type": "code",
   "execution_count": 13,
   "metadata": {},
   "outputs": [
    {
     "data": {
      "text/plain": [
       "83"
      ]
     },
     "metadata": {},
     "output_type": "display_data"
    },
    {
     "name": "stdout",
     "output_type": "stream",
     "text": [
      "CPU times: user 83.5 ms, sys: 55.8 ms, total: 139 ms\n",
      "Wall time: 170 ms\n"
     ]
    }
   ],
   "source": [
    "%%time\n",
    "\n",
    "from sklearn.cluster import DBSCAN\n",
    "\n",
    "data['cluster_id'] = DBSCAN(eps=.7,min_samples=3).fit(data_tf).labels_\n",
    "\n",
    "display( data['cluster_id'].drop_duplicates().count() )"
   ]
  },
  {
   "cell_type": "code",
   "execution_count": 14,
   "metadata": {},
   "outputs": [
    {
     "data": {
      "text/html": [
       "<div>\n",
       "<style scoped>\n",
       "    .dataframe tbody tr th:only-of-type {\n",
       "        vertical-align: middle;\n",
       "    }\n",
       "\n",
       "    .dataframe tbody tr th {\n",
       "        vertical-align: top;\n",
       "    }\n",
       "\n",
       "    .dataframe thead th {\n",
       "        text-align: right;\n",
       "    }\n",
       "</style>\n",
       "<table border=\"1\" class=\"dataframe\">\n",
       "  <thead>\n",
       "    <tr style=\"text-align: right;\">\n",
       "      <th></th>\n",
       "      <th>cluster_id</th>\n",
       "      <th>count</th>\n",
       "      <th>tags</th>\n",
       "    </tr>\n",
       "  </thead>\n",
       "  <tbody>\n",
       "    <tr>\n",
       "      <th>0</th>\n",
       "      <td>-1</td>\n",
       "      <td>465</td>\n",
       "      <td>social reclama woman tech incident health realty culture economics auto politics sport science</td>\n",
       "    </tr>\n",
       "    <tr>\n",
       "      <th>1</th>\n",
       "      <td>0</td>\n",
       "      <td>921</td>\n",
       "      <td>social reclama woman tech incident health realty culture economics auto sport politics science</td>\n",
       "    </tr>\n",
       "    <tr>\n",
       "      <th>2</th>\n",
       "      <td>1</td>\n",
       "      <td>25</td>\n",
       "      <td>tech culture economics auto sport politics science</td>\n",
       "    </tr>\n",
       "    <tr>\n",
       "      <th>3</th>\n",
       "      <td>2</td>\n",
       "      <td>17</td>\n",
       "      <td>social tech culture economics auto politics</td>\n",
       "    </tr>\n",
       "    <tr>\n",
       "      <th>4</th>\n",
       "      <td>3</td>\n",
       "      <td>120</td>\n",
       "      <td>social woman incident tech culture economics auto politics sport science</td>\n",
       "    </tr>\n",
       "    <tr>\n",
       "      <th>...</th>\n",
       "      <td>...</td>\n",
       "      <td>...</td>\n",
       "      <td>...</td>\n",
       "    </tr>\n",
       "    <tr>\n",
       "      <th>78</th>\n",
       "      <td>77</td>\n",
       "      <td>10</td>\n",
       "      <td>incident</td>\n",
       "    </tr>\n",
       "    <tr>\n",
       "      <th>79</th>\n",
       "      <td>78</td>\n",
       "      <td>5</td>\n",
       "      <td>incident</td>\n",
       "    </tr>\n",
       "    <tr>\n",
       "      <th>80</th>\n",
       "      <td>79</td>\n",
       "      <td>3</td>\n",
       "      <td>incident</td>\n",
       "    </tr>\n",
       "    <tr>\n",
       "      <th>81</th>\n",
       "      <td>80</td>\n",
       "      <td>3</td>\n",
       "      <td>incident auto</td>\n",
       "    </tr>\n",
       "    <tr>\n",
       "      <th>82</th>\n",
       "      <td>81</td>\n",
       "      <td>14</td>\n",
       "      <td>auto</td>\n",
       "    </tr>\n",
       "  </tbody>\n",
       "</table>\n",
       "<p>83 rows × 3 columns</p>\n",
       "</div>"
      ],
      "text/plain": [
       "    cluster_id  count  \\\n",
       "0           -1    465   \n",
       "1            0    921   \n",
       "2            1     25   \n",
       "3            2     17   \n",
       "4            3    120   \n",
       "..         ...    ...   \n",
       "78          77     10   \n",
       "79          78      5   \n",
       "80          79      3   \n",
       "81          80      3   \n",
       "82          81     14   \n",
       "\n",
       "                                                                                              tags  \n",
       "0   social reclama woman tech incident health realty culture economics auto politics sport science  \n",
       "1   social reclama woman tech incident health realty culture economics auto sport politics science  \n",
       "2                                               tech culture economics auto sport politics science  \n",
       "3                                                      social tech culture economics auto politics  \n",
       "4                         social woman incident tech culture economics auto politics sport science  \n",
       "..                                                                                             ...  \n",
       "78                                                                                        incident  \n",
       "79                                                                                        incident  \n",
       "80                                                                                        incident  \n",
       "81                                                                                   incident auto  \n",
       "82                                                                                            auto  \n",
       "\n",
       "[83 rows x 3 columns]"
      ]
     },
     "metadata": {},
     "output_type": "display_data"
    }
   ],
   "source": [
    "# номер кластера, количество объектов, метки объектов\n",
    "# (cluster=-1 - некластеризованные DBSCAN объекты) \n",
    "cluster_descr = pd.concat([\n",
    "        data[['cluster_id','tag']].groupby(['cluster_id'])['tag'].count(),\n",
    "        data[['cluster_id','tag']].groupby(['cluster_id'])['tag'].apply(lambda s: set(s)).apply(' '.join)\n",
    "    ],axis=1).reset_index()\n",
    "\n",
    "cluster_descr.columns = ['cluster_id','count','tags']\n",
    "\n",
    "display( cluster_descr )"
   ]
  },
  {
   "cell_type": "code",
   "execution_count": 15,
   "metadata": {},
   "outputs": [
    {
     "data": {
      "text/html": [
       "<div>\n",
       "<style scoped>\n",
       "    .dataframe tbody tr th:only-of-type {\n",
       "        vertical-align: middle;\n",
       "    }\n",
       "\n",
       "    .dataframe tbody tr th {\n",
       "        vertical-align: top;\n",
       "    }\n",
       "\n",
       "    .dataframe thead th {\n",
       "        text-align: right;\n",
       "    }\n",
       "</style>\n",
       "<table border=\"1\" class=\"dataframe\">\n",
       "  <thead>\n",
       "    <tr style=\"text-align: right;\">\n",
       "      <th></th>\n",
       "      <th>text</th>\n",
       "      <th>tag</th>\n",
       "      <th>cluster_id</th>\n",
       "    </tr>\n",
       "  </thead>\n",
       "  <tbody>\n",
       "    <tr>\n",
       "      <th>11</th>\n",
       "      <td>Путин велел правительству внести в Думу закон об отсрочках... и внести\\nв Госдуму проект федерального закона, предусматривающего, в частности,\\nпереход с 1 января 2008 года на 12-месячную военную ...</td>\n",
       "      <td>politics</td>\n",
       "      <td>2</td>\n",
       "    </tr>\n",
       "    <tr>\n",
       "      <th>18</th>\n",
       "      <td>Путин поручил внести в Думу проект закона о 12-месячной военной службе...\\nРФ доработать и внести в Госдуму законопроект, предусматривающий с 1\\nянваря 2008 года переход на 12-месячную военную слу...</td>\n",
       "      <td>politics</td>\n",
       "      <td>2</td>\n",
       "    </tr>\n",
       "    <tr>\n",
       "      <th>351</th>\n",
       "      <td>Украина предложила России компромисс по цене на газ Комитет Верховной\\nРады по вопросам топливно-энергетического комплекса, ядерной политике и\\nядерной безопасности предложил новый пакет по закупк...</td>\n",
       "      <td>politics</td>\n",
       "      <td>2</td>\n",
       "    </tr>\n",
       "    <tr>\n",
       "      <th>830</th>\n",
       "      <td>В Могилевской области появится своя резиденция Деда Мороза\\n\\n1 декабря 2016 в 9:27\\n\\nМогилевский облисполком\\n\\nВ охотничьем комплексе La Proni 20 декабря откроется «Чаусская резиденция Деда Мор...</td>\n",
       "      <td>social</td>\n",
       "      <td>2</td>\n",
       "    </tr>\n",
       "    <tr>\n",
       "      <th>1039</th>\n",
       "      <td>С января 2017 года банки не будут ставить терминалы, которые не принимают бесконтактные карточки\\n\\n5 декабря 2016 в 12:13\\n\\nFINANCE.TUT.BY\\n\\nС 1 января 2017 года белорусские банки перестанут по...</td>\n",
       "      <td>economics</td>\n",
       "      <td>2</td>\n",
       "    </tr>\n",
       "    <tr>\n",
       "      <th>1586</th>\n",
       "      <td>По подсчетам, в среднем он слушал по 67 композиций в день.\\n\\nВ Санкт-Петербурге живет поклонник творчества группы «Аукцыон», который прослушал песни коллектива 25,3 тыс. раз, а в Новосибирске — ф...</td>\n",
       "      <td>culture</td>\n",
       "      <td>2</td>\n",
       "    </tr>\n",
       "    <tr>\n",
       "      <th>1794</th>\n",
       "      <td>Саратовская область попала в число худших регионов по освоению средств дорожного фонда\\n\\nВ 2015 году дорожные фонды в регионах России были использованы не в полном объеме. Всего по стране было по...</td>\n",
       "      <td>auto</td>\n",
       "      <td>2</td>\n",
       "    </tr>\n",
       "    <tr>\n",
       "      <th>1799</th>\n",
       "      <td>В Ярославской области не спешат осваивать «дорожные деньги»\\n\\nАудиторы Счетной палаты выявили отставание ряда регионов по освоению денежных средств, предусмотренных на строительство и реконструкц...</td>\n",
       "      <td>auto</td>\n",
       "      <td>2</td>\n",
       "    </tr>\n",
       "    <tr>\n",
       "      <th>1831</th>\n",
       "      <td>Иран и Россия подписали в Тегеране меморандум о сотрудничестве в области нефти и энергетики. Документ, состоящий из 23 пунктов, был подписан в понедельник при участии заместителя министра энергети...</td>\n",
       "      <td>economics</td>\n",
       "      <td>2</td>\n",
       "    </tr>\n",
       "    <tr>\n",
       "      <th>2397</th>\n",
       "      <td>Объявлен полный список номинантов на вторую после \"Оскара\" по значимости кинопремию \"Золотой глобус\". В этот раз не обошлось без приятных неожиданностей - целых двух. Неприличный и разудалый кинок...</td>\n",
       "      <td>culture</td>\n",
       "      <td>2</td>\n",
       "    </tr>\n",
       "    <tr>\n",
       "      <th>2403</th>\n",
       "      <td>Сегодня рано утром в 5 часов 15 минут по Тихоокеанскому времени в Лос-Анджелесе были объявлены номинации на 74-ю премию «Золотой глобус». Лауреаты одной из самых престижных наград в мире кино стан...</td>\n",
       "      <td>culture</td>\n",
       "      <td>2</td>\n",
       "    </tr>\n",
       "    <tr>\n",
       "      <th>2405</th>\n",
       "      <td>Голливудская ассоциация иностранной прессы определила номинантов на получение премии «Золотой глобус»\\n\\nЛидером по числу заявленных категорий стал мюзикл Дэмьена Шазелла «Ла-Ла Ленд» с Райаном Го...</td>\n",
       "      <td>culture</td>\n",
       "      <td>2</td>\n",
       "    </tr>\n",
       "    <tr>\n",
       "      <th>2407</th>\n",
       "      <td>Объявлен полный список номинантов на вторую после «Оскара» по значимости кинопремию «Золотой глобус». В этот раз не обошлось без приятных неожиданностей, передает rg.ru.\\n\\nНеприличный и разудалый...</td>\n",
       "      <td>culture</td>\n",
       "      <td>2</td>\n",
       "    </tr>\n",
       "    <tr>\n",
       "      <th>2760</th>\n",
       "      <td>За последние пять лет я слышал десятки аргументов людей, которым не нужен iPhone. Одни честно признаются, что жалко денег. Другие считают эти телефоны слишком хрупкими и дорогими для ремонта. Трет...</td>\n",
       "      <td>tech</td>\n",
       "      <td>2</td>\n",
       "    </tr>\n",
       "    <tr>\n",
       "      <th>2887</th>\n",
       "      <td>Южнокорейская компания опубликовала в Сети новое тизерное изображение автомобиля GT, который, судя по видео, уже проходит тестирование на одной из трасс в Южной Корее.\\n\\n\\n\\nПрезентация этой нови...</td>\n",
       "      <td>auto</td>\n",
       "      <td>2</td>\n",
       "    </tr>\n",
       "    <tr>\n",
       "      <th>2889</th>\n",
       "      <td>\\r\\nКорейский автоконцерн KIA опубликовал новый видео-тизер обновленного спорткара KIA GT. Несмотря на камуфляжную расцветку, уже можно подробно разглядеть особенности нового гоночного автомобиля....</td>\n",
       "      <td>auto</td>\n",
       "      <td>2</td>\n",
       "    </tr>\n",
       "    <tr>\n",
       "      <th>2890</th>\n",
       "      <td>Вчера, 20:30\\n\\nАвтостроительная компания из Южной Кореи Kia Motors во второй раз решила привлечь внимание к себе и опубликовала в Сети новый видеотизер. На этот раз на ролике демонстрируется нови...</td>\n",
       "      <td>auto</td>\n",
       "      <td>2</td>\n",
       "    </tr>\n",
       "  </tbody>\n",
       "</table>\n",
       "</div>"
      ],
      "text/plain": [
       "                                                                                                                                                                                                         text  \\\n",
       "11    Путин велел правительству внести в Думу закон об отсрочках... и внести\\nв Госдуму проект федерального закона, предусматривающего, в частности,\\nпереход с 1 января 2008 года на 12-месячную военную ...   \n",
       "18    Путин поручил внести в Думу проект закона о 12-месячной военной службе...\\nРФ доработать и внести в Госдуму законопроект, предусматривающий с 1\\nянваря 2008 года переход на 12-месячную военную слу...   \n",
       "351   Украина предложила России компромисс по цене на газ Комитет Верховной\\nРады по вопросам топливно-энергетического комплекса, ядерной политике и\\nядерной безопасности предложил новый пакет по закупк...   \n",
       "830   В Могилевской области появится своя резиденция Деда Мороза\\n\\n1 декабря 2016 в 9:27\\n\\nМогилевский облисполком\\n\\nВ охотничьем комплексе La Proni 20 декабря откроется «Чаусская резиденция Деда Мор...   \n",
       "1039  С января 2017 года банки не будут ставить терминалы, которые не принимают бесконтактные карточки\\n\\n5 декабря 2016 в 12:13\\n\\nFINANCE.TUT.BY\\n\\nС 1 января 2017 года белорусские банки перестанут по...   \n",
       "1586  По подсчетам, в среднем он слушал по 67 композиций в день.\\n\\nВ Санкт-Петербурге живет поклонник творчества группы «Аукцыон», который прослушал песни коллектива 25,3 тыс. раз, а в Новосибирске — ф...   \n",
       "1794  Саратовская область попала в число худших регионов по освоению средств дорожного фонда\\n\\nВ 2015 году дорожные фонды в регионах России были использованы не в полном объеме. Всего по стране было по...   \n",
       "1799  В Ярославской области не спешат осваивать «дорожные деньги»\\n\\nАудиторы Счетной палаты выявили отставание ряда регионов по освоению денежных средств, предусмотренных на строительство и реконструкц...   \n",
       "1831  Иран и Россия подписали в Тегеране меморандум о сотрудничестве в области нефти и энергетики. Документ, состоящий из 23 пунктов, был подписан в понедельник при участии заместителя министра энергети...   \n",
       "2397  Объявлен полный список номинантов на вторую после \"Оскара\" по значимости кинопремию \"Золотой глобус\". В этот раз не обошлось без приятных неожиданностей - целых двух. Неприличный и разудалый кинок...   \n",
       "2403  Сегодня рано утром в 5 часов 15 минут по Тихоокеанскому времени в Лос-Анджелесе были объявлены номинации на 74-ю премию «Золотой глобус». Лауреаты одной из самых престижных наград в мире кино стан...   \n",
       "2405  Голливудская ассоциация иностранной прессы определила номинантов на получение премии «Золотой глобус»\\n\\nЛидером по числу заявленных категорий стал мюзикл Дэмьена Шазелла «Ла-Ла Ленд» с Райаном Го...   \n",
       "2407  Объявлен полный список номинантов на вторую после «Оскара» по значимости кинопремию «Золотой глобус». В этот раз не обошлось без приятных неожиданностей, передает rg.ru.\\n\\nНеприличный и разудалый...   \n",
       "2760  За последние пять лет я слышал десятки аргументов людей, которым не нужен iPhone. Одни честно признаются, что жалко денег. Другие считают эти телефоны слишком хрупкими и дорогими для ремонта. Трет...   \n",
       "2887  Южнокорейская компания опубликовала в Сети новое тизерное изображение автомобиля GT, который, судя по видео, уже проходит тестирование на одной из трасс в Южной Корее.\\n\\n\\n\\nПрезентация этой нови...   \n",
       "2889  \\r\\nКорейский автоконцерн KIA опубликовал новый видео-тизер обновленного спорткара KIA GT. Несмотря на камуфляжную расцветку, уже можно подробно разглядеть особенности нового гоночного автомобиля....   \n",
       "2890  Вчера, 20:30\\n\\nАвтостроительная компания из Южной Кореи Kia Motors во второй раз решила привлечь внимание к себе и опубликовала в Сети новый видеотизер. На этот раз на ролике демонстрируется нови...   \n",
       "\n",
       "            tag  cluster_id  \n",
       "11     politics           2  \n",
       "18     politics           2  \n",
       "351    politics           2  \n",
       "830      social           2  \n",
       "1039  economics           2  \n",
       "1586    culture           2  \n",
       "1794       auto           2  \n",
       "1799       auto           2  \n",
       "1831  economics           2  \n",
       "2397    culture           2  \n",
       "2403    culture           2  \n",
       "2405    culture           2  \n",
       "2407    culture           2  \n",
       "2760       tech           2  \n",
       "2887       auto           2  \n",
       "2889       auto           2  \n",
       "2890       auto           2  "
      ]
     },
     "metadata": {},
     "output_type": "display_data"
    }
   ],
   "source": [
    "display( data.query('cluster_id==2') )"
   ]
  },
  {
   "cell_type": "code",
   "execution_count": null,
   "metadata": {},
   "outputs": [],
   "source": []
  }
 ],
 "metadata": {
  "kernelspec": {
   "display_name": "Python 3 (ipykernel)",
   "language": "python",
   "name": "python3"
  },
  "language_info": {
   "codemirror_mode": {
    "name": "ipython",
    "version": 3
   },
   "file_extension": ".py",
   "mimetype": "text/x-python",
   "name": "python",
   "nbconvert_exporter": "python",
   "pygments_lexer": "ipython3",
   "version": "3.11.8"
  },
  "toc": {
   "base_numbering": 1,
   "nav_menu": {},
   "number_sections": true,
   "sideBar": true,
   "skip_h1_title": false,
   "title_cell": "Table of Contents",
   "title_sidebar": "Contents",
   "toc_cell": false,
   "toc_position": {},
   "toc_section_display": true,
   "toc_window_display": false
  }
 },
 "nbformat": 4,
 "nbformat_minor": 2
}
