{
 "cells": [
  {
   "cell_type": "markdown",
   "id": "9095d55d",
   "metadata": {},
   "source": [
    "__Нейросетевая языковая модель на основе LSTM__ \n",
    "\n",
    "Евгений Борисов <esborisov@sevsu.ru>"
   ]
  },
  {
   "cell_type": "markdown",
   "id": "2e6cd24f",
   "metadata": {},
   "source": [
    "# загружаем тексты"
   ]
  },
  {
   "cell_type": "code",
   "execution_count": 1,
   "id": "aa559631",
   "metadata": {},
   "outputs": [],
   "source": [
    "import gzip\n",
    "import requests\n",
    "from bs4 import BeautifulSoup"
   ]
  },
  {
   "cell_type": "code",
   "execution_count": 2,
   "id": "0f4b215a",
   "metadata": {},
   "outputs": [],
   "source": [
    "# url='http://lib.ru/NEWPROZA/LOBAS/taxisty.txt'\n",
    "# text = BeautifulSoup(requests.get(url).text).get_text()\n",
    "# with gzip.open('taxisty.txt.gz','wt') as f: f.write(text)\n",
    "\n",
    "# # with gzip.open('taxisty.txt.gz','rt') as f: text = f.read()\n",
    "\n",
    "# text = text[1030:-7261].strip() # выкидываем заголовок и хвост страницы \n",
    "# print(f'символов:{len(text)}\\n---------------\\n'%())\n",
    "# print(text[:343])"
   ]
  },
  {
   "cell_type": "code",
   "execution_count": 3,
   "id": "18b79044",
   "metadata": {},
   "outputs": [
    {
     "name": "stdout",
     "output_type": "stream",
     "text": [
      "символов:1279540\n",
      "---------------\n",
      "\n",
      "Приступая к описанию недавних и столь странных событий, происшедших в нашем, доселе ничем не отличавшемся городе, я принужден, по неумению моему, начать несколько издалека, а именно некоторыми биографическими подробностями о талантливом и многочтимом Степане Трофимовиче Верховенском. Пусть эти подробности послужат лишь введением к предлагаемой хронике, \n"
     ]
    }
   ],
   "source": [
    "url='http://az.lib.ru/d/dostoewskij_f_m/text_0080.shtml'\n",
    "text = BeautifulSoup(requests.get(url).text).get_text()\n",
    "with gzip.open('dostoewskij.txt.gz','wt') as f: f.write(text)\n",
    "\n",
    "# with gzip.open('dostoewskij.txt.gz','rt') as f: text = f.read()\n",
    "\n",
    "text = text[2876:-664184].strip() # выкидываем заголовок и хвост страницы \n",
    "print(f'символов:{len(text)}\\n---------------\\n'%())\n",
    "print(text[:355])"
   ]
  },
  {
   "cell_type": "markdown",
   "id": "26585711",
   "metadata": {},
   "source": [
    "---"
   ]
  },
  {
   "cell_type": "code",
   "execution_count": 4,
   "id": "7e583532",
   "metadata": {},
   "outputs": [],
   "source": [
    "from tqdm.auto import tqdm\n",
    "from itertools import chain\n",
    "import numpy as np"
   ]
  },
  {
   "cell_type": "code",
   "execution_count": 5,
   "id": "51f07eff",
   "metadata": {},
   "outputs": [
    {
     "name": "stdout",
     "output_type": "stream",
     "text": [
      "nltk version: 3.8.1\n"
     ]
    }
   ],
   "source": [
    "from nltk import __version__ as nltk_version\n",
    "print('nltk version:',nltk_version)\n",
    "\n",
    "from nltk.tokenize import sent_tokenize as nltk_sentence_split\n",
    "from nltk.tokenize import word_tokenize as nltk_tokenize_word\n",
    "from nltk.util import ngrams"
   ]
  },
  {
   "cell_type": "code",
   "execution_count": 6,
   "id": "06ab869a",
   "metadata": {},
   "outputs": [],
   "source": [
    "# !pip install torch"
   ]
  },
  {
   "cell_type": "code",
   "execution_count": 7,
   "id": "e23ebdb8",
   "metadata": {},
   "outputs": [],
   "source": [
    "import torch\n",
    "from torch.utils.data import Dataset\n",
    "import torch.nn.functional as F"
   ]
  },
  {
   "cell_type": "code",
   "execution_count": 8,
   "id": "ca38a43b",
   "metadata": {},
   "outputs": [],
   "source": [
    "# !pip install torchtext"
   ]
  },
  {
   "cell_type": "code",
   "execution_count": 9,
   "id": "d41bc6e5",
   "metadata": {},
   "outputs": [],
   "source": [
    "# import torchtext\n",
    "# from torchtext.data import get_tokenizer"
   ]
  },
  {
   "cell_type": "code",
   "execution_count": 10,
   "id": "6b15b8e5",
   "metadata": {},
   "outputs": [],
   "source": [
    "class ContextDataset(Dataset):\n",
    "    \n",
    "    def __init__(self, text, context_len=5 ):\n",
    "        assert context_len>1\n",
    "        assert len(text)>1\n",
    "        \n",
    "        self._tokens = ['<UNK>','<EOS>',] # служебные токены \"неизвестное слово\", \"конец последовательности\"\n",
    "        \n",
    "        self._context_len = context_len # количество слов контекста слева \n",
    "        # выполняем токенизацию текста \n",
    "        self._sentences = [ \n",
    "            nltk_tokenize_word(s,language='russian') # разбиваем предложения на слова\n",
    "            for s in tqdm(nltk_sentence_split(text,language='russian')) # режем текст на отдельные предложения\n",
    "        ]\n",
    "        # строим словарь\n",
    "        self._vocabulary = self._build_vocabulary(self._sentences)\n",
    "        # выкидываем короткие предложения, добавляем служебный токен \"конец последовательности\"\n",
    "        self._sentences = [ s + [ '<EOS>' ] for s in self._sentences if len(s)> self._context_len ]\n",
    "        # собираем n-граммы длинны context_len+1\n",
    "        self._data = self._encode_ngrams( self._build_ngrams(self._sentences) )\n",
    "        \n",
    "    def _build_vocabulary(self,sentences):        \n",
    "        # собираем токены (слова) из текста, добавляем служебные\n",
    "        text_tokens = self._tokens + sorted( set(chain(*sentences))-set(self._tokens) ) \n",
    "        return { w:n for n,w in enumerate(text_tokens) } # строим словарь\n",
    "    \n",
    "    def _build_ngrams(self, sentences):\n",
    "        return [ # нарезаем последовательности токенов на n-граммы\n",
    "            ng for s in tqdm(sentences)  \n",
    "               for ng in ngrams( s, self._context_len+1 ) \n",
    "        ]\n",
    "    \n",
    "    def _encode_ngrams(self,ngrams): # заменяем токены в n-граммах на номера в словаре\n",
    "        return torch.tensor([ self.encode(ng) for ng in tqdm(ngrams) ], dtype=torch.long ) \n",
    "    \n",
    "    def encode(self,s): return [ # заменить в последовательности все токены на их номера в словаре\n",
    "            self._vocabulary[w] if (w in self._vocabulary) else  self._vocabulary['<UNK>']\n",
    "            for w in s \n",
    "        ]\n",
    "    \n",
    "    def __getitem__(self, idx): # выдать элемент датасета номер idx\n",
    "        return (\n",
    "            self._data[idx,:-1], # последовательность кодов контеста\n",
    "            self._data[idx,-1] # выход модели - номер слова \n",
    "            # self._num2vec( self._data[idx,-1]) \n",
    "        )\n",
    "    \n",
    "    #def _num2vec(self,x): # заменяем номер слова на вектор [0,1] длинны в размер словаря\n",
    "    #    return F.one_hot( x, num_classes=len(self._vocabulary)).to( torch.float32 ) \n",
    "\n",
    "    # размер датасета\n",
    "    def __len__(self): return len(self._data)\n",
    "    \n",
    "    @property\n",
    "    def vocabulary(self): return self._vocabulary\n",
    "    \n",
    "    @property\n",
    "    def sentences(self): return self._sentences\n",
    "\n",
    "    @property\n",
    "    def context_len(self): return self._context_len"
   ]
  },
  {
   "cell_type": "code",
   "execution_count": 11,
   "id": "3e841803",
   "metadata": {},
   "outputs": [
    {
     "data": {
      "application/vnd.jupyter.widget-view+json": {
       "model_id": "47e5849cd8044cb887e9764af49f88d0",
       "version_major": 2,
       "version_minor": 0
      },
      "text/plain": [
       "  0%|          | 0/14424 [00:00<?, ?it/s]"
      ]
     },
     "metadata": {},
     "output_type": "display_data"
    },
    {
     "data": {
      "application/vnd.jupyter.widget-view+json": {
       "model_id": "1dbe5350ba74405b827b2ea484dde0c1",
       "version_major": 2,
       "version_minor": 0
      },
      "text/plain": [
       "  0%|          | 0/12230 [00:00<?, ?it/s]"
      ]
     },
     "metadata": {},
     "output_type": "display_data"
    },
    {
     "data": {
      "application/vnd.jupyter.widget-view+json": {
       "model_id": "7302c3dbbaa64be99299969580b9b4c1",
       "version_major": 2,
       "version_minor": 0
      },
      "text/plain": [
       "  0%|          | 0/196359 [00:00<?, ?it/s]"
      ]
     },
     "metadata": {},
     "output_type": "display_data"
    }
   ],
   "source": [
    "ds = ContextDataset(text=text,context_len=5)"
   ]
  },
  {
   "cell_type": "code",
   "execution_count": 12,
   "id": "a6e367fe",
   "metadata": {},
   "outputs": [
    {
     "data": {
      "text/plain": [
       "196359"
      ]
     },
     "metadata": {},
     "output_type": "display_data"
    },
    {
     "data": {
      "text/plain": [
       "12230"
      ]
     },
     "metadata": {},
     "output_type": "display_data"
    },
    {
     "data": {
      "text/plain": [
       "32446"
      ]
     },
     "metadata": {},
     "output_type": "display_data"
    },
    {
     "data": {
      "text/plain": [
       "32445"
      ]
     },
     "metadata": {},
     "output_type": "display_data"
    }
   ],
   "source": [
    "display(len(ds)) # размер датасета\n",
    "display(len(ds.sentences)) # количество предложений \n",
    "display(len(ds.vocabulary)) # размер словаря\n",
    "display(max(ds.vocabulary.values())) # максимальное значение индекса в словаре"
   ]
  },
  {
   "cell_type": "code",
   "execution_count": 13,
   "id": "8a577263",
   "metadata": {},
   "outputs": [],
   "source": [
    "assert len(ds.vocabulary)== max(ds.vocabulary.values())+1"
   ]
  },
  {
   "cell_type": "code",
   "execution_count": 14,
   "id": "b702b9e2",
   "metadata": {},
   "outputs": [
    {
     "data": {
      "text/plain": [
       "(tensor([[ 3213, 12223, 17783, 15767, 11501],\n",
       "         [12223, 17783, 15767, 11501, 28249]]),\n",
       " tensor([28249, 28331]))"
      ]
     },
     "metadata": {},
     "output_type": "display_data"
    }
   ],
   "source": [
    "display(ds[:2])"
   ]
  },
  {
   "cell_type": "markdown",
   "id": "29c52b60",
   "metadata": {},
   "source": [
    "# модель"
   ]
  },
  {
   "cell_type": "code",
   "execution_count": 15,
   "id": "00c3290f",
   "metadata": {},
   "outputs": [],
   "source": [
    "import torch.nn as nn\n",
    "import torch.nn.functional as F"
   ]
  },
  {
   "cell_type": "code",
   "execution_count": 24,
   "id": "d8a99511",
   "metadata": {},
   "outputs": [],
   "source": [
    "class ModelRNN(nn.Module):\n",
    "    \n",
    "    def __init__(self, vocabulary, embedding_len=128, hidden_dim=512,):\n",
    "        super().__init__()\n",
    "        self._vocabulary = vocabulary\n",
    "        self._embeddings = nn.Embedding( len(vocabulary), embedding_len )\n",
    "        self._gru = nn.GRU( input_size=embedding_len, hidden_size=hidden_dim, batch_first=True, num_layers=1, ) \n",
    "        self._linear = nn.Linear( hidden_dim, len(vocabulary) )\n",
    "\n",
    "    def forward(self,x):\n",
    "        o = self._embeddings(x)\n",
    "        o,h = self._gru(o) # обрабатываем входную последовательность\n",
    "        o = o[:,-1]\n",
    "         \n",
    "        o = self._linear(o) # считаем выход сети\n",
    "        o = F.log_softmax(o,dim=-1)\n",
    "        return o\n",
    "    \n",
    "    def predict(self,x):\n",
    "        return torch.argmax(self.forward(x), dim=-1 ) #, keepdims=True)\n",
    "    \n",
    "    @property\n",
    "    def vocabulary(self): return self._vocabulary"
   ]
  },
  {
   "cell_type": "code",
   "execution_count": 26,
   "id": "22617208",
   "metadata": {},
   "outputs": [],
   "source": [
    "# x,t = ds[:2]\n",
    "# ModelRNN(vocabulary=ds.vocabulary).predict(x)\n",
    "# ModelRNN(vocabulary=ds.vocabulary).forward(x)"
   ]
  },
  {
   "cell_type": "markdown",
   "id": "6fc94dc2",
   "metadata": {},
   "source": [
    "# обучаем модель"
   ]
  },
  {
   "cell_type": "code",
   "execution_count": 27,
   "id": "181bdf15",
   "metadata": {},
   "outputs": [
    {
     "data": {
      "text/plain": [
       "device(type='cuda', index=0)"
      ]
     },
     "metadata": {},
     "output_type": "display_data"
    },
    {
     "data": {
      "text/plain": [
       "'Tesla P40'"
      ]
     },
     "metadata": {},
     "output_type": "display_data"
    }
   ],
   "source": [
    "# проверяем GPU\n",
    "device = torch.device('cuda:0' if torch.cuda.is_available() else 'cpu')\n",
    "display( device )\n",
    "display( torch.cuda.get_device_name() )"
   ]
  },
  {
   "cell_type": "code",
   "execution_count": 28,
   "id": "94a7eddd",
   "metadata": {},
   "outputs": [],
   "source": [
    "model = ModelRNN(vocabulary=ds.vocabulary,).to(device)"
   ]
  },
  {
   "cell_type": "code",
   "execution_count": 29,
   "id": "21bb2ad3",
   "metadata": {},
   "outputs": [],
   "source": [
    "# ф-ция потери\n",
    "# criterion =  nn.BCELoss()\n",
    "criterion = nn.NLLLoss()\n",
    "\n",
    "# метод оптимизации\n",
    "optimizer = torch.optim.Adam( model.parameters(), lr=1e-3) "
   ]
  },
  {
   "cell_type": "code",
   "execution_count": 30,
   "id": "c65bca1c",
   "metadata": {},
   "outputs": [],
   "source": [
    "from torch.utils.data import DataLoader"
   ]
  },
  {
   "cell_type": "code",
   "execution_count": 31,
   "id": "c3b9ad81",
   "metadata": {},
   "outputs": [],
   "source": [
    "loss_history = [] # значения ф-ции потери"
   ]
  },
  {
   "cell_type": "code",
   "execution_count": 32,
   "id": "9fe42197",
   "metadata": {},
   "outputs": [
    {
     "data": {
      "application/vnd.jupyter.widget-view+json": {
       "model_id": "12d226b5a8e44824a838b5c6ab323b18",
       "version_major": 2,
       "version_minor": 0
      },
      "text/plain": [
       "  0%|          | 0/9 [00:00<?, ?it/s]"
      ]
     },
     "metadata": {},
     "output_type": "display_data"
    },
    {
     "name": "stdout",
     "output_type": "stream",
     "text": [
      "CPU times: user 2min 12s, sys: 283 ms, total: 2min 12s\n",
      "Wall time: 2min 12s\n"
     ]
    }
   ],
   "source": [
    "%%time\n",
    "\n",
    "n_epoch = 9 # количество эпох обучения\n",
    "\n",
    "for i in tqdm(range(n_epoch)): \n",
    "    loss_batch = []\n",
    "    # получаем батч учебных примеров\n",
    "    for x,t in DataLoader( ds, batch_size=128, shuffle=True): \n",
    "        o = model.forward(x.to(device)) # считаем выход модели\n",
    "        loss = criterion( o, t.to(device) ) # вычисляем значение ф-ции потери\n",
    "        loss_batch.append( loss.item() ) # дополняем историю изменения значений ф-ции потери на батче\n",
    "        optimizer.zero_grad() # очищаем предыдущее значение градиента\n",
    "        loss.backward()  # вычисляем текущее значение градиента ф-ции потери\n",
    "        optimizer.step() # корректируем параметры модели\n",
    "    \n",
    "    loss_history.append( np.mean(loss_batch) ) # дополняем общую историю изменения значений ф-ции потери"
   ]
  },
  {
   "cell_type": "code",
   "execution_count": 33,
   "id": "ec2fb843",
   "metadata": {},
   "outputs": [
    {
     "data": {
      "text/plain": [
       "Text(0.5, 1.0, 'min loss: 0.34122')"
      ]
     },
     "execution_count": 33,
     "metadata": {},
     "output_type": "execute_result"
    },
    {
     "data": {
      "image/png": "[encoded data removed]",
      "text/plain": [
       "<Figure size 500x400 with 1 Axes>"
      ]
     },
     "metadata": {},
     "output_type": "display_data"
    }
   ],
   "source": [
    "from matplotlib import pyplot as plt\n",
    "\n",
    "fig,ax = plt.subplots(figsize=(5,4))\n",
    "ax.plot(loss_history)\n",
    "ax.grid()\n",
    "ax.set_title(f'min loss: {min(loss_history):.5f}')"
   ]
  },
  {
   "cell_type": "markdown",
   "id": "2155d639",
   "metadata": {},
   "source": [
    "# тестируем"
   ]
  },
  {
   "cell_type": "code",
   "execution_count": 34,
   "id": "57ca7af3",
   "metadata": {},
   "outputs": [
    {
     "data": {
      "text/plain": [
       "['- Шатов , это ``',\n",
       " 'Я пробовал большой разврат и',\n",
       " 'Одним словом , это был',\n",
       " 'Всего более поражало Юлию Михайловну',\n",
       " 'В сию минуту в дверях']"
      ]
     },
     "metadata": {},
     "output_type": "display_data"
    }
   ],
   "source": [
    "from random import sample\n",
    "from nltk.util import ngrams \n",
    "\n",
    "prompts = [\n",
    "        ' '.join(ng) \n",
    "        for s in sample( ds.sentences,10 ) \n",
    "        if len(s)>ds.context_len*2\n",
    "        for ng in list(ngrams(s[:ds.context_len],ds.context_len))  \n",
    "    ]\n",
    "\n",
    "display( prompts )"
   ]
  },
  {
   "cell_type": "code",
   "execution_count": 35,
   "id": "204caa08",
   "metadata": {},
   "outputs": [],
   "source": [
    "class LangModelRNN: # генератор текста \n",
    "    \n",
    "    def __init__(self,model):\n",
    "        self._model = model # языковая модель, предсказывает слово по контексту\n",
    "        self._vocabulary = model.vocabulary # словарь языковой модели\n",
    "        self._vocabulary_inv = { v:k for k,v in self._vocabulary.items() }\n",
    "    \n",
    "    def predict(self,prompt,seq_limit=10):\n",
    "        x = self._encode(prompt) # начальная последовательность токенов\n",
    "        codes = self._generate(x,seq_limit)\n",
    "        return self._decode(codes) # конвертируем коды токенов в строку\n",
    "\n",
    "    def _generate(self,x,seq_limit):\n",
    "        device = next(self._model.parameters()).device \n",
    "        codes = [] # коды токенов сгенерированных моделью\n",
    "\n",
    "        for _ in range(seq_limit):\n",
    "            with torch.set_grad_enabled(False): # генерируем следующий токен\n",
    "                p = self._model.predict(x.to(device)).cpu() #.item()\n",
    "            codes.append(p.item()) # сохраняем результат\n",
    "            # сдвигаем входную последовательность токенов\n",
    "            x = torch.concat([ x[:,1:], p.reshape(-1,1) ], dim=1 ) \n",
    "            # если получили токен \"конец последовательности\", то завершаем цикл\n",
    "            if p.item()==self._vocabulary['<EOS>']: break \n",
    "                \n",
    "        return codes\n",
    "    \n",
    "    def _encode(self,s): # кодируем строку\n",
    "        s = nltk_tokenize_word(s,language='russian')\n",
    "        s = [ self._vocabulary[w] for w in s if (w in self._vocabulary) ]\n",
    "        return torch.tensor([s], dtype=torch.long )\n",
    "    \n",
    "    def _decode(self,s): # конвертируем коды токенов в строку\n",
    "        return ' '.join([ \n",
    "            self._vocabulary_inv[c] \n",
    "            for c in s if (c in self._vocabulary_inv) \n",
    "        ])"
   ]
  },
  {
   "cell_type": "code",
   "execution_count": 36,
   "id": "3d1a23b4",
   "metadata": {},
   "outputs": [
    {
     "name": "stdout",
     "output_type": "stream",
     "text": [
      "- Шатов , это `` --> студент '' , вот про которого здесь упоминается . <EOS> \n",
      "\n",
      "Я пробовал большой разврат и --> истощил в нем силы ; но я не люблю и не хотел разврата . <EOS> \n",
      "\n",
      "Одним словом , это был --> день удивительно сошедшихся случайностей . <EOS> \n",
      "\n",
      "Всего более поражало Юлию Михайловну --> , что он с каждым поворотом подымал вверх свой правый кулак , мотал им в воздухе над головою и вдруг опускал его вниз , как будто разбивая в прах какого-то сопротивника . <EOS> \n",
      "\n",
      "В сию минуту в дверях --> показалась согбенная , длинная , неуклюжая фигура Блюма . <EOS> \n",
      "\n"
     ]
    }
   ],
   "source": [
    "generator = LangModelRNN(model)\n",
    "for prompt in prompts:\n",
    "    t = generator.predict(prompt,seq_limit=40)\n",
    "    print(prompt,'-->', t,'\\n')"
   ]
  },
  {
   "cell_type": "code",
   "execution_count": null,
   "id": "2df85f5e",
   "metadata": {},
   "outputs": [],
   "source": []
  }
 ],
 "metadata": {
  "kernelspec": {
   "display_name": "Python 3 (ipykernel)",
   "language": "python",
   "name": "python3"
  },
  "language_info": {
   "codemirror_mode": {
    "name": "ipython",
    "version": 3
   },
   "file_extension": ".py",
   "mimetype": "text/x-python",
   "name": "python",
   "nbconvert_exporter": "python",
   "pygments_lexer": "ipython3",
   "version": "3.11.8"
  },
  "toc": {
   "base_numbering": 1,
   "nav_menu": {},
   "number_sections": true,
   "sideBar": true,
   "skip_h1_title": false,
   "title_cell": "Table of Contents",
   "title_sidebar": "Contents",
   "toc_cell": false,
   "toc_position": {},
   "toc_section_display": true,
   "toc_window_display": false
  }
 },
 "nbformat": 4,
 "nbformat_minor": 5
}
