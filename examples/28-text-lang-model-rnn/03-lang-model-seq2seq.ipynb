{
 "cells": [
  {
   "cell_type": "markdown",
   "id": "9095d55d",
   "metadata": {},
   "source": [
    "__Нейросетевая языковая модель на основе схемы Seq2Seq__\n",
    "\n",
    "Евгений Борисов <esborisov@sevsu.ru>"
   ]
  },
  {
   "cell_type": "markdown",
   "id": "07022919",
   "metadata": {},
   "source": [
    "---"
   ]
  },
  {
   "cell_type": "markdown",
   "id": "2e6cd24f",
   "metadata": {},
   "source": [
    "# загружаем тексты"
   ]
  },
  {
   "cell_type": "code",
   "execution_count": 1,
   "id": "aa559631",
   "metadata": {},
   "outputs": [],
   "source": [
    "import gzip\n",
    "import requests\n",
    "from bs4 import BeautifulSoup"
   ]
  },
  {
   "cell_type": "code",
   "execution_count": 2,
   "id": "0f4b215a",
   "metadata": {},
   "outputs": [
    {
     "name": "stdout",
     "output_type": "stream",
     "text": [
      "символов:637765\n",
      "---------------\n",
      "\n",
      "Вы прилетели в  Нью-Йорк и  остановились  в  одном  из отелей, глядящих\n",
      "окнами на Центральный парк.  Наутро по  приезде вы вышли из  отеля, вдохнули\n",
      "полной грудью очищенный зеленью парка воздух  и,  взглянув на часы, --  пора\n",
      "было начинать хлопотливый день, --  направились к  первому из  таксомоторов,\n",
      "выстроившихся вереницей у подъезда.\n",
      "    \n"
     ]
    }
   ],
   "source": [
    "# url='http://lib.ru/NEWPROZA/LOBAS/taxisty.txt'\n",
    "# text = BeautifulSoup(requests.get(url).text).get_text()\n",
    "# with gzip.open('taxisty.txt.gz','wt') as f: f.write(text)\n",
    "\n",
    "with gzip.open('taxisty.txt.gz','rt') as f: text = f.read()\n",
    "\n",
    "text = text[1030:-7261].strip() # выкидываем заголовок и хвост страницы \n",
    "print(f'символов:{len(text)}\\n---------------\\n'%())\n",
    "print(text[:343])"
   ]
  },
  {
   "cell_type": "code",
   "execution_count": 3,
   "id": "18b79044",
   "metadata": {},
   "outputs": [],
   "source": [
    "# url='http://az.lib.ru/d/dostoewskij_f_m/text_0080.shtml'\n",
    "# text = BeautifulSoup(requests.get(url).text).get_text()\n",
    "# with gzip.open('dostoewskij.txt.gz','wt') as f: f.write(text)\n",
    "\n",
    "# # with gzip.open('dostoewskij.txt.gz','rt') as f: text = f.read()\n",
    "\n",
    "# text = text[2876:-664184].strip() # выкидываем заголовок и хвост страницы \n",
    "# print(f'символов:{len(text)}\\n---------------\\n'%())\n",
    "# print(text[:355])"
   ]
  },
  {
   "cell_type": "markdown",
   "id": "26585711",
   "metadata": {},
   "source": [
    "---"
   ]
  },
  {
   "cell_type": "code",
   "execution_count": 4,
   "id": "7e583532",
   "metadata": {},
   "outputs": [],
   "source": [
    "from tqdm.auto import tqdm\n",
    "from itertools import chain\n",
    "import numpy as np"
   ]
  },
  {
   "cell_type": "code",
   "execution_count": 5,
   "id": "51f07eff",
   "metadata": {},
   "outputs": [
    {
     "name": "stdout",
     "output_type": "stream",
     "text": [
      "nltk version: 3.8.1\n"
     ]
    }
   ],
   "source": [
    "from nltk import __version__ as nltk_version\n",
    "print('nltk version:',nltk_version)\n",
    "\n",
    "from nltk.tokenize import sent_tokenize as nltk_sentence_split\n",
    "from nltk.tokenize import word_tokenize as nltk_tokenize_word\n",
    "from nltk.util import ngrams"
   ]
  },
  {
   "cell_type": "code",
   "execution_count": 6,
   "id": "06ab869a",
   "metadata": {},
   "outputs": [],
   "source": [
    "# !pip install torch"
   ]
  },
  {
   "cell_type": "code",
   "execution_count": 7,
   "id": "e23ebdb8",
   "metadata": {},
   "outputs": [],
   "source": [
    "import torch\n",
    "from torch.utils.data import Dataset\n",
    "import torch.nn.functional as F"
   ]
  },
  {
   "cell_type": "code",
   "execution_count": 8,
   "id": "4e62b43c",
   "metadata": {},
   "outputs": [],
   "source": [
    "# !pip install torchtext"
   ]
  },
  {
   "cell_type": "code",
   "execution_count": 9,
   "id": "97a68d88",
   "metadata": {},
   "outputs": [],
   "source": [
    "# import torchtext\n",
    "# from torchtext.data import get_tokenizer"
   ]
  },
  {
   "cell_type": "code",
   "execution_count": 10,
   "id": "6b15b8e5",
   "metadata": {},
   "outputs": [],
   "source": [
    "class SeqDataset(Dataset):\n",
    "    \n",
    "    def __init__(self, text, seq_len=5 ):\n",
    "        assert seq_len>1\n",
    "        assert len(text)>1\n",
    "        \n",
    "        self._tokens = ['<UNK>','<EOS>',] # служебные токены \"неизвестное слово\", \"конец последовательности\"\n",
    "        \n",
    "        self._seq_len = seq_len # количество слов контекста слева \n",
    "        \n",
    "        # выполняем токенизацию текста \n",
    "        self._sentences = [ \n",
    "            nltk_tokenize_word(s,language='russian') # разбиваем предложения на слова\n",
    "            for s in tqdm(nltk_sentence_split(text,language='russian')) # режем текст на отдельные предложения\n",
    "        ]\n",
    "        # строим словарь\n",
    "        self._vocabulary = self._build_vocabulary(self._sentences)\n",
    "        # выкидываем короткие предложения, добавляем служебный токен \"конец последовательности\"\n",
    "        self._sentences = [ s + [ '<EOS>' ] for s in self._sentences if len(s)> self._seq_len*2 ]\n",
    "        # собираем n-граммы длинны context_len+1\n",
    "        self._data = self._encode_ngrams( self._build_ngrams(self._sentences) )\n",
    "        \n",
    "    def _build_vocabulary(self,sentences):        \n",
    "        # собираем токены (слова) из текста, добавляем служебные\n",
    "        text_tokens = self._tokens + sorted( set(chain(*sentences))-set(self._tokens) ) \n",
    "        return { w:n for n,w in enumerate(text_tokens) } # строим словарь\n",
    "    \n",
    "    def _build_ngrams(self, sentences):\n",
    "        return [ # нарезаем последовательности токенов на n-граммы\n",
    "            ng for s in tqdm(sentences)  \n",
    "               for ng in ngrams( s, self._seq_len*2 ) \n",
    "        ]\n",
    "    \n",
    "    def _encode_ngrams(self,ngrams): # заменяем токены в n-граммах на номера в словаре\n",
    "        return torch.tensor([ self.encode(ng) for ng in tqdm(ngrams) ], dtype=torch.long ) \n",
    "    \n",
    "    def encode(self,s): return [ # заменить в последовательности все токены на их номера в словаре\n",
    "            self._vocabulary[w] if (w in self._vocabulary) else self._vocabulary['<UNK>']\n",
    "            for w in s \n",
    "        ]\n",
    "    \n",
    "    def __getitem__(self, idx): # выдать элемент датасета номер idx\n",
    "        return ( \n",
    "                self._data[idx,:self._seq_len], \n",
    "                self._data[idx,self._seq_len:], \n",
    "            )\n",
    "    \n",
    "#     def _num2vec(self,x): # заменяем номер слова на вектор [0,1] длинны в размер словаря\n",
    "#         return F.one_hot( x, num_classes=len(self._vocabulary)).to( torch.float32 ) \n",
    "\n",
    "    # размер датасета\n",
    "    def __len__(self): return len(self._data)\n",
    "    \n",
    "    @property\n",
    "    def vocabulary(self): return self._vocabulary\n",
    "    \n",
    "    @property\n",
    "    def sentences(self): return self._sentences\n",
    "    \n",
    "    @property\n",
    "    def sentence_len(self): return self._seq_len"
   ]
  },
  {
   "cell_type": "code",
   "execution_count": 11,
   "id": "3e841803",
   "metadata": {},
   "outputs": [
    {
     "data": {
      "application/vnd.jupyter.widget-view+json": {
       "model_id": "6e9fb7e0df044222a0844ecc99789313",
       "version_major": 2,
       "version_minor": 0
      },
      "text/plain": [
       "  0%|          | 0/6650 [00:00<?, ?it/s]"
      ]
     },
     "metadata": {},
     "output_type": "display_data"
    },
    {
     "data": {
      "application/vnd.jupyter.widget-view+json": {
       "model_id": "31095027686e4447a716b283820d90d9",
       "version_major": 2,
       "version_minor": 0
      },
      "text/plain": [
       "  0%|          | 0/3754 [00:00<?, ?it/s]"
      ]
     },
     "metadata": {},
     "output_type": "display_data"
    },
    {
     "data": {
      "application/vnd.jupyter.widget-view+json": {
       "model_id": "0cb015794f614caa8c77b4c05a3c7e81",
       "version_major": 2,
       "version_minor": 0
      },
      "text/plain": [
       "  0%|          | 0/69399 [00:00<?, ?it/s]"
      ]
     },
     "metadata": {},
     "output_type": "display_data"
    }
   ],
   "source": [
    "ds = SeqDataset( text=text )"
   ]
  },
  {
   "cell_type": "code",
   "execution_count": 12,
   "id": "a6e367fe",
   "metadata": {},
   "outputs": [
    {
     "data": {
      "text/plain": [
       "69399"
      ]
     },
     "metadata": {},
     "output_type": "display_data"
    },
    {
     "data": {
      "text/plain": [
       "3754"
      ]
     },
     "metadata": {},
     "output_type": "display_data"
    },
    {
     "data": {
      "text/plain": [
       "24068"
      ]
     },
     "metadata": {},
     "output_type": "display_data"
    },
    {
     "data": {
      "text/plain": [
       "24067"
      ]
     },
     "metadata": {},
     "output_type": "display_data"
    }
   ],
   "source": [
    "display(len(ds)) # размер датасета\n",
    "display(len(ds.sentences)) # количество предложений \n",
    "display(len(ds.vocabulary)) # размер словаря\n",
    "display(max(ds.vocabulary.values())) # максимальное значение индекса в словаре"
   ]
  },
  {
   "cell_type": "code",
   "execution_count": 13,
   "id": "8a577263",
   "metadata": {},
   "outputs": [],
   "source": [
    "assert len(ds.vocabulary)== max(ds.vocabulary.values())+1"
   ]
  },
  {
   "cell_type": "code",
   "execution_count": 14,
   "id": "12c44382",
   "metadata": {},
   "outputs": [
    {
     "data": {
      "text/plain": [
       "(tensor([[  731, 17216,  4595,  1980,  9159],\n",
       "         [17216,  4595,  1980,  9159, 13906]]),\n",
       " tensor([[13906,  4595, 13485,  9212, 14087],\n",
       "         [ 4595, 13485,  9212, 14087,    14]]))"
      ]
     },
     "execution_count": 14,
     "metadata": {},
     "output_type": "execute_result"
    }
   ],
   "source": [
    "ds[:2]"
   ]
  },
  {
   "cell_type": "markdown",
   "id": "29c52b60",
   "metadata": {},
   "source": [
    "# модель"
   ]
  },
  {
   "attachments": {
    "image.png": {
     "image/png": "[encoded data removed]"
    }
   },
   "cell_type": "markdown",
   "id": "fb95cb9b",
   "metadata": {},
   "source": [
    "![image.png](attachment:image.png)"
   ]
  },
  {
   "cell_type": "code",
   "execution_count": 15,
   "id": "f92173ff",
   "metadata": {},
   "outputs": [],
   "source": [
    "import torch.nn as nn\n",
    "import torch.nn.functional as F"
   ]
  },
  {
   "cell_type": "code",
   "execution_count": 16,
   "id": "80b2c60d",
   "metadata": {},
   "outputs": [],
   "source": [
    "class Encoder(nn.Module):\n",
    "    def __init__(self, vocabulary, embedding_dim=128, hidden_dim=256,): \n",
    "        super().__init__()\n",
    "        self._vocabulary = vocabulary\n",
    "        self._emb = nn.Embedding(len(vocabulary), embedding_dim)\n",
    "        self._gru = nn.GRU(\n",
    "                input_size=embedding_dim, \n",
    "                hidden_size=hidden_dim, \n",
    "                num_layers=1, \n",
    "                batch_first=True,\n",
    "                # dropout=0.4,\n",
    "            )\n",
    "\n",
    "    def forward(self, x):\n",
    "        o = self._emb(x)\n",
    "        o, h = self._gru(o)\n",
    "        return o,h"
   ]
  },
  {
   "cell_type": "code",
   "execution_count": 17,
   "id": "cb9934a8",
   "metadata": {},
   "outputs": [],
   "source": [
    "class Decoder(nn.Module):\n",
    "    \n",
    "    def __init__(self, vocabulary, hidden_dim):\n",
    "        super(Decoder, self).__init__()\n",
    "        self._vocabulary = vocabulary\n",
    "        \n",
    "        self._emb = nn.Embedding(num_embeddings=len(vocabulary),embedding_dim=hidden_dim)\n",
    "        self._gru = nn.GRU( \n",
    "                input_size=hidden_dim, \n",
    "                hidden_size=hidden_dim, \n",
    "                num_layers=1, \n",
    "                batch_first=True,\n",
    "                # dropout=0.4,\n",
    "            )\n",
    "        self._lin = nn.Linear(in_features=hidden_dim, out_features=len(vocabulary),bias=True,)\n",
    "\n",
    "    # генерируем выход модели\n",
    "    def _forward_step(self,x,h):\n",
    "        o = self._emb(x)\n",
    "        o,h = self._gru(o,h)\n",
    "        o = self._lin(o)\n",
    "        o = F.log_softmax(o,dim=-1)\n",
    "        return o,h\n",
    "    \n",
    "    # рабочий режим - по авторегрессионной схеме генерируем последовательность длиной seq_len\n",
    "    def forward(self, encoder_hidden, seq_len=10): \n",
    "        device = next(self._lin.parameters()).device # устройство модели\n",
    "        batch_size = encoder_hidden.size(1) # размер входного батча \n",
    "        codes = [] # выходная последовательность\n",
    "        h = encoder_hidden # состояние энкодера передаём декодеру\n",
    "        # начальный вход рекуррентного слоя\n",
    "        o = torch.zeros(batch_size, 1, dtype=torch.long, device=device)\n",
    "        for i in range(seq_len):\n",
    "            o, h  = self._forward_step(o,h) # авторегрессионная схема - выход подаём на вход\n",
    "            o = torch.argmax(o,dim=-1, keepdim=False) # определяем номер токена-победителя\n",
    "            codes.append(o.cpu().numpy()) # сохраняем результат\n",
    "        return np.hstack(codes)\n",
    "                \n",
    "    # учебный режим - генерируем последовательность длинной как у target\n",
    "    # по схеме teacher forcing, на каждой итерации заменяем вход на значение из target\n",
    "    def forward_train(self, encoder_hidden, target):\n",
    "        device = next(self._lin.parameters()).device # устройство модели\n",
    "        batch_size = encoder_hidden.size(1) # размер входного батча \n",
    "        seq_len = target.size(-1) # длина учебной последовательности\n",
    "        \n",
    "        outputs = []  # выходы модели \n",
    "\n",
    "        # начальный вход рекуррентного слоя\n",
    "        t = torch.zeros(batch_size, 1, dtype=torch.long, device=device)\n",
    "        h = encoder_hidden  # состояние энкодера передаём декодеру\n",
    "        \n",
    "        for i in range(seq_len):\n",
    "            o, h = self._forward_step(t,h)\n",
    "            outputs.append(o)\n",
    "            # teacher forcing: заменяем выход модели на предыдущей итерации на target\n",
    "            t = target[:,[i]].to(device)\n",
    "        return torch.cat(outputs, dim=1)\n",
    "    "
   ]
  },
  {
   "cell_type": "code",
   "execution_count": 18,
   "id": "103a0ed3",
   "metadata": {},
   "outputs": [
    {
     "data": {
      "text/plain": [
       "device(type='cuda', index=0)"
      ]
     },
     "metadata": {},
     "output_type": "display_data"
    },
    {
     "data": {
      "text/plain": [
       "'Tesla P40'"
      ]
     },
     "metadata": {},
     "output_type": "display_data"
    }
   ],
   "source": [
    "# проверяем GPU\n",
    "device = torch.device('cuda:0' if torch.cuda.is_available() else 'cpu')\n",
    "display( device )\n",
    "display( torch.cuda.get_device_name() )"
   ]
  },
  {
   "cell_type": "code",
   "execution_count": 19,
   "id": "d0e78ecc",
   "metadata": {},
   "outputs": [],
   "source": [
    "embedding_dim = 128\n",
    "encoder_hidden_dim = 256\n",
    "\n",
    "model_encoder = Encoder(\n",
    "        vocabulary=ds.vocabulary, \n",
    "        embedding_dim=embedding_dim,\n",
    "        hidden_dim=encoder_hidden_dim,\n",
    "    ).to(device)\n",
    "\n",
    "model_decoder = Decoder( \n",
    "        vocabulary=ds.vocabulary, \n",
    "        hidden_dim=encoder_hidden_dim, \n",
    "    ).to(device)"
   ]
  },
  {
   "cell_type": "code",
   "execution_count": 20,
   "id": "2973381a",
   "metadata": {},
   "outputs": [],
   "source": [
    "# x,t = ds[:2]\n",
    "# with torch.set_grad_enabled(False): # генерируем следующий токен\n",
    "#     _,h = Encoder(vocabulary=ds.vocabulary, embedding_dim=128, hidden_dim=256,).forward(x)\n",
    "#     display(h.shape)\n",
    "#     o = Decoder(vocabulary=ds.vocabulary, hidden_dim=256, ).forward_train(h,t)\n",
    "#     display(o.shape)\n",
    "#     c = Decoder(vocabulary=ds.vocabulary, hidden_dim=256,).forward(h)\n",
    "#     display(c.shape)"
   ]
  },
  {
   "cell_type": "markdown",
   "id": "799f5ffa",
   "metadata": {},
   "source": [
    "# обучаем "
   ]
  },
  {
   "cell_type": "code",
   "execution_count": 21,
   "id": "d0ccc611",
   "metadata": {},
   "outputs": [],
   "source": [
    "from torch import optim\n",
    "\n",
    "learning_rate = 1e-3\n",
    "encoder_optimizer = optim.Adam( model_encoder.parameters(), lr=learning_rate )\n",
    "decoder_optimizer = optim.Adam( model_decoder.parameters(), lr=learning_rate )\n",
    "criterion = nn.NLLLoss()"
   ]
  },
  {
   "cell_type": "code",
   "execution_count": 22,
   "id": "3cecc028",
   "metadata": {},
   "outputs": [],
   "source": [
    "# история значений ф-ции потери\n",
    "loss_history = [] "
   ]
  },
  {
   "cell_type": "code",
   "execution_count": 23,
   "id": "d1dcaff8",
   "metadata": {},
   "outputs": [],
   "source": [
    "from torch.utils.data import DataLoader"
   ]
  },
  {
   "cell_type": "code",
   "execution_count": 24,
   "id": "adc9ecb1",
   "metadata": {},
   "outputs": [
    {
     "data": {
      "application/vnd.jupyter.widget-view+json": {
       "model_id": "efb1069ddd954ac3940cdb4f2f5792d5",
       "version_major": 2,
       "version_minor": 0
      },
      "text/plain": [
       "  0%|          | 0/64 [00:00<?, ?it/s]"
      ]
     },
     "metadata": {},
     "output_type": "display_data"
    },
    {
     "name": "stdout",
     "output_type": "stream",
     "text": [
      "CPU times: user 4min 49s, sys: 385 ms, total: 4min 49s\n",
      "Wall time: 4min 42s\n"
     ]
    }
   ],
   "source": [
    "%%time\n",
    "\n",
    "n_epoch = 64 # количество эпох обучения\n",
    "batch_size = 1024\n",
    "\n",
    "for i in tqdm(range(n_epoch)): \n",
    "    loss_batch = []\n",
    "    \n",
    "    # получаем батч учебных примеров\n",
    "    for encoder_input_, target in DataLoader( ds, batch_size=batch_size, shuffle=True): \n",
    "        encoder_optimizer.zero_grad()\n",
    "        decoder_optimizer.zero_grad()\n",
    "\n",
    "        _, encoder_hidden = model_encoder(encoder_input_.to(device))\n",
    "        decoder_outputs = model_decoder.forward_train( encoder_hidden, target )\n",
    "        \n",
    "        loss = criterion(\n",
    "            decoder_outputs.view(-1, decoder_outputs.size(-1)),\n",
    "            target.to(device).view(-1)\n",
    "        )\n",
    "        loss_batch.append(loss.item()) # дополняем историю изменения значений ф-ции потери на батче\n",
    "        loss.backward()\n",
    "\n",
    "        encoder_optimizer.step()\n",
    "        decoder_optimizer.step()\n",
    "   \n",
    "    loss_history.append( np.mean(loss_batch) ) # дополняем общую историю изменения значений ф-ции потери\n"
   ]
  },
  {
   "cell_type": "code",
   "execution_count": 25,
   "id": "6c268a65",
   "metadata": {},
   "outputs": [
    {
     "data": {
      "text/plain": [
       "Text(0.5, 1.0, 'min loss: 0.03092')"
      ]
     },
     "execution_count": 25,
     "metadata": {},
     "output_type": "execute_result"
    },
    {
     "data": {
      "image/png": "[encoded data removed]",
      "text/plain": [
       "<Figure size 500x400 with 1 Axes>"
      ]
     },
     "metadata": {},
     "output_type": "display_data"
    }
   ],
   "source": [
    "from matplotlib import pyplot as plt\n",
    "\n",
    "fig,ax = plt.subplots(figsize=(5,4))\n",
    "ax.plot(loss_history)\n",
    "ax.grid()\n",
    "ax.set_title(f'min loss: {min(loss_history):.5f}')"
   ]
  },
  {
   "cell_type": "markdown",
   "id": "2155d639",
   "metadata": {},
   "source": [
    "# тестируем"
   ]
  },
  {
   "cell_type": "code",
   "execution_count": 26,
   "id": "24864463",
   "metadata": {},
   "outputs": [
    {
     "data": {
      "text/plain": [
       "['Я открыл замок , и',\n",
       " 'Так заключенные , выйдя на',\n",
       " 'Я же ехал помедленней ,',\n",
       " 'С видимым удовольствием вращал кулак',\n",
       " 'Мог вообще не поехать на',\n",
       " 'После легких аэропортовских долларов поработать',\n",
       " 'С тех пор , после',\n",
       " 'Теперь из студии записи я',\n",
       " 'В операционной вивария собакам вживляли',\n",
       " 'А сколько полагается швейцару за']"
      ]
     },
     "metadata": {},
     "output_type": "display_data"
    }
   ],
   "source": [
    "from random import sample\n",
    "from nltk.util import ngrams \n",
    "\n",
    "prompts = [\n",
    "    ' '.join(ng) \n",
    "    for s in sample( ds.sentences,10 ) if len(s)>ds.sentence_len*2\n",
    "    for ng in list(ngrams(s[:ds.sentence_len],ds.sentence_len))  \n",
    "    ]\n",
    "\n",
    "display( prompts )"
   ]
  },
  {
   "cell_type": "code",
   "execution_count": 27,
   "id": "11c28959",
   "metadata": {},
   "outputs": [],
   "source": [
    "class LangModelSeq2Seq: # генератор текста \n",
    "    \n",
    "    def __init__(self,encoder,decoder,vocabulary):\n",
    "        self._encoder = encoder \n",
    "        self._decoder = decoder \n",
    "        self._vocabulary = vocabulary # словарь языковой модели\n",
    "        self._vocabulary_inv = { v:k for k,v in self._vocabulary.items() }\n",
    "    \n",
    "    def predict(self,prompt,seq_len=10):\n",
    "        codes = self._predict( self._encode(prompt), seq_len) # генерируем коды токенов\n",
    "        return self._strip_eos( self._decode(np.hstack(codes)) ) # конвертируем коды токенов в строку\n",
    "    \n",
    "    def _predict(self,x,seq_len):\n",
    "        device = next(self._encoder.parameters()).device \n",
    "        with torch.set_grad_enabled(False): # генерируем следующий токен\n",
    "            _,h = self._encoder(x.to(device))\n",
    "            codes = self._decoder.forward(h,seq_len)\n",
    "        return codes\n",
    "    \n",
    "    def _encode(self,s): # кодируем строку\n",
    "        s = nltk_tokenize_word(s,language='russian')\n",
    "        s = [ self._vocabulary[w] for w in s if (w in self._vocabulary) ]\n",
    "        return torch.tensor([s], dtype=torch.long )\n",
    "    \n",
    "    def _decode(self,s): # конвертируем коды токенов в строку\n",
    "        return ' '.join([ \n",
    "            self._vocabulary_inv[c] \n",
    "            for c in s if (c in self._vocabulary_inv) \n",
    "        ])\n",
    "    \n",
    "    @staticmethod\n",
    "    def _strip_eos(s, eos = '<EOS>'):\n",
    "        n = s.find(eos)\n",
    "        return s if n<0 else s[:n+len(eos)]"
   ]
  },
  {
   "cell_type": "code",
   "execution_count": 28,
   "id": "6fd707ba",
   "metadata": {},
   "outputs": [
    {
     "name": "stdout",
     "output_type": "stream",
     "text": [
      "Я открыл замок , и ==> , пока губошлеп усаживался , сказал : `` О ! <EOS> \n",
      "\n",
      "Так заключенные , выйдя на ==> волю , тоскуют по лагерю ... Но Миша на нем ? <EOS> \n",
      "\n",
      "Я же ехал помедленней , ==> следя за мальчишкой , миновал всего ожидать можно . <EOS> \n",
      "\n",
      "С видимым удовольствием вращал кулак ==> , сжимал и разжимал пальцы . <EOS> \n",
      "\n",
      "Мог вообще не поехать на ==> работу , устроить себе внеочередное воскресенье . <EOS> \n",
      "\n",
      "После легких аэропортовских долларов поработать ==> еще часика три-четыре , чтоб дотянуть до спора на счетчике вскрытие сомкнутых крыше солнце солнце огромной солнце огромной солнце огромной солнце огромной солнце огромной солнце огромной солнце огромной солнце огромной солнце огромной солнце огромной солнце \n",
      "\n",
      "С тех пор , после ==> памятного этого случая , я видел этого и не видел . <EOS> \n",
      "\n",
      "Теперь из студии записи я ==> выходил окрыленным , и все предупреждения редактора , как все время наезжал на бровку . <EOS> \n",
      "\n",
      "В операционной вивария собакам вживляли ==> в мозг особые имитирующие опухоль модели с фотографией . <EOS> \n",
      "\n",
      "А сколько полагается швейцару за ==> `` Кеннеди '' , мы с тобой не знал , куда как опухоль доброкачественная '' , о том , что кэбби не сразу раскусил этих американцев . <EOS> \n",
      "\n"
     ]
    }
   ],
   "source": [
    "generator = LangModelSeq2Seq(model_encoder,model_decoder,ds.vocabulary)\n",
    "\n",
    "for prompt in prompts:\n",
    "    t = generator.predict(prompt,seq_len=35)\n",
    "    print(prompt,'==>', t,'\\n')"
   ]
  },
  {
   "cell_type": "code",
   "execution_count": null,
   "id": "548d70b1",
   "metadata": {},
   "outputs": [],
   "source": []
  }
 ],
 "metadata": {
  "kernelspec": {
   "display_name": "Python 3 (ipykernel)",
   "language": "python",
   "name": "python3"
  },
  "language_info": {
   "codemirror_mode": {
    "name": "ipython",
    "version": 3
   },
   "file_extension": ".py",
   "mimetype": "text/x-python",
   "name": "python",
   "nbconvert_exporter": "python",
   "pygments_lexer": "ipython3",
   "version": "3.11.7"
  },
  "toc": {
   "base_numbering": 1,
   "nav_menu": {},
   "number_sections": true,
   "sideBar": true,
   "skip_h1_title": false,
   "title_cell": "Table of Contents",
   "title_sidebar": "Contents",
   "toc_cell": false,
   "toc_position": {},
   "toc_section_display": true,
   "toc_window_display": false
  }
 },
 "nbformat": 4,
 "nbformat_minor": 5
}
