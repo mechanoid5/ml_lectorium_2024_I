{
 "cells": [
  {
   "cell_type": "markdown",
   "metadata": {},
   "source": [
    "**сеть Хемминга**\n",
    "\n",
    "нечёткий поиск по словарю\n",
    "\n",
    "Евгений Борисов esborisov@sevsu.ru"
   ]
  },
  {
   "cell_type": "markdown",
   "metadata": {},
   "source": [
    "А.Арустамов, А.Стариков    Ассоциативная память.Применение сетей Хемминга для нечеткого поиска.   \n",
    "https://basegroup.ru/community/articles/assoc"
   ]
  },
  {
   "cell_type": "code",
   "execution_count": 1,
   "metadata": {},
   "outputs": [],
   "source": [
    "import numpy as np\n",
    "from numpy import random as rng\n",
    "import gzip"
   ]
  },
  {
   "cell_type": "markdown",
   "metadata": {},
   "source": [
    "##  загружаем данные "
   ]
  },
  {
   "cell_type": "code",
   "execution_count": 2,
   "metadata": {},
   "outputs": [
    {
     "data": {
      "text/plain": [
       "(112, 14)"
      ]
     },
     "execution_count": 2,
     "metadata": {},
     "output_type": "execute_result"
    }
   ],
   "source": [
    "def read_list_txt(fname):\n",
    "    with gzip.open(fname,'rt') as f: \n",
    "        return [ w.strip() for w in f.read().split('\\n') if w.strip() ]\n",
    "        \n",
    "ideal = read_list_txt('data/ideal_u.txt.gz')\n",
    "\n",
    "max_word_len = max([len(w) for w in ideal]) # максимальная длинна слова словаре\n",
    "voc_len = len(ideal) # размер словаря\n",
    "\n",
    "voc_len, max_word_len"
   ]
  },
  {
   "cell_type": "code",
   "execution_count": 3,
   "metadata": {},
   "outputs": [
    {
     "data": {
      "text/plain": [
       "['Акмола', 'Актау', 'Алматы', 'Архангельск', 'Астрахань', 'Ашхабад', 'Баку']"
      ]
     },
     "execution_count": 3,
     "metadata": {},
     "output_type": "execute_result"
    }
   ],
   "source": [
    "ideal[:7]"
   ]
  },
  {
   "cell_type": "markdown",
   "metadata": {},
   "source": [
    "## кодируем данные"
   ]
  },
  {
   "cell_type": "code",
   "execution_count": 4,
   "metadata": {},
   "outputs": [],
   "source": [
    "# Кодирование строится таким образом, \n",
    "# что бы стоящие рядом на компьютерной клавиатуре символы \n",
    "# имели близкие по Хеммингу коды.\n",
    "# Таким образом должно достигаться наиболее эффективное исправление опечаток.\n",
    "CODE_A = {\n",
    "   'к':(0,0,0,0,0,),\n",
    "   'ж':(0,0,0,0,1,),\n",
    "   'г':(0,0,0,1,0,),\n",
    "   'щ':(0,0,0,1,1,),\n",
    "   'ч':(0,0,1,0,0,),\n",
    "   'х':(0,0,1,0,1,),\n",
    "   'ю':(0,0,1,1,0,),\n",
    "   'с':(0,0,1,1,1,),\n",
    "   'у':(0,1,0,0,0,),\n",
    "   'б':(0,1,0,0,1,),\n",
    "   'л':(0,1,0,1,0,),\n",
    "   'е':(0,1,0,1,1,),\n",
    "   'о':(0,1,1,0,0,),\n",
    "   'р':(0,1,1,0,1,),\n",
    "   'н':(0,1,1,1,0,),\n",
    "   'й':(0,1,1,1,1,),\n",
    "   'т':(1,0,0,0,0,),\n",
    "   'з':(1,0,0,0,1,),\n",
    "   'ы':(1,0,0,1,0,),\n",
    "   'п':(1,0,0,1,1,),\n",
    "   'ф':(1,0,1,0,0,),\n",
    "   'ш':(1,0,1,0,1,),\n",
    "   'м':(1,0,1,1,0,),\n",
    "   'э':(1,0,1,1,1,),\n",
    "   'ъ':(1,1,0,0,0,),\n",
    "   'д':(1,1,0,0,1,),\n",
    "   'в':(1,1,0,1,0,),\n",
    "   'а':(1,1,0,1,1,),\n",
    "   'ц':(1,1,1,0,0,),\n",
    "   'и':(1,1,1,0,1,),\n",
    "   'я':(1,1,1,1,0,),\n",
    "   'ь':(1,1,1,1,1,)\n",
    "}\n",
    "\n",
    "CODE_V = { CODE_A[a]:a for a in CODE_A }\n",
    "\n",
    "def encode(w): return  [ CODE_A[a] for a in list(w.lower()) ]\n",
    "def decode(c): return  [ CODE_V[v] for v in c ]"
   ]
  },
  {
   "cell_type": "code",
   "execution_count": 5,
   "metadata": {},
   "outputs": [],
   "source": [
    "code_len = len(CODE_A['а']) # длинна кода символа"
   ]
  },
  {
   "cell_type": "code",
   "execution_count": 6,
   "metadata": {},
   "outputs": [],
   "source": [
    "# заменяем буквы на коды\n",
    "def encode_text(text):\n",
    "    return [ encode(w) for w in text]\n",
    "\n",
    "# обрезаем длиные слова\n",
    "def strip_text(text,max_word=0): \n",
    "    return [ w[:max_word_len] for w in text ] \n",
    "\n",
    "# дополняем коды коротких слов нулями\n",
    "def pad_code(x,max_word=0): \n",
    "    code_len = len(x[0][0]) # длинна кода\n",
    "    # максимальная длинна слова\n",
    "    mwl = max([len(v) for v in x]) if max_word<1 else max_word\n",
    "    # дополнение нулями\n",
    "    z = [(0,)*code_len]*mwl\n",
    "    # дополняем короткое слово\n",
    "    return [ v + z[:(mwl-len(v))] for v in x ]\n",
    "\n",
    "# собираем датасет из списка слов text,\n",
    "# max_word - ограничение максимальной длины слова (0 - нет ограничений)\n",
    "def make_dataset(text,max_word=0):\n",
    "    t = strip_text(text,max_word) \n",
    "    x = encode_text(t)\n",
    "    x = pad_code(x,max_word)\n",
    "    return np.array([ sum(v,()) for v in x ])\n",
    "    "
   ]
  },
  {
   "cell_type": "code",
   "execution_count": 7,
   "metadata": {},
   "outputs": [
    {
     "data": {
      "text/plain": [
       "(112, 70)"
      ]
     },
     "execution_count": 7,
     "metadata": {},
     "output_type": "execute_result"
    }
   ],
   "source": [
    "x_train = make_dataset(ideal)   \n",
    "\n",
    "# масштабируем в [-1,+1]\n",
    "x_train = x_train*2-1\n",
    "\n",
    "x_train.shape"
   ]
  },
  {
   "cell_type": "code",
   "execution_count": 8,
   "metadata": {},
   "outputs": [
    {
     "data": {
      "text/plain": [
       "array([[ 1,  1, -1, ..., -1, -1, -1],\n",
       "       [ 1,  1, -1, ..., -1, -1, -1],\n",
       "       [ 1,  1, -1, ..., -1, -1, -1],\n",
       "       ...,\n",
       "       [ 1, -1,  1, ..., -1, -1, -1],\n",
       "       [ 1,  1,  1, ..., -1, -1, -1],\n",
       "       [ 1,  1,  1, ..., -1, -1, -1]])"
      ]
     },
     "execution_count": 8,
     "metadata": {},
     "output_type": "execute_result"
    }
   ],
   "source": [
    "x_train"
   ]
  },
  {
   "cell_type": "markdown",
   "metadata": {},
   "source": [
    "## загружаем память сети"
   ]
  },
  {
   "cell_type": "markdown",
   "metadata": {},
   "source": [
    "сеть Хэминга\n",
    "\n",
    "![neural-net-hamming](http://mechanoid.su/content/neural-net-hamming-classifier.html/nnet.png)"
   ]
  },
  {
   "cell_type": "code",
   "execution_count": 9,
   "metadata": {},
   "outputs": [],
   "source": [
    "# voc_len = len(ideal) # размер словаря\n",
    "# size_layer_0 = code_len * (max_word_len*2) # размер входого слоя, (кодированное слово)\n",
    "# size_layer_1 = voc_len # # размер выходого слоя (индикатор позиции в словаре)"
   ]
  },
  {
   "cell_type": "code",
   "execution_count": 10,
   "metadata": {},
   "outputs": [],
   "source": [
    "m = x_train.shape[0] # количество учебных примеров \n",
    "c = 1.0/(2.0*m) # коэффициент торможения\n",
    "W1 = (0.5*x_train).T # веса для нейронов первого слоя\n",
    "W2 = -(np.ones(m)-np.eye(m))*c+np.eye(m) # веса для нейронов второго слоя"
   ]
  },
  {
   "cell_type": "code",
   "execution_count": 11,
   "metadata": {},
   "outputs": [
    {
     "name": "stdout",
     "output_type": "stream",
     "text": [
      "[[ 0.50  0.50  0.50 ...  0.50  0.50  0.50]\n",
      " [ 0.50  0.50  0.50 ... -0.50  0.50  0.50]\n",
      " [-0.50 -0.50 -0.50 ...  0.50  0.50  0.50]\n",
      " ...\n",
      " [-0.50 -0.50 -0.50 ... -0.50 -0.50 -0.50]\n",
      " [-0.50 -0.50 -0.50 ... -0.50 -0.50 -0.50]\n",
      " [-0.50 -0.50 -0.50 ... -0.50 -0.50 -0.50]]\n"
     ]
    }
   ],
   "source": [
    "with np.printoptions(formatter={'float':'{: 0.2f}'.format}): print(W1) "
   ]
  },
  {
   "cell_type": "code",
   "execution_count": 12,
   "metadata": {},
   "outputs": [
    {
     "name": "stdout",
     "output_type": "stream",
     "text": [
      "[[ 1.000 -0.004 -0.004 ... -0.004 -0.004 -0.004]\n",
      " [-0.004  1.000 -0.004 ... -0.004 -0.004 -0.004]\n",
      " [-0.004 -0.004  1.000 ... -0.004 -0.004 -0.004]\n",
      " ...\n",
      " [-0.004 -0.004 -0.004 ...  1.000 -0.004 -0.004]\n",
      " [-0.004 -0.004 -0.004 ... -0.004  1.000 -0.004]\n",
      " [-0.004 -0.004 -0.004 ... -0.004 -0.004  1.000]]\n"
     ]
    }
   ],
   "source": [
    "# with np.printoptions(precision=4, suppress=True): print(W2)\n",
    "with np.printoptions(formatter={'float':'{: 0.3f}'.format}): print(W2) "
   ]
  },
  {
   "cell_type": "code",
   "execution_count": 13,
   "metadata": {},
   "outputs": [],
   "source": [
    "def run(x,W1,W2,max_iter=500):\n",
    "    o = x.dot(W1)\n",
    "    for i in range(max_iter):\n",
    "        o_prev=o.copy() # сохраняем состояние\n",
    "        o = np.max( [ o.dot(W2), np.zeros(m) ], axis=0 ) # переходим в новое состояние\n",
    "        # если состояние не изменилось то завершаем\n",
    "        if np.all(o==o_prev): break\n",
    "    #print(i)  \n",
    "    return o        "
   ]
  },
  {
   "cell_type": "markdown",
   "metadata": {},
   "source": [
    "## тестируем"
   ]
  },
  {
   "cell_type": "code",
   "execution_count": 14,
   "metadata": {},
   "outputs": [
    {
     "data": {
      "text/plain": [
       "112"
      ]
     },
     "execution_count": 14,
     "metadata": {},
     "output_type": "execute_result"
    }
   ],
   "source": [
    "test = read_list_txt('data/test_u.txt.gz')\n",
    "len(test)"
   ]
  },
  {
   "cell_type": "code",
   "execution_count": 15,
   "metadata": {},
   "outputs": [
    {
     "data": {
      "text/plain": [
       "['Акмьлу', 'Актуу', 'Алмуты', 'Архунгельск', 'Аструхунь', 'Ашхуюуд', 'Буку']"
      ]
     },
     "execution_count": 15,
     "metadata": {},
     "output_type": "execute_result"
    }
   ],
   "source": [
    "test[:7]"
   ]
  },
  {
   "cell_type": "code",
   "execution_count": 16,
   "metadata": {},
   "outputs": [
    {
     "data": {
      "text/plain": [
       "(112, 70)"
      ]
     },
     "execution_count": 16,
     "metadata": {},
     "output_type": "execute_result"
    }
   ],
   "source": [
    "max_word_len = max([len(w) for w in ideal])\n",
    "x_test = make_dataset(test,max_word=max_word_len)    \n",
    "x_test = x_test*2-1\n",
    "x_test.shape"
   ]
  },
  {
   "cell_type": "code",
   "execution_count": 17,
   "metadata": {},
   "outputs": [
    {
     "data": {
      "text/html": [
       "<table>\n",
       "<tbody>\n",
       "<tr><td>Акмьлу        </td><td>Актау         </td></tr>\n",
       "<tr><td>Актуу         </td><td>Актау         </td></tr>\n",
       "<tr><td>Алмуты        </td><td>Алматы        </td></tr>\n",
       "<tr><td>Архунгельск   </td><td>Архангельск   </td></tr>\n",
       "<tr><td>Аструхунь     </td><td>Астрахань     </td></tr>\n",
       "<tr><td>Ашхуюуд       </td><td>Ашхабад       </td></tr>\n",
       "<tr><td>Буку          </td><td>Баку          </td></tr>\n",
       "<tr><td>Бурнуул       </td><td>Барнаул       </td></tr>\n",
       "<tr><td>Билкек        </td><td>Бишкек        </td></tr>\n",
       "<tr><td>Блугьвещенск  </td><td>Благовещенск  </td></tr>\n",
       "<tr><td>Брутск        </td><td>Братск        </td></tr>\n",
       "<tr><td>Браст         </td><td>Брест         </td></tr>\n",
       "<tr><td>Брынск        </td><td>Брянск        </td></tr>\n",
       "<tr><td>Вмльньс       </td><td>Вильнюс       </td></tr>\n",
       "<tr><td>Витеюск       </td><td>Витебск       </td></tr>\n",
       "<tr><td>Влудивьстьк   </td><td>Владивосток   </td></tr>\n",
       "<tr><td>Влудикувкуз   </td><td>Владикавказ   </td></tr>\n",
       "<tr><td>Вьлгьгруд     </td><td>Волгоград     </td></tr>\n",
       "<tr><td>Вьлжский      </td><td>Волжский      </td></tr>\n",
       "<tr><td>Вьльгду       </td><td>Вологда       </td></tr>\n",
       "<tr><td>Вьрьнеж       </td><td>Воронеж       </td></tr>\n",
       "<tr><td>Гьмель        </td><td>Гомель        </td></tr>\n",
       "<tr><td>Грьднь        </td><td>Гомель        </td></tr>\n",
       "<tr><td>Грьзный       </td><td>Грозный       </td></tr>\n",
       "<tr><td>Гулистун      </td><td>Гулистан      </td></tr>\n",
       "<tr><td>Дзерэинск     </td><td>Дзержинск     </td></tr>\n",
       "<tr><td>Днепрьпетрьвск</td><td>Днепропетровск</td></tr>\n",
       "<tr><td>Дьнецк        </td><td>Донецк        </td></tr>\n",
       "<tr><td>Душунюе       </td><td>Душанбе       </td></tr>\n",
       "<tr><td>Екутеринюург  </td><td>Екатеринбург  </td></tr>\n",
       "<tr><td>Еревун        </td><td>Ереван        </td></tr>\n",
       "<tr><td>Зупьрьжье     </td><td>Запорожье     </td></tr>\n",
       "<tr><td>Ивуньвь       </td><td>Иваново       </td></tr>\n",
       "<tr><td>Ижзеск        </td><td>Ижевск        </td></tr>\n",
       "<tr><td>Ипкутск       </td><td>Иркутск       </td></tr>\n",
       "<tr><td>Кузунь        </td><td>Казань        </td></tr>\n",
       "<tr><td>Кулинингруд   </td><td>Калининград   </td></tr>\n",
       "<tr><td>Кулугу        </td><td>Тула          </td></tr>\n",
       "<tr><td>Куругунду     </td><td>Караганда     </td></tr>\n",
       "<tr><td>Куунус        </td><td>Каунас        </td></tr>\n",
       "<tr><td>Кемерьвь      </td><td>Кемерово      </td></tr>\n",
       "<tr><td>Кыив          </td><td>Тарту         </td></tr>\n",
       "<tr><td>Кирьв         </td><td>Киров         </td></tr>\n",
       "<tr><td>Кирьвьгруд    </td><td>Кировоград    </td></tr>\n",
       "<tr><td>Кишгнев       </td><td>Кишинев       </td></tr>\n",
       "<tr><td>Клуйпеду      </td><td>Клайпеда      </td></tr>\n",
       "<tr><td>Кьстрьму      </td><td>Кострома      </td></tr>\n",
       "<tr><td>Крусньдур     </td><td>Краснодар     </td></tr>\n",
       "<tr><td>Крусньярск    </td><td>Красноярск    </td></tr>\n",
       "<tr><td>Кцрск         </td><td>Курск         </td></tr>\n",
       "<tr><td>Кустунуй      </td><td>Кустанай      </td></tr>\n",
       "<tr><td>Лопецк        </td><td>Липецк        </td></tr>\n",
       "<tr><td>Лугунск       </td><td>Луганск       </td></tr>\n",
       "<tr><td>Лтвьв         </td><td>Львов         </td></tr>\n",
       "<tr><td>Лююерцы       </td><td>Люберцы       </td></tr>\n",
       "<tr><td>Мугнитьгьрск  </td><td>Магнитогорск  </td></tr>\n",
       "<tr><td>Муриупьль     </td><td>Мариуполь     </td></tr>\n",
       "<tr><td>Мухучкулу     </td><td>Сочи          </td></tr>\n",
       "<tr><td>Манск         </td><td>Минск         </td></tr>\n",
       "<tr><td>Мьскву        </td><td>Москва        </td></tr>\n",
       "<tr><td>Мурмунск      </td><td>Мурманск      </td></tr>\n",
       "<tr><td>Нижневуртьвск </td><td>Нижневартовск </td></tr>\n",
       "<tr><td>Нижнекумск    </td><td>Нижнекамск    </td></tr>\n",
       "<tr><td>Ньвгьрьд      </td><td>Новгород      </td></tr>\n",
       "<tr><td>Никьлуев      </td><td>Николаев      </td></tr>\n",
       "<tr><td>Ньвькузнецк   </td><td>Новокузнецк   </td></tr>\n",
       "<tr><td>Ньвьсиюирск   </td><td>Новосибирск   </td></tr>\n",
       "<tr><td>Ньрильск      </td><td>Норильск      </td></tr>\n",
       "<tr><td>Одассу        </td><td>Одесса        </td></tr>\n",
       "<tr><td>Одинцьвь      </td><td>Одинцово      </td></tr>\n",
       "<tr><td>Рмск          </td><td>Омск          </td></tr>\n",
       "<tr><td>Оренюург      </td><td>Оренбург      </td></tr>\n",
       "<tr><td>Пувльдур      </td><td>Петербург     </td></tr>\n",
       "<tr><td>Панзу         </td><td>Пенза         </td></tr>\n",
       "<tr><td>Пармь         </td><td>Пермь         </td></tr>\n",
       "<tr><td>Ригу          </td><td>Рига          </td></tr>\n",
       "<tr><td>Рьстьв        </td><td>Ростов        </td></tr>\n",
       "<tr><td>Рязунь        </td><td>Рязань        </td></tr>\n",
       "<tr><td>Сумуру        </td><td>Самара        </td></tr>\n",
       "<tr><td>Сумуркунд     </td><td>Самарканд     </td></tr>\n",
       "<tr><td>Петерюург     </td><td>Петербург     </td></tr>\n",
       "<tr><td>Сурунск       </td><td>Саранск       </td></tr>\n",
       "<tr><td>Сурутьв       </td><td>Саратов       </td></tr>\n",
       "<tr><td>Севустьпьль   </td><td>Севастополь   </td></tr>\n",
       "<tr><td>Серпухьв      </td><td>Серпухов      </td></tr>\n",
       "<tr><td>Симферьпьль   </td><td>Симферополь   </td></tr>\n",
       "<tr><td>Смьленск      </td><td>Смоленск      </td></tr>\n",
       "<tr><td>Сьчи          </td><td>Сочи          </td></tr>\n",
       "<tr><td>Стуврьпьль    </td><td>Ставрополь    </td></tr>\n",
       "<tr><td>Сургут        </td><td>Сургут        </td></tr>\n",
       "<tr><td>Сыктывкур     </td><td>Сыктывкар     </td></tr>\n",
       "<tr><td>Туллин        </td><td>Таллин        </td></tr>\n",
       "<tr><td>Тумюьв        </td><td>Тюмень        </td></tr>\n",
       "<tr><td>Турту         </td><td>Тарту         </td></tr>\n",
       "<tr><td>Тушкент       </td><td>Ташкент       </td></tr>\n",
       "<tr><td>Тюилиси       </td><td>Тбилиси       </td></tr>\n",
       "<tr><td>Тверь         </td><td>Тверь         </td></tr>\n",
       "<tr><td>Тьльятти      </td><td>Тольятти      </td></tr>\n",
       "<tr><td>Тьмск         </td><td>Томск         </td></tr>\n",
       "<tr><td>Тклу          </td><td>Тула          </td></tr>\n",
       "<tr><td>Тжмень        </td><td>Тюмень        </td></tr>\n",
       "<tr><td>Улояньвск     </td><td>Ульяновск     </td></tr>\n",
       "<tr><td>Уфу           </td><td>Уфа           </td></tr>\n",
       "<tr><td>Хаюурьвск     </td><td>Хабаровск     </td></tr>\n",
       "<tr><td>Херькьв       </td><td>Харьков       </td></tr>\n",
       "<tr><td>Харсьн        </td><td>Херсон        </td></tr>\n",
       "<tr><td>Чеюьксуры     </td><td>Чебоксары     </td></tr>\n",
       "<tr><td>Челяюинск     </td><td>Челябинск     </td></tr>\n",
       "<tr><td>Черкуссы      </td><td>Черкассы      </td></tr>\n",
       "<tr><td>Элисту        </td><td>Элиста        </td></tr>\n",
       "<tr><td>Члту          </td><td>Ялта          </td></tr>\n",
       "<tr><td>Ярьслувль     </td><td>Ярославль     </td></tr>\n",
       "</tbody>\n",
       "</table>"
      ],
      "text/plain": [
       "'<table>\\n<tbody>\\n<tr><td>Акмьлу        </td><td>Актау         </td></tr>\\n<tr><td>Актуу         </td><td>Актау         </td></tr>\\n<tr><td>Алмуты        </td><td>Алматы        </td></tr>\\n<tr><td>Архунгельск   </td><td>Архангельск   </td></tr>\\n<tr><td>Аструхунь     </td><td>Астрахань     </td></tr>\\n<tr><td>Ашхуюуд       </td><td>Ашхабад       </td></tr>\\n<tr><td>Буку          </td><td>Баку          </td></tr>\\n<tr><td>Бурнуул       </td><td>Барнаул       </td></tr>\\n<tr><td>Билкек        </td><td>Бишкек        </td></tr>\\n<tr><td>Блугьвещенск  </td><td>Благовещенск  </td></tr>\\n<tr><td>Брутск        </td><td>Братск        </td></tr>\\n<tr><td>Браст         </td><td>Брест         </td></tr>\\n<tr><td>Брынск        </td><td>Брянск        </td></tr>\\n<tr><td>Вмльньс       </td><td>Вильнюс       </td></tr>\\n<tr><td>Витеюск       </td><td>Витебск       </td></tr>\\n<tr><td>Влудивьстьк   </td><td>Владивосток   </td></tr>\\n<tr><td>Влудикувкуз   </td><td>Владикавказ   </td></tr>\\n<tr><td>Вьлгьгруд     </td><td>Волгоград     </td></tr>\\n<tr><td>Вьлжский      </td><td>Волжский      </td></tr>\\n<tr><td>Вьльгду       </td><td>Вологда       </td></tr>\\n<tr><td>Вьрьнеж       </td><td>Воронеж       </td></tr>\\n<tr><td>Гьмель        </td><td>Гомель        </td></tr>\\n<tr><td>Грьднь        </td><td>Гомель        </td></tr>\\n<tr><td>Грьзный       </td><td>Грозный       </td></tr>\\n<tr><td>Гулистун      </td><td>Гулистан      </td></tr>\\n<tr><td>Дзерэинск     </td><td>Дзержинск     </td></tr>\\n<tr><td>Днепрьпетрьвск</td><td>Днепропетровск</td></tr>\\n<tr><td>Дьнецк        </td><td>Донецк        </td></tr>\\n<tr><td>Душунюе       </td><td>Душанбе       </td></tr>\\n<tr><td>Екутеринюург  </td><td>Екатеринбург  </td></tr>\\n<tr><td>Еревун        </td><td>Ереван        </td></tr>\\n<tr><td>Зупьрьжье     </td><td>Запорожье     </td></tr>\\n<tr><td>Ивуньвь       </td><td>Иваново       </td></tr>\\n<tr><td>Ижзеск        </td><td>Ижевск        </td></tr>\\n<tr><td>Ипкутск       </td><td>Иркутск       </td></tr>\\n<tr><td>Кузунь        </td><td>Казань        </td></tr>\\n<tr><td>Кулинингруд   </td><td>Калининград   </td></tr>\\n<tr><td>Кулугу        </td><td>Тула          </td></tr>\\n<tr><td>Куругунду     </td><td>Караганда     </td></tr>\\n<tr><td>Куунус        </td><td>Каунас        </td></tr>\\n<tr><td>Кемерьвь      </td><td>Кемерово      </td></tr>\\n<tr><td>Кыив          </td><td>Тарту         </td></tr>\\n<tr><td>Кирьв         </td><td>Киров         </td></tr>\\n<tr><td>Кирьвьгруд    </td><td>Кировоград    </td></tr>\\n<tr><td>Кишгнев       </td><td>Кишинев       </td></tr>\\n<tr><td>Клуйпеду      </td><td>Клайпеда      </td></tr>\\n<tr><td>Кьстрьму      </td><td>Кострома      </td></tr>\\n<tr><td>Крусньдур     </td><td>Краснодар     </td></tr>\\n<tr><td>Крусньярск    </td><td>Красноярск    </td></tr>\\n<tr><td>Кцрск         </td><td>Курск         </td></tr>\\n<tr><td>Кустунуй      </td><td>Кустанай      </td></tr>\\n<tr><td>Лопецк        </td><td>Липецк        </td></tr>\\n<tr><td>Лугунск       </td><td>Луганск       </td></tr>\\n<tr><td>Лтвьв         </td><td>Львов         </td></tr>\\n<tr><td>Лююерцы       </td><td>Люберцы       </td></tr>\\n<tr><td>Мугнитьгьрск  </td><td>Магнитогорск  </td></tr>\\n<tr><td>Муриупьль     </td><td>Мариуполь     </td></tr>\\n<tr><td>Мухучкулу     </td><td>Сочи          </td></tr>\\n<tr><td>Манск         </td><td>Минск         </td></tr>\\n<tr><td>Мьскву        </td><td>Москва        </td></tr>\\n<tr><td>Мурмунск      </td><td>Мурманск      </td></tr>\\n<tr><td>Нижневуртьвск </td><td>Нижневартовск </td></tr>\\n<tr><td>Нижнекумск    </td><td>Нижнекамск    </td></tr>\\n<tr><td>Ньвгьрьд      </td><td>Новгород      </td></tr>\\n<tr><td>Никьлуев      </td><td>Николаев      </td></tr>\\n<tr><td>Ньвькузнецк   </td><td>Новокузнецк   </td></tr>\\n<tr><td>Ньвьсиюирск   </td><td>Новосибирск   </td></tr>\\n<tr><td>Ньрильск      </td><td>Норильск      </td></tr>\\n<tr><td>Одассу        </td><td>Одесса        </td></tr>\\n<tr><td>Одинцьвь      </td><td>Одинцово      </td></tr>\\n<tr><td>Рмск          </td><td>Омск          </td></tr>\\n<tr><td>Оренюург      </td><td>Оренбург      </td></tr>\\n<tr><td>Пувльдур      </td><td>Петербург     </td></tr>\\n<tr><td>Панзу         </td><td>Пенза         </td></tr>\\n<tr><td>Пармь         </td><td>Пермь         </td></tr>\\n<tr><td>Ригу          </td><td>Рига          </td></tr>\\n<tr><td>Рьстьв        </td><td>Ростов        </td></tr>\\n<tr><td>Рязунь        </td><td>Рязань        </td></tr>\\n<tr><td>Сумуру        </td><td>Самара        </td></tr>\\n<tr><td>Сумуркунд     </td><td>Самарканд     </td></tr>\\n<tr><td>Петерюург     </td><td>Петербург     </td></tr>\\n<tr><td>Сурунск       </td><td>Саранск       </td></tr>\\n<tr><td>Сурутьв       </td><td>Саратов       </td></tr>\\n<tr><td>Севустьпьль   </td><td>Севастополь   </td></tr>\\n<tr><td>Серпухьв      </td><td>Серпухов      </td></tr>\\n<tr><td>Симферьпьль   </td><td>Симферополь   </td></tr>\\n<tr><td>Смьленск      </td><td>Смоленск      </td></tr>\\n<tr><td>Сьчи          </td><td>Сочи          </td></tr>\\n<tr><td>Стуврьпьль    </td><td>Ставрополь    </td></tr>\\n<tr><td>Сургут        </td><td>Сургут        </td></tr>\\n<tr><td>Сыктывкур     </td><td>Сыктывкар     </td></tr>\\n<tr><td>Туллин        </td><td>Таллин        </td></tr>\\n<tr><td>Тумюьв        </td><td>Тюмень        </td></tr>\\n<tr><td>Турту         </td><td>Тарту         </td></tr>\\n<tr><td>Тушкент       </td><td>Ташкент       </td></tr>\\n<tr><td>Тюилиси       </td><td>Тбилиси       </td></tr>\\n<tr><td>Тверь         </td><td>Тверь         </td></tr>\\n<tr><td>Тьльятти      </td><td>Тольятти      </td></tr>\\n<tr><td>Тьмск         </td><td>Томск         </td></tr>\\n<tr><td>Тклу          </td><td>Тула          </td></tr>\\n<tr><td>Тжмень        </td><td>Тюмень        </td></tr>\\n<tr><td>Улояньвск     </td><td>Ульяновск     </td></tr>\\n<tr><td>Уфу           </td><td>Уфа           </td></tr>\\n<tr><td>Хаюурьвск     </td><td>Хабаровск     </td></tr>\\n<tr><td>Херькьв       </td><td>Харьков       </td></tr>\\n<tr><td>Харсьн        </td><td>Херсон        </td></tr>\\n<tr><td>Чеюьксуры     </td><td>Чебоксары     </td></tr>\\n<tr><td>Челяюинск     </td><td>Челябинск     </td></tr>\\n<tr><td>Черкуссы      </td><td>Черкассы      </td></tr>\\n<tr><td>Элисту        </td><td>Элиста        </td></tr>\\n<tr><td>Члту          </td><td>Ялта          </td></tr>\\n<tr><td>Ярьслувль     </td><td>Ярославль     </td></tr>\\n</tbody>\\n</table>'"
      ]
     },
     "execution_count": 17,
     "metadata": {},
     "output_type": "execute_result"
    }
   ],
   "source": [
    "from tabulate import tabulate \n",
    "\n",
    "out = [ np.argmax(run(x_test[i,:],W1,W2)) for i in range(x_test.shape[0]) ]\n",
    "res = [ [t, ideal[out[i]] ] for i,t in enumerate(test) ]\n",
    "\n",
    "tabulate(res, tablefmt='html')"
   ]
  },
  {
   "cell_type": "code",
   "execution_count": null,
   "metadata": {},
   "outputs": [],
   "source": []
  },
  {
   "cell_type": "code",
   "execution_count": null,
   "metadata": {},
   "outputs": [],
   "source": []
  }
 ],
 "metadata": {
  "kernelspec": {
   "display_name": "Python 3 (ipykernel)",
   "language": "python",
   "name": "python3"
  },
  "language_info": {
   "codemirror_mode": {
    "name": "ipython",
    "version": 3
   },
   "file_extension": ".py",
   "mimetype": "text/x-python",
   "name": "python",
   "nbconvert_exporter": "python",
   "pygments_lexer": "ipython3",
   "version": "3.11.7"
  },
  "toc": {
   "base_numbering": 1,
   "nav_menu": {},
   "number_sections": true,
   "sideBar": true,
   "skip_h1_title": false,
   "title_cell": "Table of Contents",
   "title_sidebar": "Contents",
   "toc_cell": false,
   "toc_position": {},
   "toc_section_display": "block",
   "toc_window_display": false
  }
 },
 "nbformat": 4,
 "nbformat_minor": 2
}
