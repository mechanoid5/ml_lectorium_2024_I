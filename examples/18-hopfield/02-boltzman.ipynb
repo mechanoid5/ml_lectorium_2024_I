{
 "cells": [
  {
   "cell_type": "markdown",
   "metadata": {},
   "source": [
    "**машина Больцмана: ассоциативная память**\n",
    "\n",
    "Евгений Борисов <esborisov@sevsu.ru>"
   ]
  },
  {
   "cell_type": "markdown",
   "metadata": {},
   "source": [
    "##  загружаем данные "
   ]
  },
  {
   "cell_type": "code",
   "execution_count": 1,
   "metadata": {},
   "outputs": [],
   "source": [
    "# !ls data"
   ]
  },
  {
   "cell_type": "code",
   "execution_count": 2,
   "metadata": {},
   "outputs": [],
   "source": [
    "import pickle\n",
    "import gzip\n",
    "\n",
    "with gzip.open('data/17x31.pkl.gz','rb') as f:\n",
    "    ideal,test = pickle.load(f)"
   ]
  },
  {
   "cell_type": "code",
   "execution_count": 3,
   "metadata": {},
   "outputs": [],
   "source": [
    "import matplotlib.pyplot as plt\n",
    "\n",
    "def plot_images(data,figsize=(10,4)):\n",
    "    fig, ax = plt.subplots(1,len(data), figsize=figsize)\n",
    "    for i in range(len(data)): \n",
    "        ax[i].axis('off')\n",
    "        ax[i].imshow(data[i]) #,cmap='GnBu')"
   ]
  },
  {
   "cell_type": "code",
   "execution_count": 4,
   "metadata": {},
   "outputs": [
    {
     "data": {
      "image/png": "[encoded data removed]",
      "text/plain": [
       "<Figure size 300x200 with 3 Axes>"
      ]
     },
     "metadata": {},
     "output_type": "display_data"
    },
    {
     "data": {
      "image/png": "[encoded data removed]",
      "text/plain": [
       "<Figure size 700x200 with 7 Axes>"
      ]
     },
     "metadata": {},
     "output_type": "display_data"
    }
   ],
   "source": [
    "plot_images(ideal,(3,2))\n",
    "plot_images(test,(7,2))"
   ]
  },
  {
   "cell_type": "markdown",
   "metadata": {},
   "source": [
    "## формируем датасет"
   ]
  },
  {
   "cell_type": "code",
   "execution_count": 5,
   "metadata": {},
   "outputs": [],
   "source": [
    "import numpy as np\n",
    "from numpy import random as rng"
   ]
  },
  {
   "cell_type": "code",
   "execution_count": 6,
   "metadata": {},
   "outputs": [
    {
     "data": {
      "text/plain": [
       "(3, 527)"
      ]
     },
     "metadata": {},
     "output_type": "display_data"
    },
    {
     "data": {
      "text/plain": [
       "(7, 527)"
      ]
     },
     "metadata": {},
     "output_type": "display_data"
    }
   ],
   "source": [
    "(w,h),n = ideal[0].shape,len(ideal)\n",
    "x_train = np.sign( 127.-np.stack(ideal).reshape(n,w*h) )\n",
    "\n",
    "(w,h),n = test[0].shape,len(test)\n",
    "x_test = np.sign( 127.-np.stack(test).reshape(n,w*h) )\n",
    "\n",
    "display( x_train.shape, x_test.shape )"
   ]
  },
  {
   "cell_type": "code",
   "execution_count": 7,
   "metadata": {},
   "outputs": [],
   "source": [
    "# x_test"
   ]
  },
  {
   "cell_type": "markdown",
   "metadata": {},
   "source": [
    "# базовая модель"
   ]
  },
  {
   "cell_type": "markdown",
   "metadata": {},
   "source": [
    "![hopfield](http://mechanoid.su/content/neural-net-hopfield-associative-memory.html/hopfield.bmp)"
   ]
  },
  {
   "cell_type": "code",
   "execution_count": 8,
   "metadata": {},
   "outputs": [],
   "source": [
    "class HophieldNet:\n",
    "    \n",
    "    def __init__(self):\n",
    "        self._weight = 0.\n",
    "        self._bias = 0.\n",
    "        \n",
    "    def fit(self,x):\n",
    "        assert len(x)>1\n",
    "        batch_size, data_size = x.shape\n",
    "        self._weight = x.T.dot(x)\n",
    "        self._bias = x.sum(axis=0)\n",
    "        # обнуляем главную диагональ матрицы весов\n",
    "        # т.е. удаляем обратную связь нейрона на самого себя \n",
    "        self._weight = self._weight *(np.ones([data_size,data_size])-np.eye(data_size,data_size))\n",
    "        return self\n",
    "    \n",
    "    def forward(self,x,max_iter=8):\n",
    "        o = x\n",
    "        for _ in range(max_iter):\n",
    "            o_ = o # сохраняем состояние\n",
    "            o = self._forward_step(o) # переходим в новое состояние\n",
    "            # если состояние не изменилось то завершаем\n",
    "            if np.all(o==o_): break\n",
    "        return o        \n",
    "    \n",
    "    def _forward_step(self,x):\n",
    "        return np.sign( x.dot(self._weight) - self._bias )\n",
    "    "
   ]
  },
  {
   "cell_type": "markdown",
   "metadata": {},
   "source": [
    "# модель"
   ]
  },
  {
   "cell_type": "markdown",
   "metadata": {},
   "source": [
    "энергия сети\n",
    "\n",
    "$E = - \\left( s\\cdot W \\right) * s - s*\\theta $   \n",
    "\n",
    "$\\cdot$ - матричное умножение  \n",
    "$*$ - поэлементное умножение   \n",
    "$s$ - состояние сети   \n",
    "$W$ - матрица весов   \n",
    "$\\theta$ - вектор сдвигов  "
   ]
  },
  {
   "cell_type": "markdown",
   "metadata": {},
   "source": [
    "генерируем случайное состояние r\n",
    "\n",
    "и считаем изменение энергии сети\n",
    "\n",
    "$\\Delta E = E(r) - E(s)$\n",
    "\n",
    "если $\\Delta E_i\\leq 0$   \n",
    "то $s_i:=r_i$  \n",
    "иначе принимаем $s_i:=r_i$ c вероятностью $p_i$"
   ]
  },
  {
   "cell_type": "markdown",
   "metadata": {},
   "source": [
    "$$\n",
    "p(\\Delta E,t) = 1-\\frac{1}{1+\\exp\\left(-\\frac{\\Delta E}{t}\\right)}\n",
    "$$"
   ]
  },
  {
   "cell_type": "code",
   "execution_count": 9,
   "metadata": {},
   "outputs": [
    {
     "data": {
      "text/plain": [
       "[<matplotlib.lines.Line2D at 0x79bf1e095e50>]"
      ]
     },
     "execution_count": 9,
     "metadata": {},
     "output_type": "execute_result"
    },
    {
     "data": {
      "image/png": "[encoded data removed]",
      "text/plain": [
       "<Figure size 640x480 with 1 Axes>"
      ]
     },
     "metadata": {},
     "output_type": "display_data"
    }
   ],
   "source": [
    "p = lambda dE,t: 1.-1./(1.+np.exp(-dE/t)) \n",
    "de,t = np.linspace(0,100,100), 10\n",
    "plt.plot(p(de,t))"
   ]
  },
  {
   "cell_type": "code",
   "execution_count": 10,
   "metadata": {},
   "outputs": [
    {
     "data": {
      "text/plain": [
       "[<matplotlib.lines.Line2D at 0x79bf1df53410>]"
      ]
     },
     "execution_count": 10,
     "metadata": {},
     "output_type": "execute_result"
    },
    {
     "data": {
      "image/png": "[encoded data removed]",
      "text/plain": [
       "<Figure size 640x480 with 1 Axes>"
      ]
     },
     "metadata": {},
     "output_type": "display_data"
    }
   ],
   "source": [
    "t = [100]\n",
    "for _ in range(100): t.append( t[-1]*.96  )\n",
    "plt.plot(range(101),t)"
   ]
  },
  {
   "cell_type": "code",
   "execution_count": 11,
   "metadata": {},
   "outputs": [],
   "source": [
    "class BoltzmanNet(HophieldNet):\n",
    "\n",
    "    def __init__(self):\n",
    "        super().__init__()\n",
    "        self._t = 100. # \"температура\" модели \n",
    "\n",
    "    def forward(self,x,max_iter=64):\n",
    "        self._t = 100. # начальная \"температура\"    \n",
    "        return super().forward(x,max_iter)\n",
    "    \n",
    "    def _forward_step(self,x):\n",
    "        o = self._change_state(x.copy())\n",
    "        self._t *= .96 # понизить температуру\n",
    "        return o\n",
    "            \n",
    "    def _change_state(self,state):\n",
    "        random_state = self._random_state(state.shape) # случайное состояние\n",
    "        dE = self._energy(random_state) - self._energy(state) # изменение энергии нейронов\n",
    "        \n",
    "        # если изменение энергии меньше нуля \n",
    "        mask_0 = dE<0 # условие: изменение энергии нейрона\n",
    "        # то принимаем новое состояние нейрона\n",
    "        state[mask_0] = random_state[mask_0]\n",
    "\n",
    "        # если изменение энергии больше нуля \n",
    "        # то принимаем новое состояние нейрона с вероятностью p\n",
    "        p = self._prob(dE)\n",
    "        mask_1 = rng.rand(*state.shape) < p # нейроны, для которых будем менять состояние\n",
    "        mask_1 = np.logical_and(np.logical_not(mask_0),mask_1)\n",
    "        state[mask_1] = random_state[mask_1]\n",
    "        \n",
    "        return state\n",
    "                \n",
    "    def _random_state(self,shape):\n",
    "        return rng.randint(0,2,shape)*2-1 # случайное состояние\n",
    "    \n",
    "    def _energy(self,x): \n",
    "        return -x.dot(self._weight)*x - x*self._bias\n",
    "    \n",
    "    def _prob(self,dE):\n",
    "        return 1.-1./(1.+np.exp(-dE/self._t)) # вероятности переходов в новое состояние\n",
    "        "
   ]
  },
  {
   "cell_type": "code",
   "execution_count": 12,
   "metadata": {},
   "outputs": [],
   "source": [
    "from time import time\n",
    "# инициализация генератора псевдослучайных чисел\n",
    "rng.seed(seed= int(((time()%1)/(time()//1))*1e11) )"
   ]
  },
  {
   "cell_type": "markdown",
   "metadata": {},
   "source": [
    "# загружаем память сети"
   ]
  },
  {
   "cell_type": "code",
   "execution_count": 13,
   "metadata": {},
   "outputs": [],
   "source": [
    "model = BoltzmanNet().fit(x_train)"
   ]
  },
  {
   "cell_type": "markdown",
   "metadata": {},
   "source": [
    "# тестируем"
   ]
  },
  {
   "cell_type": "code",
   "execution_count": 14,
   "metadata": {},
   "outputs": [],
   "source": [
    "o = model.forward(x_test)"
   ]
  },
  {
   "cell_type": "code",
   "execution_count": 15,
   "metadata": {},
   "outputs": [],
   "source": [
    "(w,h),n = test[0].shape,len(test)\n",
    "o_ = ((1-o.reshape(n,w,h))*127).astype(np.uint8)"
   ]
  },
  {
   "cell_type": "code",
   "execution_count": 16,
   "metadata": {},
   "outputs": [
    {
     "data": {
      "image/png": "[encoded data removed]",
      "text/plain": [
       "<Figure size 300x200 with 3 Axes>"
      ]
     },
     "metadata": {},
     "output_type": "display_data"
    },
    {
     "data": {
      "image/png": "[encoded data removed]",
      "text/plain": [
       "<Figure size 700x200 with 7 Axes>"
      ]
     },
     "metadata": {},
     "output_type": "display_data"
    },
    {
     "data": {
      "image/png": "[encoded data removed]",
      "text/plain": [
       "<Figure size 700x200 with 7 Axes>"
      ]
     },
     "metadata": {},
     "output_type": "display_data"
    }
   ],
   "source": [
    "plot_images(ideal,(3,2))\n",
    "plot_images(test,(7,2))\n",
    "plot_images(o_,(7,2))"
   ]
  },
  {
   "cell_type": "code",
   "execution_count": null,
   "metadata": {},
   "outputs": [],
   "source": []
  }
 ],
 "metadata": {
  "kernelspec": {
   "display_name": "Python 3 (ipykernel)",
   "language": "python",
   "name": "python3"
  },
  "language_info": {
   "codemirror_mode": {
    "name": "ipython",
    "version": 3
   },
   "file_extension": ".py",
   "mimetype": "text/x-python",
   "name": "python",
   "nbconvert_exporter": "python",
   "pygments_lexer": "ipython3",
   "version": "3.11.7"
  },
  "toc": {
   "base_numbering": 1,
   "nav_menu": {},
   "number_sections": true,
   "sideBar": true,
   "skip_h1_title": false,
   "title_cell": "Table of Contents",
   "title_sidebar": "Contents",
   "toc_cell": false,
   "toc_position": {},
   "toc_section_display": "block",
   "toc_window_display": false
  }
 },
 "nbformat": 4,
 "nbformat_minor": 2
}
