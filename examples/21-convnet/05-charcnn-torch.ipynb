{
 "cells": [
  {
   "cell_type": "markdown",
   "metadata": {},
   "source": [
    "**CharCNN**\n",
    "\n",
    "Евгений Борисов <esborisov@sevsu.ru>\n",
    "\n",
    "\n",
    "построим простую языковая модель и\n",
    "обучим её предсказывать последнюю букву в слове\n"
   ]
  },
  {
   "cell_type": "markdown",
   "metadata": {},
   "source": [
    "----"
   ]
  },
  {
   "cell_type": "code",
   "execution_count": 1,
   "metadata": {},
   "outputs": [],
   "source": [
    "import numpy as np\n",
    "from numpy import random as rng\n",
    "import matplotlib.pyplot as plt\n",
    "\n",
    "%precision 3\n",
    "np.set_printoptions(precision=3)\n",
    "np.set_printoptions(linewidth=110)\n",
    "# np.get_printoptions()"
   ]
  },
  {
   "cell_type": "markdown",
   "metadata": {},
   "source": [
    "# загружаем тексты"
   ]
  },
  {
   "cell_type": "code",
   "execution_count": 2,
   "metadata": {},
   "outputs": [],
   "source": [
    "# загружаем тексты\n",
    "import gzip\n",
    "import requests\n",
    "from bs4 import BeautifulSoup"
   ]
  },
  {
   "cell_type": "code",
   "execution_count": 3,
   "metadata": {},
   "outputs": [
    {
     "name": "stdout",
     "output_type": "stream",
     "text": [
      "символов:1279540\n",
      "---------------\n",
      "\n",
      "Приступая к описанию недавних и столь странных событий, происшедших в нашем, доселе ничем не отличавшемся городе, я принужден, по неумению моему, начать несколько издалека, а именно некоторыми биографическими подробностями о талантливом и многочтимом Степане Трофимовиче Верховенском. Пусть эти подробности послужат лишь введением к предлагаемой хронике, \n"
     ]
    }
   ],
   "source": [
    "url='http://az.lib.ru/d/dostoewskij_f_m/text_0080.shtml'\n",
    "text = BeautifulSoup(requests.get(url).text).get_text()\n",
    "with gzip.open('dostoewskij.txt.gz','wt') as f: f.write(text)\n",
    "\n",
    "# with gzip.open('dostoewskij.txt.gz','rt') as f: text = f.read()\n",
    "\n",
    "text = text[2876:-664184].strip() # выкидываем заголовок и хвост страницы \n",
    "print(f'символов:{len(text)}\\n---------------\\n'%())\n",
    "print(text[:355])"
   ]
  },
  {
   "cell_type": "markdown",
   "metadata": {},
   "source": [
    "----"
   ]
  },
  {
   "cell_type": "code",
   "execution_count": 4,
   "metadata": {},
   "outputs": [
    {
     "name": "stdout",
     "output_type": "stream",
     "text": [
      " - Мы несомненно найдем всё, чего ищем, -- твердо шагнул к нему Блюм, приставляя к сердцу правую руку, -- мы сделаем осмотр внезапно, рано поутру, соблюдая всю деликатность к лицу и всю предписанную строгость форм закона. Молодые люди, Лямшин и Телятников, слишком уверяют, что мы найдем всё желаемое. Они посещали там многократно. К господину Верховенскому никто внимательно не расположен. Генеральша Ставрогина явно отказала ему в своих благодеяниях, и всякий честный человек, если только есть таковой в этом грубом городе, убежден, что там всегда укрывался источник безверия и социального учения. У него хранятся все запрещенные книги, \"Думы\" Рылеева, все сочинения Герцена... Я на всякий случай имею приблизительный каталог...\n",
      "   - О боже, эти книги есть у всякого; как ты прост, мой бедный Блюм!\n",
      "   - И многие прокламации, -- продолжал Блюм, не слушая замечаний. - Мы кончим тем, что непременно нападем на след настоящих здешних прокламаций. Этот молодой Верховенский мне весьма и весьма подозрителен.\n",
      "   - Но ты смешив\n"
     ]
    }
   ],
   "source": [
    "data_size = 1024\n",
    "offset = rng.randint( len(text) - data_size )\n",
    "text_ = text[offset:offset+data_size]\n",
    "print(text_)"
   ]
  },
  {
   "cell_type": "markdown",
   "metadata": {},
   "source": [
    "# собираем генератор дататасета"
   ]
  },
  {
   "cell_type": "code",
   "execution_count": 5,
   "metadata": {},
   "outputs": [],
   "source": [
    "import torch\n",
    "import torch.nn.functional as F"
   ]
  },
  {
   "cell_type": "code",
   "execution_count": 6,
   "metadata": {},
   "outputs": [],
   "source": [
    "from torch.utils.data import Dataset"
   ]
  },
  {
   "cell_type": "code",
   "execution_count": 7,
   "metadata": {},
   "outputs": [],
   "source": [
    "class SeqDataset(Dataset):\n",
    "    \n",
    "    def __init__(self,text,contex_len,w_step=1):\n",
    "        super().__init__()\n",
    "        assert len(text)>1\n",
    "\n",
    "        abc = sorted(set(text))\n",
    "        self._vocabulary = { c:n for n,c in enumerate(abc) }\n",
    "        self._data = np.array([\n",
    "                self._encode(text[n:n+contex_len+1]) for n in range(0,len(text)-(contex_len+1),w_step) \n",
    "            ],dtype=int)\n",
    "        \n",
    "    @property\n",
    "    def vocabulary(self): \n",
    "        return self._vocabulary\n",
    "    \n",
    "    def __getitem__(self, idx): # выдать элемент датасета номер idx\n",
    "        return ( \n",
    "            torch.unsqueeze(\n",
    "                F.one_hot( \n",
    "                        torch.tensor( self._data[idx,:-1], dtype=torch.long ), \n",
    "                        num_classes=len(self._vocabulary) \n",
    "                    ).to( torch.float32 ) \n",
    "            ,dim=0),\n",
    "            F.one_hot( \n",
    "                    torch.tensor( self._data[idx,-1], dtype=torch.long ), \n",
    "                    num_classes=len(self._vocabulary) \n",
    "                ).to( torch.float32 ) ,\n",
    "            \n",
    "            # torch.tensor( self._one_hot( self._data[idx,-1] ), dtype=torch.float32 )\n",
    "            # torch.tensor( self._data[idx,-1], dtype=torch.long ),  \n",
    "        )\n",
    "\n",
    "    # заменить в последовательности все токены на их номера в словаре\n",
    "    def _encode(self,w):\n",
    "        return [ self._vocabulary[c] for c in w if (c in self._vocabulary) ]\n",
    "        \n",
    "    # размер датасета\n",
    "    def __len__(self): \n",
    "        return len(self._data)   \n",
    "    \n",
    "    # def _one_hot(self,x):        return np.eye(len(self._vocabulary))[x]"
   ]
  },
  {
   "cell_type": "code",
   "execution_count": 8,
   "metadata": {},
   "outputs": [
    {
     "data": {
      "text/plain": [
       "63"
      ]
     },
     "metadata": {},
     "output_type": "display_data"
    },
    {
     "data": {
      "text/plain": [
       "57"
      ]
     },
     "metadata": {},
     "output_type": "display_data"
    }
   ],
   "source": [
    "ds = SeqDataset(text_,24,w_step=16)\n",
    "display(len(ds) )\n",
    "display(len(ds.vocabulary))\n",
    "# display(ds.words)"
   ]
  },
  {
   "cell_type": "code",
   "execution_count": 9,
   "metadata": {},
   "outputs": [
    {
     "data": {
      "text/plain": [
       "(torch.Size([16, 1, 24, 57]), torch.Size([16, 57]))"
      ]
     },
     "metadata": {},
     "output_type": "display_data"
    }
   ],
   "source": [
    "from torch.utils.data import DataLoader\n",
    "for x,t in DataLoader(ds,batch_size=16,shuffle=True): break\n",
    "display((x.shape,t.shape))"
   ]
  },
  {
   "attachments": {
    "image.png": {
     "image/png": "[encoded data removed]"
    }
   },
   "cell_type": "markdown",
   "metadata": {},
   "source": [
    "![image.png](attachment:image.png)"
   ]
  },
  {
   "cell_type": "markdown",
   "metadata": {},
   "source": [
    "# строим модель"
   ]
  },
  {
   "cell_type": "code",
   "execution_count": 10,
   "metadata": {},
   "outputs": [],
   "source": [
    "import torch.nn as nn\n",
    "import torch.nn.functional as F"
   ]
  },
  {
   "cell_type": "code",
   "execution_count": 13,
   "metadata": {},
   "outputs": [],
   "source": [
    "class ModelCharCNN(nn.Module):\n",
    "    \n",
    "    def __init__(self, in_size, vocabulary,):\n",
    "        super().__init__()\n",
    "        self._vocabulary = vocabulary\n",
    "        (h,w),c = in_size,1\n",
    "        self._conv0  = nn.Conv2d(in_channels=1,out_channels=16,kernel_size=5)\n",
    "        h,w,c = h-4,w-4,16\n",
    "        self._mpool0 = nn.MaxPool2d(kernel_size=2)\n",
    "        h,w = h//2,w//2\n",
    "        self._conv1  = nn.Conv2d(in_channels=16,out_channels=24,kernel_size=5)\n",
    "        h,w,c = h-4,w-4,24\n",
    "        self._mpool1 = nn.MaxPool2d(kernel_size=2)\n",
    "        h,w = h//2,w//2\n",
    "        self._linear = nn.Linear( h*w*c, len(vocabulary) )\n",
    "\n",
    "    def forward(self,x):\n",
    "        o = self._conv0(x)\n",
    "        o = F.relu(o)\n",
    "        o = self._mpool0(o)\n",
    "        o = self._conv1(o)\n",
    "        o = self._mpool1(o)\n",
    "        o = torch.flatten(o,start_dim=1)\n",
    "        o = self._linear(o) # считаем выход сети\n",
    "        o = F.softmax(o,dim=-1)\n",
    "        return o\n",
    "    \n",
    "    def predict(self,x):\n",
    "        return torch.argmax( self.forward(x), dim=-1 , keepdims=True)\n",
    "    \n",
    "    @property\n",
    "    def vocabulary(self): return self._vocabulary"
   ]
  },
  {
   "cell_type": "code",
   "execution_count": 17,
   "metadata": {},
   "outputs": [],
   "source": [
    "# from torch.utils.data import DataLoader\n",
    "# for x,t in DataLoader(ds,batch_size=16,shuffle=True): break\n",
    "# display((x.shape,t.shape))\n",
    "\n",
    "# _,_,h,w = x.shape\n",
    "\n",
    "# model = ModelCharCNN(in_size=(h,w),vocabulary=ds.vocabulary)\n",
    "\n",
    "# o = model.forward(x)\n",
    "# display( o.shape )\n",
    "\n",
    "# # o = model.predict(x)\n",
    "# # display( o.shape )"
   ]
  },
  {
   "cell_type": "markdown",
   "metadata": {},
   "source": [
    "# обучаем модель"
   ]
  },
  {
   "attachments": {
    "image.png": {
     "image/png": "[encoded data removed]"
    }
   },
   "cell_type": "markdown",
   "metadata": {},
   "source": [
    "![image.png](attachment:image.png)"
   ]
  },
  {
   "attachments": {
    "image.png": {
     "image/png": "[encoded data removed]"
    }
   },
   "cell_type": "markdown",
   "metadata": {},
   "source": [
    "градиент функции потери - частные производные по всем параметрам модели, направление наискорейшего возрастания функции \n",
    "\n",
    "![image.png](attachment:image.png)"
   ]
  },
  {
   "attachments": {
    "image.png": {
     "image/png": "[encoded data removed]"
    }
   },
   "cell_type": "markdown",
   "metadata": {},
   "source": [
    "\n",
    "![image.png](attachment:image.png)"
   ]
  },
  {
   "attachments": {
    "image.png": {
     "image/png": "[encoded data removed]"
    }
   },
   "cell_type": "markdown",
   "metadata": {},
   "source": [
    "процедура обратного распространения ошибки\n",
    "\n",
    "![image.png](attachment:image.png)"
   ]
  },
  {
   "attachments": {
    "image.png": {
     "image/png": "[encoded data removed]"
    }
   },
   "cell_type": "markdown",
   "metadata": {},
   "source": [
    "![image.png](attachment:image.png)"
   ]
  },
  {
   "cell_type": "code",
   "execution_count": 18,
   "metadata": {},
   "outputs": [
    {
     "data": {
      "text/plain": [
       "device(type='cuda', index=0)"
      ]
     },
     "metadata": {},
     "output_type": "display_data"
    },
    {
     "data": {
      "text/plain": [
       "'Quadro K620'"
      ]
     },
     "metadata": {},
     "output_type": "display_data"
    }
   ],
   "source": [
    "# проверяем GPU\n",
    "device = torch.device('cuda:0' if torch.cuda.is_available() else 'cpu')\n",
    "display( device )\n",
    "display( torch.cuda.get_device_name() )"
   ]
  },
  {
   "cell_type": "code",
   "execution_count": 19,
   "metadata": {},
   "outputs": [
    {
     "data": {
      "text/plain": [
       "(torch.Size([16, 1, 24, 57]), torch.Size([16, 57]))"
      ]
     },
     "metadata": {},
     "output_type": "display_data"
    }
   ],
   "source": [
    "from torch.utils.data import DataLoader\n",
    "for x,t in DataLoader(ds,batch_size=16,shuffle=True): break\n",
    "display((x.shape,t.shape))\n",
    "\n",
    "_,_,h,w = x.shape\n",
    "\n",
    "model = ModelCharCNN(in_size=(h,w),vocabulary=ds.vocabulary).to(device)"
   ]
  },
  {
   "cell_type": "code",
   "execution_count": 20,
   "metadata": {},
   "outputs": [],
   "source": [
    "# ф-ция потери\n",
    "criterion =  nn.BCELoss()\n",
    "# criterion = nn.NLLLoss()\n",
    "\n",
    "# метод оптимизации\n",
    "optimizer = torch.optim.Adam( model.parameters(), lr=1e-3) "
   ]
  },
  {
   "cell_type": "code",
   "execution_count": 21,
   "metadata": {},
   "outputs": [],
   "source": [
    "from tqdm.auto import tqdm\n",
    "from torch.utils.data import DataLoader"
   ]
  },
  {
   "cell_type": "code",
   "execution_count": 22,
   "metadata": {},
   "outputs": [],
   "source": [
    "loss_history = [] # значения ф-ции потери"
   ]
  },
  {
   "cell_type": "code",
   "execution_count": 23,
   "metadata": {},
   "outputs": [
    {
     "data": {
      "application/vnd.jupyter.widget-view+json": {
       "model_id": "008851fbf4184ca5a4ff818959b4af81",
       "version_major": 2,
       "version_minor": 0
      },
      "text/plain": [
       "  0%|          | 0/32 [00:00<?, ?it/s]"
      ]
     },
     "metadata": {},
     "output_type": "display_data"
    },
    {
     "name": "stdout",
     "output_type": "stream",
     "text": [
      "CPU times: user 595 ms, sys: 88.4 ms, total: 684 ms\n",
      "Wall time: 752 ms\n"
     ]
    }
   ],
   "source": [
    "%%time\n",
    "\n",
    "n_epoch = 32 # количество эпох обучения\n",
    "\n",
    "for i in tqdm(range(n_epoch)): \n",
    "    loss_batch = []\n",
    "    # получаем батч учебных примеров\n",
    "    for x,t in DataLoader( ds, batch_size=len(ds)//5, shuffle=True): \n",
    "        o = model.forward(x.to(device)) # считаем выход модели\n",
    "        loss = criterion( o, t.to(device) ) # вычисляем значение ф-ции потери\n",
    "        loss_batch.append( loss.item() ) # дополняем историю изменения значений ф-ции потери на батче\n",
    "        optimizer.zero_grad() # очищаем предыдущее значение градиента\n",
    "        loss.backward()  # вычисляем текущее значение градиента ф-ции потери\n",
    "        optimizer.step() # корректируем параметры модели\n",
    "    \n",
    "    loss_history.append( np.mean(loss_batch) ) # дополняем общую историю изменения значений ф-ции потери\n",
    "    if loss_history[-1]<1e-2: break"
   ]
  },
  {
   "cell_type": "code",
   "execution_count": 24,
   "metadata": {},
   "outputs": [
    {
     "data": {
      "text/plain": [
       "Text(0.5, 1.0, 'min loss: 0.00964')"
      ]
     },
     "execution_count": 24,
     "metadata": {},
     "output_type": "execute_result"
    },
    {
     "data": {
      "image/png": "[encoded data removed]",
      "text/plain": [
       "<Figure size 500x400 with 1 Axes>"
      ]
     },
     "metadata": {},
     "output_type": "display_data"
    }
   ],
   "source": [
    "from matplotlib import pyplot as plt\n",
    "\n",
    "fig,ax = plt.subplots(figsize=(5,4))\n",
    "ax.plot(loss_history)\n",
    "ax.grid()\n",
    "ax.set_title(f'min loss: {min(loss_history):.5f}')"
   ]
  },
  {
   "cell_type": "markdown",
   "metadata": {},
   "source": [
    "# тестируем"
   ]
  },
  {
   "cell_type": "code",
   "execution_count": 32,
   "metadata": {},
   "outputs": [
    {
     "data": {
      "text/plain": [
       "0.984"
      ]
     },
     "metadata": {},
     "output_type": "display_data"
    }
   ],
   "source": [
    "from sklearn.metrics import accuracy_score\n",
    "\n",
    "\n",
    "for x,t in DataLoader(ds,len(ds)): break\n",
    "\n",
    "with torch.set_grad_enabled(False): # генерируем следующий токен\n",
    "    p = model.predict(x.to(device)).cpu().numpy() #.item()\n",
    "        \n",
    "target = np.argmax(t.numpy(),axis=-1).reshape(-1,1)\n",
    "\n",
    "display( accuracy_score(y_true=target, y_pred=p ) )"
   ]
  },
  {
   "cell_type": "code",
   "execution_count": 33,
   "metadata": {},
   "outputs": [],
   "source": [
    "import pandas as pd"
   ]
  },
  {
   "cell_type": "code",
   "execution_count": 35,
   "metadata": {},
   "outputs": [],
   "source": [
    "def decode(x,vocabulary):\n",
    "    v = { n:w for w,n in  vocabulary.items() }\n",
    "    return [\n",
    "        ''.join([ v[c] for c in s ])\n",
    "        for s in x\n",
    "    ]"
   ]
  },
  {
   "cell_type": "code",
   "execution_count": 40,
   "metadata": {},
   "outputs": [
    {
     "data": {
      "text/html": [
       "<div>\n",
       "<style scoped>\n",
       "    .dataframe tbody tr th:only-of-type {\n",
       "        vertical-align: middle;\n",
       "    }\n",
       "\n",
       "    .dataframe tbody tr th {\n",
       "        vertical-align: top;\n",
       "    }\n",
       "\n",
       "    .dataframe thead th {\n",
       "        text-align: right;\n",
       "    }\n",
       "</style>\n",
       "<table border=\"1\" class=\"dataframe\">\n",
       "  <thead>\n",
       "    <tr style=\"text-align: right;\">\n",
       "      <th></th>\n",
       "      <th>sequence</th>\n",
       "      <th>target</th>\n",
       "      <th>predicted</th>\n",
       "    </tr>\n",
       "  </thead>\n",
       "  <tbody>\n",
       "    <tr>\n",
       "      <th>0</th>\n",
       "      <td>- Мы несомненно найдем</td>\n",
       "      <td>в</td>\n",
       "      <td>в</td>\n",
       "    </tr>\n",
       "    <tr>\n",
       "      <th>1</th>\n",
       "      <td>найдем всё, чего ищем,</td>\n",
       "      <td>-</td>\n",
       "      <td>-</td>\n",
       "    </tr>\n",
       "    <tr>\n",
       "      <th>2</th>\n",
       "      <td>о ищем, -- твердо шагнул</td>\n",
       "      <td></td>\n",
       "      <td></td>\n",
       "    </tr>\n",
       "    <tr>\n",
       "      <th>3</th>\n",
       "      <td>о шагнул к нему Блюм, пр</td>\n",
       "      <td>и</td>\n",
       "      <td>и</td>\n",
       "    </tr>\n",
       "    <tr>\n",
       "      <th>4</th>\n",
       "      <td>Блюм, приставляя к сердц</td>\n",
       "      <td>у</td>\n",
       "      <td>у</td>\n",
       "    </tr>\n",
       "    <tr>\n",
       "      <th>...</th>\n",
       "      <td>...</td>\n",
       "      <td>...</td>\n",
       "      <td>...</td>\n",
       "    </tr>\n",
       "    <tr>\n",
       "      <th>58</th>\n",
       "      <td>ешних прокламаций. Этот</td>\n",
       "      <td>м</td>\n",
       "      <td>м</td>\n",
       "    </tr>\n",
       "    <tr>\n",
       "      <th>59</th>\n",
       "      <td>й. Этот молодой Верховен</td>\n",
       "      <td>с</td>\n",
       "      <td>с</td>\n",
       "    </tr>\n",
       "    <tr>\n",
       "      <th>60</th>\n",
       "      <td>Верховенский мне весьма</td>\n",
       "      <td>и</td>\n",
       "      <td>и</td>\n",
       "    </tr>\n",
       "    <tr>\n",
       "      <th>61</th>\n",
       "      <td>весьма и весьма подозри</td>\n",
       "      <td>т</td>\n",
       "      <td>т</td>\n",
       "    </tr>\n",
       "    <tr>\n",
       "      <th>62</th>\n",
       "      <td>подозрителен.\\n   - Но т</td>\n",
       "      <td>ы</td>\n",
       "      <td>ы</td>\n",
       "    </tr>\n",
       "  </tbody>\n",
       "</table>\n",
       "<p>63 rows × 3 columns</p>\n",
       "</div>"
      ],
      "text/plain": [
       "                     sequence target predicted\n",
       "0     - Мы несомненно найдем       в         в\n",
       "1     найдем всё, чего ищем,       -         -\n",
       "2    о ищем, -- твердо шагнул                 \n",
       "3    о шагнул к нему Блюм, пр      и         и\n",
       "4    Блюм, приставляя к сердц      у         у\n",
       "..                        ...    ...       ...\n",
       "58   ешних прокламаций. Этот       м         м\n",
       "59   й. Этот молодой Верховен      с         с\n",
       "60   Верховенский мне весьма       и         и\n",
       "61    весьма и весьма подозри      т         т\n",
       "62   подозрителен.\\n   - Но т      ы         ы\n",
       "\n",
       "[63 rows x 3 columns]"
      ]
     },
     "metadata": {},
     "output_type": "display_data"
    }
   ],
   "source": [
    "import pandas as pd\n",
    "\n",
    "# декодируем слова\n",
    "df = pd.DataFrame({\n",
    "         'sequence': decode( np.argmax(torch.squeeze(x).numpy(),axis=-1),ds.vocabulary),\n",
    "           'target': decode(target,ds.vocabulary),\n",
    "         'predicted': decode(p,ds.vocabulary)\n",
    "    })\n",
    "\n",
    "display(df)"
   ]
  },
  {
   "cell_type": "code",
   "execution_count": null,
   "metadata": {},
   "outputs": [],
   "source": []
  },
  {
   "cell_type": "code",
   "execution_count": null,
   "metadata": {},
   "outputs": [],
   "source": []
  }
 ],
 "metadata": {
  "kernelspec": {
   "display_name": "Python 3 (ipykernel)",
   "language": "python",
   "name": "python3"
  },
  "language_info": {
   "codemirror_mode": {
    "name": "ipython",
    "version": 3
   },
   "file_extension": ".py",
   "mimetype": "text/x-python",
   "name": "python",
   "nbconvert_exporter": "python",
   "pygments_lexer": "ipython3",
   "version": "3.11.6"
  },
  "toc": {
   "base_numbering": 1,
   "nav_menu": {},
   "number_sections": true,
   "sideBar": true,
   "skip_h1_title": false,
   "title_cell": "Table of Contents",
   "title_sidebar": "Contents",
   "toc_cell": false,
   "toc_position": {},
   "toc_section_display": true,
   "toc_window_display": false
  }
 },
 "nbformat": 4,
 "nbformat_minor": 4
}
