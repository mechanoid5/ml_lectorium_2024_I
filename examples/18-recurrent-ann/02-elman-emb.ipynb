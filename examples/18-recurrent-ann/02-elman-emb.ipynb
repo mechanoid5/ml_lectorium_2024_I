{
 "cells": [
  {
   "cell_type": "markdown",
   "metadata": {},
   "source": [
    "**рекуррентная нейронная сеть Элмана**\n",
    "\n",
    "Евгений Борисов <esborisov@sevsu.ru>\n",
    "\n",
    "\n",
    "построим простую языковая модель и\n",
    "обучим её предсказывать последнюю букву в слове\n"
   ]
  },
  {
   "cell_type": "markdown",
   "metadata": {},
   "source": [
    "----"
   ]
  },
  {
   "cell_type": "markdown",
   "metadata": {},
   "source": [
    "Евгений Борисов  О рекуррентных нейронных сетях.    \n",
    "http://mechanoid.su/neural-net-rnn.html"
   ]
  },
  {
   "cell_type": "markdown",
   "metadata": {},
   "source": [
    "Jeffrey L. Elman Finding Structure in Time // COGNITIVE SCIENCE 14, 179-211 (1990)"
   ]
  },
  {
   "cell_type": "markdown",
   "metadata": {},
   "source": [
    "---"
   ]
  },
  {
   "cell_type": "code",
   "execution_count": 1,
   "metadata": {},
   "outputs": [],
   "source": [
    "import numpy as np\n",
    "from numpy import random as rng\n",
    "import matplotlib.pyplot as plt\n",
    "\n",
    "%precision 3\n",
    "np.set_printoptions(precision=3)\n",
    "np.set_printoptions(linewidth=110)\n",
    "# np.get_printoptions()"
   ]
  },
  {
   "cell_type": "markdown",
   "metadata": {},
   "source": [
    "# загружаем тексты"
   ]
  },
  {
   "cell_type": "code",
   "execution_count": 2,
   "metadata": {},
   "outputs": [],
   "source": [
    "# загружаем тексты\n",
    "import gzip\n",
    "import requests\n",
    "from bs4 import BeautifulSoup"
   ]
  },
  {
   "cell_type": "code",
   "execution_count": 3,
   "metadata": {},
   "outputs": [
    {
     "name": "stdout",
     "output_type": "stream",
     "text": [
      "символов:1279540\n",
      "---------------\n",
      "\n",
      "Приступая к описанию недавних и столь странных событий, происшедших в нашем, доселе ничем не отличавшемся городе, я принужден, по неумению моему, начать несколько издалека, а именно некоторыми биографическими подробностями о талантливом и многочтимом Степане Трофимовиче Верховенском. Пусть эти подробности послужат лишь введением к предлагаемой хронике, \n"
     ]
    }
   ],
   "source": [
    "url='http://az.lib.ru/d/dostoewskij_f_m/text_0080.shtml'\n",
    "text = BeautifulSoup(requests.get(url).text).get_text()\n",
    "with gzip.open('dostoewskij.txt.gz','wt') as f: f.write(text)\n",
    "\n",
    "# with gzip.open('dostoewskij.txt.gz','rt') as f: text = f.read()\n",
    "\n",
    "text = text[2876:-664184].strip() # выкидываем заголовок и хвост страницы \n",
    "print(f'символов:{len(text)}\\n---------------\\n'%())\n",
    "print(text[:355])"
   ]
  },
  {
   "cell_type": "markdown",
   "metadata": {},
   "source": [
    "----"
   ]
  },
  {
   "cell_type": "code",
   "execution_count": 4,
   "metadata": {},
   "outputs": [
    {
     "name": "stdout",
     "output_type": "stream",
     "text": [
      " весьма опасное напускное спокойное резонерство до первого взрыва. Но Петру Степановичу уже некогда было замечать опасности, да и не сходилось с его взглядом на вещи. Происшествия и неудачи дня совсем его закружили... Липутин с любопытством выглядывал вниз, с трех ступеней, из темной каморки.\n",
      "   - Хочешь или не хочешь иметь верный паспорт и хорошие деньги на проезд куда сказано? Да или нет?\n",
      "   - Видишь, Петр Степанович, ты меня с самого первоначалу зачал обманывать, потому как ты выходишь передо мною настоящий подлец. Всё равно как поганая человечья вошь, -- вот я тебя за кого почитаю. Ты мне за неповинную кровь большие деньги сулил и за господина Ставрогина клятву давал, несмотря на то что выходит одно лишь твое неучтивство. Я как есть ни одной каплей не участвовал, не то что полторы тысячи, а господин Ставрогин тебя давеча по щекам отхлестали, что уже и нам известно. Теперь ты мне сызнова угрожаешь и деньги сулишь, на какое дело - молчишь. А я сумлеваюсь в уме, что в Петербург меня шлешь, чтоб господину Ста\n"
     ]
    }
   ],
   "source": [
    "data_size = 1024\n",
    "offset = rng.randint( len(text) - data_size )\n",
    "text_ = text[offset:offset+data_size]\n",
    "print(text_)"
   ]
  },
  {
   "cell_type": "markdown",
   "metadata": {},
   "source": [
    "# собираем генератор дататасета"
   ]
  },
  {
   "cell_type": "code",
   "execution_count": 5,
   "metadata": {},
   "outputs": [],
   "source": [
    "class SeqDataset:\n",
    "    \n",
    "    def __init__(self,text,contex_len,w_step=1):\n",
    "        assert len(text)>1\n",
    "\n",
    "        abc = sorted(set(text))\n",
    "        self._vocabulary = { c:n for n,c in enumerate(abc) }\n",
    "        self._data = np.array([\n",
    "                self._encode(text[n:n+contex_len+1]) for n in range(0,len(text)-(contex_len+1),w_step) \n",
    "            ],dtype=int)\n",
    "        \n",
    "    @property\n",
    "    def vocabulary(self): \n",
    "        return self._vocabulary\n",
    "    \n",
    "    def __getitem__(self, idx): # выдать элемент датасета номер idx\n",
    "        return ( self._data[idx,:-1],  self._one_hot( self._data[idx,-1] ) )\n",
    "        #return ( self._one_hot( self._data[idx,:-1] ),  self._one_hot( self._data[idx,-1] ) )\n",
    "    \n",
    "    # заменить в последовательности все токены на их номера в словаре\n",
    "    def _encode(self,w):\n",
    "        return [ self._vocabulary[c] for c in w if (c in self._vocabulary) ]\n",
    "        \n",
    "    # размер датасета\n",
    "    def __len__(self): \n",
    "        return len(self._data)   \n",
    "    \n",
    "    def _one_hot(self,x):\n",
    "        return np.eye(len(self._vocabulary))[x]"
   ]
  },
  {
   "cell_type": "code",
   "execution_count": 6,
   "metadata": {},
   "outputs": [
    {
     "data": {
      "text/plain": [
       "63"
      ]
     },
     "metadata": {},
     "output_type": "display_data"
    },
    {
     "data": {
      "text/plain": [
       "47"
      ]
     },
     "metadata": {},
     "output_type": "display_data"
    }
   ],
   "source": [
    "ds = SeqDataset(text_,24,w_step=16)\n",
    "display(len(ds) )\n",
    "display(len(ds.vocabulary))\n",
    "# display(ds.words)"
   ]
  },
  {
   "cell_type": "markdown",
   "metadata": {},
   "source": [
    "---"
   ]
  },
  {
   "cell_type": "code",
   "execution_count": 7,
   "metadata": {},
   "outputs": [
    {
     "data": {
      "text/plain": [
       "((2, 24), (2, 47))"
      ]
     },
     "metadata": {},
     "output_type": "display_data"
    }
   ],
   "source": [
    "x,t = ds[:2]\n",
    "display((x.shape,t.shape))"
   ]
  },
  {
   "cell_type": "code",
   "execution_count": 8,
   "metadata": {},
   "outputs": [],
   "source": [
    "# t"
   ]
  },
  {
   "cell_type": "code",
   "execution_count": 9,
   "metadata": {},
   "outputs": [],
   "source": [
    "class DataLoader:\n",
    "    \n",
    "    def __init__(self,dataset,batch_size,shuffle=True):    \n",
    "        self._ds = dataset\n",
    "        n_samples = len(dataset) # количество учебных пар\n",
    "        # перемешиваем учебный набор \n",
    "        indices = rng.permutation(n_samples) if shuffle else np.arange(n_samples)\n",
    "        batch_count = np.ceil( n_samples/batch_size).astype(int) # количество батчей\n",
    "        self._indices = np.array_split(indices,batch_count ) # режем на батчи\n",
    "\n",
    "    # генератор батчей\n",
    "    def __iter__(self):\n",
    "        # перемешиваем учебный набор и режем его на батчи\n",
    "        for idx in self._indices :\n",
    "            yield self._ds[idx]"
   ]
  },
  {
   "cell_type": "code",
   "execution_count": 10,
   "metadata": {},
   "outputs": [
    {
     "data": {
      "text/plain": [
       "((16, 24), (16, 47))"
      ]
     },
     "metadata": {},
     "output_type": "display_data"
    }
   ],
   "source": [
    "for x,t in DataLoader(ds,16): break\n",
    "display((x.shape,t.shape))"
   ]
  },
  {
   "cell_type": "markdown",
   "metadata": {},
   "source": [
    "# строим модель"
   ]
  },
  {
   "cell_type": "markdown",
   "metadata": {},
   "source": [
    "## функция активации"
   ]
  },
  {
   "cell_type": "code",
   "execution_count": 11,
   "metadata": {},
   "outputs": [],
   "source": [
    "class Activation:\n",
    "    \n",
    "    def forward(self,x): pass\n",
    "\n",
    "    def backward(self,x): pass # производная активации\n",
    "    \n",
    "    def __call__(self,x):\n",
    "        return self.forward(x)    "
   ]
  },
  {
   "cell_type": "code",
   "execution_count": 12,
   "metadata": {},
   "outputs": [],
   "source": [
    "class BiSigmoid(Activation):\n",
    "    \n",
    "    def forward(self,x): \n",
    "        return np.tanh(x)\n",
    "\n",
    "    def backward(self,x): # производная активации\n",
    "        return 1./(np.cosh(x)**2)"
   ]
  },
  {
   "cell_type": "code",
   "execution_count": 13,
   "metadata": {},
   "outputs": [
    {
     "data": {
      "text/plain": [
       "Text(0.5, 1.0, 'd bi_sigmoid')"
      ]
     },
     "execution_count": 13,
     "metadata": {},
     "output_type": "execute_result"
    },
    {
     "data": {
      "image/png": "[encoded data removed]",
      "text/plain": [
       "<Figure size 700x200 with 2 Axes>"
      ]
     },
     "metadata": {},
     "output_type": "display_data"
    }
   ],
   "source": [
    "f = BiSigmoid()\n",
    "x = np.linspace(-3,3,30)\n",
    "fig,ax = plt.subplots(ncols=2,figsize=(7,2))\n",
    "ax[0].plot(x,f(x),'-r')\n",
    "ax[0].grid()\n",
    "ax[0].set_title('bi_sigmoid' )\n",
    "ax[1].plot(x,f.backward(x),'-g')\n",
    "ax[1].grid()\n",
    "ax[1].set_title('d bi_sigmoid' )"
   ]
  },
  {
   "cell_type": "markdown",
   "metadata": {},
   "source": [
    "$$\n",
    "sigmoid(x) = \\frac{1}{1+\\exp(-x)}\n",
    "$$"
   ]
  },
  {
   "cell_type": "code",
   "execution_count": 14,
   "metadata": {},
   "outputs": [],
   "source": [
    "class Sigmoid(Activation): # функция активации\n",
    "    \n",
    "    def forward(self,x): \n",
    "        return 1./(1. + np.exp(-x))\n",
    "\n",
    "    def backward(self,x): # производная активации\n",
    "        return np.square(self.forward(x))*np.exp(-x) "
   ]
  },
  {
   "cell_type": "code",
   "execution_count": 15,
   "metadata": {},
   "outputs": [
    {
     "data": {
      "text/plain": [
       "Text(0.5, 1.0, 'd sigmoid')"
      ]
     },
     "execution_count": 15,
     "metadata": {},
     "output_type": "execute_result"
    },
    {
     "data": {
      "image/png": "[encoded data removed]",
      "text/plain": [
       "<Figure size 700x200 with 2 Axes>"
      ]
     },
     "metadata": {},
     "output_type": "display_data"
    }
   ],
   "source": [
    "f = Sigmoid()\n",
    "x = np.linspace(-3,3,30)\n",
    "fig,ax = plt.subplots(ncols=2,figsize=(7,2))\n",
    "ax[0].plot(x,f(x),'-r')\n",
    "ax[0].grid()\n",
    "ax[0].set_title('sigmoid' )\n",
    "ax[1].plot(x,f.backward(x),'-g')\n",
    "ax[1].grid()\n",
    "ax[1].set_title('d sigmoid' )"
   ]
  },
  {
   "cell_type": "markdown",
   "metadata": {},
   "source": [
    "$$\n",
    "softmax(x) = \\frac{\\exp(x)}{\\sum{\\exp(x)}}\n",
    "$$"
   ]
  },
  {
   "cell_type": "code",
   "execution_count": 16,
   "metadata": {},
   "outputs": [],
   "source": [
    "class Softmax(Activation):\n",
    "    \n",
    "    def forward(self,x): \n",
    "        e = np.exp(x)\n",
    "        d = e.sum(axis=-1,keepdims=True)\n",
    "        with np.errstate(divide='ignore',invalid='ignore'):\n",
    "            r = np.where(d>1e-6,(e/d), e )\n",
    "        return r\n",
    "\n",
    "    def backward(self,x): \n",
    "        o = self.forward(x)\n",
    "        return o*(1.-o)"
   ]
  },
  {
   "cell_type": "markdown",
   "metadata": {},
   "source": [
    "## слой сети "
   ]
  },
  {
   "cell_type": "code",
   "execution_count": 17,
   "metadata": {},
   "outputs": [],
   "source": [
    "class Model:\n",
    "    \n",
    "    def forward(self,x): pass\n",
    "\n",
    "    def forward_train(self,x): pass\n",
    "    \n",
    "    def backward(self,d): pass\n",
    "    \n",
    "    def gradient(self,x,d): pass\n",
    "    \n",
    "    def __call__(self,x):\n",
    "        return self.forward(x)\n",
    "        \n",
    "    def predict(self,x):\n",
    "        return np.argmax(self.forward(x),axis=-1,keepdims=True)\n",
    "    \n",
    "    @property\n",
    "    def weight(self): pass\n",
    "\n",
    "    @weight.setter\n",
    "    def weight(self,w): pass"
   ]
  },
  {
   "cell_type": "markdown",
   "metadata": {},
   "source": [
    "## линейный слой"
   ]
  },
  {
   "attachments": {
    "image.png": {
     "image/png": "[encoded data removed]"
    }
   },
   "cell_type": "markdown",
   "metadata": {},
   "source": [
    "схема нейрона\n",
    "\n",
    "![image.png](attachment:image.png)"
   ]
  },
  {
   "cell_type": "code",
   "execution_count": 18,
   "metadata": {},
   "outputs": [],
   "source": [
    "class Linear(Model):\n",
    "    \n",
    "    def __init__(self,in_size,out_size):\n",
    "        super().__init__()\n",
    "        self._weight = rng.normal(loc=0.,scale=1e-1,size=(in_size,out_size))\n",
    "        self._bias = np.zeros(shape=(1,out_size))\n",
    "        \n",
    "    def forward(self,x):\n",
    "        assert len(x)>0\n",
    "        assert x.shape[-1]==self._weight.shape[0]\n",
    "        return x.dot(self._weight)+self._bias\n",
    "\n",
    "    def forward_train(self,x):\n",
    "        return self.forward(x)\n",
    "    \n",
    "    def backward(self,d):\n",
    "        return d.dot(self._weight.T)\n",
    "    \n",
    "    def gradient(self,x,d):\n",
    "        return x.T.dot(d), d.sum(axis=0,keepdims=True) \n",
    "    \n",
    "    @property\n",
    "    def weight(self):\n",
    "        return self._weight, self._bias\n",
    "\n",
    "    @weight.setter\n",
    "    def weight(self,w):\n",
    "        self._weight=w[0] \n",
    "        self._bias=w[1]\n",
    "        return self"
   ]
  },
  {
   "cell_type": "code",
   "execution_count": 19,
   "metadata": {},
   "outputs": [],
   "source": [
    "# display((x_train.shape,y_train.shape))\n",
    "\n",
    "# model = Linear(in_size=x_train.shape[1],out_size=y_train.shape[1])\n",
    "\n",
    "# o = model(x_train)\n",
    "# display(o.shape)\n",
    "\n",
    "# o = model.forward_train(x_train)\n",
    "# display(o.shape)\n",
    "\n",
    "# d = model.backward(y_train-o)\n",
    "# display(d.shape)\n",
    "\n",
    "# dw,db = model.gradient(x_train,d)\n",
    "# display((dw.shape,db.shape))"
   ]
  },
  {
   "cell_type": "markdown",
   "metadata": {},
   "source": [
    "## embedding слой"
   ]
  },
  {
   "cell_type": "code",
   "execution_count": 20,
   "metadata": {},
   "outputs": [],
   "source": [
    "class Embedding(Model):\n",
    "        \n",
    "    def __init__(self, vocabulary_size, emb_size):\n",
    "        super().__init__()\n",
    "        self._weight = rng.normal(loc=0.,scale=1e-1,size=(vocabulary_size,emb_size))\n",
    "        self._eye = np.eye(vocabulary_size,dtype=np.float32)\n",
    "        \n",
    "    def forward(self,seq):\n",
    "        assert len(seq)>0\n",
    "        x = self.one_hot(seq)\n",
    "        return x.dot(self._weight)\n",
    "\n",
    "    def one_hot(self,seq):\n",
    "        return self._eye[seq]\n",
    "    \n",
    "    def forward_train(self,x):\n",
    "        return self.forward(x)\n",
    "    \n",
    "    def backward(self,d):\n",
    "        return np.array(d).dot(self._weight.T)\n",
    "\n",
    "    def gradient(self,seq,d):\n",
    "        x = self.one_hot(seq)\n",
    "        bach_size,seq_len,voc_size = x.shape\n",
    "        _,_,emb_size = d.shape\n",
    "        \n",
    "        return x.reshape(bach_size*seq_len,voc_size).T.dot(\n",
    "            d.reshape(bach_size*seq_len,emb_size)\n",
    "        )\n",
    "        \n",
    "    @property\n",
    "    def weight(self):\n",
    "        return [ self._weight ]\n",
    "\n",
    "    @weight.setter\n",
    "    def weight(self,w):\n",
    "        self._weight=w[0] \n",
    "        return self        "
   ]
  },
  {
   "cell_type": "code",
   "execution_count": 21,
   "metadata": {},
   "outputs": [],
   "source": [
    "# x = rng.randint(0,10,(2,4))\n",
    "# # display(x)\n",
    "# display(x.shape)\n",
    "\n",
    "# model = Embedding(10,3)\n",
    "# o = model(x)\n",
    "# display(o.shape)\n",
    "\n",
    "# o = model.forward_train(x)\n",
    "# display(o.shape)\n",
    "\n",
    "# d = model.backward(o)\n",
    "# display(d.shape)\n",
    "\n",
    "# g = model.gradient(x,o)\n",
    "# display(g.shape)\n",
    "# display(model.weight[0].shape)"
   ]
  },
  {
   "cell_type": "markdown",
   "metadata": {},
   "source": [
    "## рекуррентный слой"
   ]
  },
  {
   "attachments": {
    "image.png": {
     "image/png": "[encoded data removed]"
    }
   },
   "cell_type": "markdown",
   "metadata": {},
   "source": [
    "![image.png](attachment:image.png)"
   ]
  },
  {
   "attachments": {
    "image.png": {
     "image/png": "[encoded data removed]"
    }
   },
   "cell_type": "markdown",
   "metadata": {},
   "source": [
    "![image.png](attachment:image.png)"
   ]
  },
  {
   "cell_type": "code",
   "execution_count": 22,
   "metadata": {},
   "outputs": [],
   "source": [
    "class RNN(Model):\n",
    "    \n",
    "    def __init__(self,in_size,hidden_size):\n",
    "        super().__init__()\n",
    "        self._weight_in = rng.normal(loc=0.,scale=1e-5,size=(in_size,hidden_size))\n",
    "        self._weight_hidden = rng.normal(loc=0.,scale=1e-5,size=(hidden_size,hidden_size))\n",
    "        self._bias = np.zeros(shape=(1,hidden_size))\n",
    "        self._hidden = np.zeros(shape=(1,hidden_size)) # np.array(0.)\n",
    "        self._activation = BiSigmoid()\n",
    "        # self._activation = Sigmoid()\n",
    "        \n",
    "    def forward(self,x,h=None):\n",
    "        assert len(x)>0\n",
    "        assert x.shape[-1]==self._weight_in.shape[0]\n",
    "\n",
    "        batch_size, seq_len, emb_size = x.shape\n",
    "        _,hidden_size = self._hidden.shape\n",
    "        \n",
    "        self._hidden = h if not (h is None) else np.zeros(shape=(1,hidden_size))\n",
    "        for i in range(seq_len): \n",
    "            o = self._activation(self._forward_step(x[:,i,:]))\n",
    "        return self._hidden, o\n",
    "    \n",
    "    def _forward_step(self,x):\n",
    "        assert len(x)>0\n",
    "        assert x.shape[-1]==self._weight_in.shape[0]\n",
    "        self._hidden = x.dot(self._weight_in) + self._hidden.dot(self._weight_hidden) + self._bias\n",
    "        return self._hidden\n",
    "        \n",
    "    def forward_train(self,x,h=None):\n",
    "        assert len(x)>0\n",
    "        assert x.shape[-1]==self._weight_in.shape[0]\n",
    "        n_samples, seq_len, _ = x.shape\n",
    "        hidden,out = [],[]\n",
    "        \n",
    "        _,hidden_size = self._hidden.shape\n",
    "        self._hidden = h if not (h is None) else np.zeros(shape=(1,hidden_size))\n",
    "        for i in range(seq_len): \n",
    "            hidden.append( self._forward_step(x[:,i,:]) )\n",
    "            out.append( self._activation( hidden[-1] ) )\n",
    "        return hidden, out\n",
    "    \n",
    "    def backward(self,d,state):\n",
    "        seq_len = len(state)\n",
    "        delta_h = [d]\n",
    "        delta_i = []\n",
    "        for s in state[::-1]:\n",
    "            delta_h.append( delta_h[-1].dot(self._weight_hidden.T)*self._activation.backward(s) )\n",
    "            delta_i.append( delta_h[-1].dot(self._weight_in.T) )\n",
    "        return delta_h[:-1][::-1],delta_i[::-1]\n",
    "    \n",
    "    def gradient(self,x,out,delta):\n",
    "        batch_size,seq_len,_ = x.shape\n",
    "        dw,dwr,db = 0.,0.,0.\n",
    "        for i in range(seq_len):\n",
    "            dw  += x[:,i,:].T.dot( delta[i] )\n",
    "            dwr += out[i].T.dot( delta[i] )\n",
    "            db  += delta[i].sum(axis=0,keepdims=True) \n",
    "        return dw,dwr,db\n",
    "    \n",
    "    @property\n",
    "    def weight(self):\n",
    "        return self._weight_in, self._weight_hidden,  self._bias\n",
    "\n",
    "    @weight.setter\n",
    "    def weight(self,w):\n",
    "        self._weight_in=w[0] \n",
    "        self._weight_hidden=w[1] \n",
    "        self._bias=w[2]\n",
    "        return self\n",
    "    \n",
    "    @property\n",
    "    def hidden(self):\n",
    "        return self._hidden"
   ]
  },
  {
   "cell_type": "code",
   "execution_count": 23,
   "metadata": {},
   "outputs": [],
   "source": [
    "# x = rng.rand(2,3,4)\n",
    "# display(x.shape)\n",
    "\n",
    "# model = RNN(4,5)\n",
    "# h,o = model(x)\n",
    "# display( ( np.stack(h).shape,np.stack(o).shape ) )\n",
    "\n",
    "# h,o = model.forward_train(x)\n",
    "# display( ( np.stack(h).shape,np.stack(o).shape ) )\n",
    "\n",
    "# d_h,d_i = model.backward(o[-1],h)\n",
    "# display( ( np.stack(d_h).shape,np.stack(d_i).shape ) )\n",
    "\n",
    "# dw,dwr,db = model.gradient(x,o,d_h)\n",
    "# display((dw.shape,dwr.shape,db.shape))"
   ]
  },
  {
   "cell_type": "markdown",
   "metadata": {},
   "source": [
    "# рекуррентная сеть Элмана"
   ]
  },
  {
   "attachments": {
    "image.png": {
     "image/png": "[encoded data removed]"
    }
   },
   "cell_type": "markdown",
   "metadata": {},
   "source": [
    "![image.png](attachment:image.png)"
   ]
  },
  {
   "attachments": {
    "image.png": {
     "image/png": "[encoded data removed]"
    }
   },
   "cell_type": "markdown",
   "metadata": {},
   "source": [
    "![image.png](attachment:image.png)"
   ]
  },
  {
   "cell_type": "code",
   "execution_count": 24,
   "metadata": {},
   "outputs": [],
   "source": [
    "class ElmanRNN(Model):\n",
    "    \n",
    "    def __init__(self,vocabulary_size,emb_size,hidden_size):\n",
    "        super().__init__()\n",
    "        self._emb = Embedding(vocabulary_size=vocabulary_size,emb_size=emb_size)\n",
    "        self._rnn = RNN(emb_size,hidden_size)\n",
    "        self._lin = Linear(hidden_size,vocabulary_size)\n",
    "        self._activation = Softmax()\n",
    "        # self._activation = Sigmoid()\n",
    "                \n",
    "    @property\n",
    "    def weight(self):\n",
    "        return self._emb.weight, self._rnn.weight, self._lin.weight\n",
    "\n",
    "    @weight.setter\n",
    "    def weight(self,w):\n",
    "        self._emb.weight=w[0] \n",
    "        self._rnn.weight=w[1] \n",
    "        self._lin.weight=w[2]\n",
    "        return self\n",
    "    \n",
    "    def forward(self,x):\n",
    "        assert len(x)>0\n",
    "        o = self._emb(x)\n",
    "        _,o = self._rnn(o)\n",
    "        o = self._lin(o)\n",
    "        o = self._activation(o)\n",
    "        return o\n",
    "     \n",
    "    def forward_train(self,x):\n",
    "        state,out = [x],[]\n",
    "        \n",
    "        o = self._emb(x)\n",
    "        state.append(o)\n",
    "        out.append(o)\n",
    "        \n",
    "        h,o = self._rnn.forward_train(o)\n",
    "        state.append(h)\n",
    "        out.append(o)\n",
    "        \n",
    "        s = self._lin.forward_train(o[-1])\n",
    "        o = self._activation(s)\n",
    "        state.append(s)\n",
    "        out.append(o)\n",
    "        \n",
    "        return state, out\n",
    "    \n",
    "    def backward(self,d,state):\n",
    "        delta = [ d*self._activation.backward(state[3]) ]\n",
    "        delta.append( self._lin.backward( delta[-1] ) * self._activation.backward( state[2][-1]) )\n",
    "        delta.extend( self._rnn.backward( delta[-1], state[2] ) )\n",
    "        #delta.append( self._emb.backward( delta[-1][1] ) )\n",
    "        return delta[::-1] \n",
    "    \n",
    "    def gradient(self,x,out,delta):\n",
    "        dw0 = self._emb.gradient(x,np.stack(delta[0]))\n",
    "        dw1,dw1r,db1 = self._rnn.gradient(out[0],out[1],delta[1])\n",
    "        dw2,db2 = self._lin.gradient(out[1][-1],delta[3])\n",
    "        return [dw0],[dw1,dw1r,db1],[dw2,db2] \n"
   ]
  },
  {
   "cell_type": "code",
   "execution_count": 25,
   "metadata": {},
   "outputs": [],
   "source": [
    "# x,t = ds[:2]\n",
    "# display( (x.shape,t.shape) )\n",
    "\n",
    "# model = ElmanRNN(vocabulary_size=len(ds.vocabulary),emb_size=32,hidden_size=16)\n",
    "\n",
    "# o = model.forward(x)\n",
    "# display(o.shape)\n",
    "\n",
    "# s,o = model.forward_train(x)\n",
    "# display( ( len(s),len(o) ) )\n",
    "\n",
    "# s[0] # == x : batch_size, seq_len\n",
    "#s[1].shape # batch_size, seq_len, emb_size\n",
    "# np.stack(s[2]).shape #  seq_len, batch_size, hidden_size\n",
    "# s[3].shape #  batch_size, vocabulary_size\n",
    "\n",
    "#o[0].shape # batch_size, seq_len, emb_size\n",
    "# np.stack(o[1]).shape # seq_len, batch_size, hidden_size\n",
    "# o[2].shape #  batch_size, vocabulary_size"
   ]
  },
  {
   "cell_type": "code",
   "execution_count": 26,
   "metadata": {},
   "outputs": [],
   "source": [
    "# er = o[2]-t\n",
    "# display(er.shape) #  batch_size, vocabulary_size\n",
    "\n",
    "# d = model.backward(er,s)\n",
    "# display(len(d) )\n",
    "\n",
    "# d[3].shape # to lin : batch_size, vocabulary_size \n",
    "# d[2].shape #  to rnn hidden0: batch_size, hidden_size\n",
    "# np.stack(d[1]).shape # to rnn hidden: seq_len, batch_size, hidden_size\n",
    "# np.stack(d[0]).shape # to emb : seq_len, batch_size, emb_size"
   ]
  },
  {
   "cell_type": "code",
   "execution_count": 27,
   "metadata": {},
   "outputs": [],
   "source": [
    "# g = model.gradient(x,o,d)\n",
    "\n",
    "# [dw0],[dw1,dw1r,db1],[dw2,db2] = model.gradient(x,o,d)\n",
    "# display((dw0.shape,))\n",
    "# display((dw1.shape, dw1r.shape, db1.shape))\n",
    "# display((dw2.shape, db2.shape))"
   ]
  },
  {
   "cell_type": "markdown",
   "metadata": {},
   "source": [
    "# обучаем модель"
   ]
  },
  {
   "attachments": {
    "image.png": {
     "image/png": "[encoded data removed]"
    }
   },
   "cell_type": "markdown",
   "metadata": {},
   "source": [
    "![image.png](attachment:image.png)"
   ]
  },
  {
   "attachments": {
    "image.png": {
     "image/png": "[encoded data removed]"
    }
   },
   "cell_type": "markdown",
   "metadata": {},
   "source": [
    "градиент функции потери - частные производные по всем параметрам модели, направление наискорейшего возрастания функции \n",
    "\n",
    "![image.png](attachment:image.png)"
   ]
  },
  {
   "attachments": {
    "image.png": {
     "image/png": "[encoded data removed]"
    }
   },
   "cell_type": "markdown",
   "metadata": {},
   "source": [
    "\n",
    "![image.png](attachment:image.png)"
   ]
  },
  {
   "attachments": {
    "image.png": {
     "image/png": "[encoded data removed]"
    }
   },
   "cell_type": "markdown",
   "metadata": {},
   "source": [
    "процедура обратного распространения ошибки\n",
    "\n",
    "![image.png](attachment:image.png)"
   ]
  },
  {
   "attachments": {
    "image.png": {
     "image/png": "[encoded data removed]"
    }
   },
   "cell_type": "markdown",
   "metadata": {},
   "source": [
    "![image.png](attachment:image.png)"
   ]
  },
  {
   "cell_type": "code",
   "execution_count": 28,
   "metadata": {},
   "outputs": [],
   "source": [
    "class Loss:\n",
    "    \n",
    "    def __init__(self,model): \n",
    "        self._model = model\n",
    "        self._history = []\n",
    "                \n",
    "    def estimate(self,x,target):\n",
    "        s = self._estimate( predicted=self._model(x), target=target, )\n",
    "        self._history.append(s)\n",
    "        return s\n",
    "        \n",
    "    def _estimate(self,predicted,target): pass\n",
    "    \n",
    "    def gradient(self,x,target):\n",
    "        s,o = model.forward_train(x) # состояния и выходы всех нейронов сети\n",
    "        d0 = self._gradient(o=o[-1],target=target) # ошибка выходного слоя\n",
    "        d = model.backward(d0,s) # значение ошибки для всех нейронов скрытых слоёв\n",
    "        return model.gradient(x,o,d) \n",
    "    \n",
    "    def _gradient(self,o,target): pass\n",
    "    \n",
    "    def __call__(self,x,target):\n",
    "        return self.estimate(x,target)        \n",
    "    \n",
    "    @property\n",
    "    def model(self): \n",
    "        return self._model"
   ]
  },
  {
   "cell_type": "markdown",
   "metadata": {},
   "source": [
    "функция потери средняя квадратичная ошибка\n",
    "$$L=MSQE(y,o)=\\frac{1}{m}\\sum\\limits_{i=0}^m(o_i-y_i)^2$$"
   ]
  },
  {
   "cell_type": "code",
   "execution_count": 29,
   "metadata": {},
   "outputs": [],
   "source": [
    "# class MSQELoss(Loss):\n",
    "    \n",
    "#     def _estimate(self,predicted,target):\n",
    "#         return np.square(target-predicted).mean()\n",
    "    \n",
    "#     def _gradient(self,o,target):\n",
    "#         return (o-target) # ошибка выходного слоя"
   ]
  },
  {
   "cell_type": "markdown",
   "metadata": {},
   "source": [
    "функция потери - кросс-энтропия\n",
    "\n",
    "$$L = CE(y,o) = -y\\cdot log(o) - (1-y) \\cdot log(1-o)  $$\n",
    "\n",
    "$$  \\nabla L = \\frac{\\partial L}{\\partial w} = -\\frac{o-y }{o (o-1)}\\cdot \\frac{\\partial o}{\\partial w}$$ "
   ]
  },
  {
   "cell_type": "code",
   "execution_count": 30,
   "metadata": {},
   "outputs": [],
   "source": [
    "class CELoss(Loss):\n",
    "    \n",
    "    def _estimate(self,predicted,target):\n",
    "        o,y=predicted,target\n",
    "        with np.errstate(divide='ignore',invalid='ignore'):\n",
    "            # доопределяем нулями логарифм для аргументов меньше или равно 0\n",
    "            l0 = np.where( o<1., (1-y)*np.log(1.-o), 0. )\n",
    "            l1 = np.where( o>0., y*np.log(o),        0. ) \n",
    "        return -(l1+l0).sum()/len(y)    \n",
    "    \n",
    "    def _gradient(self,o,target):\n",
    "        d = o*(o-1)\n",
    "        with np.errstate(divide='ignore',invalid='ignore'):\n",
    "            d = np.where(d!=0.,(1./d), .0 )\n",
    "        return -(o-target)*d # ошибка выходного слоя"
   ]
  },
  {
   "cell_type": "markdown",
   "metadata": {},
   "source": [
    "---"
   ]
  },
  {
   "cell_type": "code",
   "execution_count": 31,
   "metadata": {},
   "outputs": [],
   "source": [
    "# x,t = ds[:2]\n",
    "# display( (x.shape,t.shape) )\n",
    "\n",
    "# model = ElmanRNN(in_size=x.shape[-1],hidden_size=16,out_size=x.shape[-1])\n",
    "\n",
    "# o = model.forward(x)\n",
    "# display(o.shape)\n",
    "\n",
    "# loss = CELoss(model)\n",
    "# #loss = MSQELoss(model)\n",
    "# er = loss.estimate(x,t)\n",
    "# display( er  )\n",
    "\n",
    "# [dw0,dw0r,db0],[dw1,db1] = loss.gradient(x,t)\n",
    "# display((dw0.shape,dw0r.shape,db0.shape),(dw1.shape,db1.shape),)"
   ]
  },
  {
   "cell_type": "markdown",
   "metadata": {},
   "source": [
    "---"
   ]
  },
  {
   "cell_type": "code",
   "execution_count": 32,
   "metadata": {},
   "outputs": [],
   "source": [
    "from copy import deepcopy\n",
    "\n",
    "class Weight:\n",
    "    \n",
    "    def __init__(self,w):\n",
    "        self._w = deepcopy(w)\n",
    "    \n",
    "    def __add__(self,w):\n",
    "        return self._for_all(w,operation=lambda x,y:x+y)\n",
    "        \n",
    "    def __sub__(self,w):\n",
    "        return self._for_all(w,operation=lambda x,y:x-y)\n",
    "    \n",
    "    def __mul__(self,w):  \n",
    "        return self._for_all(w,operation=lambda x,y:x*y)\n",
    "        \n",
    "    def fill(self,w):\n",
    "        return self._for_all(w,operation=lambda x,y: w )\n",
    "        \n",
    "    def _for_all(self,w,operation):  \n",
    "        return Weight([ \n",
    "                [ \n",
    "                 operation( self._w[l][n], self._get_value(w,l,n) ) \n",
    "                 for n in range(len( self._w[l])) \n",
    "                ] # для каждого параметра слоя\n",
    "                for l in range(len( self._w)) # для каждого слоя\n",
    "            ])  \n",
    "    \n",
    "    def max(self):  \n",
    "        return max([ \n",
    "                max([ np.abs(self._w[l][n]).max() \n",
    "                     for n in range(len( self._w[l])) \n",
    "                    ]) # для каждого параметра слоя\n",
    "                for l in range(len( self._w)) # для каждого слоя\n",
    "            ])\n",
    "    \n",
    "    \n",
    "    def norm(self):\n",
    "        m = self.max()\n",
    "        return self.__mul__(1./m) if m>0. else Weight(self._w)\n",
    "    \n",
    "    def _get_value(self,w,l,n):\n",
    "        return w[l,n] if type(w) is Weight else w\n",
    "        \n",
    "    def __getitem__(self,idx): \n",
    "        return self._w[idx[0]][idx[1]]\n",
    "    \n",
    "    @property\n",
    "    def value(self): return self._w"
   ]
  },
  {
   "cell_type": "markdown",
   "metadata": {},
   "source": [
    "# обучаем"
   ]
  },
  {
   "cell_type": "code",
   "execution_count": 33,
   "metadata": {},
   "outputs": [],
   "source": [
    "from tqdm.auto import tqdm\n",
    "from sklearn.metrics import accuracy_score"
   ]
  },
  {
   "cell_type": "markdown",
   "metadata": {},
   "source": [
    "изменение весов\n",
    "\n",
    "$$\\Delta w_t = \\eta \\cdot ( \\nabla L + \\rho\\cdot W_{t-1} ) + \\mu\\cdot \\Delta w_{t-1}$$"
   ]
  },
  {
   "cell_type": "code",
   "execution_count": 34,
   "metadata": {},
   "outputs": [],
   "source": [
    "class TrainSGD:\n",
    "    \n",
    "    def __init__(self,loss,lr=1e-2,mu=0.,rho=0.): \n",
    "        self._loss = loss\n",
    "        self._lr = lr # скорость обучения\n",
    "        self._dw = 0. # изменение весов на предыдущем шаге\n",
    "        self._mu = mu # коэфициент момента\n",
    "        self._rho = rho # коэфициент регуляризации\n",
    "        self._bs = 1.\n",
    "        \n",
    "    def fit(self,data_loader,n_epoch=128,acc_min=.97):\n",
    "        loss_history = []\n",
    "        acc_history = []\n",
    "        for _ in tqdm(range(n_epoch)):\n",
    "            loss_history_batch = []\n",
    "            acc_history_batch = []\n",
    "            self._dw = Weight(self._loss.model.weight).fill(0.).value\n",
    "            for x,t in data_loader:\n",
    "                self._fit_epoch(x,t)\n",
    "                loss_history_batch.append( self._loss.estimate(x,t) )\n",
    "                acc_history_batch.append( accuracy_score(np.argmax(t,axis=-1),self._loss.model.predict(x)) )\n",
    "            loss_history.append( np.mean(loss_history_batch) )\n",
    "            acc_history.append( np.mean(acc_history_batch) )\n",
    "            if acc_history[-1]>acc_min: break\n",
    "        return (acc_history,loss_history),model \n",
    "    \n",
    "    def _fit_epoch(self,x,t):\n",
    "        dw = self._loss.gradient(x,t)\n",
    "        dw = Weight(dw).norm().value\n",
    "        self._weight_adjust(dw)  \n",
    "        return self\n",
    "        \n",
    "    def _weight_adjust(self,dw):\n",
    "        dw = Weight( self._weight_delta(dw) )\n",
    "        w = Weight( self._loss.model.weight ) \n",
    "        self._loss.model.weight = (w-dw).value\n",
    "        return self\n",
    "        \n",
    "    \n",
    "    def _weight_delta(self,dw): # вычисляем изменение всех весов модели\n",
    "        w = Weight(self._loss.model.weight)\n",
    "        self._dw = ( \n",
    "                ( Weight(dw)+w*self._rho )*self._lr \n",
    "                + Weight(self._dw)*self._mu \n",
    "            ).value    \n",
    "        return self._dw        "
   ]
  },
  {
   "cell_type": "code",
   "execution_count": 35,
   "metadata": {},
   "outputs": [],
   "source": [
    "# rng.seed(343)"
   ]
  },
  {
   "cell_type": "code",
   "execution_count": 36,
   "metadata": {},
   "outputs": [],
   "source": [
    "model = ElmanRNN(vocabulary_size=len(ds.vocabulary),emb_size=8,hidden_size=512)"
   ]
  },
  {
   "cell_type": "code",
   "execution_count": 37,
   "metadata": {},
   "outputs": [
    {
     "data": {
      "application/vnd.jupyter.widget-view+json": {
       "model_id": "66932ae61133401281fbbb718945e2a8",
       "version_major": 2,
       "version_minor": 0
      },
      "text/plain": [
       "  0%|          | 0/3072 [00:00<?, ?it/s]"
      ]
     },
     "metadata": {},
     "output_type": "display_data"
    },
    {
     "data": {
      "text/plain": [
       "<matplotlib.legend.Legend at 0x7947016fa910>"
      ]
     },
     "execution_count": 37,
     "metadata": {},
     "output_type": "execute_result"
    },
    {
     "data": {
      "image/png": "[encoded data removed]",
      "text/plain": [
       "<Figure size 1100x400 with 2 Axes>"
      ]
     },
     "metadata": {},
     "output_type": "display_data"
    }
   ],
   "source": [
    "(acc_history,loss_history), model = TrainSGD(\n",
    "        loss=CELoss(model), lr=1e-1, mu=1e-5, rho=1e-5,\n",
    "        # loss=MSQELoss(model), lr=1e-5, mu=1e-3, rho=1e-3,\n",
    "    ).fit( DataLoader(ds,len(ds)//2), n_epoch=1024*3)\n",
    "\n",
    "# история изменения значений погрешности модели\n",
    "fig,ax = plt.subplots(ncols=2,figsize=(11,4))\n",
    "ax[0].plot(acc_history,label=f'accuracy (max:{max(acc_history):.3f})',c='r' )\n",
    "ax[0].grid()\n",
    "ax[0].set_title('accuracy')\n",
    "ax[0].legend()\n",
    "ax[1].plot(loss_history,label=f'loss (min:{min(loss_history):.3f})',c='b' )\n",
    "ax[1].grid()\n",
    "ax[1].set_title('loss')\n",
    "ax[1].legend()"
   ]
  },
  {
   "cell_type": "markdown",
   "metadata": {},
   "source": [
    "# тестируем"
   ]
  },
  {
   "cell_type": "code",
   "execution_count": 38,
   "metadata": {},
   "outputs": [
    {
     "data": {
      "text/plain": [
       "0.952"
      ]
     },
     "metadata": {},
     "output_type": "display_data"
    }
   ],
   "source": [
    "from sklearn.metrics import accuracy_score\n",
    "\n",
    "for x,t in DataLoader(ds,len(ds)): break\n",
    "p = model.predict(x)\n",
    "t_ = np.argmax(t,axis=-1,keepdims=True) \n",
    "display( accuracy_score(y_true=t_, y_pred=p ) )"
   ]
  },
  {
   "cell_type": "code",
   "execution_count": 39,
   "metadata": {},
   "outputs": [],
   "source": [
    "import pandas as pd"
   ]
  },
  {
   "cell_type": "code",
   "execution_count": 40,
   "metadata": {},
   "outputs": [],
   "source": [
    "def decode(x,vocabulary):\n",
    "    v = { n:w for w,n in  vocabulary.items() }\n",
    "    return [ ''.join([ v[c] for c in s ]) for s in x ]"
   ]
  },
  {
   "cell_type": "code",
   "execution_count": 41,
   "metadata": {},
   "outputs": [
    {
     "data": {
      "text/html": [
       "<div>\n",
       "<style scoped>\n",
       "    .dataframe tbody tr th:only-of-type {\n",
       "        vertical-align: middle;\n",
       "    }\n",
       "\n",
       "    .dataframe tbody tr th {\n",
       "        vertical-align: top;\n",
       "    }\n",
       "\n",
       "    .dataframe thead th {\n",
       "        text-align: right;\n",
       "    }\n",
       "</style>\n",
       "<table border=\"1\" class=\"dataframe\">\n",
       "  <thead>\n",
       "    <tr style=\"text-align: right;\">\n",
       "      <th></th>\n",
       "      <th>sequence</th>\n",
       "      <th>target</th>\n",
       "      <th>predicted</th>\n",
       "    </tr>\n",
       "  </thead>\n",
       "  <tbody>\n",
       "    <tr>\n",
       "      <th>0</th>\n",
       "      <td>я человечья вошь, -- вот</td>\n",
       "      <td></td>\n",
       "      <td></td>\n",
       "    </tr>\n",
       "    <tr>\n",
       "      <th>1</th>\n",
       "      <td>его взглядом на вещи. П</td>\n",
       "      <td>р</td>\n",
       "      <td>р</td>\n",
       "    </tr>\n",
       "    <tr>\n",
       "      <th>2</th>\n",
       "      <td>ной каплей не участвовал</td>\n",
       "      <td>,</td>\n",
       "      <td>,</td>\n",
       "    </tr>\n",
       "    <tr>\n",
       "      <th>3</th>\n",
       "      <td>еньги на проезд куда ска</td>\n",
       "      <td>з</td>\n",
       "      <td>з</td>\n",
       "    </tr>\n",
       "    <tr>\n",
       "      <th>4</th>\n",
       "      <td>й, из темной каморки.\\n</td>\n",
       "      <td></td>\n",
       "      <td></td>\n",
       "    </tr>\n",
       "    <tr>\n",
       "      <th>5</th>\n",
       "      <td>к ты выходишь передо мно</td>\n",
       "      <td>ю</td>\n",
       "      <td>ю</td>\n",
       "    </tr>\n",
       "    <tr>\n",
       "      <th>6</th>\n",
       "      <td>у давал, несмотря на то</td>\n",
       "      <td>ч</td>\n",
       "      <td>ч</td>\n",
       "    </tr>\n",
       "    <tr>\n",
       "      <th>7</th>\n",
       "      <td>аствовал, не то что полт</td>\n",
       "      <td>о</td>\n",
       "      <td>о</td>\n",
       "    </tr>\n",
       "    <tr>\n",
       "      <th>8</th>\n",
       "      <td>выглядывал вниз, с трех</td>\n",
       "      <td></td>\n",
       "      <td></td>\n",
       "    </tr>\n",
       "  </tbody>\n",
       "</table>\n",
       "</div>"
      ],
      "text/plain": [
       "                    sequence target predicted\n",
       "0   я человечья вошь, -- вот                 \n",
       "1    его взглядом на вещи. П      р         р\n",
       "2   ной каплей не участвовал      ,         ,\n",
       "3   еньги на проезд куда ска      з         з\n",
       "4  й, из темной каморки.\\n                   \n",
       "5   к ты выходишь передо мно      ю         ю\n",
       "6   у давал, несмотря на то       ч         ч\n",
       "7   аствовал, не то что полт      о         о\n",
       "8    выглядывал вниз, с трех                 "
      ]
     },
     "metadata": {},
     "output_type": "display_data"
    }
   ],
   "source": [
    "import pandas as pd\n",
    "\n",
    "for x,t in DataLoader(ds,10): break\n",
    "\n",
    "p = model.predict(x)\n",
    "t_ = np.argmax(t,axis=-1,keepdims=True) \n",
    "\n",
    "# декодируем слова\n",
    "df = pd.DataFrame({\n",
    "         'sequence': decode(x,ds.vocabulary),\n",
    "           'target': decode(t_,ds.vocabulary),\n",
    "         'predicted': decode(p,ds.vocabulary)\n",
    "    })\n",
    "\n",
    "display(df)"
   ]
  },
  {
   "cell_type": "code",
   "execution_count": null,
   "metadata": {},
   "outputs": [],
   "source": []
  },
  {
   "cell_type": "code",
   "execution_count": null,
   "metadata": {},
   "outputs": [],
   "source": []
  }
 ],
 "metadata": {
  "kernelspec": {
   "display_name": "Python 3 (ipykernel)",
   "language": "python",
   "name": "python3"
  },
  "language_info": {
   "codemirror_mode": {
    "name": "ipython",
    "version": 3
   },
   "file_extension": ".py",
   "mimetype": "text/x-python",
   "name": "python",
   "nbconvert_exporter": "python",
   "pygments_lexer": "ipython3",
   "version": "3.11.7"
  },
  "toc": {
   "base_numbering": 1,
   "nav_menu": {},
   "number_sections": true,
   "sideBar": true,
   "skip_h1_title": false,
   "title_cell": "Table of Contents",
   "title_sidebar": "Contents",
   "toc_cell": false,
   "toc_position": {},
   "toc_section_display": true,
   "toc_window_display": false
  }
 },
 "nbformat": 4,
 "nbformat_minor": 4
}
